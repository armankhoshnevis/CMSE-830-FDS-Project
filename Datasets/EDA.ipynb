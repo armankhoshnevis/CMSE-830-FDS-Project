{
 "cells": [
  {
   "cell_type": "code",
   "execution_count": 1,
   "metadata": {},
   "outputs": [],
   "source": [
    "import numpy as np\n",
    "import pandas as pd\n",
    "import plotly.express as px\n",
    "from datetime import datetime"
   ]
  },
  {
   "cell_type": "markdown",
   "metadata": {},
   "source": [
    "### Race Schedule\n",
    "- Scatter plot or distribution of lat and long or Scatter plot of lat vs engine failure or long vs engine failure"
   ]
  },
  {
   "cell_type": "code",
   "execution_count": 13,
   "metadata": {},
   "outputs": [
    {
     "data": {
      "application/vnd.plotly.v1+json": {
       "config": {
        "plotlyServerURL": "https://plot.ly"
       },
       "data": [
        {
         "customdata": [
          [
           "Bahrain Grand Prix",
           "Sakhir",
           "Bahrain",
           2024,
           1,
           26.0325,
           50.5106
          ],
          [
           "Saudi Arabian Grand Prix",
           "Jeddah",
           "Saudi Arabia",
           2024,
           2,
           21.6319,
           39.1044
          ],
          [
           "Australian Grand Prix",
           "Melbourne",
           "Australia",
           2024,
           3,
           -37.8497,
           144.968
          ],
          [
           "Japanese Grand Prix",
           "Suzuka",
           "Japan",
           2024,
           4,
           34.8431,
           136.541
          ],
          [
           "Chinese Grand Prix",
           "Shanghai",
           "China",
           2024,
           5,
           31.3389,
           121.22
          ],
          [
           "Miami Grand Prix",
           "Miami",
           "USA",
           2024,
           6,
           25.9581,
           -80.2389
          ],
          [
           "Emilia Romagna Grand Prix",
           "Imola",
           "Italy",
           2024,
           7,
           44.3439,
           11.7167
          ],
          [
           "Monaco Grand Prix",
           "Monte-Carlo",
           "Monaco",
           2024,
           8,
           43.7347,
           7.42056
          ],
          [
           "Canadian Grand Prix",
           "Montreal",
           "Canada",
           2024,
           9,
           45.5,
           -73.5228
          ],
          [
           "Spanish Grand Prix",
           "Montmeló",
           "Spain",
           2024,
           10,
           41.57,
           2.26111
          ],
          [
           "Austrian Grand Prix",
           "Spielberg",
           "Austria",
           2024,
           11,
           47.2197,
           14.7647
          ],
          [
           "British Grand Prix",
           "Silverstone",
           "UK",
           2024,
           12,
           52.0786,
           -1.01694
          ],
          [
           "Hungarian Grand Prix",
           "Budapest",
           "Hungary",
           2024,
           13,
           47.5789,
           19.2486
          ],
          [
           "Belgian Grand Prix",
           "Spa",
           "Belgium",
           2024,
           14,
           50.4372,
           5.97139
          ],
          [
           "Dutch Grand Prix",
           "Zandvoort",
           "Netherlands",
           2024,
           15,
           52.3888,
           4.54092
          ],
          [
           "Italian Grand Prix",
           "Monza",
           "Italy",
           2024,
           16,
           45.6156,
           9.28111
          ],
          [
           "Azerbaijan Grand Prix",
           "Baku",
           "Azerbaijan",
           2024,
           17,
           40.3725,
           49.8533
          ],
          [
           "Singapore Grand Prix",
           "Marina Bay",
           "Singapore",
           2024,
           18,
           1.2914,
           103.864
          ],
          [
           "United States Grand Prix",
           "Austin",
           "USA",
           2024,
           19,
           30.1328,
           -97.6411
          ],
          [
           "Mexico City Grand Prix",
           "Mexico City",
           "Mexico",
           2024,
           20,
           19.4042,
           -99.0907
          ],
          [
           "São Paulo Grand Prix",
           "São Paulo",
           "Brazil",
           2024,
           21,
           -23.7036,
           -46.6997
          ],
          [
           "Las Vegas Grand Prix",
           "Las Vegas",
           "United States",
           2024,
           22,
           36.1147,
           -115.173
          ],
          [
           "Qatar Grand Prix",
           "Al Daayen",
           "Qatar",
           2024,
           23,
           25.49,
           51.4542
          ],
          [
           "Abu Dhabi Grand Prix",
           "Abu Dhabi",
           "UAE",
           2024,
           24,
           24.4672,
           54.6031
          ]
         ],
         "geo": "geo",
         "hovertemplate": "<b>%{hovertext}</b><br><br>raceName=%{customdata[0]}<br>location-locality=%{customdata[1]}<br>location-country=%{customdata[2]}<br>season=%{customdata[3]}<br>round=%{customdata[4]}<extra></extra>",
         "hovertext": [
          "Bahrain International Circuit",
          "Jeddah Corniche Circuit",
          "Albert Park Grand Prix Circuit",
          "Suzuka Circuit",
          "Shanghai International Circuit",
          "Miami International Autodrome",
          "Autodromo Enzo e Dino Ferrari",
          "Circuit de Monaco",
          "Circuit Gilles Villeneuve",
          "Circuit de Barcelona-Catalunya",
          "Red Bull Ring",
          "Silverstone Circuit",
          "Hungaroring",
          "Circuit de Spa-Francorchamps",
          "Circuit Park Zandvoort",
          "Autodromo Nazionale di Monza",
          "Baku City Circuit",
          "Marina Bay Street Circuit",
          "Circuit of the Americas",
          "Autódromo Hermanos Rodríguez",
          "Autódromo José Carlos Pace",
          "Las Vegas Strip Street Circuit",
          "Losail International Circuit",
          "Yas Marina Circuit"
         ],
         "lat": [
          26.0325,
          21.6319,
          -37.8497,
          34.8431,
          31.3389,
          25.9581,
          44.3439,
          43.7347,
          45.5,
          41.57,
          47.2197,
          52.0786,
          47.5789,
          50.4372,
          52.3888,
          45.6156,
          40.3725,
          1.2914,
          30.1328,
          19.4042,
          -23.7036,
          36.1147,
          25.49,
          24.4672
         ],
         "legendgroup": "",
         "lon": [
          50.5106,
          39.1044,
          144.968,
          136.541,
          121.22,
          -80.2389,
          11.7167,
          7.42056,
          -73.5228,
          2.26111,
          14.7647,
          -1.01694,
          19.2486,
          5.97139,
          4.54092,
          9.28111,
          49.8533,
          103.864,
          -97.6411,
          -99.0907,
          -46.6997,
          -115.173,
          51.4542,
          54.6031
         ],
         "marker": {
          "color": "blue",
          "line": {
           "color": "black",
           "width": 1
          },
          "opacity": 0.85,
          "size": 10,
          "symbol": "circle"
         },
         "mode": "markers",
         "name": "",
         "showlegend": false,
         "type": "scattergeo"
        }
       ],
       "layout": {
        "geo": {
         "center": {},
         "coastlinecolor": "black",
         "countrycolor": "white",
         "domain": {
          "x": [
           0,
           1
          ],
          "y": [
           0,
           1
          ]
         },
         "landcolor": "lightgray",
         "oceancolor": "lightblue",
         "projection": {
          "scale": 1.2,
          "type": "equirectangular"
         },
         "showcountries": true,
         "showframe": false,
         "showland": true,
         "showocean": true
        },
        "hoverlabel": {
         "bgcolor": "lightyellow",
         "font": {
          "color": "black",
          "family": "Arial",
          "size": 14
         }
        },
        "legend": {
         "tracegroupgap": 0
        },
        "margin": {
         "b": 0,
         "l": 0,
         "r": 0,
         "t": 50
        },
        "template": {
         "data": {
          "bar": [
           {
            "error_x": {
             "color": "#2a3f5f"
            },
            "error_y": {
             "color": "#2a3f5f"
            },
            "marker": {
             "line": {
              "color": "#E5ECF6",
              "width": 0.5
             },
             "pattern": {
              "fillmode": "overlay",
              "size": 10,
              "solidity": 0.2
             }
            },
            "type": "bar"
           }
          ],
          "barpolar": [
           {
            "marker": {
             "line": {
              "color": "#E5ECF6",
              "width": 0.5
             },
             "pattern": {
              "fillmode": "overlay",
              "size": 10,
              "solidity": 0.2
             }
            },
            "type": "barpolar"
           }
          ],
          "carpet": [
           {
            "aaxis": {
             "endlinecolor": "#2a3f5f",
             "gridcolor": "white",
             "linecolor": "white",
             "minorgridcolor": "white",
             "startlinecolor": "#2a3f5f"
            },
            "baxis": {
             "endlinecolor": "#2a3f5f",
             "gridcolor": "white",
             "linecolor": "white",
             "minorgridcolor": "white",
             "startlinecolor": "#2a3f5f"
            },
            "type": "carpet"
           }
          ],
          "choropleth": [
           {
            "colorbar": {
             "outlinewidth": 0,
             "ticks": ""
            },
            "type": "choropleth"
           }
          ],
          "contour": [
           {
            "colorbar": {
             "outlinewidth": 0,
             "ticks": ""
            },
            "colorscale": [
             [
              0,
              "#0d0887"
             ],
             [
              0.1111111111111111,
              "#46039f"
             ],
             [
              0.2222222222222222,
              "#7201a8"
             ],
             [
              0.3333333333333333,
              "#9c179e"
             ],
             [
              0.4444444444444444,
              "#bd3786"
             ],
             [
              0.5555555555555556,
              "#d8576b"
             ],
             [
              0.6666666666666666,
              "#ed7953"
             ],
             [
              0.7777777777777778,
              "#fb9f3a"
             ],
             [
              0.8888888888888888,
              "#fdca26"
             ],
             [
              1,
              "#f0f921"
             ]
            ],
            "type": "contour"
           }
          ],
          "contourcarpet": [
           {
            "colorbar": {
             "outlinewidth": 0,
             "ticks": ""
            },
            "type": "contourcarpet"
           }
          ],
          "heatmap": [
           {
            "colorbar": {
             "outlinewidth": 0,
             "ticks": ""
            },
            "colorscale": [
             [
              0,
              "#0d0887"
             ],
             [
              0.1111111111111111,
              "#46039f"
             ],
             [
              0.2222222222222222,
              "#7201a8"
             ],
             [
              0.3333333333333333,
              "#9c179e"
             ],
             [
              0.4444444444444444,
              "#bd3786"
             ],
             [
              0.5555555555555556,
              "#d8576b"
             ],
             [
              0.6666666666666666,
              "#ed7953"
             ],
             [
              0.7777777777777778,
              "#fb9f3a"
             ],
             [
              0.8888888888888888,
              "#fdca26"
             ],
             [
              1,
              "#f0f921"
             ]
            ],
            "type": "heatmap"
           }
          ],
          "heatmapgl": [
           {
            "colorbar": {
             "outlinewidth": 0,
             "ticks": ""
            },
            "colorscale": [
             [
              0,
              "#0d0887"
             ],
             [
              0.1111111111111111,
              "#46039f"
             ],
             [
              0.2222222222222222,
              "#7201a8"
             ],
             [
              0.3333333333333333,
              "#9c179e"
             ],
             [
              0.4444444444444444,
              "#bd3786"
             ],
             [
              0.5555555555555556,
              "#d8576b"
             ],
             [
              0.6666666666666666,
              "#ed7953"
             ],
             [
              0.7777777777777778,
              "#fb9f3a"
             ],
             [
              0.8888888888888888,
              "#fdca26"
             ],
             [
              1,
              "#f0f921"
             ]
            ],
            "type": "heatmapgl"
           }
          ],
          "histogram": [
           {
            "marker": {
             "pattern": {
              "fillmode": "overlay",
              "size": 10,
              "solidity": 0.2
             }
            },
            "type": "histogram"
           }
          ],
          "histogram2d": [
           {
            "colorbar": {
             "outlinewidth": 0,
             "ticks": ""
            },
            "colorscale": [
             [
              0,
              "#0d0887"
             ],
             [
              0.1111111111111111,
              "#46039f"
             ],
             [
              0.2222222222222222,
              "#7201a8"
             ],
             [
              0.3333333333333333,
              "#9c179e"
             ],
             [
              0.4444444444444444,
              "#bd3786"
             ],
             [
              0.5555555555555556,
              "#d8576b"
             ],
             [
              0.6666666666666666,
              "#ed7953"
             ],
             [
              0.7777777777777778,
              "#fb9f3a"
             ],
             [
              0.8888888888888888,
              "#fdca26"
             ],
             [
              1,
              "#f0f921"
             ]
            ],
            "type": "histogram2d"
           }
          ],
          "histogram2dcontour": [
           {
            "colorbar": {
             "outlinewidth": 0,
             "ticks": ""
            },
            "colorscale": [
             [
              0,
              "#0d0887"
             ],
             [
              0.1111111111111111,
              "#46039f"
             ],
             [
              0.2222222222222222,
              "#7201a8"
             ],
             [
              0.3333333333333333,
              "#9c179e"
             ],
             [
              0.4444444444444444,
              "#bd3786"
             ],
             [
              0.5555555555555556,
              "#d8576b"
             ],
             [
              0.6666666666666666,
              "#ed7953"
             ],
             [
              0.7777777777777778,
              "#fb9f3a"
             ],
             [
              0.8888888888888888,
              "#fdca26"
             ],
             [
              1,
              "#f0f921"
             ]
            ],
            "type": "histogram2dcontour"
           }
          ],
          "mesh3d": [
           {
            "colorbar": {
             "outlinewidth": 0,
             "ticks": ""
            },
            "type": "mesh3d"
           }
          ],
          "parcoords": [
           {
            "line": {
             "colorbar": {
              "outlinewidth": 0,
              "ticks": ""
             }
            },
            "type": "parcoords"
           }
          ],
          "pie": [
           {
            "automargin": true,
            "type": "pie"
           }
          ],
          "scatter": [
           {
            "fillpattern": {
             "fillmode": "overlay",
             "size": 10,
             "solidity": 0.2
            },
            "type": "scatter"
           }
          ],
          "scatter3d": [
           {
            "line": {
             "colorbar": {
              "outlinewidth": 0,
              "ticks": ""
             }
            },
            "marker": {
             "colorbar": {
              "outlinewidth": 0,
              "ticks": ""
             }
            },
            "type": "scatter3d"
           }
          ],
          "scattercarpet": [
           {
            "marker": {
             "colorbar": {
              "outlinewidth": 0,
              "ticks": ""
             }
            },
            "type": "scattercarpet"
           }
          ],
          "scattergeo": [
           {
            "marker": {
             "colorbar": {
              "outlinewidth": 0,
              "ticks": ""
             }
            },
            "type": "scattergeo"
           }
          ],
          "scattergl": [
           {
            "marker": {
             "colorbar": {
              "outlinewidth": 0,
              "ticks": ""
             }
            },
            "type": "scattergl"
           }
          ],
          "scattermapbox": [
           {
            "marker": {
             "colorbar": {
              "outlinewidth": 0,
              "ticks": ""
             }
            },
            "type": "scattermapbox"
           }
          ],
          "scatterpolar": [
           {
            "marker": {
             "colorbar": {
              "outlinewidth": 0,
              "ticks": ""
             }
            },
            "type": "scatterpolar"
           }
          ],
          "scatterpolargl": [
           {
            "marker": {
             "colorbar": {
              "outlinewidth": 0,
              "ticks": ""
             }
            },
            "type": "scatterpolargl"
           }
          ],
          "scatterternary": [
           {
            "marker": {
             "colorbar": {
              "outlinewidth": 0,
              "ticks": ""
             }
            },
            "type": "scatterternary"
           }
          ],
          "surface": [
           {
            "colorbar": {
             "outlinewidth": 0,
             "ticks": ""
            },
            "colorscale": [
             [
              0,
              "#0d0887"
             ],
             [
              0.1111111111111111,
              "#46039f"
             ],
             [
              0.2222222222222222,
              "#7201a8"
             ],
             [
              0.3333333333333333,
              "#9c179e"
             ],
             [
              0.4444444444444444,
              "#bd3786"
             ],
             [
              0.5555555555555556,
              "#d8576b"
             ],
             [
              0.6666666666666666,
              "#ed7953"
             ],
             [
              0.7777777777777778,
              "#fb9f3a"
             ],
             [
              0.8888888888888888,
              "#fdca26"
             ],
             [
              1,
              "#f0f921"
             ]
            ],
            "type": "surface"
           }
          ],
          "table": [
           {
            "cells": {
             "fill": {
              "color": "#EBF0F8"
             },
             "line": {
              "color": "white"
             }
            },
            "header": {
             "fill": {
              "color": "#C8D4E3"
             },
             "line": {
              "color": "white"
             }
            },
            "type": "table"
           }
          ]
         },
         "layout": {
          "annotationdefaults": {
           "arrowcolor": "#2a3f5f",
           "arrowhead": 0,
           "arrowwidth": 1
          },
          "autotypenumbers": "strict",
          "coloraxis": {
           "colorbar": {
            "outlinewidth": 0,
            "ticks": ""
           }
          },
          "colorscale": {
           "diverging": [
            [
             0,
             "#8e0152"
            ],
            [
             0.1,
             "#c51b7d"
            ],
            [
             0.2,
             "#de77ae"
            ],
            [
             0.3,
             "#f1b6da"
            ],
            [
             0.4,
             "#fde0ef"
            ],
            [
             0.5,
             "#f7f7f7"
            ],
            [
             0.6,
             "#e6f5d0"
            ],
            [
             0.7,
             "#b8e186"
            ],
            [
             0.8,
             "#7fbc41"
            ],
            [
             0.9,
             "#4d9221"
            ],
            [
             1,
             "#276419"
            ]
           ],
           "sequential": [
            [
             0,
             "#0d0887"
            ],
            [
             0.1111111111111111,
             "#46039f"
            ],
            [
             0.2222222222222222,
             "#7201a8"
            ],
            [
             0.3333333333333333,
             "#9c179e"
            ],
            [
             0.4444444444444444,
             "#bd3786"
            ],
            [
             0.5555555555555556,
             "#d8576b"
            ],
            [
             0.6666666666666666,
             "#ed7953"
            ],
            [
             0.7777777777777778,
             "#fb9f3a"
            ],
            [
             0.8888888888888888,
             "#fdca26"
            ],
            [
             1,
             "#f0f921"
            ]
           ],
           "sequentialminus": [
            [
             0,
             "#0d0887"
            ],
            [
             0.1111111111111111,
             "#46039f"
            ],
            [
             0.2222222222222222,
             "#7201a8"
            ],
            [
             0.3333333333333333,
             "#9c179e"
            ],
            [
             0.4444444444444444,
             "#bd3786"
            ],
            [
             0.5555555555555556,
             "#d8576b"
            ],
            [
             0.6666666666666666,
             "#ed7953"
            ],
            [
             0.7777777777777778,
             "#fb9f3a"
            ],
            [
             0.8888888888888888,
             "#fdca26"
            ],
            [
             1,
             "#f0f921"
            ]
           ]
          },
          "colorway": [
           "#636efa",
           "#EF553B",
           "#00cc96",
           "#ab63fa",
           "#FFA15A",
           "#19d3f3",
           "#FF6692",
           "#B6E880",
           "#FF97FF",
           "#FECB52"
          ],
          "font": {
           "color": "#2a3f5f"
          },
          "geo": {
           "bgcolor": "white",
           "lakecolor": "white",
           "landcolor": "#E5ECF6",
           "showlakes": true,
           "showland": true,
           "subunitcolor": "white"
          },
          "hoverlabel": {
           "align": "left"
          },
          "hovermode": "closest",
          "mapbox": {
           "style": "light"
          },
          "paper_bgcolor": "white",
          "plot_bgcolor": "#E5ECF6",
          "polar": {
           "angularaxis": {
            "gridcolor": "white",
            "linecolor": "white",
            "ticks": ""
           },
           "bgcolor": "#E5ECF6",
           "radialaxis": {
            "gridcolor": "white",
            "linecolor": "white",
            "ticks": ""
           }
          },
          "scene": {
           "xaxis": {
            "backgroundcolor": "#E5ECF6",
            "gridcolor": "white",
            "gridwidth": 2,
            "linecolor": "white",
            "showbackground": true,
            "ticks": "",
            "zerolinecolor": "white"
           },
           "yaxis": {
            "backgroundcolor": "#E5ECF6",
            "gridcolor": "white",
            "gridwidth": 2,
            "linecolor": "white",
            "showbackground": true,
            "ticks": "",
            "zerolinecolor": "white"
           },
           "zaxis": {
            "backgroundcolor": "#E5ECF6",
            "gridcolor": "white",
            "gridwidth": 2,
            "linecolor": "white",
            "showbackground": true,
            "ticks": "",
            "zerolinecolor": "white"
           }
          },
          "shapedefaults": {
           "line": {
            "color": "#2a3f5f"
           }
          },
          "ternary": {
           "aaxis": {
            "gridcolor": "white",
            "linecolor": "white",
            "ticks": ""
           },
           "baxis": {
            "gridcolor": "white",
            "linecolor": "white",
            "ticks": ""
           },
           "bgcolor": "#E5ECF6",
           "caxis": {
            "gridcolor": "white",
            "linecolor": "white",
            "ticks": ""
           }
          },
          "title": {
           "x": 0.05
          },
          "xaxis": {
           "automargin": true,
           "gridcolor": "white",
           "linecolor": "white",
           "ticks": "",
           "title": {
            "standoff": 15
           },
           "zerolinecolor": "white",
           "zerolinewidth": 2
          },
          "yaxis": {
           "automargin": true,
           "gridcolor": "white",
           "linecolor": "white",
           "ticks": "",
           "title": {
            "standoff": 15
           },
           "zerolinecolor": "white",
           "zerolinewidth": 2
          }
         }
        },
        "title": {
         "font": {
          "color": "darkblue",
          "size": 24
         },
         "text": "F1 Circuits World Map - 2024",
         "x": 0.5,
         "xanchor": "center",
         "yanchor": "top"
        }
       }
      }
     },
     "metadata": {},
     "output_type": "display_data"
    },
    {
     "data": {
      "application/vnd.plotly.v1+json": {
       "config": {
        "plotlyServerURL": "https://plot.ly"
       },
       "data": [
        {
         "customdata": [
          [
           34.0479,
           100.6197,
           41,
           24.2603550295858
          ],
          [
           54.526,
           15.2551,
           90,
           53.25443786982249
          ],
          [
           47.875,
           -105.2551,
           18,
           10.650887573964498
          ],
          [
           -22.7359,
           140.0188,
           6,
           3.5502958579881656
          ],
          [
           -8.7832,
           -55.4915,
           14,
           8.284023668639055
          ]
         ],
         "geo": "geo",
         "hovertemplate": "<b>%{hovertext}</b><br><br>race_count=%{marker.color}<br>percentage=%{customdata[3]:.2f}<extra></extra>",
         "hovertext": [
          "Asia",
          "Europe",
          "North America",
          "Oceania",
          "South America"
         ],
         "lat": [
          34.0479,
          54.526,
          47.875,
          -22.7359,
          -8.7832
         ],
         "legendgroup": "",
         "lon": [
          100.6197,
          15.2551,
          -105.2551,
          140.0188,
          -55.4915
         ],
         "marker": {
          "color": [
           41,
           90,
           18,
           6,
           14
          ],
          "coloraxis": "coloraxis",
          "size": [
           41,
           90,
           18,
           6,
           14
          ],
          "sizemode": "area",
          "sizeref": 0.225,
          "symbol": "circle"
         },
         "mode": "markers",
         "name": "",
         "showlegend": false,
         "type": "scattergeo"
        }
       ],
       "layout": {
        "coloraxis": {
         "colorbar": {
          "title": {
           "text": "race_count"
          }
         },
         "colorscale": [
          [
           0,
           "#0d0887"
          ],
          [
           0.1111111111111111,
           "#46039f"
          ],
          [
           0.2222222222222222,
           "#7201a8"
          ],
          [
           0.3333333333333333,
           "#9c179e"
          ],
          [
           0.4444444444444444,
           "#bd3786"
          ],
          [
           0.5555555555555556,
           "#d8576b"
          ],
          [
           0.6666666666666666,
           "#ed7953"
          ],
          [
           0.7777777777777778,
           "#fb9f3a"
          ],
          [
           0.8888888888888888,
           "#fdca26"
          ],
          [
           1,
           "#f0f921"
          ]
         ]
        },
        "geo": {
         "center": {},
         "coastlinecolor": "black",
         "countrycolor": "white",
         "domain": {
          "x": [
           0,
           1
          ],
          "y": [
           0,
           1
          ]
         },
         "landcolor": "lightgray",
         "oceancolor": "lightblue",
         "projection": {
          "scale": 1.2,
          "type": "equirectangular"
         },
         "showcountries": true,
         "showframe": false,
         "showland": true,
         "showocean": true
        },
        "hoverlabel": {
         "bgcolor": "lightyellow",
         "font": {
          "color": "black",
          "family": "Arial",
          "size": 14
         }
        },
        "legend": {
         "itemsizing": "constant",
         "tracegroupgap": 0
        },
        "margin": {
         "b": 0,
         "l": 0,
         "r": 0,
         "t": 50
        },
        "template": {
         "data": {
          "bar": [
           {
            "error_x": {
             "color": "#2a3f5f"
            },
            "error_y": {
             "color": "#2a3f5f"
            },
            "marker": {
             "line": {
              "color": "#E5ECF6",
              "width": 0.5
             },
             "pattern": {
              "fillmode": "overlay",
              "size": 10,
              "solidity": 0.2
             }
            },
            "type": "bar"
           }
          ],
          "barpolar": [
           {
            "marker": {
             "line": {
              "color": "#E5ECF6",
              "width": 0.5
             },
             "pattern": {
              "fillmode": "overlay",
              "size": 10,
              "solidity": 0.2
             }
            },
            "type": "barpolar"
           }
          ],
          "carpet": [
           {
            "aaxis": {
             "endlinecolor": "#2a3f5f",
             "gridcolor": "white",
             "linecolor": "white",
             "minorgridcolor": "white",
             "startlinecolor": "#2a3f5f"
            },
            "baxis": {
             "endlinecolor": "#2a3f5f",
             "gridcolor": "white",
             "linecolor": "white",
             "minorgridcolor": "white",
             "startlinecolor": "#2a3f5f"
            },
            "type": "carpet"
           }
          ],
          "choropleth": [
           {
            "colorbar": {
             "outlinewidth": 0,
             "ticks": ""
            },
            "type": "choropleth"
           }
          ],
          "contour": [
           {
            "colorbar": {
             "outlinewidth": 0,
             "ticks": ""
            },
            "colorscale": [
             [
              0,
              "#0d0887"
             ],
             [
              0.1111111111111111,
              "#46039f"
             ],
             [
              0.2222222222222222,
              "#7201a8"
             ],
             [
              0.3333333333333333,
              "#9c179e"
             ],
             [
              0.4444444444444444,
              "#bd3786"
             ],
             [
              0.5555555555555556,
              "#d8576b"
             ],
             [
              0.6666666666666666,
              "#ed7953"
             ],
             [
              0.7777777777777778,
              "#fb9f3a"
             ],
             [
              0.8888888888888888,
              "#fdca26"
             ],
             [
              1,
              "#f0f921"
             ]
            ],
            "type": "contour"
           }
          ],
          "contourcarpet": [
           {
            "colorbar": {
             "outlinewidth": 0,
             "ticks": ""
            },
            "type": "contourcarpet"
           }
          ],
          "heatmap": [
           {
            "colorbar": {
             "outlinewidth": 0,
             "ticks": ""
            },
            "colorscale": [
             [
              0,
              "#0d0887"
             ],
             [
              0.1111111111111111,
              "#46039f"
             ],
             [
              0.2222222222222222,
              "#7201a8"
             ],
             [
              0.3333333333333333,
              "#9c179e"
             ],
             [
              0.4444444444444444,
              "#bd3786"
             ],
             [
              0.5555555555555556,
              "#d8576b"
             ],
             [
              0.6666666666666666,
              "#ed7953"
             ],
             [
              0.7777777777777778,
              "#fb9f3a"
             ],
             [
              0.8888888888888888,
              "#fdca26"
             ],
             [
              1,
              "#f0f921"
             ]
            ],
            "type": "heatmap"
           }
          ],
          "heatmapgl": [
           {
            "colorbar": {
             "outlinewidth": 0,
             "ticks": ""
            },
            "colorscale": [
             [
              0,
              "#0d0887"
             ],
             [
              0.1111111111111111,
              "#46039f"
             ],
             [
              0.2222222222222222,
              "#7201a8"
             ],
             [
              0.3333333333333333,
              "#9c179e"
             ],
             [
              0.4444444444444444,
              "#bd3786"
             ],
             [
              0.5555555555555556,
              "#d8576b"
             ],
             [
              0.6666666666666666,
              "#ed7953"
             ],
             [
              0.7777777777777778,
              "#fb9f3a"
             ],
             [
              0.8888888888888888,
              "#fdca26"
             ],
             [
              1,
              "#f0f921"
             ]
            ],
            "type": "heatmapgl"
           }
          ],
          "histogram": [
           {
            "marker": {
             "pattern": {
              "fillmode": "overlay",
              "size": 10,
              "solidity": 0.2
             }
            },
            "type": "histogram"
           }
          ],
          "histogram2d": [
           {
            "colorbar": {
             "outlinewidth": 0,
             "ticks": ""
            },
            "colorscale": [
             [
              0,
              "#0d0887"
             ],
             [
              0.1111111111111111,
              "#46039f"
             ],
             [
              0.2222222222222222,
              "#7201a8"
             ],
             [
              0.3333333333333333,
              "#9c179e"
             ],
             [
              0.4444444444444444,
              "#bd3786"
             ],
             [
              0.5555555555555556,
              "#d8576b"
             ],
             [
              0.6666666666666666,
              "#ed7953"
             ],
             [
              0.7777777777777778,
              "#fb9f3a"
             ],
             [
              0.8888888888888888,
              "#fdca26"
             ],
             [
              1,
              "#f0f921"
             ]
            ],
            "type": "histogram2d"
           }
          ],
          "histogram2dcontour": [
           {
            "colorbar": {
             "outlinewidth": 0,
             "ticks": ""
            },
            "colorscale": [
             [
              0,
              "#0d0887"
             ],
             [
              0.1111111111111111,
              "#46039f"
             ],
             [
              0.2222222222222222,
              "#7201a8"
             ],
             [
              0.3333333333333333,
              "#9c179e"
             ],
             [
              0.4444444444444444,
              "#bd3786"
             ],
             [
              0.5555555555555556,
              "#d8576b"
             ],
             [
              0.6666666666666666,
              "#ed7953"
             ],
             [
              0.7777777777777778,
              "#fb9f3a"
             ],
             [
              0.8888888888888888,
              "#fdca26"
             ],
             [
              1,
              "#f0f921"
             ]
            ],
            "type": "histogram2dcontour"
           }
          ],
          "mesh3d": [
           {
            "colorbar": {
             "outlinewidth": 0,
             "ticks": ""
            },
            "type": "mesh3d"
           }
          ],
          "parcoords": [
           {
            "line": {
             "colorbar": {
              "outlinewidth": 0,
              "ticks": ""
             }
            },
            "type": "parcoords"
           }
          ],
          "pie": [
           {
            "automargin": true,
            "type": "pie"
           }
          ],
          "scatter": [
           {
            "fillpattern": {
             "fillmode": "overlay",
             "size": 10,
             "solidity": 0.2
            },
            "type": "scatter"
           }
          ],
          "scatter3d": [
           {
            "line": {
             "colorbar": {
              "outlinewidth": 0,
              "ticks": ""
             }
            },
            "marker": {
             "colorbar": {
              "outlinewidth": 0,
              "ticks": ""
             }
            },
            "type": "scatter3d"
           }
          ],
          "scattercarpet": [
           {
            "marker": {
             "colorbar": {
              "outlinewidth": 0,
              "ticks": ""
             }
            },
            "type": "scattercarpet"
           }
          ],
          "scattergeo": [
           {
            "marker": {
             "colorbar": {
              "outlinewidth": 0,
              "ticks": ""
             }
            },
            "type": "scattergeo"
           }
          ],
          "scattergl": [
           {
            "marker": {
             "colorbar": {
              "outlinewidth": 0,
              "ticks": ""
             }
            },
            "type": "scattergl"
           }
          ],
          "scattermapbox": [
           {
            "marker": {
             "colorbar": {
              "outlinewidth": 0,
              "ticks": ""
             }
            },
            "type": "scattermapbox"
           }
          ],
          "scatterpolar": [
           {
            "marker": {
             "colorbar": {
              "outlinewidth": 0,
              "ticks": ""
             }
            },
            "type": "scatterpolar"
           }
          ],
          "scatterpolargl": [
           {
            "marker": {
             "colorbar": {
              "outlinewidth": 0,
              "ticks": ""
             }
            },
            "type": "scatterpolargl"
           }
          ],
          "scatterternary": [
           {
            "marker": {
             "colorbar": {
              "outlinewidth": 0,
              "ticks": ""
             }
            },
            "type": "scatterternary"
           }
          ],
          "surface": [
           {
            "colorbar": {
             "outlinewidth": 0,
             "ticks": ""
            },
            "colorscale": [
             [
              0,
              "#0d0887"
             ],
             [
              0.1111111111111111,
              "#46039f"
             ],
             [
              0.2222222222222222,
              "#7201a8"
             ],
             [
              0.3333333333333333,
              "#9c179e"
             ],
             [
              0.4444444444444444,
              "#bd3786"
             ],
             [
              0.5555555555555556,
              "#d8576b"
             ],
             [
              0.6666666666666666,
              "#ed7953"
             ],
             [
              0.7777777777777778,
              "#fb9f3a"
             ],
             [
              0.8888888888888888,
              "#fdca26"
             ],
             [
              1,
              "#f0f921"
             ]
            ],
            "type": "surface"
           }
          ],
          "table": [
           {
            "cells": {
             "fill": {
              "color": "#EBF0F8"
             },
             "line": {
              "color": "white"
             }
            },
            "header": {
             "fill": {
              "color": "#C8D4E3"
             },
             "line": {
              "color": "white"
             }
            },
            "type": "table"
           }
          ]
         },
         "layout": {
          "annotationdefaults": {
           "arrowcolor": "#2a3f5f",
           "arrowhead": 0,
           "arrowwidth": 1
          },
          "autotypenumbers": "strict",
          "coloraxis": {
           "colorbar": {
            "outlinewidth": 0,
            "ticks": ""
           }
          },
          "colorscale": {
           "diverging": [
            [
             0,
             "#8e0152"
            ],
            [
             0.1,
             "#c51b7d"
            ],
            [
             0.2,
             "#de77ae"
            ],
            [
             0.3,
             "#f1b6da"
            ],
            [
             0.4,
             "#fde0ef"
            ],
            [
             0.5,
             "#f7f7f7"
            ],
            [
             0.6,
             "#e6f5d0"
            ],
            [
             0.7,
             "#b8e186"
            ],
            [
             0.8,
             "#7fbc41"
            ],
            [
             0.9,
             "#4d9221"
            ],
            [
             1,
             "#276419"
            ]
           ],
           "sequential": [
            [
             0,
             "#0d0887"
            ],
            [
             0.1111111111111111,
             "#46039f"
            ],
            [
             0.2222222222222222,
             "#7201a8"
            ],
            [
             0.3333333333333333,
             "#9c179e"
            ],
            [
             0.4444444444444444,
             "#bd3786"
            ],
            [
             0.5555555555555556,
             "#d8576b"
            ],
            [
             0.6666666666666666,
             "#ed7953"
            ],
            [
             0.7777777777777778,
             "#fb9f3a"
            ],
            [
             0.8888888888888888,
             "#fdca26"
            ],
            [
             1,
             "#f0f921"
            ]
           ],
           "sequentialminus": [
            [
             0,
             "#0d0887"
            ],
            [
             0.1111111111111111,
             "#46039f"
            ],
            [
             0.2222222222222222,
             "#7201a8"
            ],
            [
             0.3333333333333333,
             "#9c179e"
            ],
            [
             0.4444444444444444,
             "#bd3786"
            ],
            [
             0.5555555555555556,
             "#d8576b"
            ],
            [
             0.6666666666666666,
             "#ed7953"
            ],
            [
             0.7777777777777778,
             "#fb9f3a"
            ],
            [
             0.8888888888888888,
             "#fdca26"
            ],
            [
             1,
             "#f0f921"
            ]
           ]
          },
          "colorway": [
           "#636efa",
           "#EF553B",
           "#00cc96",
           "#ab63fa",
           "#FFA15A",
           "#19d3f3",
           "#FF6692",
           "#B6E880",
           "#FF97FF",
           "#FECB52"
          ],
          "font": {
           "color": "#2a3f5f"
          },
          "geo": {
           "bgcolor": "white",
           "lakecolor": "white",
           "landcolor": "#E5ECF6",
           "showlakes": true,
           "showland": true,
           "subunitcolor": "white"
          },
          "hoverlabel": {
           "align": "left"
          },
          "hovermode": "closest",
          "mapbox": {
           "style": "light"
          },
          "paper_bgcolor": "white",
          "plot_bgcolor": "#E5ECF6",
          "polar": {
           "angularaxis": {
            "gridcolor": "white",
            "linecolor": "white",
            "ticks": ""
           },
           "bgcolor": "#E5ECF6",
           "radialaxis": {
            "gridcolor": "white",
            "linecolor": "white",
            "ticks": ""
           }
          },
          "scene": {
           "xaxis": {
            "backgroundcolor": "#E5ECF6",
            "gridcolor": "white",
            "gridwidth": 2,
            "linecolor": "white",
            "showbackground": true,
            "ticks": "",
            "zerolinecolor": "white"
           },
           "yaxis": {
            "backgroundcolor": "#E5ECF6",
            "gridcolor": "white",
            "gridwidth": 2,
            "linecolor": "white",
            "showbackground": true,
            "ticks": "",
            "zerolinecolor": "white"
           },
           "zaxis": {
            "backgroundcolor": "#E5ECF6",
            "gridcolor": "white",
            "gridwidth": 2,
            "linecolor": "white",
            "showbackground": true,
            "ticks": "",
            "zerolinecolor": "white"
           }
          },
          "shapedefaults": {
           "line": {
            "color": "#2a3f5f"
           }
          },
          "ternary": {
           "aaxis": {
            "gridcolor": "white",
            "linecolor": "white",
            "ticks": ""
           },
           "baxis": {
            "gridcolor": "white",
            "linecolor": "white",
            "ticks": ""
           },
           "bgcolor": "#E5ECF6",
           "caxis": {
            "gridcolor": "white",
            "linecolor": "white",
            "ticks": ""
           }
          },
          "title": {
           "x": 0.05
          },
          "xaxis": {
           "automargin": true,
           "gridcolor": "white",
           "linecolor": "white",
           "ticks": "",
           "title": {
            "standoff": 15
           },
           "zerolinecolor": "white",
           "zerolinewidth": 2
          },
          "yaxis": {
           "automargin": true,
           "gridcolor": "white",
           "linecolor": "white",
           "ticks": "",
           "title": {
            "standoff": 15
           },
           "zerolinecolor": "white",
           "zerolinewidth": 2
          }
         }
        },
        "title": {
         "font": {
          "color": "darkblue",
          "size": 24
         },
         "text": "F1 Races in Different Continents (2017-2024)",
         "x": 0.4,
         "xanchor": "center",
         "yanchor": "top"
        }
       }
      }
     },
     "metadata": {},
     "output_type": "display_data"
    },
    {
     "data": {
      "application/vnd.plotly.v1+json": {
       "config": {
        "plotlyServerURL": "https://plot.ly"
       },
       "data": [
        {
         "alignmentgroup": "True",
         "hovertemplate": "Number of Races=%{marker.color}<br>Circuit=%{y}<extra></extra>",
         "legendgroup": "",
         "marker": {
          "color": [
           10,
           9,
           9,
           8,
           8,
           8,
           8,
           8,
           7,
           7,
           7,
           7,
           7,
           6,
           6,
           6,
           6,
           5,
           4,
           4,
           4,
           4,
           4,
           3,
           3,
           2,
           2,
           2,
           2,
           1,
           1,
           1
          ],
          "coloraxis": "coloraxis",
          "pattern": {
           "shape": ""
          }
         },
         "name": "",
         "offsetgroup": "",
         "orientation": "h",
         "showlegend": false,
         "text": [
          10,
          9,
          9,
          8,
          8,
          8,
          8,
          8,
          7,
          7,
          7,
          7,
          7,
          6,
          6,
          6,
          6,
          5,
          4,
          4,
          4,
          4,
          4,
          3,
          3,
          2,
          2,
          2,
          2,
          1,
          1,
          1
         ],
         "textposition": "outside",
         "type": "bar",
         "x": [
          10,
          9,
          9,
          8,
          8,
          8,
          8,
          8,
          7,
          7,
          7,
          7,
          7,
          6,
          6,
          6,
          6,
          5,
          4,
          4,
          4,
          4,
          4,
          3,
          3,
          2,
          2,
          2,
          2,
          1,
          1,
          1
         ],
         "xaxis": "x",
         "y": [
          "Red Bull Ring",
          "Silverstone Circuit",
          "Bahrain International Circuit",
          "Yas Marina Circuit",
          "Autodromo Nazionale di Monza",
          "Hungaroring",
          "Circuit de Barcelona-Catalunya",
          "Circuit de Spa-Francorchamps",
          "Circuit of the Americas",
          "Autódromo Hermanos Rodríguez",
          "Autódromo José Carlos Pace",
          "Baku City Circuit",
          "Circuit de Monaco",
          "Suzuka Circuit",
          "Marina Bay Street Circuit",
          "Albert Park Grand Prix Circuit",
          "Circuit Gilles Villeneuve",
          "Sochi Autodrom",
          "Autodromo Enzo e Dino Ferrari",
          "Circuit Paul Ricard",
          "Jeddah Corniche Circuit",
          "Circuit Park Zandvoort",
          "Shanghai International Circuit",
          "Losail International Circuit",
          "Miami International Autodrome",
          "Istanbul Park",
          "Las Vegas Strip Street Circuit",
          "Autódromo Internacional do Algarve",
          "Hockenheimring",
          "Nürburgring",
          "Sepang International Circuit",
          "Autodromo Internazionale del Mugello"
         ],
         "yaxis": "y"
        }
       ],
       "layout": {
        "barmode": "relative",
        "coloraxis": {
         "colorbar": {
          "title": {
           "text": "Number of Races"
          }
         },
         "colorscale": [
          [
           0,
           "#440154"
          ],
          [
           0.1111111111111111,
           "#482878"
          ],
          [
           0.2222222222222222,
           "#3e4989"
          ],
          [
           0.3333333333333333,
           "#31688e"
          ],
          [
           0.4444444444444444,
           "#26828e"
          ],
          [
           0.5555555555555556,
           "#1f9e89"
          ],
          [
           0.6666666666666666,
           "#35b779"
          ],
          [
           0.7777777777777778,
           "#6ece58"
          ],
          [
           0.8888888888888888,
           "#b5de2b"
          ],
          [
           1,
           "#fde725"
          ]
         ],
         "showscale": false
        },
        "height": 800,
        "hoverlabel": {
         "bgcolor": "lightyellow",
         "font": {
          "color": "black",
          "family": "Arial",
          "size": 14
         }
        },
        "legend": {
         "tracegroupgap": 0
        },
        "margin": {
         "b": 50,
         "l": 200,
         "r": 50,
         "t": 80
        },
        "plot_bgcolor": "white",
        "template": {
         "data": {
          "bar": [
           {
            "error_x": {
             "color": "#2a3f5f"
            },
            "error_y": {
             "color": "#2a3f5f"
            },
            "marker": {
             "line": {
              "color": "#E5ECF6",
              "width": 0.5
             },
             "pattern": {
              "fillmode": "overlay",
              "size": 10,
              "solidity": 0.2
             }
            },
            "type": "bar"
           }
          ],
          "barpolar": [
           {
            "marker": {
             "line": {
              "color": "#E5ECF6",
              "width": 0.5
             },
             "pattern": {
              "fillmode": "overlay",
              "size": 10,
              "solidity": 0.2
             }
            },
            "type": "barpolar"
           }
          ],
          "carpet": [
           {
            "aaxis": {
             "endlinecolor": "#2a3f5f",
             "gridcolor": "white",
             "linecolor": "white",
             "minorgridcolor": "white",
             "startlinecolor": "#2a3f5f"
            },
            "baxis": {
             "endlinecolor": "#2a3f5f",
             "gridcolor": "white",
             "linecolor": "white",
             "minorgridcolor": "white",
             "startlinecolor": "#2a3f5f"
            },
            "type": "carpet"
           }
          ],
          "choropleth": [
           {
            "colorbar": {
             "outlinewidth": 0,
             "ticks": ""
            },
            "type": "choropleth"
           }
          ],
          "contour": [
           {
            "colorbar": {
             "outlinewidth": 0,
             "ticks": ""
            },
            "colorscale": [
             [
              0,
              "#0d0887"
             ],
             [
              0.1111111111111111,
              "#46039f"
             ],
             [
              0.2222222222222222,
              "#7201a8"
             ],
             [
              0.3333333333333333,
              "#9c179e"
             ],
             [
              0.4444444444444444,
              "#bd3786"
             ],
             [
              0.5555555555555556,
              "#d8576b"
             ],
             [
              0.6666666666666666,
              "#ed7953"
             ],
             [
              0.7777777777777778,
              "#fb9f3a"
             ],
             [
              0.8888888888888888,
              "#fdca26"
             ],
             [
              1,
              "#f0f921"
             ]
            ],
            "type": "contour"
           }
          ],
          "contourcarpet": [
           {
            "colorbar": {
             "outlinewidth": 0,
             "ticks": ""
            },
            "type": "contourcarpet"
           }
          ],
          "heatmap": [
           {
            "colorbar": {
             "outlinewidth": 0,
             "ticks": ""
            },
            "colorscale": [
             [
              0,
              "#0d0887"
             ],
             [
              0.1111111111111111,
              "#46039f"
             ],
             [
              0.2222222222222222,
              "#7201a8"
             ],
             [
              0.3333333333333333,
              "#9c179e"
             ],
             [
              0.4444444444444444,
              "#bd3786"
             ],
             [
              0.5555555555555556,
              "#d8576b"
             ],
             [
              0.6666666666666666,
              "#ed7953"
             ],
             [
              0.7777777777777778,
              "#fb9f3a"
             ],
             [
              0.8888888888888888,
              "#fdca26"
             ],
             [
              1,
              "#f0f921"
             ]
            ],
            "type": "heatmap"
           }
          ],
          "heatmapgl": [
           {
            "colorbar": {
             "outlinewidth": 0,
             "ticks": ""
            },
            "colorscale": [
             [
              0,
              "#0d0887"
             ],
             [
              0.1111111111111111,
              "#46039f"
             ],
             [
              0.2222222222222222,
              "#7201a8"
             ],
             [
              0.3333333333333333,
              "#9c179e"
             ],
             [
              0.4444444444444444,
              "#bd3786"
             ],
             [
              0.5555555555555556,
              "#d8576b"
             ],
             [
              0.6666666666666666,
              "#ed7953"
             ],
             [
              0.7777777777777778,
              "#fb9f3a"
             ],
             [
              0.8888888888888888,
              "#fdca26"
             ],
             [
              1,
              "#f0f921"
             ]
            ],
            "type": "heatmapgl"
           }
          ],
          "histogram": [
           {
            "marker": {
             "pattern": {
              "fillmode": "overlay",
              "size": 10,
              "solidity": 0.2
             }
            },
            "type": "histogram"
           }
          ],
          "histogram2d": [
           {
            "colorbar": {
             "outlinewidth": 0,
             "ticks": ""
            },
            "colorscale": [
             [
              0,
              "#0d0887"
             ],
             [
              0.1111111111111111,
              "#46039f"
             ],
             [
              0.2222222222222222,
              "#7201a8"
             ],
             [
              0.3333333333333333,
              "#9c179e"
             ],
             [
              0.4444444444444444,
              "#bd3786"
             ],
             [
              0.5555555555555556,
              "#d8576b"
             ],
             [
              0.6666666666666666,
              "#ed7953"
             ],
             [
              0.7777777777777778,
              "#fb9f3a"
             ],
             [
              0.8888888888888888,
              "#fdca26"
             ],
             [
              1,
              "#f0f921"
             ]
            ],
            "type": "histogram2d"
           }
          ],
          "histogram2dcontour": [
           {
            "colorbar": {
             "outlinewidth": 0,
             "ticks": ""
            },
            "colorscale": [
             [
              0,
              "#0d0887"
             ],
             [
              0.1111111111111111,
              "#46039f"
             ],
             [
              0.2222222222222222,
              "#7201a8"
             ],
             [
              0.3333333333333333,
              "#9c179e"
             ],
             [
              0.4444444444444444,
              "#bd3786"
             ],
             [
              0.5555555555555556,
              "#d8576b"
             ],
             [
              0.6666666666666666,
              "#ed7953"
             ],
             [
              0.7777777777777778,
              "#fb9f3a"
             ],
             [
              0.8888888888888888,
              "#fdca26"
             ],
             [
              1,
              "#f0f921"
             ]
            ],
            "type": "histogram2dcontour"
           }
          ],
          "mesh3d": [
           {
            "colorbar": {
             "outlinewidth": 0,
             "ticks": ""
            },
            "type": "mesh3d"
           }
          ],
          "parcoords": [
           {
            "line": {
             "colorbar": {
              "outlinewidth": 0,
              "ticks": ""
             }
            },
            "type": "parcoords"
           }
          ],
          "pie": [
           {
            "automargin": true,
            "type": "pie"
           }
          ],
          "scatter": [
           {
            "fillpattern": {
             "fillmode": "overlay",
             "size": 10,
             "solidity": 0.2
            },
            "type": "scatter"
           }
          ],
          "scatter3d": [
           {
            "line": {
             "colorbar": {
              "outlinewidth": 0,
              "ticks": ""
             }
            },
            "marker": {
             "colorbar": {
              "outlinewidth": 0,
              "ticks": ""
             }
            },
            "type": "scatter3d"
           }
          ],
          "scattercarpet": [
           {
            "marker": {
             "colorbar": {
              "outlinewidth": 0,
              "ticks": ""
             }
            },
            "type": "scattercarpet"
           }
          ],
          "scattergeo": [
           {
            "marker": {
             "colorbar": {
              "outlinewidth": 0,
              "ticks": ""
             }
            },
            "type": "scattergeo"
           }
          ],
          "scattergl": [
           {
            "marker": {
             "colorbar": {
              "outlinewidth": 0,
              "ticks": ""
             }
            },
            "type": "scattergl"
           }
          ],
          "scattermapbox": [
           {
            "marker": {
             "colorbar": {
              "outlinewidth": 0,
              "ticks": ""
             }
            },
            "type": "scattermapbox"
           }
          ],
          "scatterpolar": [
           {
            "marker": {
             "colorbar": {
              "outlinewidth": 0,
              "ticks": ""
             }
            },
            "type": "scatterpolar"
           }
          ],
          "scatterpolargl": [
           {
            "marker": {
             "colorbar": {
              "outlinewidth": 0,
              "ticks": ""
             }
            },
            "type": "scatterpolargl"
           }
          ],
          "scatterternary": [
           {
            "marker": {
             "colorbar": {
              "outlinewidth": 0,
              "ticks": ""
             }
            },
            "type": "scatterternary"
           }
          ],
          "surface": [
           {
            "colorbar": {
             "outlinewidth": 0,
             "ticks": ""
            },
            "colorscale": [
             [
              0,
              "#0d0887"
             ],
             [
              0.1111111111111111,
              "#46039f"
             ],
             [
              0.2222222222222222,
              "#7201a8"
             ],
             [
              0.3333333333333333,
              "#9c179e"
             ],
             [
              0.4444444444444444,
              "#bd3786"
             ],
             [
              0.5555555555555556,
              "#d8576b"
             ],
             [
              0.6666666666666666,
              "#ed7953"
             ],
             [
              0.7777777777777778,
              "#fb9f3a"
             ],
             [
              0.8888888888888888,
              "#fdca26"
             ],
             [
              1,
              "#f0f921"
             ]
            ],
            "type": "surface"
           }
          ],
          "table": [
           {
            "cells": {
             "fill": {
              "color": "#EBF0F8"
             },
             "line": {
              "color": "white"
             }
            },
            "header": {
             "fill": {
              "color": "#C8D4E3"
             },
             "line": {
              "color": "white"
             }
            },
            "type": "table"
           }
          ]
         },
         "layout": {
          "annotationdefaults": {
           "arrowcolor": "#2a3f5f",
           "arrowhead": 0,
           "arrowwidth": 1
          },
          "autotypenumbers": "strict",
          "coloraxis": {
           "colorbar": {
            "outlinewidth": 0,
            "ticks": ""
           }
          },
          "colorscale": {
           "diverging": [
            [
             0,
             "#8e0152"
            ],
            [
             0.1,
             "#c51b7d"
            ],
            [
             0.2,
             "#de77ae"
            ],
            [
             0.3,
             "#f1b6da"
            ],
            [
             0.4,
             "#fde0ef"
            ],
            [
             0.5,
             "#f7f7f7"
            ],
            [
             0.6,
             "#e6f5d0"
            ],
            [
             0.7,
             "#b8e186"
            ],
            [
             0.8,
             "#7fbc41"
            ],
            [
             0.9,
             "#4d9221"
            ],
            [
             1,
             "#276419"
            ]
           ],
           "sequential": [
            [
             0,
             "#0d0887"
            ],
            [
             0.1111111111111111,
             "#46039f"
            ],
            [
             0.2222222222222222,
             "#7201a8"
            ],
            [
             0.3333333333333333,
             "#9c179e"
            ],
            [
             0.4444444444444444,
             "#bd3786"
            ],
            [
             0.5555555555555556,
             "#d8576b"
            ],
            [
             0.6666666666666666,
             "#ed7953"
            ],
            [
             0.7777777777777778,
             "#fb9f3a"
            ],
            [
             0.8888888888888888,
             "#fdca26"
            ],
            [
             1,
             "#f0f921"
            ]
           ],
           "sequentialminus": [
            [
             0,
             "#0d0887"
            ],
            [
             0.1111111111111111,
             "#46039f"
            ],
            [
             0.2222222222222222,
             "#7201a8"
            ],
            [
             0.3333333333333333,
             "#9c179e"
            ],
            [
             0.4444444444444444,
             "#bd3786"
            ],
            [
             0.5555555555555556,
             "#d8576b"
            ],
            [
             0.6666666666666666,
             "#ed7953"
            ],
            [
             0.7777777777777778,
             "#fb9f3a"
            ],
            [
             0.8888888888888888,
             "#fdca26"
            ],
            [
             1,
             "#f0f921"
            ]
           ]
          },
          "colorway": [
           "#636efa",
           "#EF553B",
           "#00cc96",
           "#ab63fa",
           "#FFA15A",
           "#19d3f3",
           "#FF6692",
           "#B6E880",
           "#FF97FF",
           "#FECB52"
          ],
          "font": {
           "color": "#2a3f5f"
          },
          "geo": {
           "bgcolor": "white",
           "lakecolor": "white",
           "landcolor": "#E5ECF6",
           "showlakes": true,
           "showland": true,
           "subunitcolor": "white"
          },
          "hoverlabel": {
           "align": "left"
          },
          "hovermode": "closest",
          "mapbox": {
           "style": "light"
          },
          "paper_bgcolor": "white",
          "plot_bgcolor": "#E5ECF6",
          "polar": {
           "angularaxis": {
            "gridcolor": "white",
            "linecolor": "white",
            "ticks": ""
           },
           "bgcolor": "#E5ECF6",
           "radialaxis": {
            "gridcolor": "white",
            "linecolor": "white",
            "ticks": ""
           }
          },
          "scene": {
           "xaxis": {
            "backgroundcolor": "#E5ECF6",
            "gridcolor": "white",
            "gridwidth": 2,
            "linecolor": "white",
            "showbackground": true,
            "ticks": "",
            "zerolinecolor": "white"
           },
           "yaxis": {
            "backgroundcolor": "#E5ECF6",
            "gridcolor": "white",
            "gridwidth": 2,
            "linecolor": "white",
            "showbackground": true,
            "ticks": "",
            "zerolinecolor": "white"
           },
           "zaxis": {
            "backgroundcolor": "#E5ECF6",
            "gridcolor": "white",
            "gridwidth": 2,
            "linecolor": "white",
            "showbackground": true,
            "ticks": "",
            "zerolinecolor": "white"
           }
          },
          "shapedefaults": {
           "line": {
            "color": "#2a3f5f"
           }
          },
          "ternary": {
           "aaxis": {
            "gridcolor": "white",
            "linecolor": "white",
            "ticks": ""
           },
           "baxis": {
            "gridcolor": "white",
            "linecolor": "white",
            "ticks": ""
           },
           "bgcolor": "#E5ECF6",
           "caxis": {
            "gridcolor": "white",
            "linecolor": "white",
            "ticks": ""
           }
          },
          "title": {
           "x": 0.05
          },
          "xaxis": {
           "automargin": true,
           "gridcolor": "white",
           "linecolor": "white",
           "ticks": "",
           "title": {
            "standoff": 15
           },
           "zerolinecolor": "white",
           "zerolinewidth": 2
          },
          "yaxis": {
           "automargin": true,
           "gridcolor": "white",
           "linecolor": "white",
           "ticks": "",
           "title": {
            "standoff": 15
           },
           "zerolinecolor": "white",
           "zerolinewidth": 2
          }
         }
        },
        "title": {
         "font": {
          "color": "darkblue",
          "size": 24
         },
         "text": "Races by Circuit (2017-2024)",
         "x": 0.5,
         "xanchor": "center"
        },
        "xaxis": {
         "anchor": "y",
         "domain": [
          0,
          1
         ],
         "showgrid": false,
         "tickfont": {
          "color": "black",
          "size": 14
         },
         "title": {
          "font": {
           "color": "black",
           "size": 16
          },
          "text": "Number of Races"
         }
        },
        "yaxis": {
         "anchor": "x",
         "domain": [
          0,
          1
         ],
         "showgrid": false,
         "tickfont": {
          "color": "black",
          "size": 14
         },
         "title": {
          "font": {
           "color": "black",
           "size": 16
          },
          "text": "Circuit"
         }
        }
       }
      }
     },
     "metadata": {},
     "output_type": "display_data"
    },
    {
     "data": {
      "application/vnd.plotly.v1+json": {
       "config": {
        "plotlyServerURL": "https://plot.ly"
       },
       "data": [
        {
         "alignmentgroup": "True",
         "hovertemplate": "Number of Races=%{marker.color}<br>Country=%{y}<extra></extra>",
         "legendgroup": "",
         "marker": {
          "color": [
           13,
           12,
           10,
           9,
           9,
           8,
           8,
           8,
           8,
           7,
           7,
           7,
           7,
           6,
           6,
           6,
           6,
           5,
           4,
           4,
           4,
           4,
           3,
           3,
           2,
           2,
           1
          ],
          "coloraxis": "coloraxis",
          "pattern": {
           "shape": ""
          }
         },
         "name": "",
         "offsetgroup": "",
         "orientation": "h",
         "showlegend": false,
         "text": [
          13,
          12,
          10,
          9,
          9,
          8,
          8,
          8,
          8,
          7,
          7,
          7,
          7,
          6,
          6,
          6,
          6,
          5,
          4,
          4,
          4,
          4,
          3,
          3,
          2,
          2,
          1
         ],
         "textposition": "outside",
         "type": "bar",
         "x": [
          13,
          12,
          10,
          9,
          9,
          8,
          8,
          8,
          8,
          7,
          7,
          7,
          7,
          6,
          6,
          6,
          6,
          5,
          4,
          4,
          4,
          4,
          3,
          3,
          2,
          2,
          1
         ],
         "xaxis": "x",
         "y": [
          "Italy",
          "USA",
          "Austria",
          "Bahrain",
          "UK",
          "Belgium",
          "UAE",
          "Spain",
          "Hungary",
          "Mexico",
          "Azerbaijan",
          "Brazil",
          "Monaco",
          "Singapore",
          "Australia",
          "Japan",
          "Canada",
          "Russia",
          "Netherlands",
          "Saudi Arabia",
          "France",
          "China",
          "Qatar",
          "Germany",
          "Portugal",
          "Turkey",
          "Malaysia"
         ],
         "yaxis": "y"
        }
       ],
       "layout": {
        "barmode": "relative",
        "coloraxis": {
         "colorbar": {
          "title": {
           "text": "Number of Races"
          }
         },
         "colorscale": [
          [
           0,
           "#440154"
          ],
          [
           0.1111111111111111,
           "#482878"
          ],
          [
           0.2222222222222222,
           "#3e4989"
          ],
          [
           0.3333333333333333,
           "#31688e"
          ],
          [
           0.4444444444444444,
           "#26828e"
          ],
          [
           0.5555555555555556,
           "#1f9e89"
          ],
          [
           0.6666666666666666,
           "#35b779"
          ],
          [
           0.7777777777777778,
           "#6ece58"
          ],
          [
           0.8888888888888888,
           "#b5de2b"
          ],
          [
           1,
           "#fde725"
          ]
         ],
         "showscale": false
        },
        "height": 800,
        "hoverlabel": {
         "bgcolor": "lightyellow",
         "font": {
          "color": "black",
          "family": "Arial",
          "size": 14
         }
        },
        "legend": {
         "tracegroupgap": 0
        },
        "margin": {
         "b": 50,
         "l": 200,
         "r": 50,
         "t": 80
        },
        "plot_bgcolor": "white",
        "template": {
         "data": {
          "bar": [
           {
            "error_x": {
             "color": "#2a3f5f"
            },
            "error_y": {
             "color": "#2a3f5f"
            },
            "marker": {
             "line": {
              "color": "#E5ECF6",
              "width": 0.5
             },
             "pattern": {
              "fillmode": "overlay",
              "size": 10,
              "solidity": 0.2
             }
            },
            "type": "bar"
           }
          ],
          "barpolar": [
           {
            "marker": {
             "line": {
              "color": "#E5ECF6",
              "width": 0.5
             },
             "pattern": {
              "fillmode": "overlay",
              "size": 10,
              "solidity": 0.2
             }
            },
            "type": "barpolar"
           }
          ],
          "carpet": [
           {
            "aaxis": {
             "endlinecolor": "#2a3f5f",
             "gridcolor": "white",
             "linecolor": "white",
             "minorgridcolor": "white",
             "startlinecolor": "#2a3f5f"
            },
            "baxis": {
             "endlinecolor": "#2a3f5f",
             "gridcolor": "white",
             "linecolor": "white",
             "minorgridcolor": "white",
             "startlinecolor": "#2a3f5f"
            },
            "type": "carpet"
           }
          ],
          "choropleth": [
           {
            "colorbar": {
             "outlinewidth": 0,
             "ticks": ""
            },
            "type": "choropleth"
           }
          ],
          "contour": [
           {
            "colorbar": {
             "outlinewidth": 0,
             "ticks": ""
            },
            "colorscale": [
             [
              0,
              "#0d0887"
             ],
             [
              0.1111111111111111,
              "#46039f"
             ],
             [
              0.2222222222222222,
              "#7201a8"
             ],
             [
              0.3333333333333333,
              "#9c179e"
             ],
             [
              0.4444444444444444,
              "#bd3786"
             ],
             [
              0.5555555555555556,
              "#d8576b"
             ],
             [
              0.6666666666666666,
              "#ed7953"
             ],
             [
              0.7777777777777778,
              "#fb9f3a"
             ],
             [
              0.8888888888888888,
              "#fdca26"
             ],
             [
              1,
              "#f0f921"
             ]
            ],
            "type": "contour"
           }
          ],
          "contourcarpet": [
           {
            "colorbar": {
             "outlinewidth": 0,
             "ticks": ""
            },
            "type": "contourcarpet"
           }
          ],
          "heatmap": [
           {
            "colorbar": {
             "outlinewidth": 0,
             "ticks": ""
            },
            "colorscale": [
             [
              0,
              "#0d0887"
             ],
             [
              0.1111111111111111,
              "#46039f"
             ],
             [
              0.2222222222222222,
              "#7201a8"
             ],
             [
              0.3333333333333333,
              "#9c179e"
             ],
             [
              0.4444444444444444,
              "#bd3786"
             ],
             [
              0.5555555555555556,
              "#d8576b"
             ],
             [
              0.6666666666666666,
              "#ed7953"
             ],
             [
              0.7777777777777778,
              "#fb9f3a"
             ],
             [
              0.8888888888888888,
              "#fdca26"
             ],
             [
              1,
              "#f0f921"
             ]
            ],
            "type": "heatmap"
           }
          ],
          "heatmapgl": [
           {
            "colorbar": {
             "outlinewidth": 0,
             "ticks": ""
            },
            "colorscale": [
             [
              0,
              "#0d0887"
             ],
             [
              0.1111111111111111,
              "#46039f"
             ],
             [
              0.2222222222222222,
              "#7201a8"
             ],
             [
              0.3333333333333333,
              "#9c179e"
             ],
             [
              0.4444444444444444,
              "#bd3786"
             ],
             [
              0.5555555555555556,
              "#d8576b"
             ],
             [
              0.6666666666666666,
              "#ed7953"
             ],
             [
              0.7777777777777778,
              "#fb9f3a"
             ],
             [
              0.8888888888888888,
              "#fdca26"
             ],
             [
              1,
              "#f0f921"
             ]
            ],
            "type": "heatmapgl"
           }
          ],
          "histogram": [
           {
            "marker": {
             "pattern": {
              "fillmode": "overlay",
              "size": 10,
              "solidity": 0.2
             }
            },
            "type": "histogram"
           }
          ],
          "histogram2d": [
           {
            "colorbar": {
             "outlinewidth": 0,
             "ticks": ""
            },
            "colorscale": [
             [
              0,
              "#0d0887"
             ],
             [
              0.1111111111111111,
              "#46039f"
             ],
             [
              0.2222222222222222,
              "#7201a8"
             ],
             [
              0.3333333333333333,
              "#9c179e"
             ],
             [
              0.4444444444444444,
              "#bd3786"
             ],
             [
              0.5555555555555556,
              "#d8576b"
             ],
             [
              0.6666666666666666,
              "#ed7953"
             ],
             [
              0.7777777777777778,
              "#fb9f3a"
             ],
             [
              0.8888888888888888,
              "#fdca26"
             ],
             [
              1,
              "#f0f921"
             ]
            ],
            "type": "histogram2d"
           }
          ],
          "histogram2dcontour": [
           {
            "colorbar": {
             "outlinewidth": 0,
             "ticks": ""
            },
            "colorscale": [
             [
              0,
              "#0d0887"
             ],
             [
              0.1111111111111111,
              "#46039f"
             ],
             [
              0.2222222222222222,
              "#7201a8"
             ],
             [
              0.3333333333333333,
              "#9c179e"
             ],
             [
              0.4444444444444444,
              "#bd3786"
             ],
             [
              0.5555555555555556,
              "#d8576b"
             ],
             [
              0.6666666666666666,
              "#ed7953"
             ],
             [
              0.7777777777777778,
              "#fb9f3a"
             ],
             [
              0.8888888888888888,
              "#fdca26"
             ],
             [
              1,
              "#f0f921"
             ]
            ],
            "type": "histogram2dcontour"
           }
          ],
          "mesh3d": [
           {
            "colorbar": {
             "outlinewidth": 0,
             "ticks": ""
            },
            "type": "mesh3d"
           }
          ],
          "parcoords": [
           {
            "line": {
             "colorbar": {
              "outlinewidth": 0,
              "ticks": ""
             }
            },
            "type": "parcoords"
           }
          ],
          "pie": [
           {
            "automargin": true,
            "type": "pie"
           }
          ],
          "scatter": [
           {
            "fillpattern": {
             "fillmode": "overlay",
             "size": 10,
             "solidity": 0.2
            },
            "type": "scatter"
           }
          ],
          "scatter3d": [
           {
            "line": {
             "colorbar": {
              "outlinewidth": 0,
              "ticks": ""
             }
            },
            "marker": {
             "colorbar": {
              "outlinewidth": 0,
              "ticks": ""
             }
            },
            "type": "scatter3d"
           }
          ],
          "scattercarpet": [
           {
            "marker": {
             "colorbar": {
              "outlinewidth": 0,
              "ticks": ""
             }
            },
            "type": "scattercarpet"
           }
          ],
          "scattergeo": [
           {
            "marker": {
             "colorbar": {
              "outlinewidth": 0,
              "ticks": ""
             }
            },
            "type": "scattergeo"
           }
          ],
          "scattergl": [
           {
            "marker": {
             "colorbar": {
              "outlinewidth": 0,
              "ticks": ""
             }
            },
            "type": "scattergl"
           }
          ],
          "scattermapbox": [
           {
            "marker": {
             "colorbar": {
              "outlinewidth": 0,
              "ticks": ""
             }
            },
            "type": "scattermapbox"
           }
          ],
          "scatterpolar": [
           {
            "marker": {
             "colorbar": {
              "outlinewidth": 0,
              "ticks": ""
             }
            },
            "type": "scatterpolar"
           }
          ],
          "scatterpolargl": [
           {
            "marker": {
             "colorbar": {
              "outlinewidth": 0,
              "ticks": ""
             }
            },
            "type": "scatterpolargl"
           }
          ],
          "scatterternary": [
           {
            "marker": {
             "colorbar": {
              "outlinewidth": 0,
              "ticks": ""
             }
            },
            "type": "scatterternary"
           }
          ],
          "surface": [
           {
            "colorbar": {
             "outlinewidth": 0,
             "ticks": ""
            },
            "colorscale": [
             [
              0,
              "#0d0887"
             ],
             [
              0.1111111111111111,
              "#46039f"
             ],
             [
              0.2222222222222222,
              "#7201a8"
             ],
             [
              0.3333333333333333,
              "#9c179e"
             ],
             [
              0.4444444444444444,
              "#bd3786"
             ],
             [
              0.5555555555555556,
              "#d8576b"
             ],
             [
              0.6666666666666666,
              "#ed7953"
             ],
             [
              0.7777777777777778,
              "#fb9f3a"
             ],
             [
              0.8888888888888888,
              "#fdca26"
             ],
             [
              1,
              "#f0f921"
             ]
            ],
            "type": "surface"
           }
          ],
          "table": [
           {
            "cells": {
             "fill": {
              "color": "#EBF0F8"
             },
             "line": {
              "color": "white"
             }
            },
            "header": {
             "fill": {
              "color": "#C8D4E3"
             },
             "line": {
              "color": "white"
             }
            },
            "type": "table"
           }
          ]
         },
         "layout": {
          "annotationdefaults": {
           "arrowcolor": "#2a3f5f",
           "arrowhead": 0,
           "arrowwidth": 1
          },
          "autotypenumbers": "strict",
          "coloraxis": {
           "colorbar": {
            "outlinewidth": 0,
            "ticks": ""
           }
          },
          "colorscale": {
           "diverging": [
            [
             0,
             "#8e0152"
            ],
            [
             0.1,
             "#c51b7d"
            ],
            [
             0.2,
             "#de77ae"
            ],
            [
             0.3,
             "#f1b6da"
            ],
            [
             0.4,
             "#fde0ef"
            ],
            [
             0.5,
             "#f7f7f7"
            ],
            [
             0.6,
             "#e6f5d0"
            ],
            [
             0.7,
             "#b8e186"
            ],
            [
             0.8,
             "#7fbc41"
            ],
            [
             0.9,
             "#4d9221"
            ],
            [
             1,
             "#276419"
            ]
           ],
           "sequential": [
            [
             0,
             "#0d0887"
            ],
            [
             0.1111111111111111,
             "#46039f"
            ],
            [
             0.2222222222222222,
             "#7201a8"
            ],
            [
             0.3333333333333333,
             "#9c179e"
            ],
            [
             0.4444444444444444,
             "#bd3786"
            ],
            [
             0.5555555555555556,
             "#d8576b"
            ],
            [
             0.6666666666666666,
             "#ed7953"
            ],
            [
             0.7777777777777778,
             "#fb9f3a"
            ],
            [
             0.8888888888888888,
             "#fdca26"
            ],
            [
             1,
             "#f0f921"
            ]
           ],
           "sequentialminus": [
            [
             0,
             "#0d0887"
            ],
            [
             0.1111111111111111,
             "#46039f"
            ],
            [
             0.2222222222222222,
             "#7201a8"
            ],
            [
             0.3333333333333333,
             "#9c179e"
            ],
            [
             0.4444444444444444,
             "#bd3786"
            ],
            [
             0.5555555555555556,
             "#d8576b"
            ],
            [
             0.6666666666666666,
             "#ed7953"
            ],
            [
             0.7777777777777778,
             "#fb9f3a"
            ],
            [
             0.8888888888888888,
             "#fdca26"
            ],
            [
             1,
             "#f0f921"
            ]
           ]
          },
          "colorway": [
           "#636efa",
           "#EF553B",
           "#00cc96",
           "#ab63fa",
           "#FFA15A",
           "#19d3f3",
           "#FF6692",
           "#B6E880",
           "#FF97FF",
           "#FECB52"
          ],
          "font": {
           "color": "#2a3f5f"
          },
          "geo": {
           "bgcolor": "white",
           "lakecolor": "white",
           "landcolor": "#E5ECF6",
           "showlakes": true,
           "showland": true,
           "subunitcolor": "white"
          },
          "hoverlabel": {
           "align": "left"
          },
          "hovermode": "closest",
          "mapbox": {
           "style": "light"
          },
          "paper_bgcolor": "white",
          "plot_bgcolor": "#E5ECF6",
          "polar": {
           "angularaxis": {
            "gridcolor": "white",
            "linecolor": "white",
            "ticks": ""
           },
           "bgcolor": "#E5ECF6",
           "radialaxis": {
            "gridcolor": "white",
            "linecolor": "white",
            "ticks": ""
           }
          },
          "scene": {
           "xaxis": {
            "backgroundcolor": "#E5ECF6",
            "gridcolor": "white",
            "gridwidth": 2,
            "linecolor": "white",
            "showbackground": true,
            "ticks": "",
            "zerolinecolor": "white"
           },
           "yaxis": {
            "backgroundcolor": "#E5ECF6",
            "gridcolor": "white",
            "gridwidth": 2,
            "linecolor": "white",
            "showbackground": true,
            "ticks": "",
            "zerolinecolor": "white"
           },
           "zaxis": {
            "backgroundcolor": "#E5ECF6",
            "gridcolor": "white",
            "gridwidth": 2,
            "linecolor": "white",
            "showbackground": true,
            "ticks": "",
            "zerolinecolor": "white"
           }
          },
          "shapedefaults": {
           "line": {
            "color": "#2a3f5f"
           }
          },
          "ternary": {
           "aaxis": {
            "gridcolor": "white",
            "linecolor": "white",
            "ticks": ""
           },
           "baxis": {
            "gridcolor": "white",
            "linecolor": "white",
            "ticks": ""
           },
           "bgcolor": "#E5ECF6",
           "caxis": {
            "gridcolor": "white",
            "linecolor": "white",
            "ticks": ""
           }
          },
          "title": {
           "x": 0.05
          },
          "xaxis": {
           "automargin": true,
           "gridcolor": "white",
           "linecolor": "white",
           "ticks": "",
           "title": {
            "standoff": 15
           },
           "zerolinecolor": "white",
           "zerolinewidth": 2
          },
          "yaxis": {
           "automargin": true,
           "gridcolor": "white",
           "linecolor": "white",
           "ticks": "",
           "title": {
            "standoff": 15
           },
           "zerolinecolor": "white",
           "zerolinewidth": 2
          }
         }
        },
        "title": {
         "font": {
          "color": "darkblue",
          "size": 24
         },
         "text": "Races by Country (2017-2024)",
         "x": 0.5,
         "xanchor": "center"
        },
        "xaxis": {
         "anchor": "y",
         "domain": [
          0,
          1
         ],
         "showgrid": false,
         "tickfont": {
          "color": "black",
          "size": 14
         },
         "title": {
          "font": {
           "color": "black",
           "size": 16
          },
          "text": "Number of Races"
         }
        },
        "yaxis": {
         "anchor": "x",
         "domain": [
          0,
          1
         ],
         "showgrid": false,
         "tickfont": {
          "color": "black",
          "size": 14
         },
         "title": {
          "font": {
           "color": "black",
           "size": 16
          },
          "text": "Country"
         }
        }
       }
      }
     },
     "metadata": {},
     "output_type": "display_data"
    }
   ],
   "source": [
    "def load_race_schedule_data():\n",
    "    return pd.read_csv('race_schedule.csv')\n",
    "\n",
    "def f1_circuit_world_map(year=2024):\n",
    "    df_race_schedule = load_race_schedule_data()\n",
    "    df_filtered_by_year = df_race_schedule[df_race_schedule['season'] == year]\n",
    "\n",
    "    fig = px.scatter_geo(df_filtered_by_year,\n",
    "                         lat='location-lat',\n",
    "                         lon='location-long',\n",
    "                         hover_name='circuitName',\n",
    "                         hover_data={\n",
    "                             'raceName': True,\n",
    "                             'location-locality': True,\n",
    "                             'location-country': True,\n",
    "                             'season': True,\n",
    "                             'round': True,\n",
    "                             'location-lat': False,\n",
    "                             'location-long': False\n",
    "                         },\n",
    "                         title=f'F1 Circuits World Map - {year}',\n",
    "                         projection='equirectangular')\n",
    "\n",
    "    fig.update_traces(marker=dict(color='blue', size=10, opacity=0.85, line=dict(width=1, color='black')))\n",
    "    \n",
    "    fig.update_layout(\n",
    "        geo=dict(\n",
    "            showland=True,\n",
    "            landcolor='lightgray',\n",
    "            showocean=True,\n",
    "            oceancolor='lightblue',\n",
    "            showcountries=True,\n",
    "            countrycolor='white',\n",
    "            showframe=False,\n",
    "            coastlinecolor='black',\n",
    "            projection_scale=1.2\n",
    "        ),\n",
    "        title={\n",
    "            'text': f'F1 Circuits World Map - {year}',\n",
    "            'x': 0.5,\n",
    "            'xanchor': 'center',\n",
    "            'yanchor': 'top'\n",
    "        },\n",
    "        title_font=dict(size=24, color='darkblue'),\n",
    "        margin=dict(l=0, r=0, t=50, b=0),\n",
    "        \n",
    "        hoverlabel=dict(\n",
    "            bgcolor=\"lightyellow\",\n",
    "            font_size=14,\n",
    "            font_family=\"Arial\",\n",
    "            font_color=\"black\"\n",
    "        )\n",
    "    )\n",
    "    \n",
    "    return fig\n",
    "\n",
    "def races_by_continent():\n",
    "    \"\"\"Creates a scatter_geo plot showing the number of F1 races per continent.\"\"\"\n",
    "    df_race_schedule = load_race_schedule_data()\n",
    "\n",
    "    country_to_continent = {\n",
    "        'Australia': 'Oceania',\n",
    "        'China': 'Asia',\n",
    "        'Bahrain': 'Asia',\n",
    "        'Russia': 'Europe',\n",
    "        'Spain': 'Europe',\n",
    "        'Monaco': 'Europe',\n",
    "        'Canada': 'North America',\n",
    "        'Azerbaijan': 'Europe',\n",
    "        'Austria': 'Europe',\n",
    "        'UK': 'Europe',\n",
    "        'Hungary': 'Europe',\n",
    "        'Belgium': 'Europe',\n",
    "        'Italy': 'Europe',\n",
    "        'Singapore': 'Asia',\n",
    "        'Malaysia': 'Asia',\n",
    "        'Japan': 'Asia',\n",
    "        'USA': 'North America',\n",
    "        'Mexico': 'South America',\n",
    "        'Brazil': 'South America', \n",
    "        'UAE': 'Asia',\n",
    "        'France': 'Europe',\n",
    "        'Germany': 'Europe',\n",
    "        'Portugal': 'Europe',\n",
    "        'Turkey': 'Europe',\n",
    "        'Netherlands': 'Europe', \n",
    "        'Qatar': 'Asia',\n",
    "        'Saudi Arabia': 'Asia',\n",
    "        'United States': 'North America'\n",
    "    }\n",
    "\n",
    "    df_race_schedule['continent'] = df_race_schedule['location-country'].map(country_to_continent)\n",
    "\n",
    "    continent_race_count = df_race_schedule.groupby('continent').size().reset_index(name='race_count')\n",
    "    total_races = continent_race_count['race_count'].sum()\n",
    "    continent_race_count['percentage'] = (continent_race_count['race_count'] / total_races) * 100\n",
    "\n",
    "    continent_geo = {\n",
    "        'Europe': {'lat': 54.5260, 'long': 15.2551},\n",
    "        'Asia': {'lat': 34.0479, 'long': 100.6197},\n",
    "        'North America': {'lat': 47.875, 'long': -105.2551},\n",
    "        'South America': {'lat': -8.7832, 'long': -55.4915},\n",
    "        'Oceania': {'lat': -22.7359, 'long': 140.0188},\n",
    "    }\n",
    "    \n",
    "    continent_race_count['lat'] = continent_race_count['continent'].map(lambda x: continent_geo[x]['lat'])\n",
    "    continent_race_count['long'] = continent_race_count['continent'].map(lambda x: continent_geo[x]['long'])\n",
    "\n",
    "    fig = px.scatter_geo(continent_race_count,\n",
    "                         lat='lat',\n",
    "                         lon='long',\n",
    "                         hover_name='continent',\n",
    "                         hover_data={'lat': False, 'long': False, 'race_count': True, 'percentage': ':.2f'},\n",
    "                         size='race_count',\n",
    "                         size_max=20,\n",
    "                         color='race_count',\n",
    "                         title='Number and Percentage of F1 Races by Continent (2017-2024)',\n",
    "                         projection='equirectangular',\n",
    "                         color_continuous_scale=px.colors.sequential.Plasma)\n",
    "\n",
    "    fig.update_layout(\n",
    "        geo=dict(\n",
    "            showland=True,\n",
    "            landcolor='lightgray',\n",
    "            showocean=True,\n",
    "            oceancolor='lightblue',\n",
    "            showcountries=True,\n",
    "            countrycolor='white',\n",
    "            showframe=False,\n",
    "            coastlinecolor='black',\n",
    "            projection_scale=1.2\n",
    "        ),\n",
    "        title={\n",
    "        'text': 'F1 Races in Different Continents (2017-2024)',\n",
    "        'x': 0.40,\n",
    "        'xanchor': 'center',\n",
    "        'yanchor': 'top'\n",
    "    },\n",
    "        title_font=dict(size=24, color='darkblue'),\n",
    "        margin=dict(l=0, r=0, t=50, b=0),\n",
    "        hoverlabel=dict(\n",
    "            bgcolor=\"lightyellow\",\n",
    "            font_size=14,\n",
    "            font_family=\"Arial\",\n",
    "            font_color=\"black\"\n",
    "        )\n",
    "    )\n",
    "\n",
    "    return fig\n",
    "\n",
    "def races_by_circuit(start_year=2017, end_year=2024):\n",
    "    \"\"\"Creates a bar chart showing the number of races by circuit for a specified year range.\"\"\"\n",
    "    df_race_schedule = load_race_schedule_data()\n",
    "\n",
    "    df_filtered = df_race_schedule[(df_race_schedule['season'] >= start_year) & (df_race_schedule['season'] <= end_year)]\n",
    " \n",
    "    circuit_race_count = df_filtered.groupby('circuitName').size().reset_index(name='count')\n",
    "    circuit_race_count = circuit_race_count.sort_values(by='count', ascending=False)\n",
    "\n",
    "    fig = px.bar(\n",
    "        circuit_race_count, \n",
    "        x='count',\n",
    "        y='circuitName',\n",
    "        title=f'Races by Circuit ({start_year}-{end_year})',\n",
    "        hover_data={'circuitName': True, 'count': True},\n",
    "        labels={'count': 'Number of Races', 'circuitName': 'Circuit'},\n",
    "        color='count',\n",
    "        color_continuous_scale=px.colors.sequential.Viridis,\n",
    "        text='count'\n",
    "    )\n",
    "    \n",
    "    fig.update_layout(\n",
    "        title={'x': 0.5, 'xanchor': 'center', 'font': dict(size=24, color='darkblue')},\n",
    "        xaxis=dict(title='Number of Races', showgrid=False, tickfont=dict(size=14, color='black'), titlefont=dict(size=16, color='black')),\n",
    "        yaxis=dict(title='Circuit', showgrid=False, tickfont=dict(size=14, color='black'), titlefont=dict(size=16, color='black')),\n",
    "        plot_bgcolor='white',\n",
    "        margin=dict(l=200, r=50, t=80, b=50),\n",
    "        hoverlabel=dict(bgcolor=\"lightyellow\", font_size=14, font_family=\"Arial\", font_color=\"black\"),\n",
    "        height=800,\n",
    "        coloraxis_showscale=False\n",
    "    )\n",
    "\n",
    "    fig.update_traces(textposition='outside')\n",
    "\n",
    "    return fig\n",
    "\n",
    "def races_by_country(start_year=2017, end_year=2024):\n",
    "    \"\"\"Creates a bar chart showing the number of races by country for a specified year range.\"\"\"\n",
    "    df_race_schedule = load_race_schedule_data()\n",
    "\n",
    "    df_race_schedule = df_race_schedule[(df_race_schedule['season'] >= start_year) & (df_race_schedule['season'] <= end_year)]\n",
    "    \n",
    "    df_race_schedule['location-country'] = df_race_schedule['location-country'].replace({'United States': 'USA'})\n",
    "    \n",
    "    race_count_by_country = df_race_schedule.groupby('location-country').size().reset_index(name='count')\n",
    "    race_count_by_country = race_count_by_country.sort_values(by='count', ascending=False)\n",
    "\n",
    "    fig = px.bar(race_count_by_country, \n",
    "                 x='count',\n",
    "                 y='location-country',\n",
    "                 title=f'Races by Country ({start_year}-{end_year})',\n",
    "                 hover_data={'location-country': True, 'count': True},\n",
    "                 labels={'count': 'Number of Races', 'location-country': 'Country'},\n",
    "                 color='count',\n",
    "                 color_continuous_scale=px.colors.sequential.Viridis,\n",
    "                 text='count')\n",
    "\n",
    "    fig.update_layout(\n",
    "        title={'x': 0.5, 'xanchor': 'center', 'font': dict(size=24, color='darkblue')},\n",
    "        xaxis=dict(title='Number of Races', showgrid=False, tickfont=dict(size=14, color='black'), titlefont=dict(size=16, color='black')),\n",
    "        yaxis=dict(title='Country', showgrid=False, tickfont=dict(size=14, color='black'), titlefont=dict(size=16, color='black')),\n",
    "        plot_bgcolor='white',\n",
    "        margin=dict(l=200, r=50, t=80, b=50),\n",
    "        hoverlabel=dict(bgcolor=\"lightyellow\", font_size=14, font_family=\"Arial\", font_color=\"black\"),\n",
    "        height=800,\n",
    "        coloraxis_showscale=False\n",
    "    )\n",
    "\n",
    "    fig.update_traces(textposition='outside')\n",
    "\n",
    "    return fig\n",
    "\n",
    "f1_circuit_world_map().show()\n",
    "races_by_continent().show()\n",
    "races_by_circuit().show()\n",
    "races_by_country().show()"
   ]
  },
  {
   "cell_type": "code",
   "execution_count": 33,
   "metadata": {},
   "outputs": [
    {
     "data": {
      "application/vnd.plotly.v1+json": {
       "config": {
        "plotlyServerURL": "https://plot.ly"
       },
       "data": [
        {
         "hovertemplate": "Constructor=mercedes<br>Year=%{x}<br>Ranking=%{y}<extra></extra>",
         "legendgroup": "mercedes",
         "line": {
          "color": "#565F64",
          "dash": "solid"
         },
         "marker": {
          "symbol": "circle"
         },
         "mode": "lines+markers",
         "name": "mercedes",
         "orientation": "v",
         "showlegend": true,
         "type": "scatter",
         "x": [
          2017,
          2018,
          2019,
          2020,
          2021,
          2022,
          2023,
          2024
         ],
         "xaxis": "x",
         "y": [
          1,
          1,
          1,
          1,
          1,
          3,
          2,
          4
         ],
         "yaxis": "y"
        },
        {
         "hovertemplate": "Constructor=ferrari<br>Year=%{x}<br>Ranking=%{y}<extra></extra>",
         "legendgroup": "ferrari",
         "line": {
          "color": "#ff0000",
          "dash": "solid"
         },
         "marker": {
          "symbol": "circle"
         },
         "mode": "lines+markers",
         "name": "ferrari",
         "orientation": "v",
         "showlegend": true,
         "type": "scatter",
         "x": [
          2017,
          2018,
          2019,
          2020,
          2021,
          2022,
          2023,
          2024
         ],
         "xaxis": "x",
         "y": [
          2,
          2,
          2,
          6,
          3,
          2,
          3,
          3
         ],
         "yaxis": "y"
        },
        {
         "hovertemplate": "Constructor=red_bull<br>Year=%{x}<br>Ranking=%{y}<extra></extra>",
         "legendgroup": "red_bull",
         "line": {
          "color": "#FDD900",
          "dash": "solid"
         },
         "marker": {
          "symbol": "circle"
         },
         "mode": "lines+markers",
         "name": "red_bull",
         "orientation": "v",
         "showlegend": true,
         "type": "scatter",
         "x": [
          2017,
          2018,
          2019,
          2020,
          2021,
          2022,
          2023,
          2024
         ],
         "xaxis": "x",
         "y": [
          3,
          3,
          3,
          2,
          2,
          1,
          1,
          2
         ],
         "yaxis": "y"
        },
        {
         "hovertemplate": "Constructor=williams<br>Year=%{x}<br>Ranking=%{y}<extra></extra>",
         "legendgroup": "williams",
         "line": {
          "color": "#00A0DE",
          "dash": "solid"
         },
         "marker": {
          "symbol": "circle"
         },
         "mode": "lines+markers",
         "name": "williams",
         "orientation": "v",
         "showlegend": true,
         "type": "scatter",
         "x": [
          2017,
          2018,
          2019,
          2020,
          2021,
          2022,
          2023,
          2024
         ],
         "xaxis": "x",
         "y": [
          5,
          10,
          10,
          10,
          8,
          10,
          7,
          8
         ],
         "yaxis": "y"
        },
        {
         "hovertemplate": "Constructor=renault<br>Year=%{x}<br>Ranking=%{y}<extra></extra>",
         "legendgroup": "renault",
         "line": {
          "color": "#FFFF00",
          "dash": "solid"
         },
         "marker": {
          "symbol": "circle"
         },
         "mode": "lines+markers",
         "name": "renault",
         "orientation": "v",
         "showlegend": true,
         "type": "scatter",
         "x": [
          2017,
          2018,
          2019,
          2020
         ],
         "xaxis": "x",
         "y": [
          6,
          4,
          5,
          5
         ],
         "yaxis": "y"
        },
        {
         "hovertemplate": "Constructor=haas<br>Year=%{x}<br>Ranking=%{y}<extra></extra>",
         "legendgroup": "haas",
         "line": {
          "color": "#E6002B",
          "dash": "solid"
         },
         "marker": {
          "symbol": "circle"
         },
         "mode": "lines+markers",
         "name": "haas",
         "orientation": "v",
         "showlegend": true,
         "type": "scatter",
         "x": [
          2017,
          2018,
          2019,
          2020,
          2021,
          2022,
          2023,
          2024
         ],
         "xaxis": "x",
         "y": [
          8,
          5,
          9,
          9,
          10,
          8,
          10,
          7
         ],
         "yaxis": "y"
        },
        {
         "hovertemplate": "Constructor=mclaren<br>Year=%{x}<br>Ranking=%{y}<extra></extra>",
         "legendgroup": "mclaren",
         "line": {
          "color": "#FF8000",
          "dash": "solid"
         },
         "marker": {
          "symbol": "circle"
         },
         "mode": "lines+markers",
         "name": "mclaren",
         "orientation": "v",
         "showlegend": true,
         "type": "scatter",
         "x": [
          2017,
          2018,
          2019,
          2020,
          2021,
          2022,
          2023,
          2024
         ],
         "xaxis": "x",
         "y": [
          9,
          6,
          4,
          3,
          4,
          5,
          4,
          1
         ],
         "yaxis": "y"
        },
        {
         "hovertemplate": "Constructor=sauber<br>Year=%{x}<br>Ranking=%{y}<extra></extra>",
         "legendgroup": "sauber",
         "line": {
          "color": "#90EE90",
          "dash": "solid"
         },
         "marker": {
          "symbol": "circle"
         },
         "mode": "lines+markers",
         "name": "sauber",
         "orientation": "v",
         "showlegend": true,
         "type": "scatter",
         "x": [
          2017,
          2018,
          2024
         ],
         "xaxis": "x",
         "y": [
          10,
          8,
          10
         ],
         "yaxis": "y"
        },
        {
         "hovertemplate": "Constructor=alfa<br>Year=%{x}<br>Ranking=%{y}<extra></extra>",
         "legendgroup": "alfa",
         "line": {
          "color": "#000000",
          "dash": "solid"
         },
         "marker": {
          "symbol": "circle"
         },
         "mode": "lines+markers",
         "name": "alfa",
         "orientation": "v",
         "showlegend": true,
         "type": "scatter",
         "x": [
          2019,
          2020,
          2021,
          2022,
          2023
         ],
         "xaxis": "x",
         "y": [
          8,
          8,
          9,
          6,
          9
         ],
         "yaxis": "y"
        },
        {
         "hovertemplate": "Constructor=rb<br>Year=%{x}<br>Ranking=%{y}<extra></extra>",
         "legendgroup": "rb",
         "line": {
          "color": "#20394C",
          "dash": "solid"
         },
         "marker": {
          "symbol": "circle"
         },
         "mode": "lines+markers",
         "name": "rb",
         "orientation": "v",
         "showlegend": true,
         "type": "scatter",
         "x": [
          2020,
          2021,
          2022,
          2023,
          2024
         ],
         "xaxis": "x",
         "y": [
          7,
          6,
          9,
          8,
          6
         ],
         "yaxis": "y"
        },
        {
         "hovertemplate": "Constructor=alpine<br>Year=%{x}<br>Ranking=%{y}<extra></extra>",
         "legendgroup": "alpine",
         "line": {
          "color": "#C71585",
          "dash": "solid"
         },
         "marker": {
          "symbol": "circle"
         },
         "mode": "lines+markers",
         "name": "alpine",
         "orientation": "v",
         "showlegend": true,
         "type": "scatter",
         "x": [
          2021,
          2022,
          2023,
          2024
         ],
         "xaxis": "x",
         "y": [
          5,
          4,
          6,
          9
         ],
         "yaxis": "y"
        },
        {
         "hovertemplate": "Constructor=aston_martin<br>Year=%{x}<br>Ranking=%{y}<extra></extra>",
         "legendgroup": "aston_martin",
         "line": {
          "color": "#006400",
          "dash": "solid"
         },
         "marker": {
          "symbol": "circle"
         },
         "mode": "lines+markers",
         "name": "aston_martin",
         "orientation": "v",
         "showlegend": true,
         "type": "scatter",
         "x": [
          2021,
          2022,
          2023,
          2024
         ],
         "xaxis": "x",
         "y": [
          7,
          7,
          5,
          5
         ],
         "yaxis": "y"
        }
       ],
       "layout": {
        "hoverlabel": {
         "bgcolor": "white",
         "font": {
          "family": "Arial",
          "size": 12
         }
        },
        "legend": {
         "title": {
          "text": "Constructor"
         },
         "tracegroupgap": 0
        },
        "margin": {
         "t": 60
        },
        "paper_bgcolor": "lightgray",
        "plot_bgcolor": "white",
        "template": {
         "data": {
          "bar": [
           {
            "error_x": {
             "color": "#2a3f5f"
            },
            "error_y": {
             "color": "#2a3f5f"
            },
            "marker": {
             "line": {
              "color": "#E5ECF6",
              "width": 0.5
             },
             "pattern": {
              "fillmode": "overlay",
              "size": 10,
              "solidity": 0.2
             }
            },
            "type": "bar"
           }
          ],
          "barpolar": [
           {
            "marker": {
             "line": {
              "color": "#E5ECF6",
              "width": 0.5
             },
             "pattern": {
              "fillmode": "overlay",
              "size": 10,
              "solidity": 0.2
             }
            },
            "type": "barpolar"
           }
          ],
          "carpet": [
           {
            "aaxis": {
             "endlinecolor": "#2a3f5f",
             "gridcolor": "white",
             "linecolor": "white",
             "minorgridcolor": "white",
             "startlinecolor": "#2a3f5f"
            },
            "baxis": {
             "endlinecolor": "#2a3f5f",
             "gridcolor": "white",
             "linecolor": "white",
             "minorgridcolor": "white",
             "startlinecolor": "#2a3f5f"
            },
            "type": "carpet"
           }
          ],
          "choropleth": [
           {
            "colorbar": {
             "outlinewidth": 0,
             "ticks": ""
            },
            "type": "choropleth"
           }
          ],
          "contour": [
           {
            "colorbar": {
             "outlinewidth": 0,
             "ticks": ""
            },
            "colorscale": [
             [
              0,
              "#0d0887"
             ],
             [
              0.1111111111111111,
              "#46039f"
             ],
             [
              0.2222222222222222,
              "#7201a8"
             ],
             [
              0.3333333333333333,
              "#9c179e"
             ],
             [
              0.4444444444444444,
              "#bd3786"
             ],
             [
              0.5555555555555556,
              "#d8576b"
             ],
             [
              0.6666666666666666,
              "#ed7953"
             ],
             [
              0.7777777777777778,
              "#fb9f3a"
             ],
             [
              0.8888888888888888,
              "#fdca26"
             ],
             [
              1,
              "#f0f921"
             ]
            ],
            "type": "contour"
           }
          ],
          "contourcarpet": [
           {
            "colorbar": {
             "outlinewidth": 0,
             "ticks": ""
            },
            "type": "contourcarpet"
           }
          ],
          "heatmap": [
           {
            "colorbar": {
             "outlinewidth": 0,
             "ticks": ""
            },
            "colorscale": [
             [
              0,
              "#0d0887"
             ],
             [
              0.1111111111111111,
              "#46039f"
             ],
             [
              0.2222222222222222,
              "#7201a8"
             ],
             [
              0.3333333333333333,
              "#9c179e"
             ],
             [
              0.4444444444444444,
              "#bd3786"
             ],
             [
              0.5555555555555556,
              "#d8576b"
             ],
             [
              0.6666666666666666,
              "#ed7953"
             ],
             [
              0.7777777777777778,
              "#fb9f3a"
             ],
             [
              0.8888888888888888,
              "#fdca26"
             ],
             [
              1,
              "#f0f921"
             ]
            ],
            "type": "heatmap"
           }
          ],
          "heatmapgl": [
           {
            "colorbar": {
             "outlinewidth": 0,
             "ticks": ""
            },
            "colorscale": [
             [
              0,
              "#0d0887"
             ],
             [
              0.1111111111111111,
              "#46039f"
             ],
             [
              0.2222222222222222,
              "#7201a8"
             ],
             [
              0.3333333333333333,
              "#9c179e"
             ],
             [
              0.4444444444444444,
              "#bd3786"
             ],
             [
              0.5555555555555556,
              "#d8576b"
             ],
             [
              0.6666666666666666,
              "#ed7953"
             ],
             [
              0.7777777777777778,
              "#fb9f3a"
             ],
             [
              0.8888888888888888,
              "#fdca26"
             ],
             [
              1,
              "#f0f921"
             ]
            ],
            "type": "heatmapgl"
           }
          ],
          "histogram": [
           {
            "marker": {
             "pattern": {
              "fillmode": "overlay",
              "size": 10,
              "solidity": 0.2
             }
            },
            "type": "histogram"
           }
          ],
          "histogram2d": [
           {
            "colorbar": {
             "outlinewidth": 0,
             "ticks": ""
            },
            "colorscale": [
             [
              0,
              "#0d0887"
             ],
             [
              0.1111111111111111,
              "#46039f"
             ],
             [
              0.2222222222222222,
              "#7201a8"
             ],
             [
              0.3333333333333333,
              "#9c179e"
             ],
             [
              0.4444444444444444,
              "#bd3786"
             ],
             [
              0.5555555555555556,
              "#d8576b"
             ],
             [
              0.6666666666666666,
              "#ed7953"
             ],
             [
              0.7777777777777778,
              "#fb9f3a"
             ],
             [
              0.8888888888888888,
              "#fdca26"
             ],
             [
              1,
              "#f0f921"
             ]
            ],
            "type": "histogram2d"
           }
          ],
          "histogram2dcontour": [
           {
            "colorbar": {
             "outlinewidth": 0,
             "ticks": ""
            },
            "colorscale": [
             [
              0,
              "#0d0887"
             ],
             [
              0.1111111111111111,
              "#46039f"
             ],
             [
              0.2222222222222222,
              "#7201a8"
             ],
             [
              0.3333333333333333,
              "#9c179e"
             ],
             [
              0.4444444444444444,
              "#bd3786"
             ],
             [
              0.5555555555555556,
              "#d8576b"
             ],
             [
              0.6666666666666666,
              "#ed7953"
             ],
             [
              0.7777777777777778,
              "#fb9f3a"
             ],
             [
              0.8888888888888888,
              "#fdca26"
             ],
             [
              1,
              "#f0f921"
             ]
            ],
            "type": "histogram2dcontour"
           }
          ],
          "mesh3d": [
           {
            "colorbar": {
             "outlinewidth": 0,
             "ticks": ""
            },
            "type": "mesh3d"
           }
          ],
          "parcoords": [
           {
            "line": {
             "colorbar": {
              "outlinewidth": 0,
              "ticks": ""
             }
            },
            "type": "parcoords"
           }
          ],
          "pie": [
           {
            "automargin": true,
            "type": "pie"
           }
          ],
          "scatter": [
           {
            "fillpattern": {
             "fillmode": "overlay",
             "size": 10,
             "solidity": 0.2
            },
            "type": "scatter"
           }
          ],
          "scatter3d": [
           {
            "line": {
             "colorbar": {
              "outlinewidth": 0,
              "ticks": ""
             }
            },
            "marker": {
             "colorbar": {
              "outlinewidth": 0,
              "ticks": ""
             }
            },
            "type": "scatter3d"
           }
          ],
          "scattercarpet": [
           {
            "marker": {
             "colorbar": {
              "outlinewidth": 0,
              "ticks": ""
             }
            },
            "type": "scattercarpet"
           }
          ],
          "scattergeo": [
           {
            "marker": {
             "colorbar": {
              "outlinewidth": 0,
              "ticks": ""
             }
            },
            "type": "scattergeo"
           }
          ],
          "scattergl": [
           {
            "marker": {
             "colorbar": {
              "outlinewidth": 0,
              "ticks": ""
             }
            },
            "type": "scattergl"
           }
          ],
          "scattermapbox": [
           {
            "marker": {
             "colorbar": {
              "outlinewidth": 0,
              "ticks": ""
             }
            },
            "type": "scattermapbox"
           }
          ],
          "scatterpolar": [
           {
            "marker": {
             "colorbar": {
              "outlinewidth": 0,
              "ticks": ""
             }
            },
            "type": "scatterpolar"
           }
          ],
          "scatterpolargl": [
           {
            "marker": {
             "colorbar": {
              "outlinewidth": 0,
              "ticks": ""
             }
            },
            "type": "scatterpolargl"
           }
          ],
          "scatterternary": [
           {
            "marker": {
             "colorbar": {
              "outlinewidth": 0,
              "ticks": ""
             }
            },
            "type": "scatterternary"
           }
          ],
          "surface": [
           {
            "colorbar": {
             "outlinewidth": 0,
             "ticks": ""
            },
            "colorscale": [
             [
              0,
              "#0d0887"
             ],
             [
              0.1111111111111111,
              "#46039f"
             ],
             [
              0.2222222222222222,
              "#7201a8"
             ],
             [
              0.3333333333333333,
              "#9c179e"
             ],
             [
              0.4444444444444444,
              "#bd3786"
             ],
             [
              0.5555555555555556,
              "#d8576b"
             ],
             [
              0.6666666666666666,
              "#ed7953"
             ],
             [
              0.7777777777777778,
              "#fb9f3a"
             ],
             [
              0.8888888888888888,
              "#fdca26"
             ],
             [
              1,
              "#f0f921"
             ]
            ],
            "type": "surface"
           }
          ],
          "table": [
           {
            "cells": {
             "fill": {
              "color": "#EBF0F8"
             },
             "line": {
              "color": "white"
             }
            },
            "header": {
             "fill": {
              "color": "#C8D4E3"
             },
             "line": {
              "color": "white"
             }
            },
            "type": "table"
           }
          ]
         },
         "layout": {
          "annotationdefaults": {
           "arrowcolor": "#2a3f5f",
           "arrowhead": 0,
           "arrowwidth": 1
          },
          "autotypenumbers": "strict",
          "coloraxis": {
           "colorbar": {
            "outlinewidth": 0,
            "ticks": ""
           }
          },
          "colorscale": {
           "diverging": [
            [
             0,
             "#8e0152"
            ],
            [
             0.1,
             "#c51b7d"
            ],
            [
             0.2,
             "#de77ae"
            ],
            [
             0.3,
             "#f1b6da"
            ],
            [
             0.4,
             "#fde0ef"
            ],
            [
             0.5,
             "#f7f7f7"
            ],
            [
             0.6,
             "#e6f5d0"
            ],
            [
             0.7,
             "#b8e186"
            ],
            [
             0.8,
             "#7fbc41"
            ],
            [
             0.9,
             "#4d9221"
            ],
            [
             1,
             "#276419"
            ]
           ],
           "sequential": [
            [
             0,
             "#0d0887"
            ],
            [
             0.1111111111111111,
             "#46039f"
            ],
            [
             0.2222222222222222,
             "#7201a8"
            ],
            [
             0.3333333333333333,
             "#9c179e"
            ],
            [
             0.4444444444444444,
             "#bd3786"
            ],
            [
             0.5555555555555556,
             "#d8576b"
            ],
            [
             0.6666666666666666,
             "#ed7953"
            ],
            [
             0.7777777777777778,
             "#fb9f3a"
            ],
            [
             0.8888888888888888,
             "#fdca26"
            ],
            [
             1,
             "#f0f921"
            ]
           ],
           "sequentialminus": [
            [
             0,
             "#0d0887"
            ],
            [
             0.1111111111111111,
             "#46039f"
            ],
            [
             0.2222222222222222,
             "#7201a8"
            ],
            [
             0.3333333333333333,
             "#9c179e"
            ],
            [
             0.4444444444444444,
             "#bd3786"
            ],
            [
             0.5555555555555556,
             "#d8576b"
            ],
            [
             0.6666666666666666,
             "#ed7953"
            ],
            [
             0.7777777777777778,
             "#fb9f3a"
            ],
            [
             0.8888888888888888,
             "#fdca26"
            ],
            [
             1,
             "#f0f921"
            ]
           ]
          },
          "colorway": [
           "#636efa",
           "#EF553B",
           "#00cc96",
           "#ab63fa",
           "#FFA15A",
           "#19d3f3",
           "#FF6692",
           "#B6E880",
           "#FF97FF",
           "#FECB52"
          ],
          "font": {
           "color": "#2a3f5f"
          },
          "geo": {
           "bgcolor": "white",
           "lakecolor": "white",
           "landcolor": "#E5ECF6",
           "showlakes": true,
           "showland": true,
           "subunitcolor": "white"
          },
          "hoverlabel": {
           "align": "left"
          },
          "hovermode": "closest",
          "mapbox": {
           "style": "light"
          },
          "paper_bgcolor": "white",
          "plot_bgcolor": "#E5ECF6",
          "polar": {
           "angularaxis": {
            "gridcolor": "white",
            "linecolor": "white",
            "ticks": ""
           },
           "bgcolor": "#E5ECF6",
           "radialaxis": {
            "gridcolor": "white",
            "linecolor": "white",
            "ticks": ""
           }
          },
          "scene": {
           "xaxis": {
            "backgroundcolor": "#E5ECF6",
            "gridcolor": "white",
            "gridwidth": 2,
            "linecolor": "white",
            "showbackground": true,
            "ticks": "",
            "zerolinecolor": "white"
           },
           "yaxis": {
            "backgroundcolor": "#E5ECF6",
            "gridcolor": "white",
            "gridwidth": 2,
            "linecolor": "white",
            "showbackground": true,
            "ticks": "",
            "zerolinecolor": "white"
           },
           "zaxis": {
            "backgroundcolor": "#E5ECF6",
            "gridcolor": "white",
            "gridwidth": 2,
            "linecolor": "white",
            "showbackground": true,
            "ticks": "",
            "zerolinecolor": "white"
           }
          },
          "shapedefaults": {
           "line": {
            "color": "#2a3f5f"
           }
          },
          "ternary": {
           "aaxis": {
            "gridcolor": "white",
            "linecolor": "white",
            "ticks": ""
           },
           "baxis": {
            "gridcolor": "white",
            "linecolor": "white",
            "ticks": ""
           },
           "bgcolor": "#E5ECF6",
           "caxis": {
            "gridcolor": "white",
            "linecolor": "white",
            "ticks": ""
           }
          },
          "title": {
           "x": 0.05
          },
          "xaxis": {
           "automargin": true,
           "gridcolor": "white",
           "linecolor": "white",
           "ticks": "",
           "title": {
            "standoff": 15
           },
           "zerolinecolor": "white",
           "zerolinewidth": 2
          },
          "yaxis": {
           "automargin": true,
           "gridcolor": "white",
           "linecolor": "white",
           "ticks": "",
           "title": {
            "standoff": 15
           },
           "zerolinecolor": "white",
           "zerolinewidth": 2
          }
         }
        },
        "xaxis": {
         "anchor": "y",
         "domain": [
          0,
          1
         ],
         "tickfont": {
          "size": 12
         },
         "tickvals": [
          2017,
          2018,
          2019,
          2020,
          2021,
          2022,
          2023,
          2024
         ],
         "title": {
          "text": "Year"
         }
        },
        "yaxis": {
         "anchor": "x",
         "autorange": "reversed",
         "domain": [
          0,
          1
         ],
         "tickfont": {
          "size": 12
         },
         "tickvals": [
          1,
          2,
          3,
          4,
          5,
          6,
          7,
          8,
          9,
          10
         ],
         "title": {
          "text": "Ranking"
         }
        }
       }
      }
     },
     "metadata": {},
     "output_type": "display_data"
    },
    {
     "data": {
      "application/vnd.plotly.v1+json": {
       "config": {
        "plotlyServerURL": "https://plot.ly"
       },
       "data": [
        {
         "hovertemplate": "Constructor=mercedes<br>Year=%{x}<br>Number of Wins=%{y}<extra></extra>",
         "legendgroup": "mercedes",
         "line": {
          "color": "#565F64",
          "dash": "solid"
         },
         "marker": {
          "symbol": "circle"
         },
         "mode": "lines+markers",
         "name": "mercedes",
         "orientation": "v",
         "showlegend": true,
         "type": "scatter",
         "x": [
          2017,
          2018,
          2019,
          2020,
          2021,
          2022,
          2023,
          2024
         ],
         "xaxis": "x",
         "y": [
          12,
          11,
          15,
          13,
          9,
          1,
          0,
          3
         ],
         "yaxis": "y"
        },
        {
         "hovertemplate": "Constructor=ferrari<br>Year=%{x}<br>Number of Wins=%{y}<extra></extra>",
         "legendgroup": "ferrari",
         "line": {
          "color": "#ff0000",
          "dash": "solid"
         },
         "marker": {
          "symbol": "circle"
         },
         "mode": "lines+markers",
         "name": "ferrari",
         "orientation": "v",
         "showlegend": true,
         "type": "scatter",
         "x": [
          2017,
          2018,
          2019,
          2020,
          2021,
          2022,
          2023,
          2024
         ],
         "xaxis": "x",
         "y": [
          5,
          6,
          3,
          0,
          0,
          4,
          1,
          3
         ],
         "yaxis": "y"
        },
        {
         "hovertemplate": "Constructor=red_bull<br>Year=%{x}<br>Number of Wins=%{y}<extra></extra>",
         "legendgroup": "red_bull",
         "line": {
          "color": "#FDD900",
          "dash": "solid"
         },
         "marker": {
          "symbol": "circle"
         },
         "mode": "lines+markers",
         "name": "red_bull",
         "orientation": "v",
         "showlegend": true,
         "type": "scatter",
         "x": [
          2017,
          2018,
          2019,
          2020,
          2021,
          2022,
          2023,
          2024
         ],
         "xaxis": "x",
         "y": [
          3,
          4,
          3,
          2,
          11,
          17,
          21,
          7
         ],
         "yaxis": "y"
        },
        {
         "hovertemplate": "Constructor=williams<br>Year=%{x}<br>Number of Wins=%{y}<extra></extra>",
         "legendgroup": "williams",
         "line": {
          "color": "#00A0DE",
          "dash": "solid"
         },
         "marker": {
          "symbol": "circle"
         },
         "mode": "lines+markers",
         "name": "williams",
         "orientation": "v",
         "showlegend": true,
         "type": "scatter",
         "x": [
          2017,
          2018,
          2019,
          2020,
          2021,
          2022,
          2023,
          2024
         ],
         "xaxis": "x",
         "y": [
          0,
          0,
          0,
          0,
          0,
          0,
          0,
          0
         ],
         "yaxis": "y"
        },
        {
         "hovertemplate": "Constructor=renault<br>Year=%{x}<br>Number of Wins=%{y}<extra></extra>",
         "legendgroup": "renault",
         "line": {
          "color": "#FFFF00",
          "dash": "solid"
         },
         "marker": {
          "symbol": "circle"
         },
         "mode": "lines+markers",
         "name": "renault",
         "orientation": "v",
         "showlegend": true,
         "type": "scatter",
         "x": [
          2017,
          2018,
          2019,
          2020
         ],
         "xaxis": "x",
         "y": [
          0,
          0,
          0,
          0
         ],
         "yaxis": "y"
        },
        {
         "hovertemplate": "Constructor=haas<br>Year=%{x}<br>Number of Wins=%{y}<extra></extra>",
         "legendgroup": "haas",
         "line": {
          "color": "#E6002B",
          "dash": "solid"
         },
         "marker": {
          "symbol": "circle"
         },
         "mode": "lines+markers",
         "name": "haas",
         "orientation": "v",
         "showlegend": true,
         "type": "scatter",
         "x": [
          2017,
          2018,
          2019,
          2020,
          2021,
          2022,
          2023,
          2024
         ],
         "xaxis": "x",
         "y": [
          0,
          0,
          0,
          0,
          0,
          0,
          0,
          0
         ],
         "yaxis": "y"
        },
        {
         "hovertemplate": "Constructor=mclaren<br>Year=%{x}<br>Number of Wins=%{y}<extra></extra>",
         "legendgroup": "mclaren",
         "line": {
          "color": "#FF8000",
          "dash": "solid"
         },
         "marker": {
          "symbol": "circle"
         },
         "mode": "lines+markers",
         "name": "mclaren",
         "orientation": "v",
         "showlegend": true,
         "type": "scatter",
         "x": [
          2017,
          2018,
          2019,
          2020,
          2021,
          2022,
          2023,
          2024
         ],
         "xaxis": "x",
         "y": [
          0,
          0,
          0,
          0,
          1,
          0,
          0,
          5
         ],
         "yaxis": "y"
        },
        {
         "hovertemplate": "Constructor=sauber<br>Year=%{x}<br>Number of Wins=%{y}<extra></extra>",
         "legendgroup": "sauber",
         "line": {
          "color": "#90EE90",
          "dash": "solid"
         },
         "marker": {
          "symbol": "circle"
         },
         "mode": "lines+markers",
         "name": "sauber",
         "orientation": "v",
         "showlegend": true,
         "type": "scatter",
         "x": [
          2017,
          2018,
          2024
         ],
         "xaxis": "x",
         "y": [
          0,
          0,
          0
         ],
         "yaxis": "y"
        },
        {
         "hovertemplate": "Constructor=alfa<br>Year=%{x}<br>Number of Wins=%{y}<extra></extra>",
         "legendgroup": "alfa",
         "line": {
          "color": "#000000",
          "dash": "solid"
         },
         "marker": {
          "symbol": "circle"
         },
         "mode": "lines+markers",
         "name": "alfa",
         "orientation": "v",
         "showlegend": true,
         "type": "scatter",
         "x": [
          2019,
          2020,
          2021,
          2022,
          2023
         ],
         "xaxis": "x",
         "y": [
          0,
          0,
          0,
          0,
          0
         ],
         "yaxis": "y"
        },
        {
         "hovertemplate": "Constructor=rb<br>Year=%{x}<br>Number of Wins=%{y}<extra></extra>",
         "legendgroup": "rb",
         "line": {
          "color": "#20394C",
          "dash": "solid"
         },
         "marker": {
          "symbol": "circle"
         },
         "mode": "lines+markers",
         "name": "rb",
         "orientation": "v",
         "showlegend": true,
         "type": "scatter",
         "x": [
          2020,
          2021,
          2022,
          2023,
          2024
         ],
         "xaxis": "x",
         "y": [
          1,
          0,
          0,
          0,
          0
         ],
         "yaxis": "y"
        },
        {
         "hovertemplate": "Constructor=alpine<br>Year=%{x}<br>Number of Wins=%{y}<extra></extra>",
         "legendgroup": "alpine",
         "line": {
          "color": "#C71585",
          "dash": "solid"
         },
         "marker": {
          "symbol": "circle"
         },
         "mode": "lines+markers",
         "name": "alpine",
         "orientation": "v",
         "showlegend": true,
         "type": "scatter",
         "x": [
          2021,
          2022,
          2023,
          2024
         ],
         "xaxis": "x",
         "y": [
          1,
          0,
          0,
          0
         ],
         "yaxis": "y"
        },
        {
         "hovertemplate": "Constructor=aston_martin<br>Year=%{x}<br>Number of Wins=%{y}<extra></extra>",
         "legendgroup": "aston_martin",
         "line": {
          "color": "#006400",
          "dash": "solid"
         },
         "marker": {
          "symbol": "circle"
         },
         "mode": "lines+markers",
         "name": "aston_martin",
         "orientation": "v",
         "showlegend": true,
         "type": "scatter",
         "x": [
          2021,
          2022,
          2023,
          2024
         ],
         "xaxis": "x",
         "y": [
          0,
          0,
          0,
          0
         ],
         "yaxis": "y"
        }
       ],
       "layout": {
        "hoverlabel": {
         "bgcolor": "white",
         "font": {
          "family": "Arial",
          "size": 12
         }
        },
        "legend": {
         "title": {
          "text": "Constructor"
         },
         "tracegroupgap": 0
        },
        "margin": {
         "t": 60
        },
        "paper_bgcolor": "lightgray",
        "plot_bgcolor": "white",
        "template": {
         "data": {
          "bar": [
           {
            "error_x": {
             "color": "#2a3f5f"
            },
            "error_y": {
             "color": "#2a3f5f"
            },
            "marker": {
             "line": {
              "color": "#E5ECF6",
              "width": 0.5
             },
             "pattern": {
              "fillmode": "overlay",
              "size": 10,
              "solidity": 0.2
             }
            },
            "type": "bar"
           }
          ],
          "barpolar": [
           {
            "marker": {
             "line": {
              "color": "#E5ECF6",
              "width": 0.5
             },
             "pattern": {
              "fillmode": "overlay",
              "size": 10,
              "solidity": 0.2
             }
            },
            "type": "barpolar"
           }
          ],
          "carpet": [
           {
            "aaxis": {
             "endlinecolor": "#2a3f5f",
             "gridcolor": "white",
             "linecolor": "white",
             "minorgridcolor": "white",
             "startlinecolor": "#2a3f5f"
            },
            "baxis": {
             "endlinecolor": "#2a3f5f",
             "gridcolor": "white",
             "linecolor": "white",
             "minorgridcolor": "white",
             "startlinecolor": "#2a3f5f"
            },
            "type": "carpet"
           }
          ],
          "choropleth": [
           {
            "colorbar": {
             "outlinewidth": 0,
             "ticks": ""
            },
            "type": "choropleth"
           }
          ],
          "contour": [
           {
            "colorbar": {
             "outlinewidth": 0,
             "ticks": ""
            },
            "colorscale": [
             [
              0,
              "#0d0887"
             ],
             [
              0.1111111111111111,
              "#46039f"
             ],
             [
              0.2222222222222222,
              "#7201a8"
             ],
             [
              0.3333333333333333,
              "#9c179e"
             ],
             [
              0.4444444444444444,
              "#bd3786"
             ],
             [
              0.5555555555555556,
              "#d8576b"
             ],
             [
              0.6666666666666666,
              "#ed7953"
             ],
             [
              0.7777777777777778,
              "#fb9f3a"
             ],
             [
              0.8888888888888888,
              "#fdca26"
             ],
             [
              1,
              "#f0f921"
             ]
            ],
            "type": "contour"
           }
          ],
          "contourcarpet": [
           {
            "colorbar": {
             "outlinewidth": 0,
             "ticks": ""
            },
            "type": "contourcarpet"
           }
          ],
          "heatmap": [
           {
            "colorbar": {
             "outlinewidth": 0,
             "ticks": ""
            },
            "colorscale": [
             [
              0,
              "#0d0887"
             ],
             [
              0.1111111111111111,
              "#46039f"
             ],
             [
              0.2222222222222222,
              "#7201a8"
             ],
             [
              0.3333333333333333,
              "#9c179e"
             ],
             [
              0.4444444444444444,
              "#bd3786"
             ],
             [
              0.5555555555555556,
              "#d8576b"
             ],
             [
              0.6666666666666666,
              "#ed7953"
             ],
             [
              0.7777777777777778,
              "#fb9f3a"
             ],
             [
              0.8888888888888888,
              "#fdca26"
             ],
             [
              1,
              "#f0f921"
             ]
            ],
            "type": "heatmap"
           }
          ],
          "heatmapgl": [
           {
            "colorbar": {
             "outlinewidth": 0,
             "ticks": ""
            },
            "colorscale": [
             [
              0,
              "#0d0887"
             ],
             [
              0.1111111111111111,
              "#46039f"
             ],
             [
              0.2222222222222222,
              "#7201a8"
             ],
             [
              0.3333333333333333,
              "#9c179e"
             ],
             [
              0.4444444444444444,
              "#bd3786"
             ],
             [
              0.5555555555555556,
              "#d8576b"
             ],
             [
              0.6666666666666666,
              "#ed7953"
             ],
             [
              0.7777777777777778,
              "#fb9f3a"
             ],
             [
              0.8888888888888888,
              "#fdca26"
             ],
             [
              1,
              "#f0f921"
             ]
            ],
            "type": "heatmapgl"
           }
          ],
          "histogram": [
           {
            "marker": {
             "pattern": {
              "fillmode": "overlay",
              "size": 10,
              "solidity": 0.2
             }
            },
            "type": "histogram"
           }
          ],
          "histogram2d": [
           {
            "colorbar": {
             "outlinewidth": 0,
             "ticks": ""
            },
            "colorscale": [
             [
              0,
              "#0d0887"
             ],
             [
              0.1111111111111111,
              "#46039f"
             ],
             [
              0.2222222222222222,
              "#7201a8"
             ],
             [
              0.3333333333333333,
              "#9c179e"
             ],
             [
              0.4444444444444444,
              "#bd3786"
             ],
             [
              0.5555555555555556,
              "#d8576b"
             ],
             [
              0.6666666666666666,
              "#ed7953"
             ],
             [
              0.7777777777777778,
              "#fb9f3a"
             ],
             [
              0.8888888888888888,
              "#fdca26"
             ],
             [
              1,
              "#f0f921"
             ]
            ],
            "type": "histogram2d"
           }
          ],
          "histogram2dcontour": [
           {
            "colorbar": {
             "outlinewidth": 0,
             "ticks": ""
            },
            "colorscale": [
             [
              0,
              "#0d0887"
             ],
             [
              0.1111111111111111,
              "#46039f"
             ],
             [
              0.2222222222222222,
              "#7201a8"
             ],
             [
              0.3333333333333333,
              "#9c179e"
             ],
             [
              0.4444444444444444,
              "#bd3786"
             ],
             [
              0.5555555555555556,
              "#d8576b"
             ],
             [
              0.6666666666666666,
              "#ed7953"
             ],
             [
              0.7777777777777778,
              "#fb9f3a"
             ],
             [
              0.8888888888888888,
              "#fdca26"
             ],
             [
              1,
              "#f0f921"
             ]
            ],
            "type": "histogram2dcontour"
           }
          ],
          "mesh3d": [
           {
            "colorbar": {
             "outlinewidth": 0,
             "ticks": ""
            },
            "type": "mesh3d"
           }
          ],
          "parcoords": [
           {
            "line": {
             "colorbar": {
              "outlinewidth": 0,
              "ticks": ""
             }
            },
            "type": "parcoords"
           }
          ],
          "pie": [
           {
            "automargin": true,
            "type": "pie"
           }
          ],
          "scatter": [
           {
            "fillpattern": {
             "fillmode": "overlay",
             "size": 10,
             "solidity": 0.2
            },
            "type": "scatter"
           }
          ],
          "scatter3d": [
           {
            "line": {
             "colorbar": {
              "outlinewidth": 0,
              "ticks": ""
             }
            },
            "marker": {
             "colorbar": {
              "outlinewidth": 0,
              "ticks": ""
             }
            },
            "type": "scatter3d"
           }
          ],
          "scattercarpet": [
           {
            "marker": {
             "colorbar": {
              "outlinewidth": 0,
              "ticks": ""
             }
            },
            "type": "scattercarpet"
           }
          ],
          "scattergeo": [
           {
            "marker": {
             "colorbar": {
              "outlinewidth": 0,
              "ticks": ""
             }
            },
            "type": "scattergeo"
           }
          ],
          "scattergl": [
           {
            "marker": {
             "colorbar": {
              "outlinewidth": 0,
              "ticks": ""
             }
            },
            "type": "scattergl"
           }
          ],
          "scattermapbox": [
           {
            "marker": {
             "colorbar": {
              "outlinewidth": 0,
              "ticks": ""
             }
            },
            "type": "scattermapbox"
           }
          ],
          "scatterpolar": [
           {
            "marker": {
             "colorbar": {
              "outlinewidth": 0,
              "ticks": ""
             }
            },
            "type": "scatterpolar"
           }
          ],
          "scatterpolargl": [
           {
            "marker": {
             "colorbar": {
              "outlinewidth": 0,
              "ticks": ""
             }
            },
            "type": "scatterpolargl"
           }
          ],
          "scatterternary": [
           {
            "marker": {
             "colorbar": {
              "outlinewidth": 0,
              "ticks": ""
             }
            },
            "type": "scatterternary"
           }
          ],
          "surface": [
           {
            "colorbar": {
             "outlinewidth": 0,
             "ticks": ""
            },
            "colorscale": [
             [
              0,
              "#0d0887"
             ],
             [
              0.1111111111111111,
              "#46039f"
             ],
             [
              0.2222222222222222,
              "#7201a8"
             ],
             [
              0.3333333333333333,
              "#9c179e"
             ],
             [
              0.4444444444444444,
              "#bd3786"
             ],
             [
              0.5555555555555556,
              "#d8576b"
             ],
             [
              0.6666666666666666,
              "#ed7953"
             ],
             [
              0.7777777777777778,
              "#fb9f3a"
             ],
             [
              0.8888888888888888,
              "#fdca26"
             ],
             [
              1,
              "#f0f921"
             ]
            ],
            "type": "surface"
           }
          ],
          "table": [
           {
            "cells": {
             "fill": {
              "color": "#EBF0F8"
             },
             "line": {
              "color": "white"
             }
            },
            "header": {
             "fill": {
              "color": "#C8D4E3"
             },
             "line": {
              "color": "white"
             }
            },
            "type": "table"
           }
          ]
         },
         "layout": {
          "annotationdefaults": {
           "arrowcolor": "#2a3f5f",
           "arrowhead": 0,
           "arrowwidth": 1
          },
          "autotypenumbers": "strict",
          "coloraxis": {
           "colorbar": {
            "outlinewidth": 0,
            "ticks": ""
           }
          },
          "colorscale": {
           "diverging": [
            [
             0,
             "#8e0152"
            ],
            [
             0.1,
             "#c51b7d"
            ],
            [
             0.2,
             "#de77ae"
            ],
            [
             0.3,
             "#f1b6da"
            ],
            [
             0.4,
             "#fde0ef"
            ],
            [
             0.5,
             "#f7f7f7"
            ],
            [
             0.6,
             "#e6f5d0"
            ],
            [
             0.7,
             "#b8e186"
            ],
            [
             0.8,
             "#7fbc41"
            ],
            [
             0.9,
             "#4d9221"
            ],
            [
             1,
             "#276419"
            ]
           ],
           "sequential": [
            [
             0,
             "#0d0887"
            ],
            [
             0.1111111111111111,
             "#46039f"
            ],
            [
             0.2222222222222222,
             "#7201a8"
            ],
            [
             0.3333333333333333,
             "#9c179e"
            ],
            [
             0.4444444444444444,
             "#bd3786"
            ],
            [
             0.5555555555555556,
             "#d8576b"
            ],
            [
             0.6666666666666666,
             "#ed7953"
            ],
            [
             0.7777777777777778,
             "#fb9f3a"
            ],
            [
             0.8888888888888888,
             "#fdca26"
            ],
            [
             1,
             "#f0f921"
            ]
           ],
           "sequentialminus": [
            [
             0,
             "#0d0887"
            ],
            [
             0.1111111111111111,
             "#46039f"
            ],
            [
             0.2222222222222222,
             "#7201a8"
            ],
            [
             0.3333333333333333,
             "#9c179e"
            ],
            [
             0.4444444444444444,
             "#bd3786"
            ],
            [
             0.5555555555555556,
             "#d8576b"
            ],
            [
             0.6666666666666666,
             "#ed7953"
            ],
            [
             0.7777777777777778,
             "#fb9f3a"
            ],
            [
             0.8888888888888888,
             "#fdca26"
            ],
            [
             1,
             "#f0f921"
            ]
           ]
          },
          "colorway": [
           "#636efa",
           "#EF553B",
           "#00cc96",
           "#ab63fa",
           "#FFA15A",
           "#19d3f3",
           "#FF6692",
           "#B6E880",
           "#FF97FF",
           "#FECB52"
          ],
          "font": {
           "color": "#2a3f5f"
          },
          "geo": {
           "bgcolor": "white",
           "lakecolor": "white",
           "landcolor": "#E5ECF6",
           "showlakes": true,
           "showland": true,
           "subunitcolor": "white"
          },
          "hoverlabel": {
           "align": "left"
          },
          "hovermode": "closest",
          "mapbox": {
           "style": "light"
          },
          "paper_bgcolor": "white",
          "plot_bgcolor": "#E5ECF6",
          "polar": {
           "angularaxis": {
            "gridcolor": "white",
            "linecolor": "white",
            "ticks": ""
           },
           "bgcolor": "#E5ECF6",
           "radialaxis": {
            "gridcolor": "white",
            "linecolor": "white",
            "ticks": ""
           }
          },
          "scene": {
           "xaxis": {
            "backgroundcolor": "#E5ECF6",
            "gridcolor": "white",
            "gridwidth": 2,
            "linecolor": "white",
            "showbackground": true,
            "ticks": "",
            "zerolinecolor": "white"
           },
           "yaxis": {
            "backgroundcolor": "#E5ECF6",
            "gridcolor": "white",
            "gridwidth": 2,
            "linecolor": "white",
            "showbackground": true,
            "ticks": "",
            "zerolinecolor": "white"
           },
           "zaxis": {
            "backgroundcolor": "#E5ECF6",
            "gridcolor": "white",
            "gridwidth": 2,
            "linecolor": "white",
            "showbackground": true,
            "ticks": "",
            "zerolinecolor": "white"
           }
          },
          "shapedefaults": {
           "line": {
            "color": "#2a3f5f"
           }
          },
          "ternary": {
           "aaxis": {
            "gridcolor": "white",
            "linecolor": "white",
            "ticks": ""
           },
           "baxis": {
            "gridcolor": "white",
            "linecolor": "white",
            "ticks": ""
           },
           "bgcolor": "#E5ECF6",
           "caxis": {
            "gridcolor": "white",
            "linecolor": "white",
            "ticks": ""
           }
          },
          "title": {
           "x": 0.05
          },
          "xaxis": {
           "automargin": true,
           "gridcolor": "white",
           "linecolor": "white",
           "ticks": "",
           "title": {
            "standoff": 15
           },
           "zerolinecolor": "white",
           "zerolinewidth": 2
          },
          "yaxis": {
           "automargin": true,
           "gridcolor": "white",
           "linecolor": "white",
           "ticks": "",
           "title": {
            "standoff": 15
           },
           "zerolinecolor": "white",
           "zerolinewidth": 2
          }
         }
        },
        "xaxis": {
         "anchor": "y",
         "domain": [
          0,
          1
         ],
         "tickfont": {
          "size": 12
         },
         "tickvals": [
          2017,
          2018,
          2019,
          2020,
          2021,
          2022,
          2023,
          2024
         ],
         "title": {
          "text": "Year"
         }
        },
        "yaxis": {
         "anchor": "x",
         "domain": [
          0,
          1
         ],
         "tickfont": {
          "size": 12
         },
         "title": {
          "text": "Number of Wins"
         }
        }
       }
      }
     },
     "metadata": {},
     "output_type": "display_data"
    },
    {
     "data": {
      "application/vnd.plotly.v1+json": {
       "config": {
        "plotlyServerURL": "https://plot.ly"
       },
       "data": [
        {
         "hovertemplate": "Constructor=mercedes<br>Year=%{x}<br>Points=%{y}<extra></extra>",
         "legendgroup": "mercedes",
         "line": {
          "color": "#565F64",
          "dash": "solid"
         },
         "marker": {
          "symbol": "circle"
         },
         "mode": "lines+markers",
         "name": "mercedes",
         "orientation": "v",
         "showlegend": true,
         "type": "scatter",
         "x": [
          2017,
          2018,
          2019,
          2020,
          2021,
          2022,
          2023,
          2024
         ],
         "xaxis": "x",
         "y": [
          668,
          655,
          739,
          573,
          613.5,
          515,
          409,
          329
         ],
         "yaxis": "y"
        },
        {
         "hovertemplate": "Constructor=ferrari<br>Year=%{x}<br>Points=%{y}<extra></extra>",
         "legendgroup": "ferrari",
         "line": {
          "color": "#ff0000",
          "dash": "solid"
         },
         "marker": {
          "symbol": "circle"
         },
         "mode": "lines+markers",
         "name": "ferrari",
         "orientation": "v",
         "showlegend": true,
         "type": "scatter",
         "x": [
          2017,
          2018,
          2019,
          2020,
          2021,
          2022,
          2023,
          2024
         ],
         "xaxis": "x",
         "y": [
          522,
          571,
          504,
          131,
          323.5,
          554,
          406,
          441
         ],
         "yaxis": "y"
        },
        {
         "hovertemplate": "Constructor=red_bull<br>Year=%{x}<br>Points=%{y}<extra></extra>",
         "legendgroup": "red_bull",
         "line": {
          "color": "#FDD900",
          "dash": "solid"
         },
         "marker": {
          "symbol": "circle"
         },
         "mode": "lines+markers",
         "name": "red_bull",
         "orientation": "v",
         "showlegend": true,
         "type": "scatter",
         "x": [
          2017,
          2018,
          2019,
          2020,
          2021,
          2022,
          2023,
          2024
         ],
         "xaxis": "x",
         "y": [
          368,
          419,
          417,
          319,
          585.5,
          759,
          860,
          475
         ],
         "yaxis": "y"
        },
        {
         "hovertemplate": "Constructor=williams<br>Year=%{x}<br>Points=%{y}<extra></extra>",
         "legendgroup": "williams",
         "line": {
          "color": "#00A0DE",
          "dash": "solid"
         },
         "marker": {
          "symbol": "circle"
         },
         "mode": "lines+markers",
         "name": "williams",
         "orientation": "v",
         "showlegend": true,
         "type": "scatter",
         "x": [
          2017,
          2018,
          2019,
          2020,
          2021,
          2022,
          2023,
          2024
         ],
         "xaxis": "x",
         "y": [
          83,
          7,
          1,
          0,
          23,
          8,
          28,
          16
         ],
         "yaxis": "y"
        },
        {
         "hovertemplate": "Constructor=renault<br>Year=%{x}<br>Points=%{y}<extra></extra>",
         "legendgroup": "renault",
         "line": {
          "color": "#FFFF00",
          "dash": "solid"
         },
         "marker": {
          "symbol": "circle"
         },
         "mode": "lines+markers",
         "name": "renault",
         "orientation": "v",
         "showlegend": true,
         "type": "scatter",
         "x": [
          2017,
          2018,
          2019,
          2020
         ],
         "xaxis": "x",
         "y": [
          57,
          122,
          91,
          181
         ],
         "yaxis": "y"
        },
        {
         "hovertemplate": "Constructor=haas<br>Year=%{x}<br>Points=%{y}<extra></extra>",
         "legendgroup": "haas",
         "line": {
          "color": "#E6002B",
          "dash": "solid"
         },
         "marker": {
          "symbol": "circle"
         },
         "mode": "lines+markers",
         "name": "haas",
         "orientation": "v",
         "showlegend": true,
         "type": "scatter",
         "x": [
          2017,
          2018,
          2019,
          2020,
          2021,
          2022,
          2023,
          2024
         ],
         "xaxis": "x",
         "y": [
          47,
          93,
          28,
          3,
          0,
          37,
          12,
          31
         ],
         "yaxis": "y"
        },
        {
         "hovertemplate": "Constructor=mclaren<br>Year=%{x}<br>Points=%{y}<extra></extra>",
         "legendgroup": "mclaren",
         "line": {
          "color": "#FF8000",
          "dash": "solid"
         },
         "marker": {
          "symbol": "circle"
         },
         "mode": "lines+markers",
         "name": "mclaren",
         "orientation": "v",
         "showlegend": true,
         "type": "scatter",
         "x": [
          2017,
          2018,
          2019,
          2020,
          2021,
          2022,
          2023,
          2024
         ],
         "xaxis": "x",
         "y": [
          30,
          62,
          145,
          202,
          275,
          159,
          302,
          516
         ],
         "yaxis": "y"
        },
        {
         "hovertemplate": "Constructor=sauber<br>Year=%{x}<br>Points=%{y}<extra></extra>",
         "legendgroup": "sauber",
         "line": {
          "color": "#90EE90",
          "dash": "solid"
         },
         "marker": {
          "symbol": "circle"
         },
         "mode": "lines+markers",
         "name": "sauber",
         "orientation": "v",
         "showlegend": true,
         "type": "scatter",
         "x": [
          2017,
          2018,
          2024
         ],
         "xaxis": "x",
         "y": [
          5,
          48,
          0
         ],
         "yaxis": "y"
        },
        {
         "hovertemplate": "Constructor=alfa<br>Year=%{x}<br>Points=%{y}<extra></extra>",
         "legendgroup": "alfa",
         "line": {
          "color": "#000000",
          "dash": "solid"
         },
         "marker": {
          "symbol": "circle"
         },
         "mode": "lines+markers",
         "name": "alfa",
         "orientation": "v",
         "showlegend": true,
         "type": "scatter",
         "x": [
          2019,
          2020,
          2021,
          2022,
          2023
         ],
         "xaxis": "x",
         "y": [
          57,
          8,
          13,
          55,
          16
         ],
         "yaxis": "y"
        },
        {
         "hovertemplate": "Constructor=rb<br>Year=%{x}<br>Points=%{y}<extra></extra>",
         "legendgroup": "rb",
         "line": {
          "color": "#20394C",
          "dash": "solid"
         },
         "marker": {
          "symbol": "circle"
         },
         "mode": "lines+markers",
         "name": "rb",
         "orientation": "v",
         "showlegend": true,
         "type": "scatter",
         "x": [
          2020,
          2021,
          2022,
          2023,
          2024
         ],
         "xaxis": "x",
         "y": [
          107,
          142,
          35,
          25,
          34
         ],
         "yaxis": "y"
        },
        {
         "hovertemplate": "Constructor=alpine<br>Year=%{x}<br>Points=%{y}<extra></extra>",
         "legendgroup": "alpine",
         "line": {
          "color": "#C71585",
          "dash": "solid"
         },
         "marker": {
          "symbol": "circle"
         },
         "mode": "lines+markers",
         "name": "alpine",
         "orientation": "v",
         "showlegend": true,
         "type": "scatter",
         "x": [
          2021,
          2022,
          2023,
          2024
         ],
         "xaxis": "x",
         "y": [
          155,
          173,
          120,
          13
         ],
         "yaxis": "y"
        },
        {
         "hovertemplate": "Constructor=aston_martin<br>Year=%{x}<br>Points=%{y}<extra></extra>",
         "legendgroup": "aston_martin",
         "line": {
          "color": "#006400",
          "dash": "solid"
         },
         "marker": {
          "symbol": "circle"
         },
         "mode": "lines+markers",
         "name": "aston_martin",
         "orientation": "v",
         "showlegend": true,
         "type": "scatter",
         "x": [
          2021,
          2022,
          2023,
          2024
         ],
         "xaxis": "x",
         "y": [
          77,
          55,
          280,
          86
         ],
         "yaxis": "y"
        }
       ],
       "layout": {
        "hoverlabel": {
         "bgcolor": "white",
         "font": {
          "family": "Arial",
          "size": 12
         }
        },
        "legend": {
         "title": {
          "text": "Constructor"
         },
         "tracegroupgap": 0
        },
        "margin": {
         "t": 60
        },
        "paper_bgcolor": "lightgray",
        "plot_bgcolor": "white",
        "template": {
         "data": {
          "bar": [
           {
            "error_x": {
             "color": "#2a3f5f"
            },
            "error_y": {
             "color": "#2a3f5f"
            },
            "marker": {
             "line": {
              "color": "#E5ECF6",
              "width": 0.5
             },
             "pattern": {
              "fillmode": "overlay",
              "size": 10,
              "solidity": 0.2
             }
            },
            "type": "bar"
           }
          ],
          "barpolar": [
           {
            "marker": {
             "line": {
              "color": "#E5ECF6",
              "width": 0.5
             },
             "pattern": {
              "fillmode": "overlay",
              "size": 10,
              "solidity": 0.2
             }
            },
            "type": "barpolar"
           }
          ],
          "carpet": [
           {
            "aaxis": {
             "endlinecolor": "#2a3f5f",
             "gridcolor": "white",
             "linecolor": "white",
             "minorgridcolor": "white",
             "startlinecolor": "#2a3f5f"
            },
            "baxis": {
             "endlinecolor": "#2a3f5f",
             "gridcolor": "white",
             "linecolor": "white",
             "minorgridcolor": "white",
             "startlinecolor": "#2a3f5f"
            },
            "type": "carpet"
           }
          ],
          "choropleth": [
           {
            "colorbar": {
             "outlinewidth": 0,
             "ticks": ""
            },
            "type": "choropleth"
           }
          ],
          "contour": [
           {
            "colorbar": {
             "outlinewidth": 0,
             "ticks": ""
            },
            "colorscale": [
             [
              0,
              "#0d0887"
             ],
             [
              0.1111111111111111,
              "#46039f"
             ],
             [
              0.2222222222222222,
              "#7201a8"
             ],
             [
              0.3333333333333333,
              "#9c179e"
             ],
             [
              0.4444444444444444,
              "#bd3786"
             ],
             [
              0.5555555555555556,
              "#d8576b"
             ],
             [
              0.6666666666666666,
              "#ed7953"
             ],
             [
              0.7777777777777778,
              "#fb9f3a"
             ],
             [
              0.8888888888888888,
              "#fdca26"
             ],
             [
              1,
              "#f0f921"
             ]
            ],
            "type": "contour"
           }
          ],
          "contourcarpet": [
           {
            "colorbar": {
             "outlinewidth": 0,
             "ticks": ""
            },
            "type": "contourcarpet"
           }
          ],
          "heatmap": [
           {
            "colorbar": {
             "outlinewidth": 0,
             "ticks": ""
            },
            "colorscale": [
             [
              0,
              "#0d0887"
             ],
             [
              0.1111111111111111,
              "#46039f"
             ],
             [
              0.2222222222222222,
              "#7201a8"
             ],
             [
              0.3333333333333333,
              "#9c179e"
             ],
             [
              0.4444444444444444,
              "#bd3786"
             ],
             [
              0.5555555555555556,
              "#d8576b"
             ],
             [
              0.6666666666666666,
              "#ed7953"
             ],
             [
              0.7777777777777778,
              "#fb9f3a"
             ],
             [
              0.8888888888888888,
              "#fdca26"
             ],
             [
              1,
              "#f0f921"
             ]
            ],
            "type": "heatmap"
           }
          ],
          "heatmapgl": [
           {
            "colorbar": {
             "outlinewidth": 0,
             "ticks": ""
            },
            "colorscale": [
             [
              0,
              "#0d0887"
             ],
             [
              0.1111111111111111,
              "#46039f"
             ],
             [
              0.2222222222222222,
              "#7201a8"
             ],
             [
              0.3333333333333333,
              "#9c179e"
             ],
             [
              0.4444444444444444,
              "#bd3786"
             ],
             [
              0.5555555555555556,
              "#d8576b"
             ],
             [
              0.6666666666666666,
              "#ed7953"
             ],
             [
              0.7777777777777778,
              "#fb9f3a"
             ],
             [
              0.8888888888888888,
              "#fdca26"
             ],
             [
              1,
              "#f0f921"
             ]
            ],
            "type": "heatmapgl"
           }
          ],
          "histogram": [
           {
            "marker": {
             "pattern": {
              "fillmode": "overlay",
              "size": 10,
              "solidity": 0.2
             }
            },
            "type": "histogram"
           }
          ],
          "histogram2d": [
           {
            "colorbar": {
             "outlinewidth": 0,
             "ticks": ""
            },
            "colorscale": [
             [
              0,
              "#0d0887"
             ],
             [
              0.1111111111111111,
              "#46039f"
             ],
             [
              0.2222222222222222,
              "#7201a8"
             ],
             [
              0.3333333333333333,
              "#9c179e"
             ],
             [
              0.4444444444444444,
              "#bd3786"
             ],
             [
              0.5555555555555556,
              "#d8576b"
             ],
             [
              0.6666666666666666,
              "#ed7953"
             ],
             [
              0.7777777777777778,
              "#fb9f3a"
             ],
             [
              0.8888888888888888,
              "#fdca26"
             ],
             [
              1,
              "#f0f921"
             ]
            ],
            "type": "histogram2d"
           }
          ],
          "histogram2dcontour": [
           {
            "colorbar": {
             "outlinewidth": 0,
             "ticks": ""
            },
            "colorscale": [
             [
              0,
              "#0d0887"
             ],
             [
              0.1111111111111111,
              "#46039f"
             ],
             [
              0.2222222222222222,
              "#7201a8"
             ],
             [
              0.3333333333333333,
              "#9c179e"
             ],
             [
              0.4444444444444444,
              "#bd3786"
             ],
             [
              0.5555555555555556,
              "#d8576b"
             ],
             [
              0.6666666666666666,
              "#ed7953"
             ],
             [
              0.7777777777777778,
              "#fb9f3a"
             ],
             [
              0.8888888888888888,
              "#fdca26"
             ],
             [
              1,
              "#f0f921"
             ]
            ],
            "type": "histogram2dcontour"
           }
          ],
          "mesh3d": [
           {
            "colorbar": {
             "outlinewidth": 0,
             "ticks": ""
            },
            "type": "mesh3d"
           }
          ],
          "parcoords": [
           {
            "line": {
             "colorbar": {
              "outlinewidth": 0,
              "ticks": ""
             }
            },
            "type": "parcoords"
           }
          ],
          "pie": [
           {
            "automargin": true,
            "type": "pie"
           }
          ],
          "scatter": [
           {
            "fillpattern": {
             "fillmode": "overlay",
             "size": 10,
             "solidity": 0.2
            },
            "type": "scatter"
           }
          ],
          "scatter3d": [
           {
            "line": {
             "colorbar": {
              "outlinewidth": 0,
              "ticks": ""
             }
            },
            "marker": {
             "colorbar": {
              "outlinewidth": 0,
              "ticks": ""
             }
            },
            "type": "scatter3d"
           }
          ],
          "scattercarpet": [
           {
            "marker": {
             "colorbar": {
              "outlinewidth": 0,
              "ticks": ""
             }
            },
            "type": "scattercarpet"
           }
          ],
          "scattergeo": [
           {
            "marker": {
             "colorbar": {
              "outlinewidth": 0,
              "ticks": ""
             }
            },
            "type": "scattergeo"
           }
          ],
          "scattergl": [
           {
            "marker": {
             "colorbar": {
              "outlinewidth": 0,
              "ticks": ""
             }
            },
            "type": "scattergl"
           }
          ],
          "scattermapbox": [
           {
            "marker": {
             "colorbar": {
              "outlinewidth": 0,
              "ticks": ""
             }
            },
            "type": "scattermapbox"
           }
          ],
          "scatterpolar": [
           {
            "marker": {
             "colorbar": {
              "outlinewidth": 0,
              "ticks": ""
             }
            },
            "type": "scatterpolar"
           }
          ],
          "scatterpolargl": [
           {
            "marker": {
             "colorbar": {
              "outlinewidth": 0,
              "ticks": ""
             }
            },
            "type": "scatterpolargl"
           }
          ],
          "scatterternary": [
           {
            "marker": {
             "colorbar": {
              "outlinewidth": 0,
              "ticks": ""
             }
            },
            "type": "scatterternary"
           }
          ],
          "surface": [
           {
            "colorbar": {
             "outlinewidth": 0,
             "ticks": ""
            },
            "colorscale": [
             [
              0,
              "#0d0887"
             ],
             [
              0.1111111111111111,
              "#46039f"
             ],
             [
              0.2222222222222222,
              "#7201a8"
             ],
             [
              0.3333333333333333,
              "#9c179e"
             ],
             [
              0.4444444444444444,
              "#bd3786"
             ],
             [
              0.5555555555555556,
              "#d8576b"
             ],
             [
              0.6666666666666666,
              "#ed7953"
             ],
             [
              0.7777777777777778,
              "#fb9f3a"
             ],
             [
              0.8888888888888888,
              "#fdca26"
             ],
             [
              1,
              "#f0f921"
             ]
            ],
            "type": "surface"
           }
          ],
          "table": [
           {
            "cells": {
             "fill": {
              "color": "#EBF0F8"
             },
             "line": {
              "color": "white"
             }
            },
            "header": {
             "fill": {
              "color": "#C8D4E3"
             },
             "line": {
              "color": "white"
             }
            },
            "type": "table"
           }
          ]
         },
         "layout": {
          "annotationdefaults": {
           "arrowcolor": "#2a3f5f",
           "arrowhead": 0,
           "arrowwidth": 1
          },
          "autotypenumbers": "strict",
          "coloraxis": {
           "colorbar": {
            "outlinewidth": 0,
            "ticks": ""
           }
          },
          "colorscale": {
           "diverging": [
            [
             0,
             "#8e0152"
            ],
            [
             0.1,
             "#c51b7d"
            ],
            [
             0.2,
             "#de77ae"
            ],
            [
             0.3,
             "#f1b6da"
            ],
            [
             0.4,
             "#fde0ef"
            ],
            [
             0.5,
             "#f7f7f7"
            ],
            [
             0.6,
             "#e6f5d0"
            ],
            [
             0.7,
             "#b8e186"
            ],
            [
             0.8,
             "#7fbc41"
            ],
            [
             0.9,
             "#4d9221"
            ],
            [
             1,
             "#276419"
            ]
           ],
           "sequential": [
            [
             0,
             "#0d0887"
            ],
            [
             0.1111111111111111,
             "#46039f"
            ],
            [
             0.2222222222222222,
             "#7201a8"
            ],
            [
             0.3333333333333333,
             "#9c179e"
            ],
            [
             0.4444444444444444,
             "#bd3786"
            ],
            [
             0.5555555555555556,
             "#d8576b"
            ],
            [
             0.6666666666666666,
             "#ed7953"
            ],
            [
             0.7777777777777778,
             "#fb9f3a"
            ],
            [
             0.8888888888888888,
             "#fdca26"
            ],
            [
             1,
             "#f0f921"
            ]
           ],
           "sequentialminus": [
            [
             0,
             "#0d0887"
            ],
            [
             0.1111111111111111,
             "#46039f"
            ],
            [
             0.2222222222222222,
             "#7201a8"
            ],
            [
             0.3333333333333333,
             "#9c179e"
            ],
            [
             0.4444444444444444,
             "#bd3786"
            ],
            [
             0.5555555555555556,
             "#d8576b"
            ],
            [
             0.6666666666666666,
             "#ed7953"
            ],
            [
             0.7777777777777778,
             "#fb9f3a"
            ],
            [
             0.8888888888888888,
             "#fdca26"
            ],
            [
             1,
             "#f0f921"
            ]
           ]
          },
          "colorway": [
           "#636efa",
           "#EF553B",
           "#00cc96",
           "#ab63fa",
           "#FFA15A",
           "#19d3f3",
           "#FF6692",
           "#B6E880",
           "#FF97FF",
           "#FECB52"
          ],
          "font": {
           "color": "#2a3f5f"
          },
          "geo": {
           "bgcolor": "white",
           "lakecolor": "white",
           "landcolor": "#E5ECF6",
           "showlakes": true,
           "showland": true,
           "subunitcolor": "white"
          },
          "hoverlabel": {
           "align": "left"
          },
          "hovermode": "closest",
          "mapbox": {
           "style": "light"
          },
          "paper_bgcolor": "white",
          "plot_bgcolor": "#E5ECF6",
          "polar": {
           "angularaxis": {
            "gridcolor": "white",
            "linecolor": "white",
            "ticks": ""
           },
           "bgcolor": "#E5ECF6",
           "radialaxis": {
            "gridcolor": "white",
            "linecolor": "white",
            "ticks": ""
           }
          },
          "scene": {
           "xaxis": {
            "backgroundcolor": "#E5ECF6",
            "gridcolor": "white",
            "gridwidth": 2,
            "linecolor": "white",
            "showbackground": true,
            "ticks": "",
            "zerolinecolor": "white"
           },
           "yaxis": {
            "backgroundcolor": "#E5ECF6",
            "gridcolor": "white",
            "gridwidth": 2,
            "linecolor": "white",
            "showbackground": true,
            "ticks": "",
            "zerolinecolor": "white"
           },
           "zaxis": {
            "backgroundcolor": "#E5ECF6",
            "gridcolor": "white",
            "gridwidth": 2,
            "linecolor": "white",
            "showbackground": true,
            "ticks": "",
            "zerolinecolor": "white"
           }
          },
          "shapedefaults": {
           "line": {
            "color": "#2a3f5f"
           }
          },
          "ternary": {
           "aaxis": {
            "gridcolor": "white",
            "linecolor": "white",
            "ticks": ""
           },
           "baxis": {
            "gridcolor": "white",
            "linecolor": "white",
            "ticks": ""
           },
           "bgcolor": "#E5ECF6",
           "caxis": {
            "gridcolor": "white",
            "linecolor": "white",
            "ticks": ""
           }
          },
          "title": {
           "x": 0.05
          },
          "xaxis": {
           "automargin": true,
           "gridcolor": "white",
           "linecolor": "white",
           "ticks": "",
           "title": {
            "standoff": 15
           },
           "zerolinecolor": "white",
           "zerolinewidth": 2
          },
          "yaxis": {
           "automargin": true,
           "gridcolor": "white",
           "linecolor": "white",
           "ticks": "",
           "title": {
            "standoff": 15
           },
           "zerolinecolor": "white",
           "zerolinewidth": 2
          }
         }
        },
        "xaxis": {
         "anchor": "y",
         "domain": [
          0,
          1
         ],
         "tickfont": {
          "size": 12
         },
         "tickvals": [
          2017,
          2018,
          2019,
          2020,
          2021,
          2022,
          2023,
          2024
         ],
         "title": {
          "text": "Year"
         }
        },
        "yaxis": {
         "anchor": "x",
         "domain": [
          0,
          1
         ],
         "tickfont": {
          "size": 12
         },
         "title": {
          "text": "Points"
         }
        }
       }
      }
     },
     "metadata": {},
     "output_type": "display_data"
    },
    {
     "data": {
      "application/vnd.plotly.v1+json": {
       "config": {
        "plotlyServerURL": "https://plot.ly"
       },
       "data": [
        {
         "alignmentgroup": "True",
         "hovertemplate": "Year=%{x}<br>Points=%{y}<extra></extra>",
         "legendgroup": "",
         "marker": {
          "color": "#636efa"
         },
         "name": "",
         "notched": false,
         "offsetgroup": "",
         "orientation": "v",
         "showlegend": false,
         "type": "box",
         "x": [
          2017,
          2017,
          2017,
          2017,
          2017,
          2017,
          2017,
          2017,
          2018,
          2018,
          2018,
          2018,
          2018,
          2018,
          2018,
          2018,
          2019,
          2019,
          2019,
          2019,
          2019,
          2019,
          2019,
          2019,
          2020,
          2020,
          2020,
          2020,
          2020,
          2020,
          2020,
          2020,
          2020,
          2021,
          2021,
          2021,
          2021,
          2021,
          2021,
          2021,
          2021,
          2021,
          2021,
          2022,
          2022,
          2022,
          2022,
          2022,
          2022,
          2022,
          2022,
          2022,
          2022,
          2023,
          2023,
          2023,
          2023,
          2023,
          2023,
          2023,
          2023,
          2023,
          2023,
          2024,
          2024,
          2024,
          2024,
          2024,
          2024,
          2024,
          2024,
          2024,
          2024
         ],
         "x0": " ",
         "xaxis": "x",
         "y": [
          668,
          522,
          368,
          83,
          57,
          47,
          30,
          5,
          655,
          571,
          419,
          122,
          93,
          62,
          48,
          7,
          739,
          504,
          417,
          145,
          91,
          57,
          28,
          1,
          573,
          319,
          202,
          181,
          131,
          107,
          8,
          3,
          0,
          613.5,
          585.5,
          323.5,
          275,
          155,
          142,
          77,
          23,
          13,
          0,
          759,
          554,
          515,
          173,
          159,
          55,
          55,
          37,
          35,
          8,
          860,
          409,
          406,
          302,
          280,
          120,
          28,
          25,
          16,
          12,
          516,
          475,
          441,
          329,
          86,
          34,
          31,
          16,
          13,
          0
         ],
         "y0": " ",
         "yaxis": "y"
        }
       ],
       "layout": {
        "boxmode": "group",
        "hoverlabel": {
         "bgcolor": "white",
         "font": {
          "family": "Arial",
          "size": 12
         }
        },
        "legend": {
         "tracegroupgap": 0
        },
        "margin": {
         "b": 50,
         "l": 50,
         "r": 50,
         "t": 50
        },
        "paper_bgcolor": "lightgray",
        "plot_bgcolor": "white",
        "template": {
         "data": {
          "bar": [
           {
            "error_x": {
             "color": "#2a3f5f"
            },
            "error_y": {
             "color": "#2a3f5f"
            },
            "marker": {
             "line": {
              "color": "#E5ECF6",
              "width": 0.5
             },
             "pattern": {
              "fillmode": "overlay",
              "size": 10,
              "solidity": 0.2
             }
            },
            "type": "bar"
           }
          ],
          "barpolar": [
           {
            "marker": {
             "line": {
              "color": "#E5ECF6",
              "width": 0.5
             },
             "pattern": {
              "fillmode": "overlay",
              "size": 10,
              "solidity": 0.2
             }
            },
            "type": "barpolar"
           }
          ],
          "carpet": [
           {
            "aaxis": {
             "endlinecolor": "#2a3f5f",
             "gridcolor": "white",
             "linecolor": "white",
             "minorgridcolor": "white",
             "startlinecolor": "#2a3f5f"
            },
            "baxis": {
             "endlinecolor": "#2a3f5f",
             "gridcolor": "white",
             "linecolor": "white",
             "minorgridcolor": "white",
             "startlinecolor": "#2a3f5f"
            },
            "type": "carpet"
           }
          ],
          "choropleth": [
           {
            "colorbar": {
             "outlinewidth": 0,
             "ticks": ""
            },
            "type": "choropleth"
           }
          ],
          "contour": [
           {
            "colorbar": {
             "outlinewidth": 0,
             "ticks": ""
            },
            "colorscale": [
             [
              0,
              "#0d0887"
             ],
             [
              0.1111111111111111,
              "#46039f"
             ],
             [
              0.2222222222222222,
              "#7201a8"
             ],
             [
              0.3333333333333333,
              "#9c179e"
             ],
             [
              0.4444444444444444,
              "#bd3786"
             ],
             [
              0.5555555555555556,
              "#d8576b"
             ],
             [
              0.6666666666666666,
              "#ed7953"
             ],
             [
              0.7777777777777778,
              "#fb9f3a"
             ],
             [
              0.8888888888888888,
              "#fdca26"
             ],
             [
              1,
              "#f0f921"
             ]
            ],
            "type": "contour"
           }
          ],
          "contourcarpet": [
           {
            "colorbar": {
             "outlinewidth": 0,
             "ticks": ""
            },
            "type": "contourcarpet"
           }
          ],
          "heatmap": [
           {
            "colorbar": {
             "outlinewidth": 0,
             "ticks": ""
            },
            "colorscale": [
             [
              0,
              "#0d0887"
             ],
             [
              0.1111111111111111,
              "#46039f"
             ],
             [
              0.2222222222222222,
              "#7201a8"
             ],
             [
              0.3333333333333333,
              "#9c179e"
             ],
             [
              0.4444444444444444,
              "#bd3786"
             ],
             [
              0.5555555555555556,
              "#d8576b"
             ],
             [
              0.6666666666666666,
              "#ed7953"
             ],
             [
              0.7777777777777778,
              "#fb9f3a"
             ],
             [
              0.8888888888888888,
              "#fdca26"
             ],
             [
              1,
              "#f0f921"
             ]
            ],
            "type": "heatmap"
           }
          ],
          "heatmapgl": [
           {
            "colorbar": {
             "outlinewidth": 0,
             "ticks": ""
            },
            "colorscale": [
             [
              0,
              "#0d0887"
             ],
             [
              0.1111111111111111,
              "#46039f"
             ],
             [
              0.2222222222222222,
              "#7201a8"
             ],
             [
              0.3333333333333333,
              "#9c179e"
             ],
             [
              0.4444444444444444,
              "#bd3786"
             ],
             [
              0.5555555555555556,
              "#d8576b"
             ],
             [
              0.6666666666666666,
              "#ed7953"
             ],
             [
              0.7777777777777778,
              "#fb9f3a"
             ],
             [
              0.8888888888888888,
              "#fdca26"
             ],
             [
              1,
              "#f0f921"
             ]
            ],
            "type": "heatmapgl"
           }
          ],
          "histogram": [
           {
            "marker": {
             "pattern": {
              "fillmode": "overlay",
              "size": 10,
              "solidity": 0.2
             }
            },
            "type": "histogram"
           }
          ],
          "histogram2d": [
           {
            "colorbar": {
             "outlinewidth": 0,
             "ticks": ""
            },
            "colorscale": [
             [
              0,
              "#0d0887"
             ],
             [
              0.1111111111111111,
              "#46039f"
             ],
             [
              0.2222222222222222,
              "#7201a8"
             ],
             [
              0.3333333333333333,
              "#9c179e"
             ],
             [
              0.4444444444444444,
              "#bd3786"
             ],
             [
              0.5555555555555556,
              "#d8576b"
             ],
             [
              0.6666666666666666,
              "#ed7953"
             ],
             [
              0.7777777777777778,
              "#fb9f3a"
             ],
             [
              0.8888888888888888,
              "#fdca26"
             ],
             [
              1,
              "#f0f921"
             ]
            ],
            "type": "histogram2d"
           }
          ],
          "histogram2dcontour": [
           {
            "colorbar": {
             "outlinewidth": 0,
             "ticks": ""
            },
            "colorscale": [
             [
              0,
              "#0d0887"
             ],
             [
              0.1111111111111111,
              "#46039f"
             ],
             [
              0.2222222222222222,
              "#7201a8"
             ],
             [
              0.3333333333333333,
              "#9c179e"
             ],
             [
              0.4444444444444444,
              "#bd3786"
             ],
             [
              0.5555555555555556,
              "#d8576b"
             ],
             [
              0.6666666666666666,
              "#ed7953"
             ],
             [
              0.7777777777777778,
              "#fb9f3a"
             ],
             [
              0.8888888888888888,
              "#fdca26"
             ],
             [
              1,
              "#f0f921"
             ]
            ],
            "type": "histogram2dcontour"
           }
          ],
          "mesh3d": [
           {
            "colorbar": {
             "outlinewidth": 0,
             "ticks": ""
            },
            "type": "mesh3d"
           }
          ],
          "parcoords": [
           {
            "line": {
             "colorbar": {
              "outlinewidth": 0,
              "ticks": ""
             }
            },
            "type": "parcoords"
           }
          ],
          "pie": [
           {
            "automargin": true,
            "type": "pie"
           }
          ],
          "scatter": [
           {
            "fillpattern": {
             "fillmode": "overlay",
             "size": 10,
             "solidity": 0.2
            },
            "type": "scatter"
           }
          ],
          "scatter3d": [
           {
            "line": {
             "colorbar": {
              "outlinewidth": 0,
              "ticks": ""
             }
            },
            "marker": {
             "colorbar": {
              "outlinewidth": 0,
              "ticks": ""
             }
            },
            "type": "scatter3d"
           }
          ],
          "scattercarpet": [
           {
            "marker": {
             "colorbar": {
              "outlinewidth": 0,
              "ticks": ""
             }
            },
            "type": "scattercarpet"
           }
          ],
          "scattergeo": [
           {
            "marker": {
             "colorbar": {
              "outlinewidth": 0,
              "ticks": ""
             }
            },
            "type": "scattergeo"
           }
          ],
          "scattergl": [
           {
            "marker": {
             "colorbar": {
              "outlinewidth": 0,
              "ticks": ""
             }
            },
            "type": "scattergl"
           }
          ],
          "scattermapbox": [
           {
            "marker": {
             "colorbar": {
              "outlinewidth": 0,
              "ticks": ""
             }
            },
            "type": "scattermapbox"
           }
          ],
          "scatterpolar": [
           {
            "marker": {
             "colorbar": {
              "outlinewidth": 0,
              "ticks": ""
             }
            },
            "type": "scatterpolar"
           }
          ],
          "scatterpolargl": [
           {
            "marker": {
             "colorbar": {
              "outlinewidth": 0,
              "ticks": ""
             }
            },
            "type": "scatterpolargl"
           }
          ],
          "scatterternary": [
           {
            "marker": {
             "colorbar": {
              "outlinewidth": 0,
              "ticks": ""
             }
            },
            "type": "scatterternary"
           }
          ],
          "surface": [
           {
            "colorbar": {
             "outlinewidth": 0,
             "ticks": ""
            },
            "colorscale": [
             [
              0,
              "#0d0887"
             ],
             [
              0.1111111111111111,
              "#46039f"
             ],
             [
              0.2222222222222222,
              "#7201a8"
             ],
             [
              0.3333333333333333,
              "#9c179e"
             ],
             [
              0.4444444444444444,
              "#bd3786"
             ],
             [
              0.5555555555555556,
              "#d8576b"
             ],
             [
              0.6666666666666666,
              "#ed7953"
             ],
             [
              0.7777777777777778,
              "#fb9f3a"
             ],
             [
              0.8888888888888888,
              "#fdca26"
             ],
             [
              1,
              "#f0f921"
             ]
            ],
            "type": "surface"
           }
          ],
          "table": [
           {
            "cells": {
             "fill": {
              "color": "#EBF0F8"
             },
             "line": {
              "color": "white"
             }
            },
            "header": {
             "fill": {
              "color": "#C8D4E3"
             },
             "line": {
              "color": "white"
             }
            },
            "type": "table"
           }
          ]
         },
         "layout": {
          "annotationdefaults": {
           "arrowcolor": "#2a3f5f",
           "arrowhead": 0,
           "arrowwidth": 1
          },
          "autotypenumbers": "strict",
          "coloraxis": {
           "colorbar": {
            "outlinewidth": 0,
            "ticks": ""
           }
          },
          "colorscale": {
           "diverging": [
            [
             0,
             "#8e0152"
            ],
            [
             0.1,
             "#c51b7d"
            ],
            [
             0.2,
             "#de77ae"
            ],
            [
             0.3,
             "#f1b6da"
            ],
            [
             0.4,
             "#fde0ef"
            ],
            [
             0.5,
             "#f7f7f7"
            ],
            [
             0.6,
             "#e6f5d0"
            ],
            [
             0.7,
             "#b8e186"
            ],
            [
             0.8,
             "#7fbc41"
            ],
            [
             0.9,
             "#4d9221"
            ],
            [
             1,
             "#276419"
            ]
           ],
           "sequential": [
            [
             0,
             "#0d0887"
            ],
            [
             0.1111111111111111,
             "#46039f"
            ],
            [
             0.2222222222222222,
             "#7201a8"
            ],
            [
             0.3333333333333333,
             "#9c179e"
            ],
            [
             0.4444444444444444,
             "#bd3786"
            ],
            [
             0.5555555555555556,
             "#d8576b"
            ],
            [
             0.6666666666666666,
             "#ed7953"
            ],
            [
             0.7777777777777778,
             "#fb9f3a"
            ],
            [
             0.8888888888888888,
             "#fdca26"
            ],
            [
             1,
             "#f0f921"
            ]
           ],
           "sequentialminus": [
            [
             0,
             "#0d0887"
            ],
            [
             0.1111111111111111,
             "#46039f"
            ],
            [
             0.2222222222222222,
             "#7201a8"
            ],
            [
             0.3333333333333333,
             "#9c179e"
            ],
            [
             0.4444444444444444,
             "#bd3786"
            ],
            [
             0.5555555555555556,
             "#d8576b"
            ],
            [
             0.6666666666666666,
             "#ed7953"
            ],
            [
             0.7777777777777778,
             "#fb9f3a"
            ],
            [
             0.8888888888888888,
             "#fdca26"
            ],
            [
             1,
             "#f0f921"
            ]
           ]
          },
          "colorway": [
           "#636efa",
           "#EF553B",
           "#00cc96",
           "#ab63fa",
           "#FFA15A",
           "#19d3f3",
           "#FF6692",
           "#B6E880",
           "#FF97FF",
           "#FECB52"
          ],
          "font": {
           "color": "#2a3f5f"
          },
          "geo": {
           "bgcolor": "white",
           "lakecolor": "white",
           "landcolor": "#E5ECF6",
           "showlakes": true,
           "showland": true,
           "subunitcolor": "white"
          },
          "hoverlabel": {
           "align": "left"
          },
          "hovermode": "closest",
          "mapbox": {
           "style": "light"
          },
          "paper_bgcolor": "white",
          "plot_bgcolor": "#E5ECF6",
          "polar": {
           "angularaxis": {
            "gridcolor": "white",
            "linecolor": "white",
            "ticks": ""
           },
           "bgcolor": "#E5ECF6",
           "radialaxis": {
            "gridcolor": "white",
            "linecolor": "white",
            "ticks": ""
           }
          },
          "scene": {
           "xaxis": {
            "backgroundcolor": "#E5ECF6",
            "gridcolor": "white",
            "gridwidth": 2,
            "linecolor": "white",
            "showbackground": true,
            "ticks": "",
            "zerolinecolor": "white"
           },
           "yaxis": {
            "backgroundcolor": "#E5ECF6",
            "gridcolor": "white",
            "gridwidth": 2,
            "linecolor": "white",
            "showbackground": true,
            "ticks": "",
            "zerolinecolor": "white"
           },
           "zaxis": {
            "backgroundcolor": "#E5ECF6",
            "gridcolor": "white",
            "gridwidth": 2,
            "linecolor": "white",
            "showbackground": true,
            "ticks": "",
            "zerolinecolor": "white"
           }
          },
          "shapedefaults": {
           "line": {
            "color": "#2a3f5f"
           }
          },
          "ternary": {
           "aaxis": {
            "gridcolor": "white",
            "linecolor": "white",
            "ticks": ""
           },
           "baxis": {
            "gridcolor": "white",
            "linecolor": "white",
            "ticks": ""
           },
           "bgcolor": "#E5ECF6",
           "caxis": {
            "gridcolor": "white",
            "linecolor": "white",
            "ticks": ""
           }
          },
          "title": {
           "x": 0.05
          },
          "xaxis": {
           "automargin": true,
           "gridcolor": "white",
           "linecolor": "white",
           "ticks": "",
           "title": {
            "standoff": 15
           },
           "zerolinecolor": "white",
           "zerolinewidth": 2
          },
          "yaxis": {
           "automargin": true,
           "gridcolor": "white",
           "linecolor": "white",
           "ticks": "",
           "title": {
            "standoff": 15
           },
           "zerolinecolor": "white",
           "zerolinewidth": 2
          }
         }
        },
        "xaxis": {
         "anchor": "y",
         "domain": [
          0,
          1
         ],
         "tickfont": {
          "size": 12
         },
         "title": {
          "text": "Year"
         }
        },
        "yaxis": {
         "anchor": "x",
         "domain": [
          0,
          1
         ],
         "tickfont": {
          "size": 12
         },
         "title": {
          "text": "Points"
         }
        }
       }
      }
     },
     "metadata": {},
     "output_type": "display_data"
    },
    {
     "data": {
      "application/vnd.plotly.v1+json": {
       "config": {
        "plotlyServerURL": "https://plot.ly"
       },
       "data": [
        {
         "alignmentgroup": "True",
         "hovertemplate": "Constructor=%{x}<br>Win Percentage (%)=%{text}<extra></extra>",
         "legendgroup": "alpine",
         "marker": {
          "color": "#C71585",
          "pattern": {
           "shape": ""
          }
         },
         "name": "alpine",
         "offsetgroup": "alpine",
         "orientation": "v",
         "showlegend": true,
         "text": [
          0.6172839506172839
         ],
         "textposition": "outside",
         "texttemplate": "%{text:.2f}%",
         "type": "bar",
         "x": [
          "alpine"
         ],
         "xaxis": "x",
         "y": [
          0.6172839506172839
         ],
         "yaxis": "y"
        },
        {
         "alignmentgroup": "True",
         "hovertemplate": "Constructor=%{x}<br>Win Percentage (%)=%{text}<extra></extra>",
         "legendgroup": "rb",
         "marker": {
          "color": "#20394C",
          "pattern": {
           "shape": ""
          }
         },
         "name": "rb",
         "offsetgroup": "rb",
         "orientation": "v",
         "showlegend": true,
         "text": [
          0.6172839506172839
         ],
         "textposition": "outside",
         "texttemplate": "%{text:.2f}%",
         "type": "bar",
         "x": [
          "rb"
         ],
         "xaxis": "x",
         "y": [
          0.6172839506172839
         ],
         "yaxis": "y"
        },
        {
         "alignmentgroup": "True",
         "hovertemplate": "Constructor=%{x}<br>Win Percentage (%)=%{text}<extra></extra>",
         "legendgroup": "mclaren",
         "marker": {
          "color": "#FF8000",
          "pattern": {
           "shape": ""
          }
         },
         "name": "mclaren",
         "offsetgroup": "mclaren",
         "orientation": "v",
         "showlegend": true,
         "text": [
          3.7037037037037033
         ],
         "textposition": "outside",
         "texttemplate": "%{text:.2f}%",
         "type": "bar",
         "x": [
          "mclaren"
         ],
         "xaxis": "x",
         "y": [
          3.7037037037037033
         ],
         "yaxis": "y"
        },
        {
         "alignmentgroup": "True",
         "hovertemplate": "Constructor=%{x}<br>Win Percentage (%)=%{text}<extra></extra>",
         "legendgroup": "ferrari",
         "marker": {
          "color": "#ff0000",
          "pattern": {
           "shape": ""
          }
         },
         "name": "ferrari",
         "offsetgroup": "ferrari",
         "orientation": "v",
         "showlegend": true,
         "text": [
          13.580246913580247
         ],
         "textposition": "outside",
         "texttemplate": "%{text:.2f}%",
         "type": "bar",
         "x": [
          "ferrari"
         ],
         "xaxis": "x",
         "y": [
          13.580246913580247
         ],
         "yaxis": "y"
        },
        {
         "alignmentgroup": "True",
         "hovertemplate": "Constructor=%{x}<br>Win Percentage (%)=%{text}<extra></extra>",
         "legendgroup": "mercedes",
         "marker": {
          "color": "#565F64",
          "pattern": {
           "shape": ""
          }
         },
         "name": "mercedes",
         "offsetgroup": "mercedes",
         "orientation": "v",
         "showlegend": true,
         "text": [
          39.50617283950617
         ],
         "textposition": "outside",
         "texttemplate": "%{text:.2f}%",
         "type": "bar",
         "x": [
          "mercedes"
         ],
         "xaxis": "x",
         "y": [
          39.50617283950617
         ],
         "yaxis": "y"
        },
        {
         "alignmentgroup": "True",
         "hovertemplate": "Constructor=%{x}<br>Win Percentage (%)=%{text}<extra></extra>",
         "legendgroup": "red_bull",
         "marker": {
          "color": "#FDD900",
          "pattern": {
           "shape": ""
          }
         },
         "name": "red_bull",
         "offsetgroup": "red_bull",
         "orientation": "v",
         "showlegend": true,
         "text": [
          41.9753086419753
         ],
         "textposition": "outside",
         "texttemplate": "%{text:.2f}%",
         "type": "bar",
         "x": [
          "red_bull"
         ],
         "xaxis": "x",
         "y": [
          41.9753086419753
         ],
         "yaxis": "y"
        }
       ],
       "layout": {
        "barmode": "relative",
        "hoverlabel": {
         "bgcolor": "white",
         "font": {
          "family": "Arial",
          "size": 12
         }
        },
        "legend": {
         "title": {
          "text": "Constructor"
         },
         "tracegroupgap": 0
        },
        "margin": {
         "b": 50,
         "l": 50,
         "r": 50,
         "t": 50
        },
        "paper_bgcolor": "lightgray",
        "plot_bgcolor": "white",
        "template": {
         "data": {
          "bar": [
           {
            "error_x": {
             "color": "#2a3f5f"
            },
            "error_y": {
             "color": "#2a3f5f"
            },
            "marker": {
             "line": {
              "color": "#E5ECF6",
              "width": 0.5
             },
             "pattern": {
              "fillmode": "overlay",
              "size": 10,
              "solidity": 0.2
             }
            },
            "type": "bar"
           }
          ],
          "barpolar": [
           {
            "marker": {
             "line": {
              "color": "#E5ECF6",
              "width": 0.5
             },
             "pattern": {
              "fillmode": "overlay",
              "size": 10,
              "solidity": 0.2
             }
            },
            "type": "barpolar"
           }
          ],
          "carpet": [
           {
            "aaxis": {
             "endlinecolor": "#2a3f5f",
             "gridcolor": "white",
             "linecolor": "white",
             "minorgridcolor": "white",
             "startlinecolor": "#2a3f5f"
            },
            "baxis": {
             "endlinecolor": "#2a3f5f",
             "gridcolor": "white",
             "linecolor": "white",
             "minorgridcolor": "white",
             "startlinecolor": "#2a3f5f"
            },
            "type": "carpet"
           }
          ],
          "choropleth": [
           {
            "colorbar": {
             "outlinewidth": 0,
             "ticks": ""
            },
            "type": "choropleth"
           }
          ],
          "contour": [
           {
            "colorbar": {
             "outlinewidth": 0,
             "ticks": ""
            },
            "colorscale": [
             [
              0,
              "#0d0887"
             ],
             [
              0.1111111111111111,
              "#46039f"
             ],
             [
              0.2222222222222222,
              "#7201a8"
             ],
             [
              0.3333333333333333,
              "#9c179e"
             ],
             [
              0.4444444444444444,
              "#bd3786"
             ],
             [
              0.5555555555555556,
              "#d8576b"
             ],
             [
              0.6666666666666666,
              "#ed7953"
             ],
             [
              0.7777777777777778,
              "#fb9f3a"
             ],
             [
              0.8888888888888888,
              "#fdca26"
             ],
             [
              1,
              "#f0f921"
             ]
            ],
            "type": "contour"
           }
          ],
          "contourcarpet": [
           {
            "colorbar": {
             "outlinewidth": 0,
             "ticks": ""
            },
            "type": "contourcarpet"
           }
          ],
          "heatmap": [
           {
            "colorbar": {
             "outlinewidth": 0,
             "ticks": ""
            },
            "colorscale": [
             [
              0,
              "#0d0887"
             ],
             [
              0.1111111111111111,
              "#46039f"
             ],
             [
              0.2222222222222222,
              "#7201a8"
             ],
             [
              0.3333333333333333,
              "#9c179e"
             ],
             [
              0.4444444444444444,
              "#bd3786"
             ],
             [
              0.5555555555555556,
              "#d8576b"
             ],
             [
              0.6666666666666666,
              "#ed7953"
             ],
             [
              0.7777777777777778,
              "#fb9f3a"
             ],
             [
              0.8888888888888888,
              "#fdca26"
             ],
             [
              1,
              "#f0f921"
             ]
            ],
            "type": "heatmap"
           }
          ],
          "heatmapgl": [
           {
            "colorbar": {
             "outlinewidth": 0,
             "ticks": ""
            },
            "colorscale": [
             [
              0,
              "#0d0887"
             ],
             [
              0.1111111111111111,
              "#46039f"
             ],
             [
              0.2222222222222222,
              "#7201a8"
             ],
             [
              0.3333333333333333,
              "#9c179e"
             ],
             [
              0.4444444444444444,
              "#bd3786"
             ],
             [
              0.5555555555555556,
              "#d8576b"
             ],
             [
              0.6666666666666666,
              "#ed7953"
             ],
             [
              0.7777777777777778,
              "#fb9f3a"
             ],
             [
              0.8888888888888888,
              "#fdca26"
             ],
             [
              1,
              "#f0f921"
             ]
            ],
            "type": "heatmapgl"
           }
          ],
          "histogram": [
           {
            "marker": {
             "pattern": {
              "fillmode": "overlay",
              "size": 10,
              "solidity": 0.2
             }
            },
            "type": "histogram"
           }
          ],
          "histogram2d": [
           {
            "colorbar": {
             "outlinewidth": 0,
             "ticks": ""
            },
            "colorscale": [
             [
              0,
              "#0d0887"
             ],
             [
              0.1111111111111111,
              "#46039f"
             ],
             [
              0.2222222222222222,
              "#7201a8"
             ],
             [
              0.3333333333333333,
              "#9c179e"
             ],
             [
              0.4444444444444444,
              "#bd3786"
             ],
             [
              0.5555555555555556,
              "#d8576b"
             ],
             [
              0.6666666666666666,
              "#ed7953"
             ],
             [
              0.7777777777777778,
              "#fb9f3a"
             ],
             [
              0.8888888888888888,
              "#fdca26"
             ],
             [
              1,
              "#f0f921"
             ]
            ],
            "type": "histogram2d"
           }
          ],
          "histogram2dcontour": [
           {
            "colorbar": {
             "outlinewidth": 0,
             "ticks": ""
            },
            "colorscale": [
             [
              0,
              "#0d0887"
             ],
             [
              0.1111111111111111,
              "#46039f"
             ],
             [
              0.2222222222222222,
              "#7201a8"
             ],
             [
              0.3333333333333333,
              "#9c179e"
             ],
             [
              0.4444444444444444,
              "#bd3786"
             ],
             [
              0.5555555555555556,
              "#d8576b"
             ],
             [
              0.6666666666666666,
              "#ed7953"
             ],
             [
              0.7777777777777778,
              "#fb9f3a"
             ],
             [
              0.8888888888888888,
              "#fdca26"
             ],
             [
              1,
              "#f0f921"
             ]
            ],
            "type": "histogram2dcontour"
           }
          ],
          "mesh3d": [
           {
            "colorbar": {
             "outlinewidth": 0,
             "ticks": ""
            },
            "type": "mesh3d"
           }
          ],
          "parcoords": [
           {
            "line": {
             "colorbar": {
              "outlinewidth": 0,
              "ticks": ""
             }
            },
            "type": "parcoords"
           }
          ],
          "pie": [
           {
            "automargin": true,
            "type": "pie"
           }
          ],
          "scatter": [
           {
            "fillpattern": {
             "fillmode": "overlay",
             "size": 10,
             "solidity": 0.2
            },
            "type": "scatter"
           }
          ],
          "scatter3d": [
           {
            "line": {
             "colorbar": {
              "outlinewidth": 0,
              "ticks": ""
             }
            },
            "marker": {
             "colorbar": {
              "outlinewidth": 0,
              "ticks": ""
             }
            },
            "type": "scatter3d"
           }
          ],
          "scattercarpet": [
           {
            "marker": {
             "colorbar": {
              "outlinewidth": 0,
              "ticks": ""
             }
            },
            "type": "scattercarpet"
           }
          ],
          "scattergeo": [
           {
            "marker": {
             "colorbar": {
              "outlinewidth": 0,
              "ticks": ""
             }
            },
            "type": "scattergeo"
           }
          ],
          "scattergl": [
           {
            "marker": {
             "colorbar": {
              "outlinewidth": 0,
              "ticks": ""
             }
            },
            "type": "scattergl"
           }
          ],
          "scattermapbox": [
           {
            "marker": {
             "colorbar": {
              "outlinewidth": 0,
              "ticks": ""
             }
            },
            "type": "scattermapbox"
           }
          ],
          "scatterpolar": [
           {
            "marker": {
             "colorbar": {
              "outlinewidth": 0,
              "ticks": ""
             }
            },
            "type": "scatterpolar"
           }
          ],
          "scatterpolargl": [
           {
            "marker": {
             "colorbar": {
              "outlinewidth": 0,
              "ticks": ""
             }
            },
            "type": "scatterpolargl"
           }
          ],
          "scatterternary": [
           {
            "marker": {
             "colorbar": {
              "outlinewidth": 0,
              "ticks": ""
             }
            },
            "type": "scatterternary"
           }
          ],
          "surface": [
           {
            "colorbar": {
             "outlinewidth": 0,
             "ticks": ""
            },
            "colorscale": [
             [
              0,
              "#0d0887"
             ],
             [
              0.1111111111111111,
              "#46039f"
             ],
             [
              0.2222222222222222,
              "#7201a8"
             ],
             [
              0.3333333333333333,
              "#9c179e"
             ],
             [
              0.4444444444444444,
              "#bd3786"
             ],
             [
              0.5555555555555556,
              "#d8576b"
             ],
             [
              0.6666666666666666,
              "#ed7953"
             ],
             [
              0.7777777777777778,
              "#fb9f3a"
             ],
             [
              0.8888888888888888,
              "#fdca26"
             ],
             [
              1,
              "#f0f921"
             ]
            ],
            "type": "surface"
           }
          ],
          "table": [
           {
            "cells": {
             "fill": {
              "color": "#EBF0F8"
             },
             "line": {
              "color": "white"
             }
            },
            "header": {
             "fill": {
              "color": "#C8D4E3"
             },
             "line": {
              "color": "white"
             }
            },
            "type": "table"
           }
          ]
         },
         "layout": {
          "annotationdefaults": {
           "arrowcolor": "#2a3f5f",
           "arrowhead": 0,
           "arrowwidth": 1
          },
          "autotypenumbers": "strict",
          "coloraxis": {
           "colorbar": {
            "outlinewidth": 0,
            "ticks": ""
           }
          },
          "colorscale": {
           "diverging": [
            [
             0,
             "#8e0152"
            ],
            [
             0.1,
             "#c51b7d"
            ],
            [
             0.2,
             "#de77ae"
            ],
            [
             0.3,
             "#f1b6da"
            ],
            [
             0.4,
             "#fde0ef"
            ],
            [
             0.5,
             "#f7f7f7"
            ],
            [
             0.6,
             "#e6f5d0"
            ],
            [
             0.7,
             "#b8e186"
            ],
            [
             0.8,
             "#7fbc41"
            ],
            [
             0.9,
             "#4d9221"
            ],
            [
             1,
             "#276419"
            ]
           ],
           "sequential": [
            [
             0,
             "#0d0887"
            ],
            [
             0.1111111111111111,
             "#46039f"
            ],
            [
             0.2222222222222222,
             "#7201a8"
            ],
            [
             0.3333333333333333,
             "#9c179e"
            ],
            [
             0.4444444444444444,
             "#bd3786"
            ],
            [
             0.5555555555555556,
             "#d8576b"
            ],
            [
             0.6666666666666666,
             "#ed7953"
            ],
            [
             0.7777777777777778,
             "#fb9f3a"
            ],
            [
             0.8888888888888888,
             "#fdca26"
            ],
            [
             1,
             "#f0f921"
            ]
           ],
           "sequentialminus": [
            [
             0,
             "#0d0887"
            ],
            [
             0.1111111111111111,
             "#46039f"
            ],
            [
             0.2222222222222222,
             "#7201a8"
            ],
            [
             0.3333333333333333,
             "#9c179e"
            ],
            [
             0.4444444444444444,
             "#bd3786"
            ],
            [
             0.5555555555555556,
             "#d8576b"
            ],
            [
             0.6666666666666666,
             "#ed7953"
            ],
            [
             0.7777777777777778,
             "#fb9f3a"
            ],
            [
             0.8888888888888888,
             "#fdca26"
            ],
            [
             1,
             "#f0f921"
            ]
           ]
          },
          "colorway": [
           "#636efa",
           "#EF553B",
           "#00cc96",
           "#ab63fa",
           "#FFA15A",
           "#19d3f3",
           "#FF6692",
           "#B6E880",
           "#FF97FF",
           "#FECB52"
          ],
          "font": {
           "color": "#2a3f5f"
          },
          "geo": {
           "bgcolor": "white",
           "lakecolor": "white",
           "landcolor": "#E5ECF6",
           "showlakes": true,
           "showland": true,
           "subunitcolor": "white"
          },
          "hoverlabel": {
           "align": "left"
          },
          "hovermode": "closest",
          "mapbox": {
           "style": "light"
          },
          "paper_bgcolor": "white",
          "plot_bgcolor": "#E5ECF6",
          "polar": {
           "angularaxis": {
            "gridcolor": "white",
            "linecolor": "white",
            "ticks": ""
           },
           "bgcolor": "#E5ECF6",
           "radialaxis": {
            "gridcolor": "white",
            "linecolor": "white",
            "ticks": ""
           }
          },
          "scene": {
           "xaxis": {
            "backgroundcolor": "#E5ECF6",
            "gridcolor": "white",
            "gridwidth": 2,
            "linecolor": "white",
            "showbackground": true,
            "ticks": "",
            "zerolinecolor": "white"
           },
           "yaxis": {
            "backgroundcolor": "#E5ECF6",
            "gridcolor": "white",
            "gridwidth": 2,
            "linecolor": "white",
            "showbackground": true,
            "ticks": "",
            "zerolinecolor": "white"
           },
           "zaxis": {
            "backgroundcolor": "#E5ECF6",
            "gridcolor": "white",
            "gridwidth": 2,
            "linecolor": "white",
            "showbackground": true,
            "ticks": "",
            "zerolinecolor": "white"
           }
          },
          "shapedefaults": {
           "line": {
            "color": "#2a3f5f"
           }
          },
          "ternary": {
           "aaxis": {
            "gridcolor": "white",
            "linecolor": "white",
            "ticks": ""
           },
           "baxis": {
            "gridcolor": "white",
            "linecolor": "white",
            "ticks": ""
           },
           "bgcolor": "#E5ECF6",
           "caxis": {
            "gridcolor": "white",
            "linecolor": "white",
            "ticks": ""
           }
          },
          "title": {
           "x": 0.05
          },
          "xaxis": {
           "automargin": true,
           "gridcolor": "white",
           "linecolor": "white",
           "ticks": "",
           "title": {
            "standoff": 15
           },
           "zerolinecolor": "white",
           "zerolinewidth": 2
          },
          "yaxis": {
           "automargin": true,
           "gridcolor": "white",
           "linecolor": "white",
           "ticks": "",
           "title": {
            "standoff": 15
           },
           "zerolinecolor": "white",
           "zerolinewidth": 2
          }
         }
        },
        "xaxis": {
         "anchor": "y",
         "categoryarray": [
          "alpine",
          "rb",
          "mclaren",
          "ferrari",
          "mercedes",
          "red_bull"
         ],
         "categoryorder": "array",
         "domain": [
          0,
          1
         ],
         "tickfont": {
          "size": 12
         },
         "title": {
          "text": "Constructor"
         }
        },
        "yaxis": {
         "anchor": "x",
         "domain": [
          0,
          1
         ],
         "tickfont": {
          "size": 12
         },
         "title": {
          "text": "Win Percentage (%)"
         }
        }
       }
      }
     },
     "metadata": {},
     "output_type": "display_data"
    },
    {
     "data": {
      "application/vnd.plotly.v1+json": {
       "config": {
        "plotlyServerURL": "https://plot.ly"
       },
       "data": [
        {
         "alignmentgroup": "True",
         "customdata": [
          [
           "ferrari"
          ],
          [
           "mercedes"
          ],
          [
           "red_bull"
          ],
          [
           "ferrari"
          ],
          [
           "mercedes"
          ],
          [
           "red_bull"
          ],
          [
           "ferrari"
          ],
          [
           "mercedes"
          ],
          [
           "red_bull"
          ],
          [
           "mercedes"
          ],
          [
           "rb"
          ],
          [
           "red_bull"
          ],
          [
           "alpine"
          ],
          [
           "mclaren"
          ],
          [
           "mercedes"
          ],
          [
           "red_bull"
          ],
          [
           "ferrari"
          ],
          [
           "mercedes"
          ],
          [
           "red_bull"
          ],
          [
           "ferrari"
          ],
          [
           "red_bull"
          ],
          [
           "ferrari"
          ],
          [
           "mclaren"
          ],
          [
           "mercedes"
          ],
          [
           "red_bull"
          ]
         ],
         "hovertemplate": "<b>Year:</b> %{x}<br><b>Win Percentage:</b> %{y:.2f}%<extra></extra>",
         "legendgroup": "ferrari",
         "marker": {
          "color": "#ff0000",
          "pattern": {
           "shape": ""
          }
         },
         "name": "ferrari",
         "offsetgroup": "ferrari",
         "orientation": "v",
         "showlegend": true,
         "textposition": "auto",
         "type": "bar",
         "x": [
          2017,
          2018,
          2019,
          2022,
          2023,
          2024
         ],
         "xaxis": "x",
         "y": [
          25,
          28.57142857142857,
          14.285714285714285,
          18.181818181818183,
          4.545454545454546,
          16.666666666666664
         ],
         "yaxis": "y"
        },
        {
         "alignmentgroup": "True",
         "customdata": [
          [
           "ferrari"
          ],
          [
           "mercedes"
          ],
          [
           "red_bull"
          ],
          [
           "ferrari"
          ],
          [
           "mercedes"
          ],
          [
           "red_bull"
          ],
          [
           "ferrari"
          ],
          [
           "mercedes"
          ],
          [
           "red_bull"
          ],
          [
           "mercedes"
          ],
          [
           "rb"
          ],
          [
           "red_bull"
          ],
          [
           "alpine"
          ],
          [
           "mclaren"
          ],
          [
           "mercedes"
          ],
          [
           "red_bull"
          ],
          [
           "ferrari"
          ],
          [
           "mercedes"
          ],
          [
           "red_bull"
          ],
          [
           "ferrari"
          ],
          [
           "red_bull"
          ],
          [
           "ferrari"
          ],
          [
           "mclaren"
          ],
          [
           "mercedes"
          ],
          [
           "red_bull"
          ]
         ],
         "hovertemplate": "<b>Year:</b> %{x}<br><b>Win Percentage:</b> %{y:.2f}%<extra></extra>",
         "legendgroup": "mercedes",
         "marker": {
          "color": "#565F64",
          "pattern": {
           "shape": ""
          }
         },
         "name": "mercedes",
         "offsetgroup": "mercedes",
         "orientation": "v",
         "showlegend": true,
         "textposition": "auto",
         "type": "bar",
         "x": [
          2017,
          2018,
          2019,
          2020,
          2021,
          2022,
          2024
         ],
         "xaxis": "x",
         "y": [
          60,
          52.38095238095239,
          71.42857142857143,
          81.25,
          40.909090909090914,
          4.545454545454546,
          16.666666666666664
         ],
         "yaxis": "y"
        },
        {
         "alignmentgroup": "True",
         "customdata": [
          [
           "ferrari"
          ],
          [
           "mercedes"
          ],
          [
           "red_bull"
          ],
          [
           "ferrari"
          ],
          [
           "mercedes"
          ],
          [
           "red_bull"
          ],
          [
           "ferrari"
          ],
          [
           "mercedes"
          ],
          [
           "red_bull"
          ],
          [
           "mercedes"
          ],
          [
           "rb"
          ],
          [
           "red_bull"
          ],
          [
           "alpine"
          ],
          [
           "mclaren"
          ],
          [
           "mercedes"
          ],
          [
           "red_bull"
          ],
          [
           "ferrari"
          ],
          [
           "mercedes"
          ],
          [
           "red_bull"
          ],
          [
           "ferrari"
          ],
          [
           "red_bull"
          ],
          [
           "ferrari"
          ],
          [
           "mclaren"
          ],
          [
           "mercedes"
          ],
          [
           "red_bull"
          ]
         ],
         "hovertemplate": "<b>Year:</b> %{x}<br><b>Win Percentage:</b> %{y:.2f}%<extra></extra>",
         "legendgroup": "red_bull",
         "marker": {
          "color": "#FDD900",
          "pattern": {
           "shape": ""
          }
         },
         "name": "red_bull",
         "offsetgroup": "red_bull",
         "orientation": "v",
         "showlegend": true,
         "textposition": "auto",
         "type": "bar",
         "x": [
          2017,
          2018,
          2019,
          2020,
          2021,
          2022,
          2023,
          2024
         ],
         "xaxis": "x",
         "y": [
          15,
          19.047619047619047,
          14.285714285714285,
          12.5,
          50,
          77.27272727272727,
          95.45454545454545,
          38.88888888888889
         ],
         "yaxis": "y"
        },
        {
         "alignmentgroup": "True",
         "customdata": [
          [
           "ferrari"
          ],
          [
           "mercedes"
          ],
          [
           "red_bull"
          ],
          [
           "ferrari"
          ],
          [
           "mercedes"
          ],
          [
           "red_bull"
          ],
          [
           "ferrari"
          ],
          [
           "mercedes"
          ],
          [
           "red_bull"
          ],
          [
           "mercedes"
          ],
          [
           "rb"
          ],
          [
           "red_bull"
          ],
          [
           "alpine"
          ],
          [
           "mclaren"
          ],
          [
           "mercedes"
          ],
          [
           "red_bull"
          ],
          [
           "ferrari"
          ],
          [
           "mercedes"
          ],
          [
           "red_bull"
          ],
          [
           "ferrari"
          ],
          [
           "red_bull"
          ],
          [
           "ferrari"
          ],
          [
           "mclaren"
          ],
          [
           "mercedes"
          ],
          [
           "red_bull"
          ]
         ],
         "hovertemplate": "<b>Year:</b> %{x}<br><b>Win Percentage:</b> %{y:.2f}%<extra></extra>",
         "legendgroup": "rb",
         "marker": {
          "color": "#20394C",
          "pattern": {
           "shape": ""
          }
         },
         "name": "rb",
         "offsetgroup": "rb",
         "orientation": "v",
         "showlegend": true,
         "textposition": "auto",
         "type": "bar",
         "x": [
          2020
         ],
         "xaxis": "x",
         "y": [
          6.25
         ],
         "yaxis": "y"
        },
        {
         "alignmentgroup": "True",
         "customdata": [
          [
           "ferrari"
          ],
          [
           "mercedes"
          ],
          [
           "red_bull"
          ],
          [
           "ferrari"
          ],
          [
           "mercedes"
          ],
          [
           "red_bull"
          ],
          [
           "ferrari"
          ],
          [
           "mercedes"
          ],
          [
           "red_bull"
          ],
          [
           "mercedes"
          ],
          [
           "rb"
          ],
          [
           "red_bull"
          ],
          [
           "alpine"
          ],
          [
           "mclaren"
          ],
          [
           "mercedes"
          ],
          [
           "red_bull"
          ],
          [
           "ferrari"
          ],
          [
           "mercedes"
          ],
          [
           "red_bull"
          ],
          [
           "ferrari"
          ],
          [
           "red_bull"
          ],
          [
           "ferrari"
          ],
          [
           "mclaren"
          ],
          [
           "mercedes"
          ],
          [
           "red_bull"
          ]
         ],
         "hovertemplate": "<b>Year:</b> %{x}<br><b>Win Percentage:</b> %{y:.2f}%<extra></extra>",
         "legendgroup": "alpine",
         "marker": {
          "color": "#C71585",
          "pattern": {
           "shape": ""
          }
         },
         "name": "alpine",
         "offsetgroup": "alpine",
         "orientation": "v",
         "showlegend": true,
         "textposition": "auto",
         "type": "bar",
         "x": [
          2021
         ],
         "xaxis": "x",
         "y": [
          4.545454545454546
         ],
         "yaxis": "y"
        },
        {
         "alignmentgroup": "True",
         "customdata": [
          [
           "ferrari"
          ],
          [
           "mercedes"
          ],
          [
           "red_bull"
          ],
          [
           "ferrari"
          ],
          [
           "mercedes"
          ],
          [
           "red_bull"
          ],
          [
           "ferrari"
          ],
          [
           "mercedes"
          ],
          [
           "red_bull"
          ],
          [
           "mercedes"
          ],
          [
           "rb"
          ],
          [
           "red_bull"
          ],
          [
           "alpine"
          ],
          [
           "mclaren"
          ],
          [
           "mercedes"
          ],
          [
           "red_bull"
          ],
          [
           "ferrari"
          ],
          [
           "mercedes"
          ],
          [
           "red_bull"
          ],
          [
           "ferrari"
          ],
          [
           "red_bull"
          ],
          [
           "ferrari"
          ],
          [
           "mclaren"
          ],
          [
           "mercedes"
          ],
          [
           "red_bull"
          ]
         ],
         "hovertemplate": "<b>Year:</b> %{x}<br><b>Win Percentage:</b> %{y:.2f}%<extra></extra>",
         "legendgroup": "mclaren",
         "marker": {
          "color": "#FF8000",
          "pattern": {
           "shape": ""
          }
         },
         "name": "mclaren",
         "offsetgroup": "mclaren",
         "orientation": "v",
         "showlegend": true,
         "textposition": "auto",
         "type": "bar",
         "x": [
          2021,
          2024
         ],
         "xaxis": "x",
         "y": [
          4.545454545454546,
          27.77777777777778
         ],
         "yaxis": "y"
        }
       ],
       "layout": {
        "barmode": "group",
        "hoverlabel": {
         "bgcolor": "white",
         "font": {
          "family": "Arial",
          "size": 12
         }
        },
        "legend": {
         "title": {
          "text": "Constructor"
         },
         "tracegroupgap": 0
        },
        "margin": {
         "t": 60
        },
        "paper_bgcolor": "lightgray",
        "plot_bgcolor": "white",
        "template": {
         "data": {
          "bar": [
           {
            "error_x": {
             "color": "#2a3f5f"
            },
            "error_y": {
             "color": "#2a3f5f"
            },
            "marker": {
             "line": {
              "color": "#E5ECF6",
              "width": 0.5
             },
             "pattern": {
              "fillmode": "overlay",
              "size": 10,
              "solidity": 0.2
             }
            },
            "type": "bar"
           }
          ],
          "barpolar": [
           {
            "marker": {
             "line": {
              "color": "#E5ECF6",
              "width": 0.5
             },
             "pattern": {
              "fillmode": "overlay",
              "size": 10,
              "solidity": 0.2
             }
            },
            "type": "barpolar"
           }
          ],
          "carpet": [
           {
            "aaxis": {
             "endlinecolor": "#2a3f5f",
             "gridcolor": "white",
             "linecolor": "white",
             "minorgridcolor": "white",
             "startlinecolor": "#2a3f5f"
            },
            "baxis": {
             "endlinecolor": "#2a3f5f",
             "gridcolor": "white",
             "linecolor": "white",
             "minorgridcolor": "white",
             "startlinecolor": "#2a3f5f"
            },
            "type": "carpet"
           }
          ],
          "choropleth": [
           {
            "colorbar": {
             "outlinewidth": 0,
             "ticks": ""
            },
            "type": "choropleth"
           }
          ],
          "contour": [
           {
            "colorbar": {
             "outlinewidth": 0,
             "ticks": ""
            },
            "colorscale": [
             [
              0,
              "#0d0887"
             ],
             [
              0.1111111111111111,
              "#46039f"
             ],
             [
              0.2222222222222222,
              "#7201a8"
             ],
             [
              0.3333333333333333,
              "#9c179e"
             ],
             [
              0.4444444444444444,
              "#bd3786"
             ],
             [
              0.5555555555555556,
              "#d8576b"
             ],
             [
              0.6666666666666666,
              "#ed7953"
             ],
             [
              0.7777777777777778,
              "#fb9f3a"
             ],
             [
              0.8888888888888888,
              "#fdca26"
             ],
             [
              1,
              "#f0f921"
             ]
            ],
            "type": "contour"
           }
          ],
          "contourcarpet": [
           {
            "colorbar": {
             "outlinewidth": 0,
             "ticks": ""
            },
            "type": "contourcarpet"
           }
          ],
          "heatmap": [
           {
            "colorbar": {
             "outlinewidth": 0,
             "ticks": ""
            },
            "colorscale": [
             [
              0,
              "#0d0887"
             ],
             [
              0.1111111111111111,
              "#46039f"
             ],
             [
              0.2222222222222222,
              "#7201a8"
             ],
             [
              0.3333333333333333,
              "#9c179e"
             ],
             [
              0.4444444444444444,
              "#bd3786"
             ],
             [
              0.5555555555555556,
              "#d8576b"
             ],
             [
              0.6666666666666666,
              "#ed7953"
             ],
             [
              0.7777777777777778,
              "#fb9f3a"
             ],
             [
              0.8888888888888888,
              "#fdca26"
             ],
             [
              1,
              "#f0f921"
             ]
            ],
            "type": "heatmap"
           }
          ],
          "heatmapgl": [
           {
            "colorbar": {
             "outlinewidth": 0,
             "ticks": ""
            },
            "colorscale": [
             [
              0,
              "#0d0887"
             ],
             [
              0.1111111111111111,
              "#46039f"
             ],
             [
              0.2222222222222222,
              "#7201a8"
             ],
             [
              0.3333333333333333,
              "#9c179e"
             ],
             [
              0.4444444444444444,
              "#bd3786"
             ],
             [
              0.5555555555555556,
              "#d8576b"
             ],
             [
              0.6666666666666666,
              "#ed7953"
             ],
             [
              0.7777777777777778,
              "#fb9f3a"
             ],
             [
              0.8888888888888888,
              "#fdca26"
             ],
             [
              1,
              "#f0f921"
             ]
            ],
            "type": "heatmapgl"
           }
          ],
          "histogram": [
           {
            "marker": {
             "pattern": {
              "fillmode": "overlay",
              "size": 10,
              "solidity": 0.2
             }
            },
            "type": "histogram"
           }
          ],
          "histogram2d": [
           {
            "colorbar": {
             "outlinewidth": 0,
             "ticks": ""
            },
            "colorscale": [
             [
              0,
              "#0d0887"
             ],
             [
              0.1111111111111111,
              "#46039f"
             ],
             [
              0.2222222222222222,
              "#7201a8"
             ],
             [
              0.3333333333333333,
              "#9c179e"
             ],
             [
              0.4444444444444444,
              "#bd3786"
             ],
             [
              0.5555555555555556,
              "#d8576b"
             ],
             [
              0.6666666666666666,
              "#ed7953"
             ],
             [
              0.7777777777777778,
              "#fb9f3a"
             ],
             [
              0.8888888888888888,
              "#fdca26"
             ],
             [
              1,
              "#f0f921"
             ]
            ],
            "type": "histogram2d"
           }
          ],
          "histogram2dcontour": [
           {
            "colorbar": {
             "outlinewidth": 0,
             "ticks": ""
            },
            "colorscale": [
             [
              0,
              "#0d0887"
             ],
             [
              0.1111111111111111,
              "#46039f"
             ],
             [
              0.2222222222222222,
              "#7201a8"
             ],
             [
              0.3333333333333333,
              "#9c179e"
             ],
             [
              0.4444444444444444,
              "#bd3786"
             ],
             [
              0.5555555555555556,
              "#d8576b"
             ],
             [
              0.6666666666666666,
              "#ed7953"
             ],
             [
              0.7777777777777778,
              "#fb9f3a"
             ],
             [
              0.8888888888888888,
              "#fdca26"
             ],
             [
              1,
              "#f0f921"
             ]
            ],
            "type": "histogram2dcontour"
           }
          ],
          "mesh3d": [
           {
            "colorbar": {
             "outlinewidth": 0,
             "ticks": ""
            },
            "type": "mesh3d"
           }
          ],
          "parcoords": [
           {
            "line": {
             "colorbar": {
              "outlinewidth": 0,
              "ticks": ""
             }
            },
            "type": "parcoords"
           }
          ],
          "pie": [
           {
            "automargin": true,
            "type": "pie"
           }
          ],
          "scatter": [
           {
            "fillpattern": {
             "fillmode": "overlay",
             "size": 10,
             "solidity": 0.2
            },
            "type": "scatter"
           }
          ],
          "scatter3d": [
           {
            "line": {
             "colorbar": {
              "outlinewidth": 0,
              "ticks": ""
             }
            },
            "marker": {
             "colorbar": {
              "outlinewidth": 0,
              "ticks": ""
             }
            },
            "type": "scatter3d"
           }
          ],
          "scattercarpet": [
           {
            "marker": {
             "colorbar": {
              "outlinewidth": 0,
              "ticks": ""
             }
            },
            "type": "scattercarpet"
           }
          ],
          "scattergeo": [
           {
            "marker": {
             "colorbar": {
              "outlinewidth": 0,
              "ticks": ""
             }
            },
            "type": "scattergeo"
           }
          ],
          "scattergl": [
           {
            "marker": {
             "colorbar": {
              "outlinewidth": 0,
              "ticks": ""
             }
            },
            "type": "scattergl"
           }
          ],
          "scattermapbox": [
           {
            "marker": {
             "colorbar": {
              "outlinewidth": 0,
              "ticks": ""
             }
            },
            "type": "scattermapbox"
           }
          ],
          "scatterpolar": [
           {
            "marker": {
             "colorbar": {
              "outlinewidth": 0,
              "ticks": ""
             }
            },
            "type": "scatterpolar"
           }
          ],
          "scatterpolargl": [
           {
            "marker": {
             "colorbar": {
              "outlinewidth": 0,
              "ticks": ""
             }
            },
            "type": "scatterpolargl"
           }
          ],
          "scatterternary": [
           {
            "marker": {
             "colorbar": {
              "outlinewidth": 0,
              "ticks": ""
             }
            },
            "type": "scatterternary"
           }
          ],
          "surface": [
           {
            "colorbar": {
             "outlinewidth": 0,
             "ticks": ""
            },
            "colorscale": [
             [
              0,
              "#0d0887"
             ],
             [
              0.1111111111111111,
              "#46039f"
             ],
             [
              0.2222222222222222,
              "#7201a8"
             ],
             [
              0.3333333333333333,
              "#9c179e"
             ],
             [
              0.4444444444444444,
              "#bd3786"
             ],
             [
              0.5555555555555556,
              "#d8576b"
             ],
             [
              0.6666666666666666,
              "#ed7953"
             ],
             [
              0.7777777777777778,
              "#fb9f3a"
             ],
             [
              0.8888888888888888,
              "#fdca26"
             ],
             [
              1,
              "#f0f921"
             ]
            ],
            "type": "surface"
           }
          ],
          "table": [
           {
            "cells": {
             "fill": {
              "color": "#EBF0F8"
             },
             "line": {
              "color": "white"
             }
            },
            "header": {
             "fill": {
              "color": "#C8D4E3"
             },
             "line": {
              "color": "white"
             }
            },
            "type": "table"
           }
          ]
         },
         "layout": {
          "annotationdefaults": {
           "arrowcolor": "#2a3f5f",
           "arrowhead": 0,
           "arrowwidth": 1
          },
          "autotypenumbers": "strict",
          "coloraxis": {
           "colorbar": {
            "outlinewidth": 0,
            "ticks": ""
           }
          },
          "colorscale": {
           "diverging": [
            [
             0,
             "#8e0152"
            ],
            [
             0.1,
             "#c51b7d"
            ],
            [
             0.2,
             "#de77ae"
            ],
            [
             0.3,
             "#f1b6da"
            ],
            [
             0.4,
             "#fde0ef"
            ],
            [
             0.5,
             "#f7f7f7"
            ],
            [
             0.6,
             "#e6f5d0"
            ],
            [
             0.7,
             "#b8e186"
            ],
            [
             0.8,
             "#7fbc41"
            ],
            [
             0.9,
             "#4d9221"
            ],
            [
             1,
             "#276419"
            ]
           ],
           "sequential": [
            [
             0,
             "#0d0887"
            ],
            [
             0.1111111111111111,
             "#46039f"
            ],
            [
             0.2222222222222222,
             "#7201a8"
            ],
            [
             0.3333333333333333,
             "#9c179e"
            ],
            [
             0.4444444444444444,
             "#bd3786"
            ],
            [
             0.5555555555555556,
             "#d8576b"
            ],
            [
             0.6666666666666666,
             "#ed7953"
            ],
            [
             0.7777777777777778,
             "#fb9f3a"
            ],
            [
             0.8888888888888888,
             "#fdca26"
            ],
            [
             1,
             "#f0f921"
            ]
           ],
           "sequentialminus": [
            [
             0,
             "#0d0887"
            ],
            [
             0.1111111111111111,
             "#46039f"
            ],
            [
             0.2222222222222222,
             "#7201a8"
            ],
            [
             0.3333333333333333,
             "#9c179e"
            ],
            [
             0.4444444444444444,
             "#bd3786"
            ],
            [
             0.5555555555555556,
             "#d8576b"
            ],
            [
             0.6666666666666666,
             "#ed7953"
            ],
            [
             0.7777777777777778,
             "#fb9f3a"
            ],
            [
             0.8888888888888888,
             "#fdca26"
            ],
            [
             1,
             "#f0f921"
            ]
           ]
          },
          "colorway": [
           "#636efa",
           "#EF553B",
           "#00cc96",
           "#ab63fa",
           "#FFA15A",
           "#19d3f3",
           "#FF6692",
           "#B6E880",
           "#FF97FF",
           "#FECB52"
          ],
          "font": {
           "color": "#2a3f5f"
          },
          "geo": {
           "bgcolor": "white",
           "lakecolor": "white",
           "landcolor": "#E5ECF6",
           "showlakes": true,
           "showland": true,
           "subunitcolor": "white"
          },
          "hoverlabel": {
           "align": "left"
          },
          "hovermode": "closest",
          "mapbox": {
           "style": "light"
          },
          "paper_bgcolor": "white",
          "plot_bgcolor": "#E5ECF6",
          "polar": {
           "angularaxis": {
            "gridcolor": "white",
            "linecolor": "white",
            "ticks": ""
           },
           "bgcolor": "#E5ECF6",
           "radialaxis": {
            "gridcolor": "white",
            "linecolor": "white",
            "ticks": ""
           }
          },
          "scene": {
           "xaxis": {
            "backgroundcolor": "#E5ECF6",
            "gridcolor": "white",
            "gridwidth": 2,
            "linecolor": "white",
            "showbackground": true,
            "ticks": "",
            "zerolinecolor": "white"
           },
           "yaxis": {
            "backgroundcolor": "#E5ECF6",
            "gridcolor": "white",
            "gridwidth": 2,
            "linecolor": "white",
            "showbackground": true,
            "ticks": "",
            "zerolinecolor": "white"
           },
           "zaxis": {
            "backgroundcolor": "#E5ECF6",
            "gridcolor": "white",
            "gridwidth": 2,
            "linecolor": "white",
            "showbackground": true,
            "ticks": "",
            "zerolinecolor": "white"
           }
          },
          "shapedefaults": {
           "line": {
            "color": "#2a3f5f"
           }
          },
          "ternary": {
           "aaxis": {
            "gridcolor": "white",
            "linecolor": "white",
            "ticks": ""
           },
           "baxis": {
            "gridcolor": "white",
            "linecolor": "white",
            "ticks": ""
           },
           "bgcolor": "#E5ECF6",
           "caxis": {
            "gridcolor": "white",
            "linecolor": "white",
            "ticks": ""
           }
          },
          "title": {
           "x": 0.05
          },
          "xaxis": {
           "automargin": true,
           "gridcolor": "white",
           "linecolor": "white",
           "ticks": "",
           "title": {
            "standoff": 15
           },
           "zerolinecolor": "white",
           "zerolinewidth": 2
          },
          "yaxis": {
           "automargin": true,
           "gridcolor": "white",
           "linecolor": "white",
           "ticks": "",
           "title": {
            "standoff": 15
           },
           "zerolinecolor": "white",
           "zerolinewidth": 2
          }
         }
        },
        "xaxis": {
         "anchor": "y",
         "domain": [
          0,
          1
         ],
         "tickfont": {
          "size": 12
         },
         "title": {
          "text": "Year"
         }
        },
        "yaxis": {
         "anchor": "x",
         "domain": [
          0,
          1
         ],
         "tickfont": {
          "size": 12
         },
         "title": {
          "text": "Win Percentage (%)"
         }
        }
       }
      }
     },
     "metadata": {},
     "output_type": "display_data"
    }
   ],
   "source": [
    "def load_constructor_standings_data():\n",
    "    df = pd.read_csv('constructor_standings.csv')\n",
    "\n",
    "    df['constructorId'] = df['constructorId'].replace({'alphatauri': 'rb'})\n",
    "    df['constructorName'] = df['constructorName'].replace({'AlphaTauri': 'RB F1 Team'})\n",
    "    \n",
    "    return df\n",
    "\n",
    "def plot_constructor_ranking_vs_year(start_year=2017, end_year=2024):\n",
    "    \"\"\"Creates a line chart for Constructor Ranking vs Year, excluding discontinued teams, within a specified year range.\"\"\"\n",
    "    \n",
    "    df_constructor_standings = load_constructor_standings_data()\n",
    "\n",
    "    discontinued_teams = ['toro_rosso', 'force_india', 'racing_point']\n",
    "    df_constructor_standings = df_constructor_standings[~df_constructor_standings['constructorId'].isin(discontinued_teams)]\n",
    "\n",
    "    df_constructor_standings = df_constructor_standings[\n",
    "        (df_constructor_standings['season'] >= start_year) &\n",
    "        (df_constructor_standings['season'] <= end_year)\n",
    "    ]\n",
    "\n",
    "    df_constructor_standings['season'] = df_constructor_standings['season'].astype(int)\n",
    "    df_constructor_standings['position'] = df_constructor_standings['position'].astype(int)\n",
    "\n",
    "    brand_colors = {\n",
    "        'mercedes': '#565F64',\n",
    "        'ferrari': '#ff0000',\n",
    "        'williams': '#00A0DE',\n",
    "        'renault': '#FFFF00',\n",
    "        'haas': '#E6002B',\n",
    "        'mclaren': '#FF8000',\n",
    "        'sauber': '#90EE90',\n",
    "        'alfa': '#000000',\n",
    "        'alphatauri': '#00008B',\n",
    "        'alpine': '#C71585',\n",
    "        'aston_martin': '#006400',\n",
    "        'red_bull': '#FDD900',\n",
    "        'rb': '#20394C'\n",
    "    }\n",
    "\n",
    "    fig = px.line(\n",
    "        df_constructor_standings,\n",
    "        x='season',\n",
    "        y='position',\n",
    "        color='constructorId',\n",
    "        labels={\n",
    "            'season': 'Year',\n",
    "            'position': 'Ranking',\n",
    "            'constructorId': 'Constructor'\n",
    "        },\n",
    "        markers=True,\n",
    "        color_discrete_map=brand_colors\n",
    "    )\n",
    "\n",
    "    fig.update_yaxes(autorange=\"reversed\", tickvals=[1, 2, 3, 4, 5, 6, 7, 8, 9, 10])\n",
    "\n",
    "    fig.update_layout(\n",
    "        xaxis=dict(title='Year', tickfont=dict(size=12), tickvals=list(range(start_year, end_year + 1))),\n",
    "        yaxis=dict(title='Ranking', tickfont=dict(size=12)),\n",
    "        plot_bgcolor='white',\n",
    "        paper_bgcolor='lightgray',\n",
    "        hoverlabel=dict(bgcolor=\"white\", font_size=12, font_family=\"Arial\")\n",
    "    )\n",
    "\n",
    "    return fig\n",
    "\n",
    "def plot_constructor_wins_vs_year(start_year=2017, end_year=2024):\n",
    "    \"\"\"Creates a line chart for Number of Wins vs Year within a specified range.\"\"\"\n",
    "    \n",
    "    df_constructor_standings = load_constructor_standings_data()\n",
    "\n",
    "    discontinued_teams = ['toro_rosso', 'force_india', 'racing_point']\n",
    "    df_constructor_standings = df_constructor_standings[~df_constructor_standings['constructorId'].isin(discontinued_teams)]\n",
    "\n",
    "    df_constructor_standings['season'] = df_constructor_standings['season'].astype(int)\n",
    "    df_constructor_standings['wins'] = df_constructor_standings['wins'].astype(int)\n",
    "    \n",
    "    df_filtered = df_constructor_standings[(df_constructor_standings['season'] >= start_year) & \n",
    "                                           (df_constructor_standings['season'] <= end_year)]\n",
    "\n",
    "    brand_colors = {\n",
    "        'mercedes': '#565F64',\n",
    "        'ferrari': '#ff0000',\n",
    "        'williams': '#00A0DE',\n",
    "        'renault': '#FFFF00',\n",
    "        'haas': '#E6002B',\n",
    "        'mclaren': '#FF8000',\n",
    "        'sauber': '#90EE90',\n",
    "        'alfa': '#000000',\n",
    "        'alphatauri': '#00008B',\n",
    "        'alpine': '#C71585',\n",
    "        'aston_martin': '#006400',\n",
    "        'red_bull': '#FDD900',\n",
    "        'rb': '#20394C'\n",
    "    }\n",
    "\n",
    "    fig = px.line(\n",
    "        df_filtered,\n",
    "        x='season',\n",
    "        y='wins',\n",
    "        color='constructorId',\n",
    "        labels={\n",
    "            'season': 'Year',\n",
    "            'wins': 'Number of Wins',\n",
    "            'constructorId': 'Constructor'\n",
    "        },\n",
    "        markers=True,\n",
    "        color_discrete_map=brand_colors\n",
    "    )\n",
    "\n",
    "    fig.update_layout(\n",
    "        xaxis=dict(title='Year', tickfont=dict(size=12), tickvals=list(range(start_year, end_year + 1))),\n",
    "        yaxis=dict(title='Number of Wins', tickfont=dict(size=12)),\n",
    "        plot_bgcolor='white',\n",
    "        paper_bgcolor='lightgray',\n",
    "        hoverlabel=dict(bgcolor=\"white\", font_size=12, font_family=\"Arial\")\n",
    "    )\n",
    "\n",
    "    return fig\n",
    "\n",
    "def plot_constructor_points_vs_year(start_year=2017, end_year=2024):\n",
    "    \"\"\"Creates a line chart for Points vs Year for each constructor within a specified range.\"\"\"\n",
    "    \n",
    "    df_constructor_standings = load_constructor_standings_data()\n",
    "\n",
    "    discontinued_teams = ['toro_rosso', 'force_india', 'racing_point']\n",
    "    df_constructor_standings = df_constructor_standings[~df_constructor_standings['constructorId'].isin(discontinued_teams)]\n",
    "\n",
    "    df_constructor_standings['season'] = df_constructor_standings['season'].astype(int)\n",
    "    df_constructor_standings['points'] = df_constructor_standings['points'].astype(float)\n",
    "    \n",
    "    # Filter data within the selected year range\n",
    "    df_filtered = df_constructor_standings[(df_constructor_standings['season'] >= start_year) & \n",
    "                                           (df_constructor_standings['season'] <= end_year)]\n",
    "\n",
    "    brand_colors = {\n",
    "        'mercedes': '#565F64',\n",
    "        'ferrari': '#ff0000',\n",
    "        'williams': '#00A0DE',\n",
    "        'renault': '#FFFF00',\n",
    "        'haas': '#E6002B',\n",
    "        'mclaren': '#FF8000',\n",
    "        'sauber': '#90EE90',\n",
    "        'alfa': '#000000',\n",
    "        'alphatauri': '#00008B',\n",
    "        'alpine': '#C71585',\n",
    "        'aston_martin': '#006400',\n",
    "        'red_bull': '#FDD900',\n",
    "        'rb': '#20394C'\n",
    "    }\n",
    "\n",
    "    fig = px.line(\n",
    "        df_filtered,\n",
    "        x='season',\n",
    "        y='points',\n",
    "        color='constructorId',\n",
    "        labels={\n",
    "            'season': 'Year',\n",
    "            'points': 'Points',\n",
    "            'constructorId': 'Constructor'\n",
    "        },\n",
    "        markers=True,\n",
    "        color_discrete_map=brand_colors\n",
    "    )\n",
    "\n",
    "    fig.update_layout(\n",
    "        xaxis=dict(title='Year', tickfont=dict(size=12), tickvals=list(range(start_year, end_year + 1))),\n",
    "        yaxis=dict(title='Points', tickfont=dict(size=12)),\n",
    "        plot_bgcolor='white',\n",
    "        paper_bgcolor='lightgray',\n",
    "        hoverlabel=dict(bgcolor=\"white\", font_size=12, font_family=\"Arial\")\n",
    "    )\n",
    "\n",
    "    return fig\n",
    "\n",
    "def plot_constructor_points_distribution_per_year():\n",
    "    \"\"\"Creates a box plot for the distribution of constructor points per year.\"\"\"\n",
    "    \n",
    "    df_constructor_standings = load_constructor_standings_data()\n",
    "\n",
    "    discontinued_teams = ['toro_rosso', 'force_india', 'racing_point']\n",
    "    df_constructor_standings = df_constructor_standings[~df_constructor_standings['constructorId'].isin(discontinued_teams)]\n",
    "\n",
    "    df_constructor_standings['season'] = df_constructor_standings['season'].astype(int)\n",
    "    df_constructor_standings['points'] = df_constructor_standings['points'].astype(float)\n",
    "\n",
    "    fig = px.box(\n",
    "        df_constructor_standings,\n",
    "        x='season',\n",
    "        y='points',\n",
    "        labels={\n",
    "            'season': 'Year',\n",
    "            'points': 'Points'\n",
    "        }\n",
    "    )\n",
    "\n",
    "    fig.update_layout(\n",
    "        xaxis=dict(title='Year', tickfont=dict(size=12)),\n",
    "        yaxis=dict(title='Points', tickfont=dict(size=12)),\n",
    "        plot_bgcolor='white',\n",
    "        margin=dict(l=50, r=50, t=50, b=50),\n",
    "        paper_bgcolor='lightgray',\n",
    "        hoverlabel=dict(bgcolor=\"white\", font_size=12, font_family=\"Arial\")\n",
    "    )\n",
    "\n",
    "    return fig\n",
    "\n",
    "def calculate_win_percentage(df):\n",
    "    \"\"\"Calculates overall and year-by-year win percentage for constructors and filters out zero-win and discontinued teams.\"\"\"\n",
    "    \n",
    "    discontinued_teams = ['toro_rosso', 'force_india', 'racing_point']\n",
    "    df = df[~df['constructorId'].isin(discontinued_teams)]\n",
    "\n",
    "    overall_wins = df.groupby('constructorId')['wins'].sum().reset_index()\n",
    "    overall_wins['win_percentage'] = (overall_wins['wins'] / overall_wins['wins'].sum()) * 100\n",
    "\n",
    "    overall_wins = overall_wins[overall_wins['win_percentage'] > 0]\n",
    "    \n",
    "    overall_wins = overall_wins.sort_values(by='win_percentage', ascending=True)\n",
    "\n",
    "    yearly_wins = df.groupby(['season', 'constructorId'])['wins'].sum().reset_index()\n",
    "    yearly_races = df.groupby('season')['wins'].sum().reset_index().rename(columns={'wins': 'total_wins_per_year'})\n",
    "    yearly_wins = yearly_wins.merge(yearly_races, on='season')\n",
    "    yearly_wins['win_percentage'] = (yearly_wins['wins'] / yearly_wins['total_wins_per_year']) * 100\n",
    "\n",
    "    yearly_wins = yearly_wins[yearly_wins['win_percentage'] > 0]\n",
    "\n",
    "    return overall_wins, yearly_wins\n",
    "\n",
    "def plot_overall_win_percentage():\n",
    "    \"\"\"Creates a bar chart for overall win percentage per constructor, excluding zero-win and discontinued teams.\"\"\"\n",
    "    df_constructor_standings = load_constructor_standings_data()\n",
    "    overall_wins, _ = calculate_win_percentage(df_constructor_standings)\n",
    "    \n",
    "    brand_colors = {\n",
    "        'mercedes': '#565F64',\n",
    "        'ferrari': '#ff0000',\n",
    "        'williams': '#00A0DE',\n",
    "        'renault': '#FFFF00',\n",
    "        'haas': '#E6002B',\n",
    "        'mclaren': '#FF8000',\n",
    "        'sauber': '#90EE90',\n",
    "        'alfa': '#000000',\n",
    "        'alphatauri': '#00008B',\n",
    "        'alpine': '#C71585',\n",
    "        'aston_martin': '#006400',\n",
    "        'red_bull': '#FDD900',\n",
    "        'rb': '#20394C'\n",
    "    }\n",
    "\n",
    "    fig = px.bar(\n",
    "        overall_wins,\n",
    "        x='constructorId',\n",
    "        y='win_percentage',\n",
    "        labels={'constructorId': 'Constructor', 'win_percentage': 'Win Percentage (%)'},\n",
    "        text='win_percentage',\n",
    "        color='constructorId',\n",
    "        color_discrete_map=brand_colors  # Apply the brand colors here\n",
    "    )\n",
    "\n",
    "    fig.update_layout(\n",
    "        xaxis=dict(title='Constructor', tickfont=dict(size=12)),\n",
    "        yaxis=dict(title='Win Percentage (%)', tickfont=dict(size=12)),\n",
    "        margin=dict(l=50, r=50, t=50, b=50),\n",
    "        plot_bgcolor='white',\n",
    "        paper_bgcolor='lightgray',\n",
    "        hoverlabel=dict(bgcolor=\"white\", font_size=12, font_family=\"Arial\")\n",
    "    )\n",
    "    \n",
    "    fig.update_traces(texttemplate='%{text:.2f}%', textposition='outside')\n",
    "\n",
    "    return fig\n",
    "\n",
    "def plot_yearly_win_percentage():\n",
    "    \"\"\"Creates a bar chart for yearly win percentage per constructor, excluding zero-win and discontinued teams.\"\"\"\n",
    "    df_constructor_standings = load_constructor_standings_data()\n",
    "    _, yearly_wins = calculate_win_percentage(df_constructor_standings)\n",
    "\n",
    "    brand_colors = {\n",
    "        'mercedes': '#565F64',\n",
    "        'ferrari': '#ff0000',\n",
    "        'williams': '#00A0DE',\n",
    "        'renault': '#FFFF00',\n",
    "        'haas': '#E6002B',\n",
    "        'mclaren': '#FF8000',\n",
    "        'sauber': '#90EE90',\n",
    "        'alfa': '#000000',\n",
    "        'alphatauri': '#00008B',\n",
    "        'alpine': '#C71585',\n",
    "        'aston_martin': '#006400',\n",
    "        'red_bull': '#FDD900',\n",
    "        'rb': '#20394C'\n",
    "    }\n",
    "    \n",
    "    fig = px.bar(\n",
    "        yearly_wins,\n",
    "        x='season',\n",
    "        y='win_percentage',\n",
    "        color='constructorId',\n",
    "        barmode='group',\n",
    "        labels={'season': 'Year', 'win_percentage': 'Win Percentage (%)', 'constructorId': 'Constructor'},\n",
    "        color_discrete_map=brand_colors,\n",
    "    )\n",
    "    \n",
    "    fig.update_layout(\n",
    "        xaxis=dict(title='Year', tickfont=dict(size=12)),\n",
    "        yaxis=dict(title='Win Percentage (%)', tickfont=dict(size=12)),\n",
    "        plot_bgcolor='white',\n",
    "        paper_bgcolor='lightgray',\n",
    "        hoverlabel=dict(bgcolor=\"white\", font_size=12, font_family=\"Arial\")\n",
    "    )\n",
    "    \n",
    "    fig.update_traces(\n",
    "        hovertemplate='<b>Year:</b> %{x}<br>' +\n",
    "                      '<b>Win Percentage:</b> %{y:.2f}%<extra></extra>',\n",
    "        customdata=yearly_wins[['constructorId']].values\n",
    "    )\n",
    "    \n",
    "    return fig\n",
    "\n",
    "plot_constructor_ranking_vs_year().show()\n",
    "plot_constructor_wins_vs_year().show()\n",
    "plot_constructor_points_vs_year().show()\n",
    "plot_constructor_points_distribution_per_year().show()\n",
    "plot_overall_win_percentage().show()\n",
    "plot_yearly_win_percentage().show()"
   ]
  },
  {
   "cell_type": "markdown",
   "metadata": {},
   "source": [
    "## Driver Standing"
   ]
  },
  {
   "cell_type": "code",
   "execution_count": 5,
   "metadata": {},
   "outputs": [
    {
     "data": {
      "application/vnd.plotly.v1+json": {
       "config": {
        "plotlyServerURL": "https://plot.ly"
       },
       "data": [
        {
         "alignmentgroup": "True",
         "hovertemplate": "Driver=%{x}<br>Total Points=%{marker.color}<extra></extra>",
         "legendgroup": "",
         "marker": {
          "color": [
           2664.5,
           2566.5,
           1386,
           1319,
           1263,
           1108.5,
           990,
           912,
           713,
           624
          ],
          "coloraxis": "coloraxis",
          "pattern": {
           "shape": ""
          }
         },
         "name": "",
         "offsetgroup": "",
         "orientation": "v",
         "showlegend": false,
         "text": [
          2664.5,
          2566.5,
          1386,
          1319,
          1263,
          1108.5,
          990,
          912,
          713,
          624
         ],
         "textposition": "outside",
         "texttemplate": "%{text:.0f}",
         "type": "bar",
         "x": [
          "max_verstappen",
          "hamilton",
          "bottas",
          "leclerc",
          "perez",
          "sainz",
          "vettel",
          "norris",
          "ricciardo",
          "russell"
         ],
         "xaxis": "x",
         "y": [
          2664.5,
          2566.5,
          1386,
          1319,
          1263,
          1108.5,
          990,
          912,
          713,
          624
         ],
         "yaxis": "y"
        }
       ],
       "layout": {
        "barmode": "relative",
        "coloraxis": {
         "colorbar": {
          "title": {
           "text": "Total Points"
          }
         },
         "colorscale": [
          [
           0,
           "#440154"
          ],
          [
           0.1111111111111111,
           "#482878"
          ],
          [
           0.2222222222222222,
           "#3e4989"
          ],
          [
           0.3333333333333333,
           "#31688e"
          ],
          [
           0.4444444444444444,
           "#26828e"
          ],
          [
           0.5555555555555556,
           "#1f9e89"
          ],
          [
           0.6666666666666666,
           "#35b779"
          ],
          [
           0.7777777777777778,
           "#6ece58"
          ],
          [
           0.8888888888888888,
           "#b5de2b"
          ],
          [
           1,
           "#fde725"
          ]
         ]
        },
        "hoverlabel": {
         "bgcolor": "white",
         "font": {
          "family": "Arial",
          "size": 12
         }
        },
        "legend": {
         "tracegroupgap": 0
        },
        "margin": {
         "t": 60
        },
        "paper_bgcolor": "lightgray",
        "plot_bgcolor": "white",
        "template": {
         "data": {
          "bar": [
           {
            "error_x": {
             "color": "#2a3f5f"
            },
            "error_y": {
             "color": "#2a3f5f"
            },
            "marker": {
             "line": {
              "color": "#E5ECF6",
              "width": 0.5
             },
             "pattern": {
              "fillmode": "overlay",
              "size": 10,
              "solidity": 0.2
             }
            },
            "type": "bar"
           }
          ],
          "barpolar": [
           {
            "marker": {
             "line": {
              "color": "#E5ECF6",
              "width": 0.5
             },
             "pattern": {
              "fillmode": "overlay",
              "size": 10,
              "solidity": 0.2
             }
            },
            "type": "barpolar"
           }
          ],
          "carpet": [
           {
            "aaxis": {
             "endlinecolor": "#2a3f5f",
             "gridcolor": "white",
             "linecolor": "white",
             "minorgridcolor": "white",
             "startlinecolor": "#2a3f5f"
            },
            "baxis": {
             "endlinecolor": "#2a3f5f",
             "gridcolor": "white",
             "linecolor": "white",
             "minorgridcolor": "white",
             "startlinecolor": "#2a3f5f"
            },
            "type": "carpet"
           }
          ],
          "choropleth": [
           {
            "colorbar": {
             "outlinewidth": 0,
             "ticks": ""
            },
            "type": "choropleth"
           }
          ],
          "contour": [
           {
            "colorbar": {
             "outlinewidth": 0,
             "ticks": ""
            },
            "colorscale": [
             [
              0,
              "#0d0887"
             ],
             [
              0.1111111111111111,
              "#46039f"
             ],
             [
              0.2222222222222222,
              "#7201a8"
             ],
             [
              0.3333333333333333,
              "#9c179e"
             ],
             [
              0.4444444444444444,
              "#bd3786"
             ],
             [
              0.5555555555555556,
              "#d8576b"
             ],
             [
              0.6666666666666666,
              "#ed7953"
             ],
             [
              0.7777777777777778,
              "#fb9f3a"
             ],
             [
              0.8888888888888888,
              "#fdca26"
             ],
             [
              1,
              "#f0f921"
             ]
            ],
            "type": "contour"
           }
          ],
          "contourcarpet": [
           {
            "colorbar": {
             "outlinewidth": 0,
             "ticks": ""
            },
            "type": "contourcarpet"
           }
          ],
          "heatmap": [
           {
            "colorbar": {
             "outlinewidth": 0,
             "ticks": ""
            },
            "colorscale": [
             [
              0,
              "#0d0887"
             ],
             [
              0.1111111111111111,
              "#46039f"
             ],
             [
              0.2222222222222222,
              "#7201a8"
             ],
             [
              0.3333333333333333,
              "#9c179e"
             ],
             [
              0.4444444444444444,
              "#bd3786"
             ],
             [
              0.5555555555555556,
              "#d8576b"
             ],
             [
              0.6666666666666666,
              "#ed7953"
             ],
             [
              0.7777777777777778,
              "#fb9f3a"
             ],
             [
              0.8888888888888888,
              "#fdca26"
             ],
             [
              1,
              "#f0f921"
             ]
            ],
            "type": "heatmap"
           }
          ],
          "heatmapgl": [
           {
            "colorbar": {
             "outlinewidth": 0,
             "ticks": ""
            },
            "colorscale": [
             [
              0,
              "#0d0887"
             ],
             [
              0.1111111111111111,
              "#46039f"
             ],
             [
              0.2222222222222222,
              "#7201a8"
             ],
             [
              0.3333333333333333,
              "#9c179e"
             ],
             [
              0.4444444444444444,
              "#bd3786"
             ],
             [
              0.5555555555555556,
              "#d8576b"
             ],
             [
              0.6666666666666666,
              "#ed7953"
             ],
             [
              0.7777777777777778,
              "#fb9f3a"
             ],
             [
              0.8888888888888888,
              "#fdca26"
             ],
             [
              1,
              "#f0f921"
             ]
            ],
            "type": "heatmapgl"
           }
          ],
          "histogram": [
           {
            "marker": {
             "pattern": {
              "fillmode": "overlay",
              "size": 10,
              "solidity": 0.2
             }
            },
            "type": "histogram"
           }
          ],
          "histogram2d": [
           {
            "colorbar": {
             "outlinewidth": 0,
             "ticks": ""
            },
            "colorscale": [
             [
              0,
              "#0d0887"
             ],
             [
              0.1111111111111111,
              "#46039f"
             ],
             [
              0.2222222222222222,
              "#7201a8"
             ],
             [
              0.3333333333333333,
              "#9c179e"
             ],
             [
              0.4444444444444444,
              "#bd3786"
             ],
             [
              0.5555555555555556,
              "#d8576b"
             ],
             [
              0.6666666666666666,
              "#ed7953"
             ],
             [
              0.7777777777777778,
              "#fb9f3a"
             ],
             [
              0.8888888888888888,
              "#fdca26"
             ],
             [
              1,
              "#f0f921"
             ]
            ],
            "type": "histogram2d"
           }
          ],
          "histogram2dcontour": [
           {
            "colorbar": {
             "outlinewidth": 0,
             "ticks": ""
            },
            "colorscale": [
             [
              0,
              "#0d0887"
             ],
             [
              0.1111111111111111,
              "#46039f"
             ],
             [
              0.2222222222222222,
              "#7201a8"
             ],
             [
              0.3333333333333333,
              "#9c179e"
             ],
             [
              0.4444444444444444,
              "#bd3786"
             ],
             [
              0.5555555555555556,
              "#d8576b"
             ],
             [
              0.6666666666666666,
              "#ed7953"
             ],
             [
              0.7777777777777778,
              "#fb9f3a"
             ],
             [
              0.8888888888888888,
              "#fdca26"
             ],
             [
              1,
              "#f0f921"
             ]
            ],
            "type": "histogram2dcontour"
           }
          ],
          "mesh3d": [
           {
            "colorbar": {
             "outlinewidth": 0,
             "ticks": ""
            },
            "type": "mesh3d"
           }
          ],
          "parcoords": [
           {
            "line": {
             "colorbar": {
              "outlinewidth": 0,
              "ticks": ""
             }
            },
            "type": "parcoords"
           }
          ],
          "pie": [
           {
            "automargin": true,
            "type": "pie"
           }
          ],
          "scatter": [
           {
            "fillpattern": {
             "fillmode": "overlay",
             "size": 10,
             "solidity": 0.2
            },
            "type": "scatter"
           }
          ],
          "scatter3d": [
           {
            "line": {
             "colorbar": {
              "outlinewidth": 0,
              "ticks": ""
             }
            },
            "marker": {
             "colorbar": {
              "outlinewidth": 0,
              "ticks": ""
             }
            },
            "type": "scatter3d"
           }
          ],
          "scattercarpet": [
           {
            "marker": {
             "colorbar": {
              "outlinewidth": 0,
              "ticks": ""
             }
            },
            "type": "scattercarpet"
           }
          ],
          "scattergeo": [
           {
            "marker": {
             "colorbar": {
              "outlinewidth": 0,
              "ticks": ""
             }
            },
            "type": "scattergeo"
           }
          ],
          "scattergl": [
           {
            "marker": {
             "colorbar": {
              "outlinewidth": 0,
              "ticks": ""
             }
            },
            "type": "scattergl"
           }
          ],
          "scattermapbox": [
           {
            "marker": {
             "colorbar": {
              "outlinewidth": 0,
              "ticks": ""
             }
            },
            "type": "scattermapbox"
           }
          ],
          "scatterpolar": [
           {
            "marker": {
             "colorbar": {
              "outlinewidth": 0,
              "ticks": ""
             }
            },
            "type": "scatterpolar"
           }
          ],
          "scatterpolargl": [
           {
            "marker": {
             "colorbar": {
              "outlinewidth": 0,
              "ticks": ""
             }
            },
            "type": "scatterpolargl"
           }
          ],
          "scatterternary": [
           {
            "marker": {
             "colorbar": {
              "outlinewidth": 0,
              "ticks": ""
             }
            },
            "type": "scatterternary"
           }
          ],
          "surface": [
           {
            "colorbar": {
             "outlinewidth": 0,
             "ticks": ""
            },
            "colorscale": [
             [
              0,
              "#0d0887"
             ],
             [
              0.1111111111111111,
              "#46039f"
             ],
             [
              0.2222222222222222,
              "#7201a8"
             ],
             [
              0.3333333333333333,
              "#9c179e"
             ],
             [
              0.4444444444444444,
              "#bd3786"
             ],
             [
              0.5555555555555556,
              "#d8576b"
             ],
             [
              0.6666666666666666,
              "#ed7953"
             ],
             [
              0.7777777777777778,
              "#fb9f3a"
             ],
             [
              0.8888888888888888,
              "#fdca26"
             ],
             [
              1,
              "#f0f921"
             ]
            ],
            "type": "surface"
           }
          ],
          "table": [
           {
            "cells": {
             "fill": {
              "color": "#EBF0F8"
             },
             "line": {
              "color": "white"
             }
            },
            "header": {
             "fill": {
              "color": "#C8D4E3"
             },
             "line": {
              "color": "white"
             }
            },
            "type": "table"
           }
          ]
         },
         "layout": {
          "annotationdefaults": {
           "arrowcolor": "#2a3f5f",
           "arrowhead": 0,
           "arrowwidth": 1
          },
          "autotypenumbers": "strict",
          "coloraxis": {
           "colorbar": {
            "outlinewidth": 0,
            "ticks": ""
           }
          },
          "colorscale": {
           "diverging": [
            [
             0,
             "#8e0152"
            ],
            [
             0.1,
             "#c51b7d"
            ],
            [
             0.2,
             "#de77ae"
            ],
            [
             0.3,
             "#f1b6da"
            ],
            [
             0.4,
             "#fde0ef"
            ],
            [
             0.5,
             "#f7f7f7"
            ],
            [
             0.6,
             "#e6f5d0"
            ],
            [
             0.7,
             "#b8e186"
            ],
            [
             0.8,
             "#7fbc41"
            ],
            [
             0.9,
             "#4d9221"
            ],
            [
             1,
             "#276419"
            ]
           ],
           "sequential": [
            [
             0,
             "#0d0887"
            ],
            [
             0.1111111111111111,
             "#46039f"
            ],
            [
             0.2222222222222222,
             "#7201a8"
            ],
            [
             0.3333333333333333,
             "#9c179e"
            ],
            [
             0.4444444444444444,
             "#bd3786"
            ],
            [
             0.5555555555555556,
             "#d8576b"
            ],
            [
             0.6666666666666666,
             "#ed7953"
            ],
            [
             0.7777777777777778,
             "#fb9f3a"
            ],
            [
             0.8888888888888888,
             "#fdca26"
            ],
            [
             1,
             "#f0f921"
            ]
           ],
           "sequentialminus": [
            [
             0,
             "#0d0887"
            ],
            [
             0.1111111111111111,
             "#46039f"
            ],
            [
             0.2222222222222222,
             "#7201a8"
            ],
            [
             0.3333333333333333,
             "#9c179e"
            ],
            [
             0.4444444444444444,
             "#bd3786"
            ],
            [
             0.5555555555555556,
             "#d8576b"
            ],
            [
             0.6666666666666666,
             "#ed7953"
            ],
            [
             0.7777777777777778,
             "#fb9f3a"
            ],
            [
             0.8888888888888888,
             "#fdca26"
            ],
            [
             1,
             "#f0f921"
            ]
           ]
          },
          "colorway": [
           "#636efa",
           "#EF553B",
           "#00cc96",
           "#ab63fa",
           "#FFA15A",
           "#19d3f3",
           "#FF6692",
           "#B6E880",
           "#FF97FF",
           "#FECB52"
          ],
          "font": {
           "color": "#2a3f5f"
          },
          "geo": {
           "bgcolor": "white",
           "lakecolor": "white",
           "landcolor": "#E5ECF6",
           "showlakes": true,
           "showland": true,
           "subunitcolor": "white"
          },
          "hoverlabel": {
           "align": "left"
          },
          "hovermode": "closest",
          "mapbox": {
           "style": "light"
          },
          "paper_bgcolor": "white",
          "plot_bgcolor": "#E5ECF6",
          "polar": {
           "angularaxis": {
            "gridcolor": "white",
            "linecolor": "white",
            "ticks": ""
           },
           "bgcolor": "#E5ECF6",
           "radialaxis": {
            "gridcolor": "white",
            "linecolor": "white",
            "ticks": ""
           }
          },
          "scene": {
           "xaxis": {
            "backgroundcolor": "#E5ECF6",
            "gridcolor": "white",
            "gridwidth": 2,
            "linecolor": "white",
            "showbackground": true,
            "ticks": "",
            "zerolinecolor": "white"
           },
           "yaxis": {
            "backgroundcolor": "#E5ECF6",
            "gridcolor": "white",
            "gridwidth": 2,
            "linecolor": "white",
            "showbackground": true,
            "ticks": "",
            "zerolinecolor": "white"
           },
           "zaxis": {
            "backgroundcolor": "#E5ECF6",
            "gridcolor": "white",
            "gridwidth": 2,
            "linecolor": "white",
            "showbackground": true,
            "ticks": "",
            "zerolinecolor": "white"
           }
          },
          "shapedefaults": {
           "line": {
            "color": "#2a3f5f"
           }
          },
          "ternary": {
           "aaxis": {
            "gridcolor": "white",
            "linecolor": "white",
            "ticks": ""
           },
           "baxis": {
            "gridcolor": "white",
            "linecolor": "white",
            "ticks": ""
           },
           "bgcolor": "#E5ECF6",
           "caxis": {
            "gridcolor": "white",
            "linecolor": "white",
            "ticks": ""
           }
          },
          "title": {
           "x": 0.05
          },
          "xaxis": {
           "automargin": true,
           "gridcolor": "white",
           "linecolor": "white",
           "ticks": "",
           "title": {
            "standoff": 15
           },
           "zerolinecolor": "white",
           "zerolinewidth": 2
          },
          "yaxis": {
           "automargin": true,
           "gridcolor": "white",
           "linecolor": "white",
           "ticks": "",
           "title": {
            "standoff": 15
           },
           "zerolinecolor": "white",
           "zerolinewidth": 2
          }
         }
        },
        "xaxis": {
         "anchor": "y",
         "autorange": "reversed",
         "domain": [
          0,
          1
         ],
         "tickfont": {
          "size": 12
         },
         "title": {
          "text": "Driver"
         }
        },
        "yaxis": {
         "anchor": "x",
         "domain": [
          0,
          1
         ],
         "tickfont": {
          "size": 12
         },
         "title": {
          "text": "Total Points"
         }
        }
       }
      }
     },
     "metadata": {},
     "output_type": "display_data"
    },
    {
     "data": {
      "application/vnd.plotly.v1+json": {
       "config": {
        "plotlyServerURL": "https://plot.ly"
       },
       "data": [
        {
         "alignmentgroup": "True",
         "hovertemplate": "Driver=%{x}<br>Number of Wins=%{marker.color}<extra></extra>",
         "legendgroup": "",
         "marker": {
          "color": [
           60,
           52,
           11,
           10,
           7,
           6,
           4,
           3,
           3,
           2
          ],
          "coloraxis": "coloraxis",
          "pattern": {
           "shape": ""
          }
         },
         "name": "",
         "offsetgroup": "",
         "orientation": "v",
         "showlegend": false,
         "text": [
          60,
          52,
          11,
          10,
          7,
          6,
          4,
          3,
          3,
          2
         ],
         "textposition": "outside",
         "texttemplate": "%{text:.0f}",
         "type": "bar",
         "x": [
          "max_verstappen",
          "hamilton",
          "vettel",
          "bottas",
          "leclerc",
          "perez",
          "ricciardo",
          "sainz",
          "norris",
          "piastri"
         ],
         "xaxis": "x",
         "y": [
          60,
          52,
          11,
          10,
          7,
          6,
          4,
          3,
          3,
          2
         ],
         "yaxis": "y"
        }
       ],
       "layout": {
        "barmode": "relative",
        "coloraxis": {
         "colorbar": {
          "title": {
           "text": "Number of Wins"
          }
         },
         "colorscale": [
          [
           0,
           "#440154"
          ],
          [
           0.1111111111111111,
           "#482878"
          ],
          [
           0.2222222222222222,
           "#3e4989"
          ],
          [
           0.3333333333333333,
           "#31688e"
          ],
          [
           0.4444444444444444,
           "#26828e"
          ],
          [
           0.5555555555555556,
           "#1f9e89"
          ],
          [
           0.6666666666666666,
           "#35b779"
          ],
          [
           0.7777777777777778,
           "#6ece58"
          ],
          [
           0.8888888888888888,
           "#b5de2b"
          ],
          [
           1,
           "#fde725"
          ]
         ]
        },
        "hoverlabel": {
         "bgcolor": "white",
         "font": {
          "family": "Arial",
          "size": 12
         }
        },
        "legend": {
         "tracegroupgap": 0
        },
        "margin": {
         "t": 60
        },
        "paper_bgcolor": "lightgray",
        "plot_bgcolor": "white",
        "template": {
         "data": {
          "bar": [
           {
            "error_x": {
             "color": "#2a3f5f"
            },
            "error_y": {
             "color": "#2a3f5f"
            },
            "marker": {
             "line": {
              "color": "#E5ECF6",
              "width": 0.5
             },
             "pattern": {
              "fillmode": "overlay",
              "size": 10,
              "solidity": 0.2
             }
            },
            "type": "bar"
           }
          ],
          "barpolar": [
           {
            "marker": {
             "line": {
              "color": "#E5ECF6",
              "width": 0.5
             },
             "pattern": {
              "fillmode": "overlay",
              "size": 10,
              "solidity": 0.2
             }
            },
            "type": "barpolar"
           }
          ],
          "carpet": [
           {
            "aaxis": {
             "endlinecolor": "#2a3f5f",
             "gridcolor": "white",
             "linecolor": "white",
             "minorgridcolor": "white",
             "startlinecolor": "#2a3f5f"
            },
            "baxis": {
             "endlinecolor": "#2a3f5f",
             "gridcolor": "white",
             "linecolor": "white",
             "minorgridcolor": "white",
             "startlinecolor": "#2a3f5f"
            },
            "type": "carpet"
           }
          ],
          "choropleth": [
           {
            "colorbar": {
             "outlinewidth": 0,
             "ticks": ""
            },
            "type": "choropleth"
           }
          ],
          "contour": [
           {
            "colorbar": {
             "outlinewidth": 0,
             "ticks": ""
            },
            "colorscale": [
             [
              0,
              "#0d0887"
             ],
             [
              0.1111111111111111,
              "#46039f"
             ],
             [
              0.2222222222222222,
              "#7201a8"
             ],
             [
              0.3333333333333333,
              "#9c179e"
             ],
             [
              0.4444444444444444,
              "#bd3786"
             ],
             [
              0.5555555555555556,
              "#d8576b"
             ],
             [
              0.6666666666666666,
              "#ed7953"
             ],
             [
              0.7777777777777778,
              "#fb9f3a"
             ],
             [
              0.8888888888888888,
              "#fdca26"
             ],
             [
              1,
              "#f0f921"
             ]
            ],
            "type": "contour"
           }
          ],
          "contourcarpet": [
           {
            "colorbar": {
             "outlinewidth": 0,
             "ticks": ""
            },
            "type": "contourcarpet"
           }
          ],
          "heatmap": [
           {
            "colorbar": {
             "outlinewidth": 0,
             "ticks": ""
            },
            "colorscale": [
             [
              0,
              "#0d0887"
             ],
             [
              0.1111111111111111,
              "#46039f"
             ],
             [
              0.2222222222222222,
              "#7201a8"
             ],
             [
              0.3333333333333333,
              "#9c179e"
             ],
             [
              0.4444444444444444,
              "#bd3786"
             ],
             [
              0.5555555555555556,
              "#d8576b"
             ],
             [
              0.6666666666666666,
              "#ed7953"
             ],
             [
              0.7777777777777778,
              "#fb9f3a"
             ],
             [
              0.8888888888888888,
              "#fdca26"
             ],
             [
              1,
              "#f0f921"
             ]
            ],
            "type": "heatmap"
           }
          ],
          "heatmapgl": [
           {
            "colorbar": {
             "outlinewidth": 0,
             "ticks": ""
            },
            "colorscale": [
             [
              0,
              "#0d0887"
             ],
             [
              0.1111111111111111,
              "#46039f"
             ],
             [
              0.2222222222222222,
              "#7201a8"
             ],
             [
              0.3333333333333333,
              "#9c179e"
             ],
             [
              0.4444444444444444,
              "#bd3786"
             ],
             [
              0.5555555555555556,
              "#d8576b"
             ],
             [
              0.6666666666666666,
              "#ed7953"
             ],
             [
              0.7777777777777778,
              "#fb9f3a"
             ],
             [
              0.8888888888888888,
              "#fdca26"
             ],
             [
              1,
              "#f0f921"
             ]
            ],
            "type": "heatmapgl"
           }
          ],
          "histogram": [
           {
            "marker": {
             "pattern": {
              "fillmode": "overlay",
              "size": 10,
              "solidity": 0.2
             }
            },
            "type": "histogram"
           }
          ],
          "histogram2d": [
           {
            "colorbar": {
             "outlinewidth": 0,
             "ticks": ""
            },
            "colorscale": [
             [
              0,
              "#0d0887"
             ],
             [
              0.1111111111111111,
              "#46039f"
             ],
             [
              0.2222222222222222,
              "#7201a8"
             ],
             [
              0.3333333333333333,
              "#9c179e"
             ],
             [
              0.4444444444444444,
              "#bd3786"
             ],
             [
              0.5555555555555556,
              "#d8576b"
             ],
             [
              0.6666666666666666,
              "#ed7953"
             ],
             [
              0.7777777777777778,
              "#fb9f3a"
             ],
             [
              0.8888888888888888,
              "#fdca26"
             ],
             [
              1,
              "#f0f921"
             ]
            ],
            "type": "histogram2d"
           }
          ],
          "histogram2dcontour": [
           {
            "colorbar": {
             "outlinewidth": 0,
             "ticks": ""
            },
            "colorscale": [
             [
              0,
              "#0d0887"
             ],
             [
              0.1111111111111111,
              "#46039f"
             ],
             [
              0.2222222222222222,
              "#7201a8"
             ],
             [
              0.3333333333333333,
              "#9c179e"
             ],
             [
              0.4444444444444444,
              "#bd3786"
             ],
             [
              0.5555555555555556,
              "#d8576b"
             ],
             [
              0.6666666666666666,
              "#ed7953"
             ],
             [
              0.7777777777777778,
              "#fb9f3a"
             ],
             [
              0.8888888888888888,
              "#fdca26"
             ],
             [
              1,
              "#f0f921"
             ]
            ],
            "type": "histogram2dcontour"
           }
          ],
          "mesh3d": [
           {
            "colorbar": {
             "outlinewidth": 0,
             "ticks": ""
            },
            "type": "mesh3d"
           }
          ],
          "parcoords": [
           {
            "line": {
             "colorbar": {
              "outlinewidth": 0,
              "ticks": ""
             }
            },
            "type": "parcoords"
           }
          ],
          "pie": [
           {
            "automargin": true,
            "type": "pie"
           }
          ],
          "scatter": [
           {
            "fillpattern": {
             "fillmode": "overlay",
             "size": 10,
             "solidity": 0.2
            },
            "type": "scatter"
           }
          ],
          "scatter3d": [
           {
            "line": {
             "colorbar": {
              "outlinewidth": 0,
              "ticks": ""
             }
            },
            "marker": {
             "colorbar": {
              "outlinewidth": 0,
              "ticks": ""
             }
            },
            "type": "scatter3d"
           }
          ],
          "scattercarpet": [
           {
            "marker": {
             "colorbar": {
              "outlinewidth": 0,
              "ticks": ""
             }
            },
            "type": "scattercarpet"
           }
          ],
          "scattergeo": [
           {
            "marker": {
             "colorbar": {
              "outlinewidth": 0,
              "ticks": ""
             }
            },
            "type": "scattergeo"
           }
          ],
          "scattergl": [
           {
            "marker": {
             "colorbar": {
              "outlinewidth": 0,
              "ticks": ""
             }
            },
            "type": "scattergl"
           }
          ],
          "scattermapbox": [
           {
            "marker": {
             "colorbar": {
              "outlinewidth": 0,
              "ticks": ""
             }
            },
            "type": "scattermapbox"
           }
          ],
          "scatterpolar": [
           {
            "marker": {
             "colorbar": {
              "outlinewidth": 0,
              "ticks": ""
             }
            },
            "type": "scatterpolar"
           }
          ],
          "scatterpolargl": [
           {
            "marker": {
             "colorbar": {
              "outlinewidth": 0,
              "ticks": ""
             }
            },
            "type": "scatterpolargl"
           }
          ],
          "scatterternary": [
           {
            "marker": {
             "colorbar": {
              "outlinewidth": 0,
              "ticks": ""
             }
            },
            "type": "scatterternary"
           }
          ],
          "surface": [
           {
            "colorbar": {
             "outlinewidth": 0,
             "ticks": ""
            },
            "colorscale": [
             [
              0,
              "#0d0887"
             ],
             [
              0.1111111111111111,
              "#46039f"
             ],
             [
              0.2222222222222222,
              "#7201a8"
             ],
             [
              0.3333333333333333,
              "#9c179e"
             ],
             [
              0.4444444444444444,
              "#bd3786"
             ],
             [
              0.5555555555555556,
              "#d8576b"
             ],
             [
              0.6666666666666666,
              "#ed7953"
             ],
             [
              0.7777777777777778,
              "#fb9f3a"
             ],
             [
              0.8888888888888888,
              "#fdca26"
             ],
             [
              1,
              "#f0f921"
             ]
            ],
            "type": "surface"
           }
          ],
          "table": [
           {
            "cells": {
             "fill": {
              "color": "#EBF0F8"
             },
             "line": {
              "color": "white"
             }
            },
            "header": {
             "fill": {
              "color": "#C8D4E3"
             },
             "line": {
              "color": "white"
             }
            },
            "type": "table"
           }
          ]
         },
         "layout": {
          "annotationdefaults": {
           "arrowcolor": "#2a3f5f",
           "arrowhead": 0,
           "arrowwidth": 1
          },
          "autotypenumbers": "strict",
          "coloraxis": {
           "colorbar": {
            "outlinewidth": 0,
            "ticks": ""
           }
          },
          "colorscale": {
           "diverging": [
            [
             0,
             "#8e0152"
            ],
            [
             0.1,
             "#c51b7d"
            ],
            [
             0.2,
             "#de77ae"
            ],
            [
             0.3,
             "#f1b6da"
            ],
            [
             0.4,
             "#fde0ef"
            ],
            [
             0.5,
             "#f7f7f7"
            ],
            [
             0.6,
             "#e6f5d0"
            ],
            [
             0.7,
             "#b8e186"
            ],
            [
             0.8,
             "#7fbc41"
            ],
            [
             0.9,
             "#4d9221"
            ],
            [
             1,
             "#276419"
            ]
           ],
           "sequential": [
            [
             0,
             "#0d0887"
            ],
            [
             0.1111111111111111,
             "#46039f"
            ],
            [
             0.2222222222222222,
             "#7201a8"
            ],
            [
             0.3333333333333333,
             "#9c179e"
            ],
            [
             0.4444444444444444,
             "#bd3786"
            ],
            [
             0.5555555555555556,
             "#d8576b"
            ],
            [
             0.6666666666666666,
             "#ed7953"
            ],
            [
             0.7777777777777778,
             "#fb9f3a"
            ],
            [
             0.8888888888888888,
             "#fdca26"
            ],
            [
             1,
             "#f0f921"
            ]
           ],
           "sequentialminus": [
            [
             0,
             "#0d0887"
            ],
            [
             0.1111111111111111,
             "#46039f"
            ],
            [
             0.2222222222222222,
             "#7201a8"
            ],
            [
             0.3333333333333333,
             "#9c179e"
            ],
            [
             0.4444444444444444,
             "#bd3786"
            ],
            [
             0.5555555555555556,
             "#d8576b"
            ],
            [
             0.6666666666666666,
             "#ed7953"
            ],
            [
             0.7777777777777778,
             "#fb9f3a"
            ],
            [
             0.8888888888888888,
             "#fdca26"
            ],
            [
             1,
             "#f0f921"
            ]
           ]
          },
          "colorway": [
           "#636efa",
           "#EF553B",
           "#00cc96",
           "#ab63fa",
           "#FFA15A",
           "#19d3f3",
           "#FF6692",
           "#B6E880",
           "#FF97FF",
           "#FECB52"
          ],
          "font": {
           "color": "#2a3f5f"
          },
          "geo": {
           "bgcolor": "white",
           "lakecolor": "white",
           "landcolor": "#E5ECF6",
           "showlakes": true,
           "showland": true,
           "subunitcolor": "white"
          },
          "hoverlabel": {
           "align": "left"
          },
          "hovermode": "closest",
          "mapbox": {
           "style": "light"
          },
          "paper_bgcolor": "white",
          "plot_bgcolor": "#E5ECF6",
          "polar": {
           "angularaxis": {
            "gridcolor": "white",
            "linecolor": "white",
            "ticks": ""
           },
           "bgcolor": "#E5ECF6",
           "radialaxis": {
            "gridcolor": "white",
            "linecolor": "white",
            "ticks": ""
           }
          },
          "scene": {
           "xaxis": {
            "backgroundcolor": "#E5ECF6",
            "gridcolor": "white",
            "gridwidth": 2,
            "linecolor": "white",
            "showbackground": true,
            "ticks": "",
            "zerolinecolor": "white"
           },
           "yaxis": {
            "backgroundcolor": "#E5ECF6",
            "gridcolor": "white",
            "gridwidth": 2,
            "linecolor": "white",
            "showbackground": true,
            "ticks": "",
            "zerolinecolor": "white"
           },
           "zaxis": {
            "backgroundcolor": "#E5ECF6",
            "gridcolor": "white",
            "gridwidth": 2,
            "linecolor": "white",
            "showbackground": true,
            "ticks": "",
            "zerolinecolor": "white"
           }
          },
          "shapedefaults": {
           "line": {
            "color": "#2a3f5f"
           }
          },
          "ternary": {
           "aaxis": {
            "gridcolor": "white",
            "linecolor": "white",
            "ticks": ""
           },
           "baxis": {
            "gridcolor": "white",
            "linecolor": "white",
            "ticks": ""
           },
           "bgcolor": "#E5ECF6",
           "caxis": {
            "gridcolor": "white",
            "linecolor": "white",
            "ticks": ""
           }
          },
          "title": {
           "x": 0.05
          },
          "xaxis": {
           "automargin": true,
           "gridcolor": "white",
           "linecolor": "white",
           "ticks": "",
           "title": {
            "standoff": 15
           },
           "zerolinecolor": "white",
           "zerolinewidth": 2
          },
          "yaxis": {
           "automargin": true,
           "gridcolor": "white",
           "linecolor": "white",
           "ticks": "",
           "title": {
            "standoff": 15
           },
           "zerolinecolor": "white",
           "zerolinewidth": 2
          }
         }
        },
        "xaxis": {
         "anchor": "y",
         "autorange": "reversed",
         "domain": [
          0,
          1
         ],
         "tickfont": {
          "size": 12
         },
         "title": {
          "text": "Driver"
         }
        },
        "yaxis": {
         "anchor": "x",
         "domain": [
          0,
          1
         ],
         "tickfont": {
          "size": 12
         },
         "title": {
          "text": "Number of Wins"
         }
        }
       }
      }
     },
     "metadata": {},
     "output_type": "display_data"
    },
    {
     "data": {
      "application/vnd.plotly.v1+json": {
       "config": {
        "plotlyServerURL": "https://plot.ly"
       },
       "data": [
        {
         "hovertemplate": "Year=%{x}<br>Points=%{y}<extra></extra>",
         "legendgroup": "",
         "line": {
          "color": "#636efa",
          "dash": "solid"
         },
         "marker": {
          "symbol": "circle"
         },
         "mode": "lines+markers",
         "name": "",
         "orientation": "v",
         "showlegend": false,
         "type": "scatter",
         "x": [
          2017,
          2018,
          2019,
          2020,
          2021,
          2022,
          2023,
          2024
         ],
         "xaxis": "x",
         "y": [
          363,
          408,
          413,
          347,
          387.5,
          240,
          234,
          174
         ],
         "yaxis": "y"
        }
       ],
       "layout": {
        "legend": {
         "tracegroupgap": 0
        },
        "margin": {
         "b": 50,
         "l": 50,
         "r": 50,
         "t": 50
        },
        "paper_bgcolor": "lightgray",
        "plot_bgcolor": "white",
        "template": {
         "data": {
          "bar": [
           {
            "error_x": {
             "color": "#2a3f5f"
            },
            "error_y": {
             "color": "#2a3f5f"
            },
            "marker": {
             "line": {
              "color": "#E5ECF6",
              "width": 0.5
             },
             "pattern": {
              "fillmode": "overlay",
              "size": 10,
              "solidity": 0.2
             }
            },
            "type": "bar"
           }
          ],
          "barpolar": [
           {
            "marker": {
             "line": {
              "color": "#E5ECF6",
              "width": 0.5
             },
             "pattern": {
              "fillmode": "overlay",
              "size": 10,
              "solidity": 0.2
             }
            },
            "type": "barpolar"
           }
          ],
          "carpet": [
           {
            "aaxis": {
             "endlinecolor": "#2a3f5f",
             "gridcolor": "white",
             "linecolor": "white",
             "minorgridcolor": "white",
             "startlinecolor": "#2a3f5f"
            },
            "baxis": {
             "endlinecolor": "#2a3f5f",
             "gridcolor": "white",
             "linecolor": "white",
             "minorgridcolor": "white",
             "startlinecolor": "#2a3f5f"
            },
            "type": "carpet"
           }
          ],
          "choropleth": [
           {
            "colorbar": {
             "outlinewidth": 0,
             "ticks": ""
            },
            "type": "choropleth"
           }
          ],
          "contour": [
           {
            "colorbar": {
             "outlinewidth": 0,
             "ticks": ""
            },
            "colorscale": [
             [
              0,
              "#0d0887"
             ],
             [
              0.1111111111111111,
              "#46039f"
             ],
             [
              0.2222222222222222,
              "#7201a8"
             ],
             [
              0.3333333333333333,
              "#9c179e"
             ],
             [
              0.4444444444444444,
              "#bd3786"
             ],
             [
              0.5555555555555556,
              "#d8576b"
             ],
             [
              0.6666666666666666,
              "#ed7953"
             ],
             [
              0.7777777777777778,
              "#fb9f3a"
             ],
             [
              0.8888888888888888,
              "#fdca26"
             ],
             [
              1,
              "#f0f921"
             ]
            ],
            "type": "contour"
           }
          ],
          "contourcarpet": [
           {
            "colorbar": {
             "outlinewidth": 0,
             "ticks": ""
            },
            "type": "contourcarpet"
           }
          ],
          "heatmap": [
           {
            "colorbar": {
             "outlinewidth": 0,
             "ticks": ""
            },
            "colorscale": [
             [
              0,
              "#0d0887"
             ],
             [
              0.1111111111111111,
              "#46039f"
             ],
             [
              0.2222222222222222,
              "#7201a8"
             ],
             [
              0.3333333333333333,
              "#9c179e"
             ],
             [
              0.4444444444444444,
              "#bd3786"
             ],
             [
              0.5555555555555556,
              "#d8576b"
             ],
             [
              0.6666666666666666,
              "#ed7953"
             ],
             [
              0.7777777777777778,
              "#fb9f3a"
             ],
             [
              0.8888888888888888,
              "#fdca26"
             ],
             [
              1,
              "#f0f921"
             ]
            ],
            "type": "heatmap"
           }
          ],
          "heatmapgl": [
           {
            "colorbar": {
             "outlinewidth": 0,
             "ticks": ""
            },
            "colorscale": [
             [
              0,
              "#0d0887"
             ],
             [
              0.1111111111111111,
              "#46039f"
             ],
             [
              0.2222222222222222,
              "#7201a8"
             ],
             [
              0.3333333333333333,
              "#9c179e"
             ],
             [
              0.4444444444444444,
              "#bd3786"
             ],
             [
              0.5555555555555556,
              "#d8576b"
             ],
             [
              0.6666666666666666,
              "#ed7953"
             ],
             [
              0.7777777777777778,
              "#fb9f3a"
             ],
             [
              0.8888888888888888,
              "#fdca26"
             ],
             [
              1,
              "#f0f921"
             ]
            ],
            "type": "heatmapgl"
           }
          ],
          "histogram": [
           {
            "marker": {
             "pattern": {
              "fillmode": "overlay",
              "size": 10,
              "solidity": 0.2
             }
            },
            "type": "histogram"
           }
          ],
          "histogram2d": [
           {
            "colorbar": {
             "outlinewidth": 0,
             "ticks": ""
            },
            "colorscale": [
             [
              0,
              "#0d0887"
             ],
             [
              0.1111111111111111,
              "#46039f"
             ],
             [
              0.2222222222222222,
              "#7201a8"
             ],
             [
              0.3333333333333333,
              "#9c179e"
             ],
             [
              0.4444444444444444,
              "#bd3786"
             ],
             [
              0.5555555555555556,
              "#d8576b"
             ],
             [
              0.6666666666666666,
              "#ed7953"
             ],
             [
              0.7777777777777778,
              "#fb9f3a"
             ],
             [
              0.8888888888888888,
              "#fdca26"
             ],
             [
              1,
              "#f0f921"
             ]
            ],
            "type": "histogram2d"
           }
          ],
          "histogram2dcontour": [
           {
            "colorbar": {
             "outlinewidth": 0,
             "ticks": ""
            },
            "colorscale": [
             [
              0,
              "#0d0887"
             ],
             [
              0.1111111111111111,
              "#46039f"
             ],
             [
              0.2222222222222222,
              "#7201a8"
             ],
             [
              0.3333333333333333,
              "#9c179e"
             ],
             [
              0.4444444444444444,
              "#bd3786"
             ],
             [
              0.5555555555555556,
              "#d8576b"
             ],
             [
              0.6666666666666666,
              "#ed7953"
             ],
             [
              0.7777777777777778,
              "#fb9f3a"
             ],
             [
              0.8888888888888888,
              "#fdca26"
             ],
             [
              1,
              "#f0f921"
             ]
            ],
            "type": "histogram2dcontour"
           }
          ],
          "mesh3d": [
           {
            "colorbar": {
             "outlinewidth": 0,
             "ticks": ""
            },
            "type": "mesh3d"
           }
          ],
          "parcoords": [
           {
            "line": {
             "colorbar": {
              "outlinewidth": 0,
              "ticks": ""
             }
            },
            "type": "parcoords"
           }
          ],
          "pie": [
           {
            "automargin": true,
            "type": "pie"
           }
          ],
          "scatter": [
           {
            "fillpattern": {
             "fillmode": "overlay",
             "size": 10,
             "solidity": 0.2
            },
            "type": "scatter"
           }
          ],
          "scatter3d": [
           {
            "line": {
             "colorbar": {
              "outlinewidth": 0,
              "ticks": ""
             }
            },
            "marker": {
             "colorbar": {
              "outlinewidth": 0,
              "ticks": ""
             }
            },
            "type": "scatter3d"
           }
          ],
          "scattercarpet": [
           {
            "marker": {
             "colorbar": {
              "outlinewidth": 0,
              "ticks": ""
             }
            },
            "type": "scattercarpet"
           }
          ],
          "scattergeo": [
           {
            "marker": {
             "colorbar": {
              "outlinewidth": 0,
              "ticks": ""
             }
            },
            "type": "scattergeo"
           }
          ],
          "scattergl": [
           {
            "marker": {
             "colorbar": {
              "outlinewidth": 0,
              "ticks": ""
             }
            },
            "type": "scattergl"
           }
          ],
          "scattermapbox": [
           {
            "marker": {
             "colorbar": {
              "outlinewidth": 0,
              "ticks": ""
             }
            },
            "type": "scattermapbox"
           }
          ],
          "scatterpolar": [
           {
            "marker": {
             "colorbar": {
              "outlinewidth": 0,
              "ticks": ""
             }
            },
            "type": "scatterpolar"
           }
          ],
          "scatterpolargl": [
           {
            "marker": {
             "colorbar": {
              "outlinewidth": 0,
              "ticks": ""
             }
            },
            "type": "scatterpolargl"
           }
          ],
          "scatterternary": [
           {
            "marker": {
             "colorbar": {
              "outlinewidth": 0,
              "ticks": ""
             }
            },
            "type": "scatterternary"
           }
          ],
          "surface": [
           {
            "colorbar": {
             "outlinewidth": 0,
             "ticks": ""
            },
            "colorscale": [
             [
              0,
              "#0d0887"
             ],
             [
              0.1111111111111111,
              "#46039f"
             ],
             [
              0.2222222222222222,
              "#7201a8"
             ],
             [
              0.3333333333333333,
              "#9c179e"
             ],
             [
              0.4444444444444444,
              "#bd3786"
             ],
             [
              0.5555555555555556,
              "#d8576b"
             ],
             [
              0.6666666666666666,
              "#ed7953"
             ],
             [
              0.7777777777777778,
              "#fb9f3a"
             ],
             [
              0.8888888888888888,
              "#fdca26"
             ],
             [
              1,
              "#f0f921"
             ]
            ],
            "type": "surface"
           }
          ],
          "table": [
           {
            "cells": {
             "fill": {
              "color": "#EBF0F8"
             },
             "line": {
              "color": "white"
             }
            },
            "header": {
             "fill": {
              "color": "#C8D4E3"
             },
             "line": {
              "color": "white"
             }
            },
            "type": "table"
           }
          ]
         },
         "layout": {
          "annotationdefaults": {
           "arrowcolor": "#2a3f5f",
           "arrowhead": 0,
           "arrowwidth": 1
          },
          "autotypenumbers": "strict",
          "coloraxis": {
           "colorbar": {
            "outlinewidth": 0,
            "ticks": ""
           }
          },
          "colorscale": {
           "diverging": [
            [
             0,
             "#8e0152"
            ],
            [
             0.1,
             "#c51b7d"
            ],
            [
             0.2,
             "#de77ae"
            ],
            [
             0.3,
             "#f1b6da"
            ],
            [
             0.4,
             "#fde0ef"
            ],
            [
             0.5,
             "#f7f7f7"
            ],
            [
             0.6,
             "#e6f5d0"
            ],
            [
             0.7,
             "#b8e186"
            ],
            [
             0.8,
             "#7fbc41"
            ],
            [
             0.9,
             "#4d9221"
            ],
            [
             1,
             "#276419"
            ]
           ],
           "sequential": [
            [
             0,
             "#0d0887"
            ],
            [
             0.1111111111111111,
             "#46039f"
            ],
            [
             0.2222222222222222,
             "#7201a8"
            ],
            [
             0.3333333333333333,
             "#9c179e"
            ],
            [
             0.4444444444444444,
             "#bd3786"
            ],
            [
             0.5555555555555556,
             "#d8576b"
            ],
            [
             0.6666666666666666,
             "#ed7953"
            ],
            [
             0.7777777777777778,
             "#fb9f3a"
            ],
            [
             0.8888888888888888,
             "#fdca26"
            ],
            [
             1,
             "#f0f921"
            ]
           ],
           "sequentialminus": [
            [
             0,
             "#0d0887"
            ],
            [
             0.1111111111111111,
             "#46039f"
            ],
            [
             0.2222222222222222,
             "#7201a8"
            ],
            [
             0.3333333333333333,
             "#9c179e"
            ],
            [
             0.4444444444444444,
             "#bd3786"
            ],
            [
             0.5555555555555556,
             "#d8576b"
            ],
            [
             0.6666666666666666,
             "#ed7953"
            ],
            [
             0.7777777777777778,
             "#fb9f3a"
            ],
            [
             0.8888888888888888,
             "#fdca26"
            ],
            [
             1,
             "#f0f921"
            ]
           ]
          },
          "colorway": [
           "#636efa",
           "#EF553B",
           "#00cc96",
           "#ab63fa",
           "#FFA15A",
           "#19d3f3",
           "#FF6692",
           "#B6E880",
           "#FF97FF",
           "#FECB52"
          ],
          "font": {
           "color": "#2a3f5f"
          },
          "geo": {
           "bgcolor": "white",
           "lakecolor": "white",
           "landcolor": "#E5ECF6",
           "showlakes": true,
           "showland": true,
           "subunitcolor": "white"
          },
          "hoverlabel": {
           "align": "left"
          },
          "hovermode": "closest",
          "mapbox": {
           "style": "light"
          },
          "paper_bgcolor": "white",
          "plot_bgcolor": "#E5ECF6",
          "polar": {
           "angularaxis": {
            "gridcolor": "white",
            "linecolor": "white",
            "ticks": ""
           },
           "bgcolor": "#E5ECF6",
           "radialaxis": {
            "gridcolor": "white",
            "linecolor": "white",
            "ticks": ""
           }
          },
          "scene": {
           "xaxis": {
            "backgroundcolor": "#E5ECF6",
            "gridcolor": "white",
            "gridwidth": 2,
            "linecolor": "white",
            "showbackground": true,
            "ticks": "",
            "zerolinecolor": "white"
           },
           "yaxis": {
            "backgroundcolor": "#E5ECF6",
            "gridcolor": "white",
            "gridwidth": 2,
            "linecolor": "white",
            "showbackground": true,
            "ticks": "",
            "zerolinecolor": "white"
           },
           "zaxis": {
            "backgroundcolor": "#E5ECF6",
            "gridcolor": "white",
            "gridwidth": 2,
            "linecolor": "white",
            "showbackground": true,
            "ticks": "",
            "zerolinecolor": "white"
           }
          },
          "shapedefaults": {
           "line": {
            "color": "#2a3f5f"
           }
          },
          "ternary": {
           "aaxis": {
            "gridcolor": "white",
            "linecolor": "white",
            "ticks": ""
           },
           "baxis": {
            "gridcolor": "white",
            "linecolor": "white",
            "ticks": ""
           },
           "bgcolor": "#E5ECF6",
           "caxis": {
            "gridcolor": "white",
            "linecolor": "white",
            "ticks": ""
           }
          },
          "title": {
           "x": 0.05
          },
          "xaxis": {
           "automargin": true,
           "gridcolor": "white",
           "linecolor": "white",
           "ticks": "",
           "title": {
            "standoff": 15
           },
           "zerolinecolor": "white",
           "zerolinewidth": 2
          },
          "yaxis": {
           "automargin": true,
           "gridcolor": "white",
           "linecolor": "white",
           "ticks": "",
           "title": {
            "standoff": 15
           },
           "zerolinecolor": "white",
           "zerolinewidth": 2
          }
         }
        },
        "xaxis": {
         "anchor": "y",
         "domain": [
          0,
          1
         ],
         "title": {
          "text": "Year"
         }
        },
        "yaxis": {
         "anchor": "x",
         "domain": [
          0,
          1
         ],
         "title": {
          "text": "Points"
         }
        }
       }
      }
     },
     "metadata": {},
     "output_type": "display_data"
    },
    {
     "data": {
      "application/vnd.plotly.v1+json": {
       "config": {
        "plotlyServerURL": "https://plot.ly"
       },
       "data": [
        {
         "hovertemplate": "Year=%{x}<br>Number of Wins=%{y}<extra></extra>",
         "legendgroup": "",
         "line": {
          "color": "#636efa",
          "dash": "solid"
         },
         "marker": {
          "symbol": "circle"
         },
         "mode": "lines+markers",
         "name": "",
         "orientation": "v",
         "showlegend": false,
         "type": "scatter",
         "x": [
          2017,
          2018,
          2019,
          2020,
          2021,
          2022,
          2023,
          2024
         ],
         "xaxis": "x",
         "y": [
          9,
          11,
          11,
          11,
          8,
          0,
          0,
          2
         ],
         "yaxis": "y"
        }
       ],
       "layout": {
        "legend": {
         "tracegroupgap": 0
        },
        "margin": {
         "b": 50,
         "l": 50,
         "r": 50,
         "t": 50
        },
        "paper_bgcolor": "lightgray",
        "plot_bgcolor": "white",
        "template": {
         "data": {
          "bar": [
           {
            "error_x": {
             "color": "#2a3f5f"
            },
            "error_y": {
             "color": "#2a3f5f"
            },
            "marker": {
             "line": {
              "color": "#E5ECF6",
              "width": 0.5
             },
             "pattern": {
              "fillmode": "overlay",
              "size": 10,
              "solidity": 0.2
             }
            },
            "type": "bar"
           }
          ],
          "barpolar": [
           {
            "marker": {
             "line": {
              "color": "#E5ECF6",
              "width": 0.5
             },
             "pattern": {
              "fillmode": "overlay",
              "size": 10,
              "solidity": 0.2
             }
            },
            "type": "barpolar"
           }
          ],
          "carpet": [
           {
            "aaxis": {
             "endlinecolor": "#2a3f5f",
             "gridcolor": "white",
             "linecolor": "white",
             "minorgridcolor": "white",
             "startlinecolor": "#2a3f5f"
            },
            "baxis": {
             "endlinecolor": "#2a3f5f",
             "gridcolor": "white",
             "linecolor": "white",
             "minorgridcolor": "white",
             "startlinecolor": "#2a3f5f"
            },
            "type": "carpet"
           }
          ],
          "choropleth": [
           {
            "colorbar": {
             "outlinewidth": 0,
             "ticks": ""
            },
            "type": "choropleth"
           }
          ],
          "contour": [
           {
            "colorbar": {
             "outlinewidth": 0,
             "ticks": ""
            },
            "colorscale": [
             [
              0,
              "#0d0887"
             ],
             [
              0.1111111111111111,
              "#46039f"
             ],
             [
              0.2222222222222222,
              "#7201a8"
             ],
             [
              0.3333333333333333,
              "#9c179e"
             ],
             [
              0.4444444444444444,
              "#bd3786"
             ],
             [
              0.5555555555555556,
              "#d8576b"
             ],
             [
              0.6666666666666666,
              "#ed7953"
             ],
             [
              0.7777777777777778,
              "#fb9f3a"
             ],
             [
              0.8888888888888888,
              "#fdca26"
             ],
             [
              1,
              "#f0f921"
             ]
            ],
            "type": "contour"
           }
          ],
          "contourcarpet": [
           {
            "colorbar": {
             "outlinewidth": 0,
             "ticks": ""
            },
            "type": "contourcarpet"
           }
          ],
          "heatmap": [
           {
            "colorbar": {
             "outlinewidth": 0,
             "ticks": ""
            },
            "colorscale": [
             [
              0,
              "#0d0887"
             ],
             [
              0.1111111111111111,
              "#46039f"
             ],
             [
              0.2222222222222222,
              "#7201a8"
             ],
             [
              0.3333333333333333,
              "#9c179e"
             ],
             [
              0.4444444444444444,
              "#bd3786"
             ],
             [
              0.5555555555555556,
              "#d8576b"
             ],
             [
              0.6666666666666666,
              "#ed7953"
             ],
             [
              0.7777777777777778,
              "#fb9f3a"
             ],
             [
              0.8888888888888888,
              "#fdca26"
             ],
             [
              1,
              "#f0f921"
             ]
            ],
            "type": "heatmap"
           }
          ],
          "heatmapgl": [
           {
            "colorbar": {
             "outlinewidth": 0,
             "ticks": ""
            },
            "colorscale": [
             [
              0,
              "#0d0887"
             ],
             [
              0.1111111111111111,
              "#46039f"
             ],
             [
              0.2222222222222222,
              "#7201a8"
             ],
             [
              0.3333333333333333,
              "#9c179e"
             ],
             [
              0.4444444444444444,
              "#bd3786"
             ],
             [
              0.5555555555555556,
              "#d8576b"
             ],
             [
              0.6666666666666666,
              "#ed7953"
             ],
             [
              0.7777777777777778,
              "#fb9f3a"
             ],
             [
              0.8888888888888888,
              "#fdca26"
             ],
             [
              1,
              "#f0f921"
             ]
            ],
            "type": "heatmapgl"
           }
          ],
          "histogram": [
           {
            "marker": {
             "pattern": {
              "fillmode": "overlay",
              "size": 10,
              "solidity": 0.2
             }
            },
            "type": "histogram"
           }
          ],
          "histogram2d": [
           {
            "colorbar": {
             "outlinewidth": 0,
             "ticks": ""
            },
            "colorscale": [
             [
              0,
              "#0d0887"
             ],
             [
              0.1111111111111111,
              "#46039f"
             ],
             [
              0.2222222222222222,
              "#7201a8"
             ],
             [
              0.3333333333333333,
              "#9c179e"
             ],
             [
              0.4444444444444444,
              "#bd3786"
             ],
             [
              0.5555555555555556,
              "#d8576b"
             ],
             [
              0.6666666666666666,
              "#ed7953"
             ],
             [
              0.7777777777777778,
              "#fb9f3a"
             ],
             [
              0.8888888888888888,
              "#fdca26"
             ],
             [
              1,
              "#f0f921"
             ]
            ],
            "type": "histogram2d"
           }
          ],
          "histogram2dcontour": [
           {
            "colorbar": {
             "outlinewidth": 0,
             "ticks": ""
            },
            "colorscale": [
             [
              0,
              "#0d0887"
             ],
             [
              0.1111111111111111,
              "#46039f"
             ],
             [
              0.2222222222222222,
              "#7201a8"
             ],
             [
              0.3333333333333333,
              "#9c179e"
             ],
             [
              0.4444444444444444,
              "#bd3786"
             ],
             [
              0.5555555555555556,
              "#d8576b"
             ],
             [
              0.6666666666666666,
              "#ed7953"
             ],
             [
              0.7777777777777778,
              "#fb9f3a"
             ],
             [
              0.8888888888888888,
              "#fdca26"
             ],
             [
              1,
              "#f0f921"
             ]
            ],
            "type": "histogram2dcontour"
           }
          ],
          "mesh3d": [
           {
            "colorbar": {
             "outlinewidth": 0,
             "ticks": ""
            },
            "type": "mesh3d"
           }
          ],
          "parcoords": [
           {
            "line": {
             "colorbar": {
              "outlinewidth": 0,
              "ticks": ""
             }
            },
            "type": "parcoords"
           }
          ],
          "pie": [
           {
            "automargin": true,
            "type": "pie"
           }
          ],
          "scatter": [
           {
            "fillpattern": {
             "fillmode": "overlay",
             "size": 10,
             "solidity": 0.2
            },
            "type": "scatter"
           }
          ],
          "scatter3d": [
           {
            "line": {
             "colorbar": {
              "outlinewidth": 0,
              "ticks": ""
             }
            },
            "marker": {
             "colorbar": {
              "outlinewidth": 0,
              "ticks": ""
             }
            },
            "type": "scatter3d"
           }
          ],
          "scattercarpet": [
           {
            "marker": {
             "colorbar": {
              "outlinewidth": 0,
              "ticks": ""
             }
            },
            "type": "scattercarpet"
           }
          ],
          "scattergeo": [
           {
            "marker": {
             "colorbar": {
              "outlinewidth": 0,
              "ticks": ""
             }
            },
            "type": "scattergeo"
           }
          ],
          "scattergl": [
           {
            "marker": {
             "colorbar": {
              "outlinewidth": 0,
              "ticks": ""
             }
            },
            "type": "scattergl"
           }
          ],
          "scattermapbox": [
           {
            "marker": {
             "colorbar": {
              "outlinewidth": 0,
              "ticks": ""
             }
            },
            "type": "scattermapbox"
           }
          ],
          "scatterpolar": [
           {
            "marker": {
             "colorbar": {
              "outlinewidth": 0,
              "ticks": ""
             }
            },
            "type": "scatterpolar"
           }
          ],
          "scatterpolargl": [
           {
            "marker": {
             "colorbar": {
              "outlinewidth": 0,
              "ticks": ""
             }
            },
            "type": "scatterpolargl"
           }
          ],
          "scatterternary": [
           {
            "marker": {
             "colorbar": {
              "outlinewidth": 0,
              "ticks": ""
             }
            },
            "type": "scatterternary"
           }
          ],
          "surface": [
           {
            "colorbar": {
             "outlinewidth": 0,
             "ticks": ""
            },
            "colorscale": [
             [
              0,
              "#0d0887"
             ],
             [
              0.1111111111111111,
              "#46039f"
             ],
             [
              0.2222222222222222,
              "#7201a8"
             ],
             [
              0.3333333333333333,
              "#9c179e"
             ],
             [
              0.4444444444444444,
              "#bd3786"
             ],
             [
              0.5555555555555556,
              "#d8576b"
             ],
             [
              0.6666666666666666,
              "#ed7953"
             ],
             [
              0.7777777777777778,
              "#fb9f3a"
             ],
             [
              0.8888888888888888,
              "#fdca26"
             ],
             [
              1,
              "#f0f921"
             ]
            ],
            "type": "surface"
           }
          ],
          "table": [
           {
            "cells": {
             "fill": {
              "color": "#EBF0F8"
             },
             "line": {
              "color": "white"
             }
            },
            "header": {
             "fill": {
              "color": "#C8D4E3"
             },
             "line": {
              "color": "white"
             }
            },
            "type": "table"
           }
          ]
         },
         "layout": {
          "annotationdefaults": {
           "arrowcolor": "#2a3f5f",
           "arrowhead": 0,
           "arrowwidth": 1
          },
          "autotypenumbers": "strict",
          "coloraxis": {
           "colorbar": {
            "outlinewidth": 0,
            "ticks": ""
           }
          },
          "colorscale": {
           "diverging": [
            [
             0,
             "#8e0152"
            ],
            [
             0.1,
             "#c51b7d"
            ],
            [
             0.2,
             "#de77ae"
            ],
            [
             0.3,
             "#f1b6da"
            ],
            [
             0.4,
             "#fde0ef"
            ],
            [
             0.5,
             "#f7f7f7"
            ],
            [
             0.6,
             "#e6f5d0"
            ],
            [
             0.7,
             "#b8e186"
            ],
            [
             0.8,
             "#7fbc41"
            ],
            [
             0.9,
             "#4d9221"
            ],
            [
             1,
             "#276419"
            ]
           ],
           "sequential": [
            [
             0,
             "#0d0887"
            ],
            [
             0.1111111111111111,
             "#46039f"
            ],
            [
             0.2222222222222222,
             "#7201a8"
            ],
            [
             0.3333333333333333,
             "#9c179e"
            ],
            [
             0.4444444444444444,
             "#bd3786"
            ],
            [
             0.5555555555555556,
             "#d8576b"
            ],
            [
             0.6666666666666666,
             "#ed7953"
            ],
            [
             0.7777777777777778,
             "#fb9f3a"
            ],
            [
             0.8888888888888888,
             "#fdca26"
            ],
            [
             1,
             "#f0f921"
            ]
           ],
           "sequentialminus": [
            [
             0,
             "#0d0887"
            ],
            [
             0.1111111111111111,
             "#46039f"
            ],
            [
             0.2222222222222222,
             "#7201a8"
            ],
            [
             0.3333333333333333,
             "#9c179e"
            ],
            [
             0.4444444444444444,
             "#bd3786"
            ],
            [
             0.5555555555555556,
             "#d8576b"
            ],
            [
             0.6666666666666666,
             "#ed7953"
            ],
            [
             0.7777777777777778,
             "#fb9f3a"
            ],
            [
             0.8888888888888888,
             "#fdca26"
            ],
            [
             1,
             "#f0f921"
            ]
           ]
          },
          "colorway": [
           "#636efa",
           "#EF553B",
           "#00cc96",
           "#ab63fa",
           "#FFA15A",
           "#19d3f3",
           "#FF6692",
           "#B6E880",
           "#FF97FF",
           "#FECB52"
          ],
          "font": {
           "color": "#2a3f5f"
          },
          "geo": {
           "bgcolor": "white",
           "lakecolor": "white",
           "landcolor": "#E5ECF6",
           "showlakes": true,
           "showland": true,
           "subunitcolor": "white"
          },
          "hoverlabel": {
           "align": "left"
          },
          "hovermode": "closest",
          "mapbox": {
           "style": "light"
          },
          "paper_bgcolor": "white",
          "plot_bgcolor": "#E5ECF6",
          "polar": {
           "angularaxis": {
            "gridcolor": "white",
            "linecolor": "white",
            "ticks": ""
           },
           "bgcolor": "#E5ECF6",
           "radialaxis": {
            "gridcolor": "white",
            "linecolor": "white",
            "ticks": ""
           }
          },
          "scene": {
           "xaxis": {
            "backgroundcolor": "#E5ECF6",
            "gridcolor": "white",
            "gridwidth": 2,
            "linecolor": "white",
            "showbackground": true,
            "ticks": "",
            "zerolinecolor": "white"
           },
           "yaxis": {
            "backgroundcolor": "#E5ECF6",
            "gridcolor": "white",
            "gridwidth": 2,
            "linecolor": "white",
            "showbackground": true,
            "ticks": "",
            "zerolinecolor": "white"
           },
           "zaxis": {
            "backgroundcolor": "#E5ECF6",
            "gridcolor": "white",
            "gridwidth": 2,
            "linecolor": "white",
            "showbackground": true,
            "ticks": "",
            "zerolinecolor": "white"
           }
          },
          "shapedefaults": {
           "line": {
            "color": "#2a3f5f"
           }
          },
          "ternary": {
           "aaxis": {
            "gridcolor": "white",
            "linecolor": "white",
            "ticks": ""
           },
           "baxis": {
            "gridcolor": "white",
            "linecolor": "white",
            "ticks": ""
           },
           "bgcolor": "#E5ECF6",
           "caxis": {
            "gridcolor": "white",
            "linecolor": "white",
            "ticks": ""
           }
          },
          "title": {
           "x": 0.05
          },
          "xaxis": {
           "automargin": true,
           "gridcolor": "white",
           "linecolor": "white",
           "ticks": "",
           "title": {
            "standoff": 15
           },
           "zerolinecolor": "white",
           "zerolinewidth": 2
          },
          "yaxis": {
           "automargin": true,
           "gridcolor": "white",
           "linecolor": "white",
           "ticks": "",
           "title": {
            "standoff": 15
           },
           "zerolinecolor": "white",
           "zerolinewidth": 2
          }
         }
        },
        "xaxis": {
         "anchor": "y",
         "domain": [
          0,
          1
         ],
         "title": {
          "text": "Year"
         }
        },
        "yaxis": {
         "anchor": "x",
         "domain": [
          0,
          1
         ],
         "title": {
          "text": "Number of Wins"
         }
        }
       }
      }
     },
     "metadata": {},
     "output_type": "display_data"
    },
    {
     "data": {
      "application/vnd.plotly.v1+json": {
       "config": {
        "plotlyServerURL": "https://plot.ly"
       },
       "data": [
        {
         "hovertemplate": "Year=%{x}<br>Position=%{y}<extra></extra>",
         "legendgroup": "",
         "line": {
          "color": "#636efa",
          "dash": "solid"
         },
         "marker": {
          "symbol": "circle"
         },
         "mode": "lines+markers",
         "name": "",
         "orientation": "v",
         "showlegend": false,
         "type": "scatter",
         "x": [
          2017,
          2018,
          2019,
          2020,
          2021,
          2022,
          2023,
          2024
         ],
         "xaxis": "x",
         "y": [
          1,
          1,
          1,
          1,
          2,
          6,
          3,
          6
         ],
         "yaxis": "y"
        }
       ],
       "layout": {
        "legend": {
         "tracegroupgap": 0
        },
        "margin": {
         "b": 50,
         "l": 50,
         "r": 50,
         "t": 50
        },
        "paper_bgcolor": "lightgray",
        "plot_bgcolor": "white",
        "template": {
         "data": {
          "bar": [
           {
            "error_x": {
             "color": "#2a3f5f"
            },
            "error_y": {
             "color": "#2a3f5f"
            },
            "marker": {
             "line": {
              "color": "#E5ECF6",
              "width": 0.5
             },
             "pattern": {
              "fillmode": "overlay",
              "size": 10,
              "solidity": 0.2
             }
            },
            "type": "bar"
           }
          ],
          "barpolar": [
           {
            "marker": {
             "line": {
              "color": "#E5ECF6",
              "width": 0.5
             },
             "pattern": {
              "fillmode": "overlay",
              "size": 10,
              "solidity": 0.2
             }
            },
            "type": "barpolar"
           }
          ],
          "carpet": [
           {
            "aaxis": {
             "endlinecolor": "#2a3f5f",
             "gridcolor": "white",
             "linecolor": "white",
             "minorgridcolor": "white",
             "startlinecolor": "#2a3f5f"
            },
            "baxis": {
             "endlinecolor": "#2a3f5f",
             "gridcolor": "white",
             "linecolor": "white",
             "minorgridcolor": "white",
             "startlinecolor": "#2a3f5f"
            },
            "type": "carpet"
           }
          ],
          "choropleth": [
           {
            "colorbar": {
             "outlinewidth": 0,
             "ticks": ""
            },
            "type": "choropleth"
           }
          ],
          "contour": [
           {
            "colorbar": {
             "outlinewidth": 0,
             "ticks": ""
            },
            "colorscale": [
             [
              0,
              "#0d0887"
             ],
             [
              0.1111111111111111,
              "#46039f"
             ],
             [
              0.2222222222222222,
              "#7201a8"
             ],
             [
              0.3333333333333333,
              "#9c179e"
             ],
             [
              0.4444444444444444,
              "#bd3786"
             ],
             [
              0.5555555555555556,
              "#d8576b"
             ],
             [
              0.6666666666666666,
              "#ed7953"
             ],
             [
              0.7777777777777778,
              "#fb9f3a"
             ],
             [
              0.8888888888888888,
              "#fdca26"
             ],
             [
              1,
              "#f0f921"
             ]
            ],
            "type": "contour"
           }
          ],
          "contourcarpet": [
           {
            "colorbar": {
             "outlinewidth": 0,
             "ticks": ""
            },
            "type": "contourcarpet"
           }
          ],
          "heatmap": [
           {
            "colorbar": {
             "outlinewidth": 0,
             "ticks": ""
            },
            "colorscale": [
             [
              0,
              "#0d0887"
             ],
             [
              0.1111111111111111,
              "#46039f"
             ],
             [
              0.2222222222222222,
              "#7201a8"
             ],
             [
              0.3333333333333333,
              "#9c179e"
             ],
             [
              0.4444444444444444,
              "#bd3786"
             ],
             [
              0.5555555555555556,
              "#d8576b"
             ],
             [
              0.6666666666666666,
              "#ed7953"
             ],
             [
              0.7777777777777778,
              "#fb9f3a"
             ],
             [
              0.8888888888888888,
              "#fdca26"
             ],
             [
              1,
              "#f0f921"
             ]
            ],
            "type": "heatmap"
           }
          ],
          "heatmapgl": [
           {
            "colorbar": {
             "outlinewidth": 0,
             "ticks": ""
            },
            "colorscale": [
             [
              0,
              "#0d0887"
             ],
             [
              0.1111111111111111,
              "#46039f"
             ],
             [
              0.2222222222222222,
              "#7201a8"
             ],
             [
              0.3333333333333333,
              "#9c179e"
             ],
             [
              0.4444444444444444,
              "#bd3786"
             ],
             [
              0.5555555555555556,
              "#d8576b"
             ],
             [
              0.6666666666666666,
              "#ed7953"
             ],
             [
              0.7777777777777778,
              "#fb9f3a"
             ],
             [
              0.8888888888888888,
              "#fdca26"
             ],
             [
              1,
              "#f0f921"
             ]
            ],
            "type": "heatmapgl"
           }
          ],
          "histogram": [
           {
            "marker": {
             "pattern": {
              "fillmode": "overlay",
              "size": 10,
              "solidity": 0.2
             }
            },
            "type": "histogram"
           }
          ],
          "histogram2d": [
           {
            "colorbar": {
             "outlinewidth": 0,
             "ticks": ""
            },
            "colorscale": [
             [
              0,
              "#0d0887"
             ],
             [
              0.1111111111111111,
              "#46039f"
             ],
             [
              0.2222222222222222,
              "#7201a8"
             ],
             [
              0.3333333333333333,
              "#9c179e"
             ],
             [
              0.4444444444444444,
              "#bd3786"
             ],
             [
              0.5555555555555556,
              "#d8576b"
             ],
             [
              0.6666666666666666,
              "#ed7953"
             ],
             [
              0.7777777777777778,
              "#fb9f3a"
             ],
             [
              0.8888888888888888,
              "#fdca26"
             ],
             [
              1,
              "#f0f921"
             ]
            ],
            "type": "histogram2d"
           }
          ],
          "histogram2dcontour": [
           {
            "colorbar": {
             "outlinewidth": 0,
             "ticks": ""
            },
            "colorscale": [
             [
              0,
              "#0d0887"
             ],
             [
              0.1111111111111111,
              "#46039f"
             ],
             [
              0.2222222222222222,
              "#7201a8"
             ],
             [
              0.3333333333333333,
              "#9c179e"
             ],
             [
              0.4444444444444444,
              "#bd3786"
             ],
             [
              0.5555555555555556,
              "#d8576b"
             ],
             [
              0.6666666666666666,
              "#ed7953"
             ],
             [
              0.7777777777777778,
              "#fb9f3a"
             ],
             [
              0.8888888888888888,
              "#fdca26"
             ],
             [
              1,
              "#f0f921"
             ]
            ],
            "type": "histogram2dcontour"
           }
          ],
          "mesh3d": [
           {
            "colorbar": {
             "outlinewidth": 0,
             "ticks": ""
            },
            "type": "mesh3d"
           }
          ],
          "parcoords": [
           {
            "line": {
             "colorbar": {
              "outlinewidth": 0,
              "ticks": ""
             }
            },
            "type": "parcoords"
           }
          ],
          "pie": [
           {
            "automargin": true,
            "type": "pie"
           }
          ],
          "scatter": [
           {
            "fillpattern": {
             "fillmode": "overlay",
             "size": 10,
             "solidity": 0.2
            },
            "type": "scatter"
           }
          ],
          "scatter3d": [
           {
            "line": {
             "colorbar": {
              "outlinewidth": 0,
              "ticks": ""
             }
            },
            "marker": {
             "colorbar": {
              "outlinewidth": 0,
              "ticks": ""
             }
            },
            "type": "scatter3d"
           }
          ],
          "scattercarpet": [
           {
            "marker": {
             "colorbar": {
              "outlinewidth": 0,
              "ticks": ""
             }
            },
            "type": "scattercarpet"
           }
          ],
          "scattergeo": [
           {
            "marker": {
             "colorbar": {
              "outlinewidth": 0,
              "ticks": ""
             }
            },
            "type": "scattergeo"
           }
          ],
          "scattergl": [
           {
            "marker": {
             "colorbar": {
              "outlinewidth": 0,
              "ticks": ""
             }
            },
            "type": "scattergl"
           }
          ],
          "scattermapbox": [
           {
            "marker": {
             "colorbar": {
              "outlinewidth": 0,
              "ticks": ""
             }
            },
            "type": "scattermapbox"
           }
          ],
          "scatterpolar": [
           {
            "marker": {
             "colorbar": {
              "outlinewidth": 0,
              "ticks": ""
             }
            },
            "type": "scatterpolar"
           }
          ],
          "scatterpolargl": [
           {
            "marker": {
             "colorbar": {
              "outlinewidth": 0,
              "ticks": ""
             }
            },
            "type": "scatterpolargl"
           }
          ],
          "scatterternary": [
           {
            "marker": {
             "colorbar": {
              "outlinewidth": 0,
              "ticks": ""
             }
            },
            "type": "scatterternary"
           }
          ],
          "surface": [
           {
            "colorbar": {
             "outlinewidth": 0,
             "ticks": ""
            },
            "colorscale": [
             [
              0,
              "#0d0887"
             ],
             [
              0.1111111111111111,
              "#46039f"
             ],
             [
              0.2222222222222222,
              "#7201a8"
             ],
             [
              0.3333333333333333,
              "#9c179e"
             ],
             [
              0.4444444444444444,
              "#bd3786"
             ],
             [
              0.5555555555555556,
              "#d8576b"
             ],
             [
              0.6666666666666666,
              "#ed7953"
             ],
             [
              0.7777777777777778,
              "#fb9f3a"
             ],
             [
              0.8888888888888888,
              "#fdca26"
             ],
             [
              1,
              "#f0f921"
             ]
            ],
            "type": "surface"
           }
          ],
          "table": [
           {
            "cells": {
             "fill": {
              "color": "#EBF0F8"
             },
             "line": {
              "color": "white"
             }
            },
            "header": {
             "fill": {
              "color": "#C8D4E3"
             },
             "line": {
              "color": "white"
             }
            },
            "type": "table"
           }
          ]
         },
         "layout": {
          "annotationdefaults": {
           "arrowcolor": "#2a3f5f",
           "arrowhead": 0,
           "arrowwidth": 1
          },
          "autotypenumbers": "strict",
          "coloraxis": {
           "colorbar": {
            "outlinewidth": 0,
            "ticks": ""
           }
          },
          "colorscale": {
           "diverging": [
            [
             0,
             "#8e0152"
            ],
            [
             0.1,
             "#c51b7d"
            ],
            [
             0.2,
             "#de77ae"
            ],
            [
             0.3,
             "#f1b6da"
            ],
            [
             0.4,
             "#fde0ef"
            ],
            [
             0.5,
             "#f7f7f7"
            ],
            [
             0.6,
             "#e6f5d0"
            ],
            [
             0.7,
             "#b8e186"
            ],
            [
             0.8,
             "#7fbc41"
            ],
            [
             0.9,
             "#4d9221"
            ],
            [
             1,
             "#276419"
            ]
           ],
           "sequential": [
            [
             0,
             "#0d0887"
            ],
            [
             0.1111111111111111,
             "#46039f"
            ],
            [
             0.2222222222222222,
             "#7201a8"
            ],
            [
             0.3333333333333333,
             "#9c179e"
            ],
            [
             0.4444444444444444,
             "#bd3786"
            ],
            [
             0.5555555555555556,
             "#d8576b"
            ],
            [
             0.6666666666666666,
             "#ed7953"
            ],
            [
             0.7777777777777778,
             "#fb9f3a"
            ],
            [
             0.8888888888888888,
             "#fdca26"
            ],
            [
             1,
             "#f0f921"
            ]
           ],
           "sequentialminus": [
            [
             0,
             "#0d0887"
            ],
            [
             0.1111111111111111,
             "#46039f"
            ],
            [
             0.2222222222222222,
             "#7201a8"
            ],
            [
             0.3333333333333333,
             "#9c179e"
            ],
            [
             0.4444444444444444,
             "#bd3786"
            ],
            [
             0.5555555555555556,
             "#d8576b"
            ],
            [
             0.6666666666666666,
             "#ed7953"
            ],
            [
             0.7777777777777778,
             "#fb9f3a"
            ],
            [
             0.8888888888888888,
             "#fdca26"
            ],
            [
             1,
             "#f0f921"
            ]
           ]
          },
          "colorway": [
           "#636efa",
           "#EF553B",
           "#00cc96",
           "#ab63fa",
           "#FFA15A",
           "#19d3f3",
           "#FF6692",
           "#B6E880",
           "#FF97FF",
           "#FECB52"
          ],
          "font": {
           "color": "#2a3f5f"
          },
          "geo": {
           "bgcolor": "white",
           "lakecolor": "white",
           "landcolor": "#E5ECF6",
           "showlakes": true,
           "showland": true,
           "subunitcolor": "white"
          },
          "hoverlabel": {
           "align": "left"
          },
          "hovermode": "closest",
          "mapbox": {
           "style": "light"
          },
          "paper_bgcolor": "white",
          "plot_bgcolor": "#E5ECF6",
          "polar": {
           "angularaxis": {
            "gridcolor": "white",
            "linecolor": "white",
            "ticks": ""
           },
           "bgcolor": "#E5ECF6",
           "radialaxis": {
            "gridcolor": "white",
            "linecolor": "white",
            "ticks": ""
           }
          },
          "scene": {
           "xaxis": {
            "backgroundcolor": "#E5ECF6",
            "gridcolor": "white",
            "gridwidth": 2,
            "linecolor": "white",
            "showbackground": true,
            "ticks": "",
            "zerolinecolor": "white"
           },
           "yaxis": {
            "backgroundcolor": "#E5ECF6",
            "gridcolor": "white",
            "gridwidth": 2,
            "linecolor": "white",
            "showbackground": true,
            "ticks": "",
            "zerolinecolor": "white"
           },
           "zaxis": {
            "backgroundcolor": "#E5ECF6",
            "gridcolor": "white",
            "gridwidth": 2,
            "linecolor": "white",
            "showbackground": true,
            "ticks": "",
            "zerolinecolor": "white"
           }
          },
          "shapedefaults": {
           "line": {
            "color": "#2a3f5f"
           }
          },
          "ternary": {
           "aaxis": {
            "gridcolor": "white",
            "linecolor": "white",
            "ticks": ""
           },
           "baxis": {
            "gridcolor": "white",
            "linecolor": "white",
            "ticks": ""
           },
           "bgcolor": "#E5ECF6",
           "caxis": {
            "gridcolor": "white",
            "linecolor": "white",
            "ticks": ""
           }
          },
          "title": {
           "x": 0.05
          },
          "xaxis": {
           "automargin": true,
           "gridcolor": "white",
           "linecolor": "white",
           "ticks": "",
           "title": {
            "standoff": 15
           },
           "zerolinecolor": "white",
           "zerolinewidth": 2
          },
          "yaxis": {
           "automargin": true,
           "gridcolor": "white",
           "linecolor": "white",
           "ticks": "",
           "title": {
            "standoff": 15
           },
           "zerolinecolor": "white",
           "zerolinewidth": 2
          }
         }
        },
        "xaxis": {
         "anchor": "y",
         "domain": [
          0,
          1
         ],
         "title": {
          "text": "Year"
         }
        },
        "yaxis": {
         "anchor": "x",
         "autorange": "reversed",
         "domain": [
          0,
          1
         ],
         "title": {
          "text": "Position"
         }
        }
       }
      }
     },
     "metadata": {},
     "output_type": "display_data"
    }
   ],
   "source": [
    "def load_driver_standings_data():\n",
    "    \"\"\"Loads and updates the driver standings data.\"\"\"\n",
    "    df = pd.read_csv('driver_standings.csv')\n",
    "\n",
    "    df['constructorId'] = df['constructorId'].replace({'alphatauri': 'rb'})\n",
    "    df['constructorName'] = df['constructorName'].replace({'AlphaTauri': 'RB F1 Team'})\n",
    "    \n",
    "    return df\n",
    "\n",
    "def plot_top_drivers_by_points(top=10):\n",
    "    \"\"\"Creates a bar chart for the top 10 drivers with the highest total points (2017-2024) using Viridis color scale.\"\"\"\n",
    "    \n",
    "    df_driver_standings = load_driver_standings_data()\n",
    "\n",
    "    df_driver_standings = df_driver_standings[df_driver_standings['season'].between(2017, 2024)]\n",
    "\n",
    "    total_points_per_driver = df_driver_standings.groupby('driverId')['points'].sum().reset_index()\n",
    "\n",
    "    top_drivers = total_points_per_driver.sort_values(by='points', ascending=False).head(top)\n",
    "\n",
    "    fig = px.bar(\n",
    "        top_drivers,\n",
    "        x='driverId',\n",
    "        y='points',\n",
    "        labels={'driverId': 'Driver', 'points': 'Total Points'},\n",
    "        text='points',\n",
    "        color='points',\n",
    "        color_continuous_scale='Viridis'\n",
    "    )\n",
    "\n",
    "    fig.update_layout(\n",
    "        xaxis=dict(title='Driver', tickfont=dict(size=12), autorange='reversed'),\n",
    "        yaxis=dict(title='Total Points', tickfont=dict(size=12)),\n",
    "        plot_bgcolor='white',\n",
    "        paper_bgcolor='lightgray',\n",
    "        hoverlabel=dict(bgcolor=\"white\", font_size=12, font_family=\"Arial\")\n",
    "    )\n",
    "\n",
    "    fig.update_traces(texttemplate='%{text:.0f}', textposition='outside')\n",
    "\n",
    "    return fig\n",
    "\n",
    "def plot_top_drivers_by_wins(top=10):\n",
    "    \"\"\"Creates a bar chart for the top 10 drivers with the most wins (2017-2024) using Viridis color scale.\"\"\"\n",
    "    \n",
    "    df_driver_standings = load_driver_standings_data()\n",
    "\n",
    "    total_wins_per_driver = df_driver_standings.groupby('driverId')['wins'].sum().reset_index()\n",
    "\n",
    "    top_drivers = total_wins_per_driver.sort_values(by='wins', ascending=False).head(top)\n",
    "\n",
    "    fig = px.bar(\n",
    "        top_drivers,\n",
    "        x='driverId',\n",
    "        y='wins',\n",
    "        labels={'driverId': 'Driver', 'wins': 'Number of Wins'},\n",
    "        text='wins',\n",
    "        color='wins',\n",
    "        color_continuous_scale='Viridis'\n",
    "    )\n",
    "\n",
    "    fig.update_layout(\n",
    "        xaxis=dict(title='Driver', tickfont=dict(size=12), autorange='reversed'),\n",
    "        yaxis=dict(title='Number of Wins', tickfont=dict(size=12)),\n",
    "        plot_bgcolor='white',\n",
    "        paper_bgcolor='lightgray',\n",
    "        hoverlabel=dict(bgcolor=\"white\", font_size=12, font_family=\"Arial\")\n",
    "    )\n",
    "\n",
    "    fig.update_traces(texttemplate='%{text:.0f}', textposition='outside')\n",
    "\n",
    "    return fig\n",
    "\n",
    "def plot_driver_progression(driver_id):\n",
    "    \"\"\"Creates three visualizations for a specific driver: Points vs Year, Wins vs Year, Standing vs Year (reversed).\"\"\"\n",
    "    \n",
    "    df_driver_standings = load_driver_standings_data()\n",
    "\n",
    "    df_driver = df_driver_standings[df_driver_standings['driverId'] == driver_id]\n",
    "\n",
    "    fig_points = px.line(\n",
    "        df_driver,\n",
    "        x='season',\n",
    "        y='points',\n",
    "        labels={'season': 'Year', 'points': 'Points'},\n",
    "        markers=True\n",
    "    )\n",
    "    fig_points.update_layout(\n",
    "        plot_bgcolor='white',\n",
    "        paper_bgcolor='lightgray',\n",
    "        margin=dict(l=50, r=50, t=50, b=50),\n",
    "    )\n",
    "\n",
    "    fig_wins = px.line(\n",
    "        df_driver,\n",
    "        x='season',\n",
    "        y='wins',\n",
    "        labels={'season': 'Year', 'wins': 'Number of Wins'},\n",
    "        markers=True\n",
    "    )\n",
    "    fig_wins.update_layout(\n",
    "        plot_bgcolor='white',\n",
    "        paper_bgcolor='lightgray',\n",
    "        margin=dict(l=50, r=50, t=50, b=50),\n",
    "    )\n",
    "\n",
    "    fig_standing = px.line(\n",
    "        df_driver,\n",
    "        x='season',\n",
    "        y='position',\n",
    "        labels={'season': 'Year', 'position': 'Position'},\n",
    "        markers=True\n",
    "    )\n",
    "    fig_standing.update_layout(\n",
    "        yaxis=dict(autorange='reversed'),\n",
    "        plot_bgcolor='white',\n",
    "        paper_bgcolor='lightgray',\n",
    "        margin=dict(l=50, r=50, t=50, b=50),\n",
    "    )\n",
    "\n",
    "    return fig_points, fig_wins, fig_standing\n",
    "\n",
    "plot_top_drivers_by_points().show()\n",
    "plot_top_drivers_by_wins().show()\n",
    "fig_points, fig_wins, fig_standing = plot_driver_progression('hamilton')\n",
    "fig_points.show()\n",
    "fig_wins.show()\n",
    "fig_standing.show()"
   ]
  },
  {
   "cell_type": "markdown",
   "metadata": {},
   "source": [
    "### Race Results\n"
   ]
  },
  {
   "cell_type": "code",
   "execution_count": 43,
   "metadata": {},
   "outputs": [
    {
     "data": {
      "application/vnd.plotly.v1+json": {
       "config": {
        "plotlyServerURL": "https://plot.ly"
       },
       "data": [
        {
         "customdata": [
          [
           "max_verstappen",
           "Bahrain Grand Prix",
           25
          ],
          [
           "perez",
           "Bahrain Grand Prix",
           18
          ],
          [
           "perez",
           "Saudi Arabian Grand Prix",
           25
          ],
          [
           "max_verstappen",
           "Saudi Arabian Grand Prix",
           19
          ],
          [
           "max_verstappen",
           "Australian Grand Prix",
           25
          ],
          [
           "perez",
           "Australian Grand Prix",
           11
          ],
          [
           "perez",
           "Azerbaijan Grand Prix",
           25
          ],
          [
           "max_verstappen",
           "Azerbaijan Grand Prix",
           18
          ],
          [
           "max_verstappen",
           "Miami Grand Prix",
           26
          ],
          [
           "perez",
           "Miami Grand Prix",
           18
          ],
          [
           "max_verstappen",
           "Monaco Grand Prix",
           25
          ],
          [
           "perez",
           "Monaco Grand Prix",
           0
          ],
          [
           "max_verstappen",
           "Spanish Grand Prix",
           26
          ],
          [
           "perez",
           "Spanish Grand Prix",
           12
          ],
          [
           "max_verstappen",
           "Canadian Grand Prix",
           25
          ],
          [
           "perez",
           "Canadian Grand Prix",
           9
          ],
          [
           "max_verstappen",
           "Austrian Grand Prix",
           26
          ],
          [
           "perez",
           "Austrian Grand Prix",
           15
          ],
          [
           "max_verstappen",
           "British Grand Prix",
           26
          ],
          [
           "perez",
           "British Grand Prix",
           8
          ],
          [
           "max_verstappen",
           "Hungarian Grand Prix",
           26
          ],
          [
           "perez",
           "Hungarian Grand Prix",
           15
          ],
          [
           "max_verstappen",
           "Belgian Grand Prix",
           25
          ],
          [
           "perez",
           "Belgian Grand Prix",
           18
          ],
          [
           "max_verstappen",
           "Dutch Grand Prix",
           25
          ],
          [
           "perez",
           "Dutch Grand Prix",
           12
          ],
          [
           "max_verstappen",
           "Italian Grand Prix",
           25
          ],
          [
           "perez",
           "Italian Grand Prix",
           18
          ],
          [
           "max_verstappen",
           "Singapore Grand Prix",
           10
          ],
          [
           "perez",
           "Singapore Grand Prix",
           4
          ],
          [
           "max_verstappen",
           "Japanese Grand Prix",
           26
          ],
          [
           "perez",
           "Japanese Grand Prix",
           0
          ],
          [
           "max_verstappen",
           "Qatar Grand Prix",
           26
          ],
          [
           "perez",
           "Qatar Grand Prix",
           1
          ],
          [
           "max_verstappen",
           "United States Grand Prix",
           25
          ],
          [
           "perez",
           "United States Grand Prix",
           12
          ],
          [
           "max_verstappen",
           "Mexico City Grand Prix",
           25
          ],
          [
           "perez",
           "Mexico City Grand Prix",
           0
          ],
          [
           "max_verstappen",
           "São Paulo Grand Prix",
           25
          ],
          [
           "perez",
           "São Paulo Grand Prix",
           12
          ],
          [
           "max_verstappen",
           "Las Vegas Grand Prix",
           25
          ],
          [
           "perez",
           "Las Vegas Grand Prix",
           15
          ],
          [
           "max_verstappen",
           "Abu Dhabi Grand Prix",
           26
          ],
          [
           "perez",
           "Abu Dhabi Grand Prix",
           12
          ]
         ],
         "hovertemplate": "constructorId=red_bull<br>Grid Start=%{x}<br>Final Position=%{y}<br>driverId=%{customdata[0]}<br>raceName=%{customdata[1]}<br>points=%{customdata[2]}<extra></extra>",
         "legendgroup": "red_bull",
         "marker": {
          "color": "#FDD900",
          "symbol": "circle"
         },
         "mode": "markers",
         "name": "red_bull",
         "orientation": "v",
         "showlegend": true,
         "type": "scatter",
         "x": [
          1,
          2,
          1,
          15,
          1,
          0,
          3,
          2,
          9,
          1,
          1,
          20,
          1,
          11,
          1,
          12,
          1,
          15,
          1,
          15,
          2,
          9,
          6,
          2,
          1,
          7,
          2,
          5,
          11,
          13,
          1,
          5,
          1,
          0,
          6,
          9,
          3,
          5,
          1,
          9,
          2,
          11,
          1,
          9
         ],
         "xaxis": "x",
         "y": [
          1,
          2,
          1,
          2,
          1,
          5,
          1,
          2,
          1,
          2,
          1,
          16,
          1,
          4,
          1,
          6,
          1,
          3,
          1,
          6,
          1,
          3,
          1,
          2,
          1,
          4,
          1,
          2,
          5,
          8,
          1,
          19,
          1,
          10,
          1,
          4,
          1,
          20,
          1,
          4,
          1,
          3,
          1,
          4
         ],
         "yaxis": "y"
        },
        {
         "customdata": [
          [
           "alonso",
           "Bahrain Grand Prix",
           15
          ],
          [
           "stroll",
           "Bahrain Grand Prix",
           8
          ],
          [
           "alonso",
           "Saudi Arabian Grand Prix",
           15
          ],
          [
           "stroll",
           "Saudi Arabian Grand Prix",
           0
          ],
          [
           "alonso",
           "Australian Grand Prix",
           15
          ],
          [
           "stroll",
           "Australian Grand Prix",
           12
          ],
          [
           "alonso",
           "Azerbaijan Grand Prix",
           12
          ],
          [
           "stroll",
           "Azerbaijan Grand Prix",
           6
          ],
          [
           "alonso",
           "Miami Grand Prix",
           15
          ],
          [
           "stroll",
           "Miami Grand Prix",
           0
          ],
          [
           "alonso",
           "Monaco Grand Prix",
           18
          ],
          [
           "stroll",
           "Monaco Grand Prix",
           0
          ],
          [
           "stroll",
           "Spanish Grand Prix",
           8
          ],
          [
           "alonso",
           "Spanish Grand Prix",
           6
          ],
          [
           "alonso",
           "Canadian Grand Prix",
           18
          ],
          [
           "stroll",
           "Canadian Grand Prix",
           2
          ],
          [
           "alonso",
           "Austrian Grand Prix",
           10
          ],
          [
           "stroll",
           "Austrian Grand Prix",
           2
          ],
          [
           "alonso",
           "British Grand Prix",
           6
          ],
          [
           "stroll",
           "British Grand Prix",
           0
          ],
          [
           "alonso",
           "Hungarian Grand Prix",
           2
          ],
          [
           "stroll",
           "Hungarian Grand Prix",
           1
          ],
          [
           "alonso",
           "Belgian Grand Prix",
           10
          ],
          [
           "stroll",
           "Belgian Grand Prix",
           2
          ],
          [
           "alonso",
           "Dutch Grand Prix",
           19
          ],
          [
           "stroll",
           "Dutch Grand Prix",
           0
          ],
          [
           "alonso",
           "Italian Grand Prix",
           2
          ],
          [
           "stroll",
           "Italian Grand Prix",
           0
          ],
          [
           "alonso",
           "Singapore Grand Prix",
           0
          ],
          [
           "stroll",
           "Singapore Grand Prix",
           0
          ],
          [
           "alonso",
           "Japanese Grand Prix",
           4
          ],
          [
           "stroll",
           "Japanese Grand Prix",
           0
          ],
          [
           "alonso",
           "Qatar Grand Prix",
           8
          ],
          [
           "stroll",
           "Qatar Grand Prix",
           0
          ],
          [
           "stroll",
           "United States Grand Prix",
           6
          ],
          [
           "alonso",
           "United States Grand Prix",
           0
          ],
          [
           "stroll",
           "Mexico City Grand Prix",
           0
          ],
          [
           "alonso",
           "Mexico City Grand Prix",
           0
          ],
          [
           "alonso",
           "São Paulo Grand Prix",
           15
          ],
          [
           "stroll",
           "São Paulo Grand Prix",
           10
          ],
          [
           "stroll",
           "Las Vegas Grand Prix",
           10
          ],
          [
           "alonso",
           "Las Vegas Grand Prix",
           2
          ],
          [
           "alonso",
           "Abu Dhabi Grand Prix",
           6
          ],
          [
           "stroll",
           "Abu Dhabi Grand Prix",
           1
          ]
         ],
         "hovertemplate": "constructorId=aston_martin<br>Grid Start=%{x}<br>Final Position=%{y}<br>driverId=%{customdata[0]}<br>raceName=%{customdata[1]}<br>points=%{customdata[2]}<extra></extra>",
         "legendgroup": "aston_martin",
         "marker": {
          "color": "#006400",
          "symbol": "circle"
         },
         "mode": "markers",
         "name": "aston_martin",
         "orientation": "v",
         "showlegend": true,
         "type": "scatter",
         "x": [
          5,
          8,
          2,
          5,
          4,
          6,
          6,
          9,
          2,
          18,
          2,
          14,
          5,
          8,
          2,
          16,
          7,
          6,
          9,
          12,
          8,
          14,
          9,
          10,
          5,
          11,
          10,
          20,
          7,
          0,
          10,
          17,
          4,
          16,
          0,
          0,
          0,
          13,
          4,
          3,
          19,
          9,
          7,
          13
         ],
         "xaxis": "x",
         "y": [
          3,
          6,
          3,
          20,
          3,
          4,
          4,
          7,
          3,
          12,
          2,
          20,
          6,
          7,
          2,
          9,
          5,
          9,
          7,
          14,
          9,
          10,
          5,
          9,
          2,
          11,
          9,
          16,
          15,
          20,
          8,
          18,
          6,
          11,
          7,
          16,
          17,
          18,
          3,
          5,
          5,
          9,
          7,
          10
         ],
         "yaxis": "y"
        },
        {
         "customdata": [
          [
           "sainz",
           "Bahrain Grand Prix",
           12
          ],
          [
           "leclerc",
           "Bahrain Grand Prix",
           0
          ],
          [
           "sainz",
           "Saudi Arabian Grand Prix",
           8
          ],
          [
           "leclerc",
           "Saudi Arabian Grand Prix",
           6
          ],
          [
           "sainz",
           "Australian Grand Prix",
           0
          ],
          [
           "leclerc",
           "Australian Grand Prix",
           0
          ],
          [
           "leclerc",
           "Azerbaijan Grand Prix",
           15
          ],
          [
           "sainz",
           "Azerbaijan Grand Prix",
           10
          ],
          [
           "sainz",
           "Miami Grand Prix",
           10
          ],
          [
           "leclerc",
           "Miami Grand Prix",
           6
          ],
          [
           "leclerc",
           "Monaco Grand Prix",
           8
          ],
          [
           "sainz",
           "Monaco Grand Prix",
           4
          ],
          [
           "sainz",
           "Spanish Grand Prix",
           10
          ],
          [
           "leclerc",
           "Spanish Grand Prix",
           0
          ],
          [
           "leclerc",
           "Canadian Grand Prix",
           12
          ],
          [
           "sainz",
           "Canadian Grand Prix",
           10
          ],
          [
           "leclerc",
           "Austrian Grand Prix",
           18
          ],
          [
           "sainz",
           "Austrian Grand Prix",
           8
          ],
          [
           "leclerc",
           "British Grand Prix",
           2
          ],
          [
           "sainz",
           "British Grand Prix",
           1
          ],
          [
           "leclerc",
           "Hungarian Grand Prix",
           6
          ],
          [
           "sainz",
           "Hungarian Grand Prix",
           4
          ],
          [
           "leclerc",
           "Belgian Grand Prix",
           15
          ],
          [
           "sainz",
           "Belgian Grand Prix",
           0
          ],
          [
           "sainz",
           "Dutch Grand Prix",
           10
          ],
          [
           "leclerc",
           "Dutch Grand Prix",
           0
          ],
          [
           "sainz",
           "Italian Grand Prix",
           15
          ],
          [
           "leclerc",
           "Italian Grand Prix",
           12
          ],
          [
           "sainz",
           "Singapore Grand Prix",
           25
          ],
          [
           "leclerc",
           "Singapore Grand Prix",
           12
          ],
          [
           "leclerc",
           "Japanese Grand Prix",
           12
          ],
          [
           "sainz",
           "Japanese Grand Prix",
           8
          ],
          [
           "leclerc",
           "Qatar Grand Prix",
           10
          ],
          [
           "sainz",
           "Qatar Grand Prix",
           0
          ],
          [
           "sainz",
           "United States Grand Prix",
           15
          ],
          [
           "leclerc",
           "United States Grand Prix",
           0
          ],
          [
           "leclerc",
           "Mexico City Grand Prix",
           15
          ],
          [
           "sainz",
           "Mexico City Grand Prix",
           12
          ],
          [
           "sainz",
           "São Paulo Grand Prix",
           8
          ],
          [
           "leclerc",
           "São Paulo Grand Prix",
           0
          ],
          [
           "leclerc",
           "Las Vegas Grand Prix",
           18
          ],
          [
           "sainz",
           "Las Vegas Grand Prix",
           8
          ],
          [
           "leclerc",
           "Abu Dhabi Grand Prix",
           18
          ],
          [
           "sainz",
           "Abu Dhabi Grand Prix",
           0
          ]
         ],
         "hovertemplate": "constructorId=ferrari<br>Grid Start=%{x}<br>Final Position=%{y}<br>driverId=%{customdata[0]}<br>raceName=%{customdata[1]}<br>points=%{customdata[2]}<extra></extra>",
         "legendgroup": "ferrari",
         "marker": {
          "color": "#ff0000",
          "symbol": "circle"
         },
         "mode": "markers",
         "name": "ferrari",
         "orientation": "v",
         "showlegend": true,
         "type": "scatter",
         "x": [
          4,
          3,
          4,
          12,
          5,
          7,
          1,
          4,
          3,
          7,
          6,
          4,
          2,
          19,
          10,
          11,
          2,
          3,
          4,
          5,
          6,
          11,
          1,
          4,
          6,
          9,
          1,
          3,
          1,
          3,
          4,
          6,
          5,
          12,
          4,
          1,
          1,
          2,
          7,
          0,
          1,
          12,
          2,
          16
         ],
         "xaxis": "x",
         "y": [
          4,
          19,
          6,
          7,
          12,
          20,
          3,
          5,
          5,
          7,
          6,
          8,
          5,
          11,
          4,
          5,
          2,
          6,
          9,
          10,
          7,
          8,
          3,
          19,
          5,
          19,
          3,
          4,
          1,
          4,
          4,
          6,
          5,
          20,
          3,
          20,
          3,
          4,
          6,
          20,
          2,
          6,
          2,
          18
         ],
         "yaxis": "y"
        },
        {
         "customdata": [
          [
           "hamilton",
           "Bahrain Grand Prix",
           10
          ],
          [
           "russell",
           "Bahrain Grand Prix",
           6
          ],
          [
           "russell",
           "Saudi Arabian Grand Prix",
           12
          ],
          [
           "hamilton",
           "Saudi Arabian Grand Prix",
           10
          ],
          [
           "hamilton",
           "Australian Grand Prix",
           18
          ],
          [
           "russell",
           "Australian Grand Prix",
           0
          ],
          [
           "hamilton",
           "Azerbaijan Grand Prix",
           8
          ],
          [
           "russell",
           "Azerbaijan Grand Prix",
           5
          ],
          [
           "russell",
           "Miami Grand Prix",
           12
          ],
          [
           "hamilton",
           "Miami Grand Prix",
           8
          ],
          [
           "hamilton",
           "Monaco Grand Prix",
           13
          ],
          [
           "russell",
           "Monaco Grand Prix",
           10
          ],
          [
           "hamilton",
           "Spanish Grand Prix",
           18
          ],
          [
           "russell",
           "Spanish Grand Prix",
           15
          ],
          [
           "hamilton",
           "Canadian Grand Prix",
           15
          ],
          [
           "russell",
           "Canadian Grand Prix",
           0
          ],
          [
           "russell",
           "Austrian Grand Prix",
           6
          ],
          [
           "hamilton",
           "Austrian Grand Prix",
           4
          ],
          [
           "hamilton",
           "British Grand Prix",
           15
          ],
          [
           "russell",
           "British Grand Prix",
           10
          ],
          [
           "hamilton",
           "Hungarian Grand Prix",
           12
          ],
          [
           "russell",
           "Hungarian Grand Prix",
           8
          ],
          [
           "hamilton",
           "Belgian Grand Prix",
           13
          ],
          [
           "russell",
           "Belgian Grand Prix",
           8
          ],
          [
           "hamilton",
           "Dutch Grand Prix",
           8
          ],
          [
           "russell",
           "Dutch Grand Prix",
           0
          ],
          [
           "russell",
           "Italian Grand Prix",
           10
          ],
          [
           "hamilton",
           "Italian Grand Prix",
           8
          ],
          [
           "hamilton",
           "Singapore Grand Prix",
           16
          ],
          [
           "russell",
           "Singapore Grand Prix",
           0
          ],
          [
           "hamilton",
           "Japanese Grand Prix",
           10
          ],
          [
           "russell",
           "Japanese Grand Prix",
           6
          ],
          [
           "russell",
           "Qatar Grand Prix",
           12
          ],
          [
           "hamilton",
           "Qatar Grand Prix",
           0
          ],
          [
           "russell",
           "United States Grand Prix",
           10
          ],
          [
           "hamilton",
           "United States Grand Prix",
           0
          ],
          [
           "hamilton",
           "Mexico City Grand Prix",
           19
          ],
          [
           "russell",
           "Mexico City Grand Prix",
           8
          ],
          [
           "hamilton",
           "São Paulo Grand Prix",
           4
          ],
          [
           "russell",
           "São Paulo Grand Prix",
           0
          ],
          [
           "hamilton",
           "Las Vegas Grand Prix",
           6
          ],
          [
           "russell",
           "Las Vegas Grand Prix",
           4
          ],
          [
           "russell",
           "Abu Dhabi Grand Prix",
           15
          ],
          [
           "hamilton",
           "Abu Dhabi Grand Prix",
           2
          ]
         ],
         "hovertemplate": "constructorId=mercedes<br>Grid Start=%{x}<br>Final Position=%{y}<br>driverId=%{customdata[0]}<br>raceName=%{customdata[1]}<br>points=%{customdata[2]}<extra></extra>",
         "legendgroup": "mercedes",
         "marker": {
          "color": "#565F64",
          "symbol": "circle"
         },
         "mode": "markers",
         "name": "mercedes",
         "orientation": "v",
         "showlegend": true,
         "type": "scatter",
         "x": [
          7,
          6,
          3,
          7,
          3,
          2,
          5,
          11,
          6,
          13,
          5,
          8,
          4,
          12,
          3,
          4,
          11,
          5,
          7,
          6,
          1,
          18,
          3,
          8,
          13,
          3,
          4,
          8,
          5,
          2,
          7,
          8,
          2,
          3,
          5,
          3,
          6,
          8,
          5,
          8,
          10,
          3,
          4,
          11
         ],
         "xaxis": "x",
         "y": [
          5,
          7,
          4,
          5,
          2,
          18,
          6,
          8,
          4,
          6,
          4,
          5,
          2,
          3,
          3,
          19,
          7,
          8,
          3,
          5,
          4,
          6,
          4,
          6,
          6,
          17,
          5,
          6,
          3,
          16,
          5,
          7,
          4,
          19,
          5,
          19,
          2,
          6,
          8,
          15,
          7,
          8,
          3,
          9
         ],
         "yaxis": "y"
        },
        {
         "customdata": [
          [
           "bottas",
           "Bahrain Grand Prix",
           4
          ],
          [
           "zhou",
           "Bahrain Grand Prix",
           0
          ],
          [
           "zhou",
           "Saudi Arabian Grand Prix",
           0
          ],
          [
           "bottas",
           "Saudi Arabian Grand Prix",
           0
          ],
          [
           "zhou",
           "Australian Grand Prix",
           2
          ],
          [
           "bottas",
           "Australian Grand Prix",
           0
          ],
          [
           "bottas",
           "Azerbaijan Grand Prix",
           0
          ],
          [
           "zhou",
           "Azerbaijan Grand Prix",
           0
          ],
          [
           "bottas",
           "Miami Grand Prix",
           0
          ],
          [
           "zhou",
           "Miami Grand Prix",
           0
          ],
          [
           "bottas",
           "Monaco Grand Prix",
           0
          ],
          [
           "zhou",
           "Monaco Grand Prix",
           0
          ],
          [
           "zhou",
           "Spanish Grand Prix",
           2
          ],
          [
           "bottas",
           "Spanish Grand Prix",
           0
          ],
          [
           "bottas",
           "Canadian Grand Prix",
           1
          ],
          [
           "zhou",
           "Canadian Grand Prix",
           0
          ],
          [
           "zhou",
           "Austrian Grand Prix",
           0
          ],
          [
           "bottas",
           "Austrian Grand Prix",
           0
          ],
          [
           "bottas",
           "British Grand Prix",
           0
          ],
          [
           "zhou",
           "British Grand Prix",
           0
          ],
          [
           "bottas",
           "Hungarian Grand Prix",
           0
          ],
          [
           "zhou",
           "Hungarian Grand Prix",
           0
          ],
          [
           "bottas",
           "Belgian Grand Prix",
           0
          ],
          [
           "zhou",
           "Belgian Grand Prix",
           0
          ],
          [
           "bottas",
           "Dutch Grand Prix",
           0
          ],
          [
           "zhou",
           "Dutch Grand Prix",
           0
          ],
          [
           "bottas",
           "Italian Grand Prix",
           1
          ],
          [
           "zhou",
           "Italian Grand Prix",
           0
          ],
          [
           "zhou",
           "Singapore Grand Prix",
           0
          ],
          [
           "bottas",
           "Singapore Grand Prix",
           0
          ],
          [
           "zhou",
           "Japanese Grand Prix",
           0
          ],
          [
           "bottas",
           "Japanese Grand Prix",
           0
          ],
          [
           "bottas",
           "Qatar Grand Prix",
           4
          ],
          [
           "zhou",
           "Qatar Grand Prix",
           2
          ],
          [
           "bottas",
           "United States Grand Prix",
           0
          ],
          [
           "zhou",
           "United States Grand Prix",
           0
          ],
          [
           "zhou",
           "Mexico City Grand Prix",
           0
          ],
          [
           "bottas",
           "Mexico City Grand Prix",
           0
          ],
          [
           "bottas",
           "São Paulo Grand Prix",
           0
          ],
          [
           "zhou",
           "São Paulo Grand Prix",
           0
          ],
          [
           "zhou",
           "Las Vegas Grand Prix",
           0
          ],
          [
           "bottas",
           "Las Vegas Grand Prix",
           0
          ],
          [
           "zhou",
           "Abu Dhabi Grand Prix",
           0
          ],
          [
           "bottas",
           "Abu Dhabi Grand Prix",
           0
          ]
         ],
         "hovertemplate": "constructorId=alfa<br>Grid Start=%{x}<br>Final Position=%{y}<br>driverId=%{customdata[0]}<br>raceName=%{customdata[1]}<br>points=%{customdata[2]}<extra></extra>",
         "legendgroup": "alfa",
         "marker": {
          "color": "#000000",
          "symbol": "circle"
         },
         "mode": "markers",
         "name": "alfa",
         "orientation": "v",
         "showlegend": true,
         "type": "scatter",
         "x": [
          12,
          13,
          11,
          14,
          17,
          0,
          13,
          15,
          10,
          14,
          15,
          19,
          13,
          16,
          14,
          20,
          17,
          14,
          20,
          17,
          7,
          5,
          13,
          17,
          18,
          15,
          14,
          16,
          0,
          16,
          19,
          16,
          9,
          19,
          13,
          12,
          10,
          9,
          18,
          20,
          17,
          7,
          19,
          18
         ],
         "xaxis": "x",
         "y": [
          8,
          16,
          13,
          18,
          9,
          11,
          18,
          19,
          13,
          16,
          11,
          13,
          9,
          19,
          10,
          16,
          12,
          15,
          12,
          15,
          12,
          16,
          12,
          13,
          14,
          18,
          10,
          14,
          12,
          17,
          13,
          20,
          8,
          9,
          12,
          13,
          14,
          15,
          16,
          17,
          15,
          17,
          17,
          19
         ],
         "yaxis": "y"
        },
        {
         "customdata": [
          [
           "gasly",
           "Bahrain Grand Prix",
           2
          ],
          [
           "ocon",
           "Bahrain Grand Prix",
           0
          ],
          [
           "ocon",
           "Saudi Arabian Grand Prix",
           4
          ],
          [
           "gasly",
           "Saudi Arabian Grand Prix",
           2
          ],
          [
           "gasly",
           "Australian Grand Prix",
           0
          ],
          [
           "ocon",
           "Australian Grand Prix",
           0
          ],
          [
           "gasly",
           "Azerbaijan Grand Prix",
           0
          ],
          [
           "ocon",
           "Azerbaijan Grand Prix",
           0
          ],
          [
           "gasly",
           "Miami Grand Prix",
           4
          ],
          [
           "ocon",
           "Miami Grand Prix",
           2
          ],
          [
           "ocon",
           "Monaco Grand Prix",
           15
          ],
          [
           "gasly",
           "Monaco Grand Prix",
           6
          ],
          [
           "ocon",
           "Spanish Grand Prix",
           4
          ],
          [
           "gasly",
           "Spanish Grand Prix",
           1
          ],
          [
           "ocon",
           "Canadian Grand Prix",
           4
          ],
          [
           "gasly",
           "Canadian Grand Prix",
           0
          ],
          [
           "gasly",
           "Austrian Grand Prix",
           1
          ],
          [
           "ocon",
           "Austrian Grand Prix",
           0
          ],
          [
           "gasly",
           "British Grand Prix",
           0
          ],
          [
           "ocon",
           "British Grand Prix",
           0
          ],
          [
           "ocon",
           "Hungarian Grand Prix",
           0
          ],
          [
           "gasly",
           "Hungarian Grand Prix",
           0
          ],
          [
           "ocon",
           "Belgian Grand Prix",
           4
          ],
          [
           "gasly",
           "Belgian Grand Prix",
           0
          ],
          [
           "gasly",
           "Dutch Grand Prix",
           15
          ],
          [
           "ocon",
           "Dutch Grand Prix",
           1
          ],
          [
           "gasly",
           "Italian Grand Prix",
           0
          ],
          [
           "ocon",
           "Italian Grand Prix",
           0
          ],
          [
           "gasly",
           "Singapore Grand Prix",
           8
          ],
          [
           "ocon",
           "Singapore Grand Prix",
           0
          ],
          [
           "ocon",
           "Japanese Grand Prix",
           2
          ],
          [
           "gasly",
           "Japanese Grand Prix",
           1
          ],
          [
           "ocon",
           "Qatar Grand Prix",
           6
          ],
          [
           "gasly",
           "Qatar Grand Prix",
           0
          ],
          [
           "gasly",
           "United States Grand Prix",
           8
          ],
          [
           "ocon",
           "United States Grand Prix",
           0
          ],
          [
           "ocon",
           "Mexico City Grand Prix",
           1
          ],
          [
           "gasly",
           "Mexico City Grand Prix",
           0
          ],
          [
           "gasly",
           "São Paulo Grand Prix",
           6
          ],
          [
           "ocon",
           "São Paulo Grand Prix",
           1
          ],
          [
           "ocon",
           "Las Vegas Grand Prix",
           12
          ],
          [
           "gasly",
           "Las Vegas Grand Prix",
           0
          ],
          [
           "ocon",
           "Abu Dhabi Grand Prix",
           0
          ],
          [
           "gasly",
           "Abu Dhabi Grand Prix",
           0
          ]
         ],
         "hovertemplate": "constructorId=alpine<br>Grid Start=%{x}<br>Final Position=%{y}<br>driverId=%{customdata[0]}<br>raceName=%{customdata[1]}<br>points=%{customdata[2]}<extra></extra>",
         "legendgroup": "alpine",
         "marker": {
          "color": "#C71585",
          "symbol": "circle"
         },
         "mode": "markers",
         "name": "alpine",
         "orientation": "v",
         "showlegend": true,
         "type": "scatter",
         "x": [
          20,
          9,
          6,
          9,
          9,
          11,
          17,
          0,
          5,
          8,
          3,
          7,
          6,
          10,
          6,
          15,
          9,
          12,
          10,
          13,
          12,
          15,
          14,
          12,
          12,
          16,
          17,
          18,
          12,
          8,
          14,
          12,
          8,
          7,
          7,
          8,
          15,
          11,
          15,
          14,
          16,
          4,
          12,
          10
         ],
         "xaxis": "x",
         "y": [
          9,
          18,
          8,
          9,
          13,
          14,
          14,
          15,
          8,
          9,
          3,
          7,
          8,
          10,
          8,
          12,
          10,
          14,
          18,
          20,
          19,
          20,
          8,
          11,
          3,
          10,
          15,
          19,
          6,
          18,
          9,
          10,
          7,
          12,
          6,
          18,
          10,
          11,
          7,
          10,
          4,
          11,
          12,
          13
         ],
         "yaxis": "y"
        },
        {
         "customdata": [
          [
           "albon",
           "Bahrain Grand Prix",
           1
          ],
          [
           "sargeant",
           "Bahrain Grand Prix",
           0
          ],
          [
           "sargeant",
           "Saudi Arabian Grand Prix",
           0
          ],
          [
           "albon",
           "Saudi Arabian Grand Prix",
           0
          ],
          [
           "sargeant",
           "Australian Grand Prix",
           0
          ],
          [
           "albon",
           "Australian Grand Prix",
           0
          ],
          [
           "albon",
           "Azerbaijan Grand Prix",
           0
          ],
          [
           "sargeant",
           "Azerbaijan Grand Prix",
           0
          ],
          [
           "albon",
           "Miami Grand Prix",
           0
          ],
          [
           "sargeant",
           "Miami Grand Prix",
           0
          ],
          [
           "albon",
           "Monaco Grand Prix",
           0
          ],
          [
           "sargeant",
           "Monaco Grand Prix",
           0
          ],
          [
           "albon",
           "Spanish Grand Prix",
           0
          ],
          [
           "sargeant",
           "Spanish Grand Prix",
           0
          ],
          [
           "albon",
           "Canadian Grand Prix",
           6
          ],
          [
           "sargeant",
           "Canadian Grand Prix",
           0
          ],
          [
           "albon",
           "Austrian Grand Prix",
           0
          ],
          [
           "sargeant",
           "Austrian Grand Prix",
           0
          ],
          [
           "albon",
           "British Grand Prix",
           4
          ],
          [
           "sargeant",
           "British Grand Prix",
           0
          ],
          [
           "albon",
           "Hungarian Grand Prix",
           0
          ],
          [
           "sargeant",
           "Hungarian Grand Prix",
           0
          ],
          [
           "albon",
           "Belgian Grand Prix",
           0
          ],
          [
           "sargeant",
           "Belgian Grand Prix",
           0
          ],
          [
           "albon",
           "Dutch Grand Prix",
           4
          ],
          [
           "sargeant",
           "Dutch Grand Prix",
           0
          ],
          [
           "albon",
           "Italian Grand Prix",
           6
          ],
          [
           "sargeant",
           "Italian Grand Prix",
           0
          ],
          [
           "albon",
           "Singapore Grand Prix",
           0
          ],
          [
           "sargeant",
           "Singapore Grand Prix",
           0
          ],
          [
           "albon",
           "Japanese Grand Prix",
           0
          ],
          [
           "sargeant",
           "Japanese Grand Prix",
           0
          ],
          [
           "albon",
           "Qatar Grand Prix",
           0
          ],
          [
           "sargeant",
           "Qatar Grand Prix",
           0
          ],
          [
           "albon",
           "United States Grand Prix",
           2
          ],
          [
           "sargeant",
           "United States Grand Prix",
           1
          ],
          [
           "albon",
           "Mexico City Grand Prix",
           2
          ],
          [
           "sargeant",
           "Mexico City Grand Prix",
           0
          ],
          [
           "sargeant",
           "São Paulo Grand Prix",
           0
          ],
          [
           "albon",
           "São Paulo Grand Prix",
           0
          ],
          [
           "albon",
           "Las Vegas Grand Prix",
           0
          ],
          [
           "sargeant",
           "Las Vegas Grand Prix",
           0
          ],
          [
           "albon",
           "Abu Dhabi Grand Prix",
           0
          ],
          [
           "sargeant",
           "Abu Dhabi Grand Prix",
           0
          ]
         ],
         "hovertemplate": "constructorId=williams<br>Grid Start=%{x}<br>Final Position=%{y}<br>driverId=%{customdata[0]}<br>raceName=%{customdata[1]}<br>points=%{customdata[2]}<extra></extra>",
         "legendgroup": "williams",
         "marker": {
          "color": "#00A0DE",
          "symbol": "circle"
         },
         "mode": "markers",
         "name": "williams",
         "orientation": "v",
         "showlegend": true,
         "type": "scatter",
         "x": [
          15,
          16,
          20,
          17,
          18,
          8,
          12,
          14,
          11,
          20,
          13,
          16,
          18,
          20,
          9,
          18,
          10,
          18,
          8,
          14,
          16,
          20,
          15,
          18,
          4,
          10,
          6,
          15,
          14,
          18,
          13,
          0,
          13,
          15,
          15,
          16,
          14,
          19,
          19,
          13,
          5,
          6,
          14,
          20
         ],
         "xaxis": "x",
         "y": [
          10,
          12,
          16,
          19,
          16,
          19,
          12,
          16,
          14,
          20,
          14,
          18,
          16,
          20,
          7,
          20,
          11,
          13,
          8,
          11,
          11,
          18,
          14,
          17,
          8,
          20,
          7,
          13,
          11,
          14,
          16,
          17,
          13,
          18,
          9,
          10,
          9,
          16,
          11,
          19,
          12,
          16,
          14,
          16
         ],
         "yaxis": "y"
        },
        {
         "customdata": [
          [
           "tsunoda",
           "Bahrain Grand Prix",
           0
          ],
          [
           "de_vries",
           "Bahrain Grand Prix",
           0
          ],
          [
           "tsunoda",
           "Saudi Arabian Grand Prix",
           0
          ],
          [
           "de_vries",
           "Saudi Arabian Grand Prix",
           0
          ],
          [
           "tsunoda",
           "Australian Grand Prix",
           1
          ],
          [
           "de_vries",
           "Australian Grand Prix",
           0
          ],
          [
           "tsunoda",
           "Azerbaijan Grand Prix",
           1
          ],
          [
           "de_vries",
           "Azerbaijan Grand Prix",
           0
          ],
          [
           "tsunoda",
           "Miami Grand Prix",
           0
          ],
          [
           "de_vries",
           "Miami Grand Prix",
           0
          ],
          [
           "de_vries",
           "Monaco Grand Prix",
           0
          ],
          [
           "tsunoda",
           "Monaco Grand Prix",
           0
          ],
          [
           "tsunoda",
           "Spanish Grand Prix",
           0
          ],
          [
           "de_vries",
           "Spanish Grand Prix",
           0
          ],
          [
           "tsunoda",
           "Canadian Grand Prix",
           0
          ],
          [
           "de_vries",
           "Canadian Grand Prix",
           0
          ],
          [
           "de_vries",
           "Austrian Grand Prix",
           0
          ],
          [
           "tsunoda",
           "Austrian Grand Prix",
           0
          ],
          [
           "tsunoda",
           "British Grand Prix",
           0
          ],
          [
           "de_vries",
           "British Grand Prix",
           0
          ],
          [
           "ricciardo",
           "Hungarian Grand Prix",
           0
          ],
          [
           "tsunoda",
           "Hungarian Grand Prix",
           0
          ],
          [
           "tsunoda",
           "Belgian Grand Prix",
           1
          ],
          [
           "ricciardo",
           "Belgian Grand Prix",
           0
          ],
          [
           "lawson",
           "Dutch Grand Prix",
           0
          ],
          [
           "tsunoda",
           "Dutch Grand Prix",
           0
          ],
          [
           "lawson",
           "Italian Grand Prix",
           0
          ],
          [
           "tsunoda",
           "Italian Grand Prix",
           0
          ],
          [
           "lawson",
           "Singapore Grand Prix",
           2
          ],
          [
           "tsunoda",
           "Singapore Grand Prix",
           0
          ],
          [
           "lawson",
           "Japanese Grand Prix",
           0
          ],
          [
           "tsunoda",
           "Japanese Grand Prix",
           0
          ],
          [
           "tsunoda",
           "Qatar Grand Prix",
           0
          ],
          [
           "lawson",
           "Qatar Grand Prix",
           0
          ],
          [
           "tsunoda",
           "United States Grand Prix",
           5
          ],
          [
           "ricciardo",
           "United States Grand Prix",
           0
          ],
          [
           "ricciardo",
           "Mexico City Grand Prix",
           6
          ],
          [
           "tsunoda",
           "Mexico City Grand Prix",
           0
          ],
          [
           "tsunoda",
           "São Paulo Grand Prix",
           2
          ],
          [
           "ricciardo",
           "São Paulo Grand Prix",
           0
          ],
          [
           "ricciardo",
           "Las Vegas Grand Prix",
           0
          ],
          [
           "tsunoda",
           "Las Vegas Grand Prix",
           0
          ],
          [
           "tsunoda",
           "Abu Dhabi Grand Prix",
           4
          ],
          [
           "ricciardo",
           "Abu Dhabi Grand Prix",
           0
          ]
         ],
         "hovertemplate": "constructorId=rb<br>Grid Start=%{x}<br>Final Position=%{y}<br>driverId=%{customdata[0]}<br>raceName=%{customdata[1]}<br>points=%{customdata[2]}<extra></extra>",
         "legendgroup": "rb",
         "marker": {
          "color": "#20394C",
          "symbol": "circle"
         },
         "mode": "markers",
         "name": "rb",
         "orientation": "v",
         "showlegend": true,
         "type": "scatter",
         "x": [
          14,
          19,
          16,
          18,
          12,
          15,
          8,
          18,
          17,
          15,
          12,
          9,
          15,
          14,
          19,
          17,
          0,
          16,
          16,
          18,
          13,
          17,
          11,
          19,
          19,
          17,
          12,
          11,
          10,
          15,
          11,
          9,
          11,
          17,
          11,
          14,
          4,
          18,
          16,
          17,
          14,
          20,
          6,
          15
         ],
         "xaxis": "x",
         "y": [
          11,
          14,
          11,
          14,
          10,
          15,
          10,
          20,
          11,
          18,
          12,
          15,
          12,
          14,
          14,
          18,
          17,
          19,
          16,
          17,
          13,
          15,
          10,
          16,
          13,
          15,
          11,
          20,
          9,
          19,
          11,
          12,
          15,
          17,
          8,
          15,
          7,
          12,
          9,
          13,
          14,
          18,
          8,
          11
         ],
         "yaxis": "y"
        },
        {
         "customdata": [
          [
           "kevin_magnussen",
           "Bahrain Grand Prix",
           0
          ],
          [
           "hulkenberg",
           "Bahrain Grand Prix",
           0
          ],
          [
           "kevin_magnussen",
           "Saudi Arabian Grand Prix",
           1
          ],
          [
           "hulkenberg",
           "Saudi Arabian Grand Prix",
           0
          ],
          [
           "hulkenberg",
           "Australian Grand Prix",
           6
          ],
          [
           "kevin_magnussen",
           "Australian Grand Prix",
           0
          ],
          [
           "kevin_magnussen",
           "Azerbaijan Grand Prix",
           0
          ],
          [
           "hulkenberg",
           "Azerbaijan Grand Prix",
           0
          ],
          [
           "kevin_magnussen",
           "Miami Grand Prix",
           1
          ],
          [
           "hulkenberg",
           "Miami Grand Prix",
           0
          ],
          [
           "hulkenberg",
           "Monaco Grand Prix",
           0
          ],
          [
           "kevin_magnussen",
           "Monaco Grand Prix",
           0
          ],
          [
           "hulkenberg",
           "Spanish Grand Prix",
           0
          ],
          [
           "kevin_magnussen",
           "Spanish Grand Prix",
           0
          ],
          [
           "hulkenberg",
           "Canadian Grand Prix",
           0
          ],
          [
           "kevin_magnussen",
           "Canadian Grand Prix",
           0
          ],
          [
           "kevin_magnussen",
           "Austrian Grand Prix",
           0
          ],
          [
           "hulkenberg",
           "Austrian Grand Prix",
           0
          ],
          [
           "hulkenberg",
           "British Grand Prix",
           0
          ],
          [
           "kevin_magnussen",
           "British Grand Prix",
           0
          ],
          [
           "hulkenberg",
           "Hungarian Grand Prix",
           0
          ],
          [
           "kevin_magnussen",
           "Hungarian Grand Prix",
           0
          ],
          [
           "kevin_magnussen",
           "Belgian Grand Prix",
           0
          ],
          [
           "hulkenberg",
           "Belgian Grand Prix",
           0
          ],
          [
           "hulkenberg",
           "Dutch Grand Prix",
           0
          ],
          [
           "kevin_magnussen",
           "Dutch Grand Prix",
           0
          ],
          [
           "hulkenberg",
           "Italian Grand Prix",
           0
          ],
          [
           "kevin_magnussen",
           "Italian Grand Prix",
           0
          ],
          [
           "kevin_magnussen",
           "Singapore Grand Prix",
           1
          ],
          [
           "hulkenberg",
           "Singapore Grand Prix",
           0
          ],
          [
           "hulkenberg",
           "Japanese Grand Prix",
           0
          ],
          [
           "kevin_magnussen",
           "Japanese Grand Prix",
           0
          ],
          [
           "kevin_magnussen",
           "Qatar Grand Prix",
           0
          ],
          [
           "hulkenberg",
           "Qatar Grand Prix",
           0
          ],
          [
           "hulkenberg",
           "United States Grand Prix",
           0
          ],
          [
           "kevin_magnussen",
           "United States Grand Prix",
           0
          ],
          [
           "hulkenberg",
           "Mexico City Grand Prix",
           0
          ],
          [
           "kevin_magnussen",
           "Mexico City Grand Prix",
           0
          ],
          [
           "hulkenberg",
           "São Paulo Grand Prix",
           0
          ],
          [
           "kevin_magnussen",
           "São Paulo Grand Prix",
           0
          ],
          [
           "kevin_magnussen",
           "Las Vegas Grand Prix",
           0
          ],
          [
           "hulkenberg",
           "Las Vegas Grand Prix",
           0
          ],
          [
           "hulkenberg",
           "Abu Dhabi Grand Prix",
           0
          ],
          [
           "kevin_magnussen",
           "Abu Dhabi Grand Prix",
           0
          ]
         ],
         "hovertemplate": "constructorId=haas<br>Grid Start=%{x}<br>Final Position=%{y}<br>driverId=%{customdata[0]}<br>raceName=%{customdata[1]}<br>points=%{customdata[2]}<extra></extra>",
         "legendgroup": "haas",
         "marker": {
          "color": "#E6002B",
          "symbol": "circle"
         },
         "mode": "markers",
         "name": "haas",
         "orientation": "v",
         "showlegend": true,
         "type": "scatter",
         "x": [
          17,
          10,
          13,
          10,
          10,
          14,
          16,
          0,
          4,
          12,
          18,
          17,
          7,
          17,
          5,
          13,
          0,
          8,
          11,
          19,
          10,
          19,
          16,
          0,
          14,
          0,
          13,
          19,
          6,
          9,
          18,
          15,
          18,
          14,
          0,
          0,
          12,
          16,
          11,
          12,
          8,
          13,
          8,
          17
         ],
         "xaxis": "x",
         "y": [
          13,
          15,
          10,
          12,
          7,
          17,
          13,
          17,
          10,
          15,
          17,
          19,
          15,
          18,
          15,
          17,
          18,
          20,
          13,
          19,
          14,
          17,
          15,
          18,
          12,
          16,
          17,
          18,
          10,
          13,
          14,
          15,
          14,
          16,
          11,
          14,
          13,
          19,
          12,
          18,
          13,
          19,
          15,
          20
         ],
         "yaxis": "y"
        },
        {
         "customdata": [
          [
           "norris",
           "Bahrain Grand Prix",
           0
          ],
          [
           "piastri",
           "Bahrain Grand Prix",
           0
          ],
          [
           "piastri",
           "Saudi Arabian Grand Prix",
           0
          ],
          [
           "norris",
           "Saudi Arabian Grand Prix",
           0
          ],
          [
           "norris",
           "Australian Grand Prix",
           8
          ],
          [
           "piastri",
           "Australian Grand Prix",
           4
          ],
          [
           "norris",
           "Azerbaijan Grand Prix",
           2
          ],
          [
           "piastri",
           "Azerbaijan Grand Prix",
           0
          ],
          [
           "norris",
           "Miami Grand Prix",
           0
          ],
          [
           "piastri",
           "Miami Grand Prix",
           0
          ],
          [
           "norris",
           "Monaco Grand Prix",
           2
          ],
          [
           "piastri",
           "Monaco Grand Prix",
           1
          ],
          [
           "piastri",
           "Spanish Grand Prix",
           0
          ],
          [
           "norris",
           "Spanish Grand Prix",
           0
          ],
          [
           "piastri",
           "Canadian Grand Prix",
           0
          ],
          [
           "norris",
           "Canadian Grand Prix",
           0
          ],
          [
           "norris",
           "Austrian Grand Prix",
           12
          ],
          [
           "piastri",
           "Austrian Grand Prix",
           0
          ],
          [
           "norris",
           "British Grand Prix",
           18
          ],
          [
           "piastri",
           "British Grand Prix",
           12
          ],
          [
           "norris",
           "Hungarian Grand Prix",
           18
          ],
          [
           "piastri",
           "Hungarian Grand Prix",
           10
          ],
          [
           "norris",
           "Belgian Grand Prix",
           6
          ],
          [
           "piastri",
           "Belgian Grand Prix",
           0
          ],
          [
           "norris",
           "Dutch Grand Prix",
           6
          ],
          [
           "piastri",
           "Dutch Grand Prix",
           2
          ],
          [
           "norris",
           "Italian Grand Prix",
           4
          ],
          [
           "piastri",
           "Italian Grand Prix",
           0
          ],
          [
           "norris",
           "Singapore Grand Prix",
           18
          ],
          [
           "piastri",
           "Singapore Grand Prix",
           6
          ],
          [
           "norris",
           "Japanese Grand Prix",
           18
          ],
          [
           "piastri",
           "Japanese Grand Prix",
           15
          ],
          [
           "piastri",
           "Qatar Grand Prix",
           18
          ],
          [
           "norris",
           "Qatar Grand Prix",
           15
          ],
          [
           "norris",
           "United States Grand Prix",
           18
          ],
          [
           "piastri",
           "United States Grand Prix",
           0
          ],
          [
           "norris",
           "Mexico City Grand Prix",
           10
          ],
          [
           "piastri",
           "Mexico City Grand Prix",
           4
          ],
          [
           "norris",
           "São Paulo Grand Prix",
           19
          ],
          [
           "piastri",
           "São Paulo Grand Prix",
           0
          ],
          [
           "piastri",
           "Las Vegas Grand Prix",
           2
          ],
          [
           "norris",
           "Las Vegas Grand Prix",
           0
          ],
          [
           "norris",
           "Abu Dhabi Grand Prix",
           10
          ],
          [
           "piastri",
           "Abu Dhabi Grand Prix",
           8
          ]
         ],
         "hovertemplate": "constructorId=mclaren<br>Grid Start=%{x}<br>Final Position=%{y}<br>driverId=%{customdata[0]}<br>raceName=%{customdata[1]}<br>points=%{customdata[2]}<extra></extra>",
         "legendgroup": "mclaren",
         "marker": {
          "color": "#FF8000",
          "symbol": "circle"
         },
         "mode": "markers",
         "name": "mclaren",
         "orientation": "v",
         "showlegend": true,
         "type": "scatter",
         "x": [
          11,
          18,
          8,
          19,
          13,
          16,
          7,
          10,
          16,
          19,
          10,
          11,
          9,
          3,
          8,
          7,
          4,
          13,
          2,
          3,
          3,
          4,
          7,
          5,
          2,
          8,
          9,
          7,
          4,
          17,
          3,
          2,
          6,
          10,
          2,
          10,
          17,
          7,
          6,
          10,
          18,
          15,
          5,
          3
         ],
         "xaxis": "x",
         "y": [
          17,
          20,
          15,
          17,
          6,
          8,
          9,
          11,
          17,
          19,
          9,
          10,
          13,
          17,
          11,
          13,
          4,
          16,
          2,
          4,
          2,
          5,
          7,
          20,
          7,
          9,
          8,
          12,
          2,
          7,
          2,
          3,
          2,
          3,
          2,
          17,
          5,
          8,
          2,
          14,
          10,
          20,
          5,
          6
         ],
         "yaxis": "y"
        }
       ],
       "layout": {
        "hoverlabel": {
         "bgcolor": "white",
         "font": {
          "family": "Arial",
          "size": 12
         }
        },
        "legend": {
         "title": {
          "text": "constructorId"
         },
         "tracegroupgap": 0
        },
        "margin": {
         "t": 60
        },
        "paper_bgcolor": "lightgray",
        "plot_bgcolor": "white",
        "template": {
         "data": {
          "bar": [
           {
            "error_x": {
             "color": "#2a3f5f"
            },
            "error_y": {
             "color": "#2a3f5f"
            },
            "marker": {
             "line": {
              "color": "#E5ECF6",
              "width": 0.5
             },
             "pattern": {
              "fillmode": "overlay",
              "size": 10,
              "solidity": 0.2
             }
            },
            "type": "bar"
           }
          ],
          "barpolar": [
           {
            "marker": {
             "line": {
              "color": "#E5ECF6",
              "width": 0.5
             },
             "pattern": {
              "fillmode": "overlay",
              "size": 10,
              "solidity": 0.2
             }
            },
            "type": "barpolar"
           }
          ],
          "carpet": [
           {
            "aaxis": {
             "endlinecolor": "#2a3f5f",
             "gridcolor": "white",
             "linecolor": "white",
             "minorgridcolor": "white",
             "startlinecolor": "#2a3f5f"
            },
            "baxis": {
             "endlinecolor": "#2a3f5f",
             "gridcolor": "white",
             "linecolor": "white",
             "minorgridcolor": "white",
             "startlinecolor": "#2a3f5f"
            },
            "type": "carpet"
           }
          ],
          "choropleth": [
           {
            "colorbar": {
             "outlinewidth": 0,
             "ticks": ""
            },
            "type": "choropleth"
           }
          ],
          "contour": [
           {
            "colorbar": {
             "outlinewidth": 0,
             "ticks": ""
            },
            "colorscale": [
             [
              0,
              "#0d0887"
             ],
             [
              0.1111111111111111,
              "#46039f"
             ],
             [
              0.2222222222222222,
              "#7201a8"
             ],
             [
              0.3333333333333333,
              "#9c179e"
             ],
             [
              0.4444444444444444,
              "#bd3786"
             ],
             [
              0.5555555555555556,
              "#d8576b"
             ],
             [
              0.6666666666666666,
              "#ed7953"
             ],
             [
              0.7777777777777778,
              "#fb9f3a"
             ],
             [
              0.8888888888888888,
              "#fdca26"
             ],
             [
              1,
              "#f0f921"
             ]
            ],
            "type": "contour"
           }
          ],
          "contourcarpet": [
           {
            "colorbar": {
             "outlinewidth": 0,
             "ticks": ""
            },
            "type": "contourcarpet"
           }
          ],
          "heatmap": [
           {
            "colorbar": {
             "outlinewidth": 0,
             "ticks": ""
            },
            "colorscale": [
             [
              0,
              "#0d0887"
             ],
             [
              0.1111111111111111,
              "#46039f"
             ],
             [
              0.2222222222222222,
              "#7201a8"
             ],
             [
              0.3333333333333333,
              "#9c179e"
             ],
             [
              0.4444444444444444,
              "#bd3786"
             ],
             [
              0.5555555555555556,
              "#d8576b"
             ],
             [
              0.6666666666666666,
              "#ed7953"
             ],
             [
              0.7777777777777778,
              "#fb9f3a"
             ],
             [
              0.8888888888888888,
              "#fdca26"
             ],
             [
              1,
              "#f0f921"
             ]
            ],
            "type": "heatmap"
           }
          ],
          "heatmapgl": [
           {
            "colorbar": {
             "outlinewidth": 0,
             "ticks": ""
            },
            "colorscale": [
             [
              0,
              "#0d0887"
             ],
             [
              0.1111111111111111,
              "#46039f"
             ],
             [
              0.2222222222222222,
              "#7201a8"
             ],
             [
              0.3333333333333333,
              "#9c179e"
             ],
             [
              0.4444444444444444,
              "#bd3786"
             ],
             [
              0.5555555555555556,
              "#d8576b"
             ],
             [
              0.6666666666666666,
              "#ed7953"
             ],
             [
              0.7777777777777778,
              "#fb9f3a"
             ],
             [
              0.8888888888888888,
              "#fdca26"
             ],
             [
              1,
              "#f0f921"
             ]
            ],
            "type": "heatmapgl"
           }
          ],
          "histogram": [
           {
            "marker": {
             "pattern": {
              "fillmode": "overlay",
              "size": 10,
              "solidity": 0.2
             }
            },
            "type": "histogram"
           }
          ],
          "histogram2d": [
           {
            "colorbar": {
             "outlinewidth": 0,
             "ticks": ""
            },
            "colorscale": [
             [
              0,
              "#0d0887"
             ],
             [
              0.1111111111111111,
              "#46039f"
             ],
             [
              0.2222222222222222,
              "#7201a8"
             ],
             [
              0.3333333333333333,
              "#9c179e"
             ],
             [
              0.4444444444444444,
              "#bd3786"
             ],
             [
              0.5555555555555556,
              "#d8576b"
             ],
             [
              0.6666666666666666,
              "#ed7953"
             ],
             [
              0.7777777777777778,
              "#fb9f3a"
             ],
             [
              0.8888888888888888,
              "#fdca26"
             ],
             [
              1,
              "#f0f921"
             ]
            ],
            "type": "histogram2d"
           }
          ],
          "histogram2dcontour": [
           {
            "colorbar": {
             "outlinewidth": 0,
             "ticks": ""
            },
            "colorscale": [
             [
              0,
              "#0d0887"
             ],
             [
              0.1111111111111111,
              "#46039f"
             ],
             [
              0.2222222222222222,
              "#7201a8"
             ],
             [
              0.3333333333333333,
              "#9c179e"
             ],
             [
              0.4444444444444444,
              "#bd3786"
             ],
             [
              0.5555555555555556,
              "#d8576b"
             ],
             [
              0.6666666666666666,
              "#ed7953"
             ],
             [
              0.7777777777777778,
              "#fb9f3a"
             ],
             [
              0.8888888888888888,
              "#fdca26"
             ],
             [
              1,
              "#f0f921"
             ]
            ],
            "type": "histogram2dcontour"
           }
          ],
          "mesh3d": [
           {
            "colorbar": {
             "outlinewidth": 0,
             "ticks": ""
            },
            "type": "mesh3d"
           }
          ],
          "parcoords": [
           {
            "line": {
             "colorbar": {
              "outlinewidth": 0,
              "ticks": ""
             }
            },
            "type": "parcoords"
           }
          ],
          "pie": [
           {
            "automargin": true,
            "type": "pie"
           }
          ],
          "scatter": [
           {
            "fillpattern": {
             "fillmode": "overlay",
             "size": 10,
             "solidity": 0.2
            },
            "type": "scatter"
           }
          ],
          "scatter3d": [
           {
            "line": {
             "colorbar": {
              "outlinewidth": 0,
              "ticks": ""
             }
            },
            "marker": {
             "colorbar": {
              "outlinewidth": 0,
              "ticks": ""
             }
            },
            "type": "scatter3d"
           }
          ],
          "scattercarpet": [
           {
            "marker": {
             "colorbar": {
              "outlinewidth": 0,
              "ticks": ""
             }
            },
            "type": "scattercarpet"
           }
          ],
          "scattergeo": [
           {
            "marker": {
             "colorbar": {
              "outlinewidth": 0,
              "ticks": ""
             }
            },
            "type": "scattergeo"
           }
          ],
          "scattergl": [
           {
            "marker": {
             "colorbar": {
              "outlinewidth": 0,
              "ticks": ""
             }
            },
            "type": "scattergl"
           }
          ],
          "scattermapbox": [
           {
            "marker": {
             "colorbar": {
              "outlinewidth": 0,
              "ticks": ""
             }
            },
            "type": "scattermapbox"
           }
          ],
          "scatterpolar": [
           {
            "marker": {
             "colorbar": {
              "outlinewidth": 0,
              "ticks": ""
             }
            },
            "type": "scatterpolar"
           }
          ],
          "scatterpolargl": [
           {
            "marker": {
             "colorbar": {
              "outlinewidth": 0,
              "ticks": ""
             }
            },
            "type": "scatterpolargl"
           }
          ],
          "scatterternary": [
           {
            "marker": {
             "colorbar": {
              "outlinewidth": 0,
              "ticks": ""
             }
            },
            "type": "scatterternary"
           }
          ],
          "surface": [
           {
            "colorbar": {
             "outlinewidth": 0,
             "ticks": ""
            },
            "colorscale": [
             [
              0,
              "#0d0887"
             ],
             [
              0.1111111111111111,
              "#46039f"
             ],
             [
              0.2222222222222222,
              "#7201a8"
             ],
             [
              0.3333333333333333,
              "#9c179e"
             ],
             [
              0.4444444444444444,
              "#bd3786"
             ],
             [
              0.5555555555555556,
              "#d8576b"
             ],
             [
              0.6666666666666666,
              "#ed7953"
             ],
             [
              0.7777777777777778,
              "#fb9f3a"
             ],
             [
              0.8888888888888888,
              "#fdca26"
             ],
             [
              1,
              "#f0f921"
             ]
            ],
            "type": "surface"
           }
          ],
          "table": [
           {
            "cells": {
             "fill": {
              "color": "#EBF0F8"
             },
             "line": {
              "color": "white"
             }
            },
            "header": {
             "fill": {
              "color": "#C8D4E3"
             },
             "line": {
              "color": "white"
             }
            },
            "type": "table"
           }
          ]
         },
         "layout": {
          "annotationdefaults": {
           "arrowcolor": "#2a3f5f",
           "arrowhead": 0,
           "arrowwidth": 1
          },
          "autotypenumbers": "strict",
          "coloraxis": {
           "colorbar": {
            "outlinewidth": 0,
            "ticks": ""
           }
          },
          "colorscale": {
           "diverging": [
            [
             0,
             "#8e0152"
            ],
            [
             0.1,
             "#c51b7d"
            ],
            [
             0.2,
             "#de77ae"
            ],
            [
             0.3,
             "#f1b6da"
            ],
            [
             0.4,
             "#fde0ef"
            ],
            [
             0.5,
             "#f7f7f7"
            ],
            [
             0.6,
             "#e6f5d0"
            ],
            [
             0.7,
             "#b8e186"
            ],
            [
             0.8,
             "#7fbc41"
            ],
            [
             0.9,
             "#4d9221"
            ],
            [
             1,
             "#276419"
            ]
           ],
           "sequential": [
            [
             0,
             "#0d0887"
            ],
            [
             0.1111111111111111,
             "#46039f"
            ],
            [
             0.2222222222222222,
             "#7201a8"
            ],
            [
             0.3333333333333333,
             "#9c179e"
            ],
            [
             0.4444444444444444,
             "#bd3786"
            ],
            [
             0.5555555555555556,
             "#d8576b"
            ],
            [
             0.6666666666666666,
             "#ed7953"
            ],
            [
             0.7777777777777778,
             "#fb9f3a"
            ],
            [
             0.8888888888888888,
             "#fdca26"
            ],
            [
             1,
             "#f0f921"
            ]
           ],
           "sequentialminus": [
            [
             0,
             "#0d0887"
            ],
            [
             0.1111111111111111,
             "#46039f"
            ],
            [
             0.2222222222222222,
             "#7201a8"
            ],
            [
             0.3333333333333333,
             "#9c179e"
            ],
            [
             0.4444444444444444,
             "#bd3786"
            ],
            [
             0.5555555555555556,
             "#d8576b"
            ],
            [
             0.6666666666666666,
             "#ed7953"
            ],
            [
             0.7777777777777778,
             "#fb9f3a"
            ],
            [
             0.8888888888888888,
             "#fdca26"
            ],
            [
             1,
             "#f0f921"
            ]
           ]
          },
          "colorway": [
           "#636efa",
           "#EF553B",
           "#00cc96",
           "#ab63fa",
           "#FFA15A",
           "#19d3f3",
           "#FF6692",
           "#B6E880",
           "#FF97FF",
           "#FECB52"
          ],
          "font": {
           "color": "#2a3f5f"
          },
          "geo": {
           "bgcolor": "white",
           "lakecolor": "white",
           "landcolor": "#E5ECF6",
           "showlakes": true,
           "showland": true,
           "subunitcolor": "white"
          },
          "hoverlabel": {
           "align": "left"
          },
          "hovermode": "closest",
          "mapbox": {
           "style": "light"
          },
          "paper_bgcolor": "white",
          "plot_bgcolor": "#E5ECF6",
          "polar": {
           "angularaxis": {
            "gridcolor": "white",
            "linecolor": "white",
            "ticks": ""
           },
           "bgcolor": "#E5ECF6",
           "radialaxis": {
            "gridcolor": "white",
            "linecolor": "white",
            "ticks": ""
           }
          },
          "scene": {
           "xaxis": {
            "backgroundcolor": "#E5ECF6",
            "gridcolor": "white",
            "gridwidth": 2,
            "linecolor": "white",
            "showbackground": true,
            "ticks": "",
            "zerolinecolor": "white"
           },
           "yaxis": {
            "backgroundcolor": "#E5ECF6",
            "gridcolor": "white",
            "gridwidth": 2,
            "linecolor": "white",
            "showbackground": true,
            "ticks": "",
            "zerolinecolor": "white"
           },
           "zaxis": {
            "backgroundcolor": "#E5ECF6",
            "gridcolor": "white",
            "gridwidth": 2,
            "linecolor": "white",
            "showbackground": true,
            "ticks": "",
            "zerolinecolor": "white"
           }
          },
          "shapedefaults": {
           "line": {
            "color": "#2a3f5f"
           }
          },
          "ternary": {
           "aaxis": {
            "gridcolor": "white",
            "linecolor": "white",
            "ticks": ""
           },
           "baxis": {
            "gridcolor": "white",
            "linecolor": "white",
            "ticks": ""
           },
           "bgcolor": "#E5ECF6",
           "caxis": {
            "gridcolor": "white",
            "linecolor": "white",
            "ticks": ""
           }
          },
          "title": {
           "x": 0.05
          },
          "xaxis": {
           "automargin": true,
           "gridcolor": "white",
           "linecolor": "white",
           "ticks": "",
           "title": {
            "standoff": 15
           },
           "zerolinecolor": "white",
           "zerolinewidth": 2
          },
          "yaxis": {
           "automargin": true,
           "gridcolor": "white",
           "linecolor": "white",
           "ticks": "",
           "title": {
            "standoff": 15
           },
           "zerolinecolor": "white",
           "zerolinewidth": 2
          }
         }
        },
        "xaxis": {
         "anchor": "y",
         "domain": [
          0,
          1
         ],
         "range": [
          1,
          20
         ],
         "title": {
          "text": "Grid Start"
         }
        },
        "yaxis": {
         "anchor": "x",
         "autorange": "reversed",
         "domain": [
          0,
          1
         ],
         "range": [
          1,
          20
         ],
         "title": {
          "text": "Final Position"
         }
        }
       }
      }
     },
     "metadata": {},
     "output_type": "display_data"
    },
    {
     "data": {
      "application/vnd.plotly.v1+json": {
       "config": {
        "plotlyServerURL": "https://plot.ly"
       },
       "data": [
        {
         "customdata": [
          [
           29
          ],
          [
           6
          ],
          [
           59
          ],
          [
           25
          ],
          [
           14
          ],
          [
           6
          ],
          [
           59
          ],
          [
           7
          ],
          [
           26
          ],
          [
           9
          ],
          [
           6
          ],
          [
           12
          ],
          [
           6
          ],
          [
           9
          ]
         ],
         "domain": {
          "x": [
           0,
           1
          ],
          "y": [
           0,
           1
          ]
         },
         "hole": 0.5,
         "hovertemplate": "<b>%{label}</b><br>Occurrences: %{customdata[0]}<br>Percentage: %{value:.2f}%",
         "labels": [
          "Brakes",
          "Electrical",
          "Engine",
          "Gearbox",
          "Hydraulics",
          "Oil leak",
          "Other",
          "Overheating",
          "Power Unit",
          "Power loss",
          "Puncture",
          "Suspension",
          "Water pressure",
          "Wheel"
         ],
         "legendgroup": "",
         "name": "",
         "showlegend": true,
         "textfont": {
          "size": 12
         },
         "textinfo": "percent+label",
         "type": "pie",
         "values": [
          10.622710622710622,
          2.197802197802198,
          21.611721611721613,
          9.157509157509157,
          5.128205128205128,
          2.197802197802198,
          21.61172161172161,
          2.564102564102564,
          9.523809523809524,
          3.296703296703297,
          2.197802197802198,
          4.395604395604396,
          2.197802197802198,
          3.296703296703297
         ]
        }
       ],
       "layout": {
        "legend": {
         "tracegroupgap": 0
        },
        "margin": {
         "t": 60
        },
        "paper_bgcolor": "lightgray",
        "showlegend": true,
        "template": {
         "data": {
          "bar": [
           {
            "error_x": {
             "color": "#2a3f5f"
            },
            "error_y": {
             "color": "#2a3f5f"
            },
            "marker": {
             "line": {
              "color": "#E5ECF6",
              "width": 0.5
             },
             "pattern": {
              "fillmode": "overlay",
              "size": 10,
              "solidity": 0.2
             }
            },
            "type": "bar"
           }
          ],
          "barpolar": [
           {
            "marker": {
             "line": {
              "color": "#E5ECF6",
              "width": 0.5
             },
             "pattern": {
              "fillmode": "overlay",
              "size": 10,
              "solidity": 0.2
             }
            },
            "type": "barpolar"
           }
          ],
          "carpet": [
           {
            "aaxis": {
             "endlinecolor": "#2a3f5f",
             "gridcolor": "white",
             "linecolor": "white",
             "minorgridcolor": "white",
             "startlinecolor": "#2a3f5f"
            },
            "baxis": {
             "endlinecolor": "#2a3f5f",
             "gridcolor": "white",
             "linecolor": "white",
             "minorgridcolor": "white",
             "startlinecolor": "#2a3f5f"
            },
            "type": "carpet"
           }
          ],
          "choropleth": [
           {
            "colorbar": {
             "outlinewidth": 0,
             "ticks": ""
            },
            "type": "choropleth"
           }
          ],
          "contour": [
           {
            "colorbar": {
             "outlinewidth": 0,
             "ticks": ""
            },
            "colorscale": [
             [
              0,
              "#0d0887"
             ],
             [
              0.1111111111111111,
              "#46039f"
             ],
             [
              0.2222222222222222,
              "#7201a8"
             ],
             [
              0.3333333333333333,
              "#9c179e"
             ],
             [
              0.4444444444444444,
              "#bd3786"
             ],
             [
              0.5555555555555556,
              "#d8576b"
             ],
             [
              0.6666666666666666,
              "#ed7953"
             ],
             [
              0.7777777777777778,
              "#fb9f3a"
             ],
             [
              0.8888888888888888,
              "#fdca26"
             ],
             [
              1,
              "#f0f921"
             ]
            ],
            "type": "contour"
           }
          ],
          "contourcarpet": [
           {
            "colorbar": {
             "outlinewidth": 0,
             "ticks": ""
            },
            "type": "contourcarpet"
           }
          ],
          "heatmap": [
           {
            "colorbar": {
             "outlinewidth": 0,
             "ticks": ""
            },
            "colorscale": [
             [
              0,
              "#0d0887"
             ],
             [
              0.1111111111111111,
              "#46039f"
             ],
             [
              0.2222222222222222,
              "#7201a8"
             ],
             [
              0.3333333333333333,
              "#9c179e"
             ],
             [
              0.4444444444444444,
              "#bd3786"
             ],
             [
              0.5555555555555556,
              "#d8576b"
             ],
             [
              0.6666666666666666,
              "#ed7953"
             ],
             [
              0.7777777777777778,
              "#fb9f3a"
             ],
             [
              0.8888888888888888,
              "#fdca26"
             ],
             [
              1,
              "#f0f921"
             ]
            ],
            "type": "heatmap"
           }
          ],
          "heatmapgl": [
           {
            "colorbar": {
             "outlinewidth": 0,
             "ticks": ""
            },
            "colorscale": [
             [
              0,
              "#0d0887"
             ],
             [
              0.1111111111111111,
              "#46039f"
             ],
             [
              0.2222222222222222,
              "#7201a8"
             ],
             [
              0.3333333333333333,
              "#9c179e"
             ],
             [
              0.4444444444444444,
              "#bd3786"
             ],
             [
              0.5555555555555556,
              "#d8576b"
             ],
             [
              0.6666666666666666,
              "#ed7953"
             ],
             [
              0.7777777777777778,
              "#fb9f3a"
             ],
             [
              0.8888888888888888,
              "#fdca26"
             ],
             [
              1,
              "#f0f921"
             ]
            ],
            "type": "heatmapgl"
           }
          ],
          "histogram": [
           {
            "marker": {
             "pattern": {
              "fillmode": "overlay",
              "size": 10,
              "solidity": 0.2
             }
            },
            "type": "histogram"
           }
          ],
          "histogram2d": [
           {
            "colorbar": {
             "outlinewidth": 0,
             "ticks": ""
            },
            "colorscale": [
             [
              0,
              "#0d0887"
             ],
             [
              0.1111111111111111,
              "#46039f"
             ],
             [
              0.2222222222222222,
              "#7201a8"
             ],
             [
              0.3333333333333333,
              "#9c179e"
             ],
             [
              0.4444444444444444,
              "#bd3786"
             ],
             [
              0.5555555555555556,
              "#d8576b"
             ],
             [
              0.6666666666666666,
              "#ed7953"
             ],
             [
              0.7777777777777778,
              "#fb9f3a"
             ],
             [
              0.8888888888888888,
              "#fdca26"
             ],
             [
              1,
              "#f0f921"
             ]
            ],
            "type": "histogram2d"
           }
          ],
          "histogram2dcontour": [
           {
            "colorbar": {
             "outlinewidth": 0,
             "ticks": ""
            },
            "colorscale": [
             [
              0,
              "#0d0887"
             ],
             [
              0.1111111111111111,
              "#46039f"
             ],
             [
              0.2222222222222222,
              "#7201a8"
             ],
             [
              0.3333333333333333,
              "#9c179e"
             ],
             [
              0.4444444444444444,
              "#bd3786"
             ],
             [
              0.5555555555555556,
              "#d8576b"
             ],
             [
              0.6666666666666666,
              "#ed7953"
             ],
             [
              0.7777777777777778,
              "#fb9f3a"
             ],
             [
              0.8888888888888888,
              "#fdca26"
             ],
             [
              1,
              "#f0f921"
             ]
            ],
            "type": "histogram2dcontour"
           }
          ],
          "mesh3d": [
           {
            "colorbar": {
             "outlinewidth": 0,
             "ticks": ""
            },
            "type": "mesh3d"
           }
          ],
          "parcoords": [
           {
            "line": {
             "colorbar": {
              "outlinewidth": 0,
              "ticks": ""
             }
            },
            "type": "parcoords"
           }
          ],
          "pie": [
           {
            "automargin": true,
            "type": "pie"
           }
          ],
          "scatter": [
           {
            "fillpattern": {
             "fillmode": "overlay",
             "size": 10,
             "solidity": 0.2
            },
            "type": "scatter"
           }
          ],
          "scatter3d": [
           {
            "line": {
             "colorbar": {
              "outlinewidth": 0,
              "ticks": ""
             }
            },
            "marker": {
             "colorbar": {
              "outlinewidth": 0,
              "ticks": ""
             }
            },
            "type": "scatter3d"
           }
          ],
          "scattercarpet": [
           {
            "marker": {
             "colorbar": {
              "outlinewidth": 0,
              "ticks": ""
             }
            },
            "type": "scattercarpet"
           }
          ],
          "scattergeo": [
           {
            "marker": {
             "colorbar": {
              "outlinewidth": 0,
              "ticks": ""
             }
            },
            "type": "scattergeo"
           }
          ],
          "scattergl": [
           {
            "marker": {
             "colorbar": {
              "outlinewidth": 0,
              "ticks": ""
             }
            },
            "type": "scattergl"
           }
          ],
          "scattermapbox": [
           {
            "marker": {
             "colorbar": {
              "outlinewidth": 0,
              "ticks": ""
             }
            },
            "type": "scattermapbox"
           }
          ],
          "scatterpolar": [
           {
            "marker": {
             "colorbar": {
              "outlinewidth": 0,
              "ticks": ""
             }
            },
            "type": "scatterpolar"
           }
          ],
          "scatterpolargl": [
           {
            "marker": {
             "colorbar": {
              "outlinewidth": 0,
              "ticks": ""
             }
            },
            "type": "scatterpolargl"
           }
          ],
          "scatterternary": [
           {
            "marker": {
             "colorbar": {
              "outlinewidth": 0,
              "ticks": ""
             }
            },
            "type": "scatterternary"
           }
          ],
          "surface": [
           {
            "colorbar": {
             "outlinewidth": 0,
             "ticks": ""
            },
            "colorscale": [
             [
              0,
              "#0d0887"
             ],
             [
              0.1111111111111111,
              "#46039f"
             ],
             [
              0.2222222222222222,
              "#7201a8"
             ],
             [
              0.3333333333333333,
              "#9c179e"
             ],
             [
              0.4444444444444444,
              "#bd3786"
             ],
             [
              0.5555555555555556,
              "#d8576b"
             ],
             [
              0.6666666666666666,
              "#ed7953"
             ],
             [
              0.7777777777777778,
              "#fb9f3a"
             ],
             [
              0.8888888888888888,
              "#fdca26"
             ],
             [
              1,
              "#f0f921"
             ]
            ],
            "type": "surface"
           }
          ],
          "table": [
           {
            "cells": {
             "fill": {
              "color": "#EBF0F8"
             },
             "line": {
              "color": "white"
             }
            },
            "header": {
             "fill": {
              "color": "#C8D4E3"
             },
             "line": {
              "color": "white"
             }
            },
            "type": "table"
           }
          ]
         },
         "layout": {
          "annotationdefaults": {
           "arrowcolor": "#2a3f5f",
           "arrowhead": 0,
           "arrowwidth": 1
          },
          "autotypenumbers": "strict",
          "coloraxis": {
           "colorbar": {
            "outlinewidth": 0,
            "ticks": ""
           }
          },
          "colorscale": {
           "diverging": [
            [
             0,
             "#8e0152"
            ],
            [
             0.1,
             "#c51b7d"
            ],
            [
             0.2,
             "#de77ae"
            ],
            [
             0.3,
             "#f1b6da"
            ],
            [
             0.4,
             "#fde0ef"
            ],
            [
             0.5,
             "#f7f7f7"
            ],
            [
             0.6,
             "#e6f5d0"
            ],
            [
             0.7,
             "#b8e186"
            ],
            [
             0.8,
             "#7fbc41"
            ],
            [
             0.9,
             "#4d9221"
            ],
            [
             1,
             "#276419"
            ]
           ],
           "sequential": [
            [
             0,
             "#0d0887"
            ],
            [
             0.1111111111111111,
             "#46039f"
            ],
            [
             0.2222222222222222,
             "#7201a8"
            ],
            [
             0.3333333333333333,
             "#9c179e"
            ],
            [
             0.4444444444444444,
             "#bd3786"
            ],
            [
             0.5555555555555556,
             "#d8576b"
            ],
            [
             0.6666666666666666,
             "#ed7953"
            ],
            [
             0.7777777777777778,
             "#fb9f3a"
            ],
            [
             0.8888888888888888,
             "#fdca26"
            ],
            [
             1,
             "#f0f921"
            ]
           ],
           "sequentialminus": [
            [
             0,
             "#0d0887"
            ],
            [
             0.1111111111111111,
             "#46039f"
            ],
            [
             0.2222222222222222,
             "#7201a8"
            ],
            [
             0.3333333333333333,
             "#9c179e"
            ],
            [
             0.4444444444444444,
             "#bd3786"
            ],
            [
             0.5555555555555556,
             "#d8576b"
            ],
            [
             0.6666666666666666,
             "#ed7953"
            ],
            [
             0.7777777777777778,
             "#fb9f3a"
            ],
            [
             0.8888888888888888,
             "#fdca26"
            ],
            [
             1,
             "#f0f921"
            ]
           ]
          },
          "colorway": [
           "#636efa",
           "#EF553B",
           "#00cc96",
           "#ab63fa",
           "#FFA15A",
           "#19d3f3",
           "#FF6692",
           "#B6E880",
           "#FF97FF",
           "#FECB52"
          ],
          "font": {
           "color": "#2a3f5f"
          },
          "geo": {
           "bgcolor": "white",
           "lakecolor": "white",
           "landcolor": "#E5ECF6",
           "showlakes": true,
           "showland": true,
           "subunitcolor": "white"
          },
          "hoverlabel": {
           "align": "left"
          },
          "hovermode": "closest",
          "mapbox": {
           "style": "light"
          },
          "paper_bgcolor": "white",
          "plot_bgcolor": "#E5ECF6",
          "polar": {
           "angularaxis": {
            "gridcolor": "white",
            "linecolor": "white",
            "ticks": ""
           },
           "bgcolor": "#E5ECF6",
           "radialaxis": {
            "gridcolor": "white",
            "linecolor": "white",
            "ticks": ""
           }
          },
          "scene": {
           "xaxis": {
            "backgroundcolor": "#E5ECF6",
            "gridcolor": "white",
            "gridwidth": 2,
            "linecolor": "white",
            "showbackground": true,
            "ticks": "",
            "zerolinecolor": "white"
           },
           "yaxis": {
            "backgroundcolor": "#E5ECF6",
            "gridcolor": "white",
            "gridwidth": 2,
            "linecolor": "white",
            "showbackground": true,
            "ticks": "",
            "zerolinecolor": "white"
           },
           "zaxis": {
            "backgroundcolor": "#E5ECF6",
            "gridcolor": "white",
            "gridwidth": 2,
            "linecolor": "white",
            "showbackground": true,
            "ticks": "",
            "zerolinecolor": "white"
           }
          },
          "shapedefaults": {
           "line": {
            "color": "#2a3f5f"
           }
          },
          "ternary": {
           "aaxis": {
            "gridcolor": "white",
            "linecolor": "white",
            "ticks": ""
           },
           "baxis": {
            "gridcolor": "white",
            "linecolor": "white",
            "ticks": ""
           },
           "bgcolor": "#E5ECF6",
           "caxis": {
            "gridcolor": "white",
            "linecolor": "white",
            "ticks": ""
           }
          },
          "title": {
           "x": 0.05
          },
          "xaxis": {
           "automargin": true,
           "gridcolor": "white",
           "linecolor": "white",
           "ticks": "",
           "title": {
            "standoff": 15
           },
           "zerolinecolor": "white",
           "zerolinewidth": 2
          },
          "yaxis": {
           "automargin": true,
           "gridcolor": "white",
           "linecolor": "white",
           "ticks": "",
           "title": {
            "standoff": 15
           },
           "zerolinecolor": "white",
           "zerolinewidth": 2
          }
         }
        }
       }
      }
     },
     "metadata": {},
     "output_type": "display_data"
    },
    {
     "data": {
      "application/vnd.plotly.v1+json": {
       "config": {
        "plotlyServerURL": "https://plot.ly"
       },
       "data": [
        {
         "alignmentgroup": "True",
         "customdata": [
          [
           2020
          ],
          [
           2021
          ],
          [
           2022
          ],
          [
           2023
          ],
          [
           2021
          ],
          [
           2022
          ],
          [
           2023
          ],
          [
           2024
          ],
          [
           2021
          ],
          [
           2022
          ],
          [
           2023
          ],
          [
           2020
          ],
          [
           2022
          ],
          [
           2023
          ],
          [
           2024
          ],
          [
           2020
          ],
          [
           2021
          ],
          [
           2022
          ],
          [
           2023
          ],
          [
           2020
          ],
          [
           2022
          ],
          [
           2020
          ],
          [
           2022
          ],
          [
           2023
          ],
          [
           2024
          ],
          [
           2020
          ],
          [
           2021
          ],
          [
           2022
          ],
          [
           2023
          ],
          [
           2020
          ],
          [
           2021
          ],
          [
           2022
          ],
          [
           2024
          ],
          [
           2020
          ],
          [
           2024
          ],
          [
           2020
          ],
          [
           2021
          ],
          [
           2022
          ],
          [
           2023
          ],
          [
           2024
          ]
         ],
         "hovertemplate": "issue=Brakes<br>Constructor=%{x}<br>Issue Count=%{y}<br>season=%{customdata[0]}<extra></extra>",
         "legendgroup": "Brakes",
         "marker": {
          "color": "#636efa",
          "pattern": {
           "shape": ""
          }
         },
         "name": "Brakes",
         "offsetgroup": "Brakes",
         "orientation": "v",
         "showlegend": true,
         "textposition": "auto",
         "type": "bar",
         "x": [
          "alfa",
          "alfa",
          "alfa",
          "alfa",
          "alpine",
          "alpine",
          "alpine",
          "alpine",
          "aston_martin",
          "aston_martin",
          "aston_martin",
          "ferrari",
          "ferrari",
          "ferrari",
          "ferrari",
          "haas",
          "haas",
          "haas",
          "haas",
          "mclaren",
          "mclaren",
          "mercedes",
          "mercedes",
          "mercedes",
          "mercedes",
          "rb",
          "rb",
          "rb",
          "rb",
          "red_bull",
          "red_bull",
          "red_bull",
          "red_bull",
          "renault",
          "sauber",
          "williams",
          "williams",
          "williams",
          "williams",
          "williams"
         ],
         "xaxis": "x",
         "y": [
          0,
          1,
          0,
          0,
          1,
          0,
          0,
          0,
          0,
          0,
          0,
          1,
          0,
          0,
          0,
          2,
          0,
          0,
          0,
          0,
          0,
          0,
          0,
          1,
          0,
          0,
          1,
          0,
          0,
          0,
          0,
          0,
          1,
          1,
          0,
          0,
          0,
          0,
          1,
          0
         ],
         "yaxis": "y"
        },
        {
         "alignmentgroup": "True",
         "customdata": [
          [
           2020
          ],
          [
           2021
          ],
          [
           2022
          ],
          [
           2023
          ],
          [
           2021
          ],
          [
           2022
          ],
          [
           2023
          ],
          [
           2024
          ],
          [
           2021
          ],
          [
           2022
          ],
          [
           2023
          ],
          [
           2020
          ],
          [
           2022
          ],
          [
           2023
          ],
          [
           2024
          ],
          [
           2020
          ],
          [
           2021
          ],
          [
           2022
          ],
          [
           2023
          ],
          [
           2020
          ],
          [
           2022
          ],
          [
           2020
          ],
          [
           2022
          ],
          [
           2023
          ],
          [
           2024
          ],
          [
           2020
          ],
          [
           2021
          ],
          [
           2022
          ],
          [
           2023
          ],
          [
           2020
          ],
          [
           2021
          ],
          [
           2022
          ],
          [
           2024
          ],
          [
           2020
          ],
          [
           2024
          ],
          [
           2020
          ],
          [
           2021
          ],
          [
           2022
          ],
          [
           2023
          ],
          [
           2024
          ]
         ],
         "hovertemplate": "issue=Engine<br>Constructor=%{x}<br>Issue Count=%{y}<br>season=%{customdata[0]}<extra></extra>",
         "legendgroup": "Engine",
         "marker": {
          "color": "#EF553B",
          "pattern": {
           "shape": ""
          }
         },
         "name": "Engine",
         "offsetgroup": "Engine",
         "orientation": "v",
         "showlegend": true,
         "textposition": "auto",
         "type": "bar",
         "x": [
          "alfa",
          "alfa",
          "alfa",
          "alfa",
          "alpine",
          "alpine",
          "alpine",
          "alpine",
          "aston_martin",
          "aston_martin",
          "aston_martin",
          "ferrari",
          "ferrari",
          "ferrari",
          "ferrari",
          "haas",
          "haas",
          "haas",
          "haas",
          "mclaren",
          "mclaren",
          "mercedes",
          "mercedes",
          "mercedes",
          "mercedes",
          "rb",
          "rb",
          "rb",
          "rb",
          "red_bull",
          "red_bull",
          "red_bull",
          "red_bull",
          "renault",
          "sauber",
          "williams",
          "williams",
          "williams",
          "williams",
          "williams"
         ],
         "xaxis": "x",
         "y": [
          0,
          0,
          1,
          2,
          0,
          3,
          0,
          0,
          0,
          2,
          1,
          0,
          0,
          2,
          1,
          0,
          0,
          1,
          2,
          0,
          0,
          0,
          0,
          1,
          1,
          1,
          0,
          0,
          1,
          0,
          1,
          0,
          0,
          0,
          0,
          1,
          1,
          0,
          1,
          0
         ],
         "yaxis": "y"
        },
        {
         "alignmentgroup": "True",
         "customdata": [
          [
           2020
          ],
          [
           2021
          ],
          [
           2022
          ],
          [
           2023
          ],
          [
           2021
          ],
          [
           2022
          ],
          [
           2023
          ],
          [
           2024
          ],
          [
           2021
          ],
          [
           2022
          ],
          [
           2023
          ],
          [
           2020
          ],
          [
           2022
          ],
          [
           2023
          ],
          [
           2024
          ],
          [
           2020
          ],
          [
           2021
          ],
          [
           2022
          ],
          [
           2023
          ],
          [
           2020
          ],
          [
           2022
          ],
          [
           2020
          ],
          [
           2022
          ],
          [
           2023
          ],
          [
           2024
          ],
          [
           2020
          ],
          [
           2021
          ],
          [
           2022
          ],
          [
           2023
          ],
          [
           2020
          ],
          [
           2021
          ],
          [
           2022
          ],
          [
           2024
          ],
          [
           2020
          ],
          [
           2024
          ],
          [
           2020
          ],
          [
           2021
          ],
          [
           2022
          ],
          [
           2023
          ],
          [
           2024
          ]
         ],
         "hovertemplate": "issue=Gearbox<br>Constructor=%{x}<br>Issue Count=%{y}<br>season=%{customdata[0]}<extra></extra>",
         "legendgroup": "Gearbox",
         "marker": {
          "color": "#00cc96",
          "pattern": {
           "shape": ""
          }
         },
         "name": "Gearbox",
         "offsetgroup": "Gearbox",
         "orientation": "v",
         "showlegend": true,
         "textposition": "auto",
         "type": "bar",
         "x": [
          "alfa",
          "alfa",
          "alfa",
          "alfa",
          "alpine",
          "alpine",
          "alpine",
          "alpine",
          "aston_martin",
          "aston_martin",
          "aston_martin",
          "ferrari",
          "ferrari",
          "ferrari",
          "ferrari",
          "haas",
          "haas",
          "haas",
          "haas",
          "mclaren",
          "mclaren",
          "mercedes",
          "mercedes",
          "mercedes",
          "mercedes",
          "rb",
          "rb",
          "rb",
          "rb",
          "red_bull",
          "red_bull",
          "red_bull",
          "red_bull",
          "renault",
          "sauber",
          "williams",
          "williams",
          "williams",
          "williams",
          "williams"
         ],
         "xaxis": "x",
         "y": [
          1,
          1,
          1,
          0,
          0,
          0,
          1,
          2,
          1,
          0,
          0,
          0,
          0,
          0,
          0,
          0,
          0,
          0,
          0,
          0,
          2,
          0,
          0,
          0,
          0,
          0,
          0,
          0,
          1,
          0,
          0,
          1,
          0,
          2,
          1,
          0,
          3,
          0,
          0,
          0
         ],
         "yaxis": "y"
        },
        {
         "alignmentgroup": "True",
         "customdata": [
          [
           2020
          ],
          [
           2021
          ],
          [
           2022
          ],
          [
           2023
          ],
          [
           2021
          ],
          [
           2022
          ],
          [
           2023
          ],
          [
           2024
          ],
          [
           2021
          ],
          [
           2022
          ],
          [
           2023
          ],
          [
           2020
          ],
          [
           2022
          ],
          [
           2023
          ],
          [
           2024
          ],
          [
           2020
          ],
          [
           2021
          ],
          [
           2022
          ],
          [
           2023
          ],
          [
           2020
          ],
          [
           2022
          ],
          [
           2020
          ],
          [
           2022
          ],
          [
           2023
          ],
          [
           2024
          ],
          [
           2020
          ],
          [
           2021
          ],
          [
           2022
          ],
          [
           2023
          ],
          [
           2020
          ],
          [
           2021
          ],
          [
           2022
          ],
          [
           2024
          ],
          [
           2020
          ],
          [
           2024
          ],
          [
           2020
          ],
          [
           2021
          ],
          [
           2022
          ],
          [
           2023
          ],
          [
           2024
          ]
         ],
         "hovertemplate": "issue=Hydraulics<br>Constructor=%{x}<br>Issue Count=%{y}<br>season=%{customdata[0]}<extra></extra>",
         "legendgroup": "Hydraulics",
         "marker": {
          "color": "#ab63fa",
          "pattern": {
           "shape": ""
          }
         },
         "name": "Hydraulics",
         "offsetgroup": "Hydraulics",
         "orientation": "v",
         "showlegend": true,
         "textposition": "auto",
         "type": "bar",
         "x": [
          "alfa",
          "alfa",
          "alfa",
          "alfa",
          "alpine",
          "alpine",
          "alpine",
          "alpine",
          "aston_martin",
          "aston_martin",
          "aston_martin",
          "ferrari",
          "ferrari",
          "ferrari",
          "ferrari",
          "haas",
          "haas",
          "haas",
          "haas",
          "mclaren",
          "mclaren",
          "mercedes",
          "mercedes",
          "mercedes",
          "mercedes",
          "rb",
          "rb",
          "rb",
          "rb",
          "red_bull",
          "red_bull",
          "red_bull",
          "red_bull",
          "renault",
          "sauber",
          "williams",
          "williams",
          "williams",
          "williams",
          "williams"
         ],
         "xaxis": "x",
         "y": [
          0,
          0,
          1,
          0,
          0,
          0,
          0,
          1,
          0,
          0,
          0,
          0,
          1,
          0,
          0,
          0,
          1,
          0,
          0,
          0,
          0,
          0,
          1,
          0,
          0,
          0,
          0,
          0,
          0,
          0,
          0,
          0,
          0,
          0,
          0,
          0,
          0,
          1,
          0,
          0
         ],
         "yaxis": "y"
        },
        {
         "alignmentgroup": "True",
         "customdata": [
          [
           2020
          ],
          [
           2021
          ],
          [
           2022
          ],
          [
           2023
          ],
          [
           2021
          ],
          [
           2022
          ],
          [
           2023
          ],
          [
           2024
          ],
          [
           2021
          ],
          [
           2022
          ],
          [
           2023
          ],
          [
           2020
          ],
          [
           2022
          ],
          [
           2023
          ],
          [
           2024
          ],
          [
           2020
          ],
          [
           2021
          ],
          [
           2022
          ],
          [
           2023
          ],
          [
           2020
          ],
          [
           2022
          ],
          [
           2020
          ],
          [
           2022
          ],
          [
           2023
          ],
          [
           2024
          ],
          [
           2020
          ],
          [
           2021
          ],
          [
           2022
          ],
          [
           2023
          ],
          [
           2020
          ],
          [
           2021
          ],
          [
           2022
          ],
          [
           2024
          ],
          [
           2020
          ],
          [
           2024
          ],
          [
           2020
          ],
          [
           2021
          ],
          [
           2022
          ],
          [
           2023
          ],
          [
           2024
          ]
         ],
         "hovertemplate": "issue=Power Unit<br>Constructor=%{x}<br>Issue Count=%{y}<br>season=%{customdata[0]}<extra></extra>",
         "legendgroup": "Power Unit",
         "marker": {
          "color": "#FFA15A",
          "pattern": {
           "shape": ""
          }
         },
         "name": "Power Unit",
         "offsetgroup": "Power Unit",
         "orientation": "v",
         "showlegend": true,
         "textposition": "auto",
         "type": "bar",
         "x": [
          "alfa",
          "alfa",
          "alfa",
          "alfa",
          "alpine",
          "alpine",
          "alpine",
          "alpine",
          "aston_martin",
          "aston_martin",
          "aston_martin",
          "ferrari",
          "ferrari",
          "ferrari",
          "ferrari",
          "haas",
          "haas",
          "haas",
          "haas",
          "mclaren",
          "mclaren",
          "mercedes",
          "mercedes",
          "mercedes",
          "mercedes",
          "rb",
          "rb",
          "rb",
          "rb",
          "red_bull",
          "red_bull",
          "red_bull",
          "red_bull",
          "renault",
          "sauber",
          "williams",
          "williams",
          "williams",
          "williams",
          "williams"
         ],
         "xaxis": "x",
         "y": [
          0,
          0,
          1,
          0,
          0,
          0,
          0,
          0,
          0,
          0,
          0,
          0,
          2,
          0,
          0,
          1,
          1,
          1,
          0,
          1,
          0,
          1,
          0,
          0,
          0,
          0,
          1,
          2,
          0,
          1,
          0,
          0,
          0,
          0,
          0,
          0,
          0,
          0,
          0,
          1
         ],
         "yaxis": "y"
        }
       ],
       "layout": {
        "barmode": "stack",
        "legend": {
         "title": {
          "text": "issue"
         },
         "tracegroupgap": 0
        },
        "margin": {
         "t": 60
        },
        "paper_bgcolor": "lightgray",
        "plot_bgcolor": "white",
        "template": {
         "data": {
          "bar": [
           {
            "error_x": {
             "color": "#2a3f5f"
            },
            "error_y": {
             "color": "#2a3f5f"
            },
            "marker": {
             "line": {
              "color": "#E5ECF6",
              "width": 0.5
             },
             "pattern": {
              "fillmode": "overlay",
              "size": 10,
              "solidity": 0.2
             }
            },
            "type": "bar"
           }
          ],
          "barpolar": [
           {
            "marker": {
             "line": {
              "color": "#E5ECF6",
              "width": 0.5
             },
             "pattern": {
              "fillmode": "overlay",
              "size": 10,
              "solidity": 0.2
             }
            },
            "type": "barpolar"
           }
          ],
          "carpet": [
           {
            "aaxis": {
             "endlinecolor": "#2a3f5f",
             "gridcolor": "white",
             "linecolor": "white",
             "minorgridcolor": "white",
             "startlinecolor": "#2a3f5f"
            },
            "baxis": {
             "endlinecolor": "#2a3f5f",
             "gridcolor": "white",
             "linecolor": "white",
             "minorgridcolor": "white",
             "startlinecolor": "#2a3f5f"
            },
            "type": "carpet"
           }
          ],
          "choropleth": [
           {
            "colorbar": {
             "outlinewidth": 0,
             "ticks": ""
            },
            "type": "choropleth"
           }
          ],
          "contour": [
           {
            "colorbar": {
             "outlinewidth": 0,
             "ticks": ""
            },
            "colorscale": [
             [
              0,
              "#0d0887"
             ],
             [
              0.1111111111111111,
              "#46039f"
             ],
             [
              0.2222222222222222,
              "#7201a8"
             ],
             [
              0.3333333333333333,
              "#9c179e"
             ],
             [
              0.4444444444444444,
              "#bd3786"
             ],
             [
              0.5555555555555556,
              "#d8576b"
             ],
             [
              0.6666666666666666,
              "#ed7953"
             ],
             [
              0.7777777777777778,
              "#fb9f3a"
             ],
             [
              0.8888888888888888,
              "#fdca26"
             ],
             [
              1,
              "#f0f921"
             ]
            ],
            "type": "contour"
           }
          ],
          "contourcarpet": [
           {
            "colorbar": {
             "outlinewidth": 0,
             "ticks": ""
            },
            "type": "contourcarpet"
           }
          ],
          "heatmap": [
           {
            "colorbar": {
             "outlinewidth": 0,
             "ticks": ""
            },
            "colorscale": [
             [
              0,
              "#0d0887"
             ],
             [
              0.1111111111111111,
              "#46039f"
             ],
             [
              0.2222222222222222,
              "#7201a8"
             ],
             [
              0.3333333333333333,
              "#9c179e"
             ],
             [
              0.4444444444444444,
              "#bd3786"
             ],
             [
              0.5555555555555556,
              "#d8576b"
             ],
             [
              0.6666666666666666,
              "#ed7953"
             ],
             [
              0.7777777777777778,
              "#fb9f3a"
             ],
             [
              0.8888888888888888,
              "#fdca26"
             ],
             [
              1,
              "#f0f921"
             ]
            ],
            "type": "heatmap"
           }
          ],
          "heatmapgl": [
           {
            "colorbar": {
             "outlinewidth": 0,
             "ticks": ""
            },
            "colorscale": [
             [
              0,
              "#0d0887"
             ],
             [
              0.1111111111111111,
              "#46039f"
             ],
             [
              0.2222222222222222,
              "#7201a8"
             ],
             [
              0.3333333333333333,
              "#9c179e"
             ],
             [
              0.4444444444444444,
              "#bd3786"
             ],
             [
              0.5555555555555556,
              "#d8576b"
             ],
             [
              0.6666666666666666,
              "#ed7953"
             ],
             [
              0.7777777777777778,
              "#fb9f3a"
             ],
             [
              0.8888888888888888,
              "#fdca26"
             ],
             [
              1,
              "#f0f921"
             ]
            ],
            "type": "heatmapgl"
           }
          ],
          "histogram": [
           {
            "marker": {
             "pattern": {
              "fillmode": "overlay",
              "size": 10,
              "solidity": 0.2
             }
            },
            "type": "histogram"
           }
          ],
          "histogram2d": [
           {
            "colorbar": {
             "outlinewidth": 0,
             "ticks": ""
            },
            "colorscale": [
             [
              0,
              "#0d0887"
             ],
             [
              0.1111111111111111,
              "#46039f"
             ],
             [
              0.2222222222222222,
              "#7201a8"
             ],
             [
              0.3333333333333333,
              "#9c179e"
             ],
             [
              0.4444444444444444,
              "#bd3786"
             ],
             [
              0.5555555555555556,
              "#d8576b"
             ],
             [
              0.6666666666666666,
              "#ed7953"
             ],
             [
              0.7777777777777778,
              "#fb9f3a"
             ],
             [
              0.8888888888888888,
              "#fdca26"
             ],
             [
              1,
              "#f0f921"
             ]
            ],
            "type": "histogram2d"
           }
          ],
          "histogram2dcontour": [
           {
            "colorbar": {
             "outlinewidth": 0,
             "ticks": ""
            },
            "colorscale": [
             [
              0,
              "#0d0887"
             ],
             [
              0.1111111111111111,
              "#46039f"
             ],
             [
              0.2222222222222222,
              "#7201a8"
             ],
             [
              0.3333333333333333,
              "#9c179e"
             ],
             [
              0.4444444444444444,
              "#bd3786"
             ],
             [
              0.5555555555555556,
              "#d8576b"
             ],
             [
              0.6666666666666666,
              "#ed7953"
             ],
             [
              0.7777777777777778,
              "#fb9f3a"
             ],
             [
              0.8888888888888888,
              "#fdca26"
             ],
             [
              1,
              "#f0f921"
             ]
            ],
            "type": "histogram2dcontour"
           }
          ],
          "mesh3d": [
           {
            "colorbar": {
             "outlinewidth": 0,
             "ticks": ""
            },
            "type": "mesh3d"
           }
          ],
          "parcoords": [
           {
            "line": {
             "colorbar": {
              "outlinewidth": 0,
              "ticks": ""
             }
            },
            "type": "parcoords"
           }
          ],
          "pie": [
           {
            "automargin": true,
            "type": "pie"
           }
          ],
          "scatter": [
           {
            "fillpattern": {
             "fillmode": "overlay",
             "size": 10,
             "solidity": 0.2
            },
            "type": "scatter"
           }
          ],
          "scatter3d": [
           {
            "line": {
             "colorbar": {
              "outlinewidth": 0,
              "ticks": ""
             }
            },
            "marker": {
             "colorbar": {
              "outlinewidth": 0,
              "ticks": ""
             }
            },
            "type": "scatter3d"
           }
          ],
          "scattercarpet": [
           {
            "marker": {
             "colorbar": {
              "outlinewidth": 0,
              "ticks": ""
             }
            },
            "type": "scattercarpet"
           }
          ],
          "scattergeo": [
           {
            "marker": {
             "colorbar": {
              "outlinewidth": 0,
              "ticks": ""
             }
            },
            "type": "scattergeo"
           }
          ],
          "scattergl": [
           {
            "marker": {
             "colorbar": {
              "outlinewidth": 0,
              "ticks": ""
             }
            },
            "type": "scattergl"
           }
          ],
          "scattermapbox": [
           {
            "marker": {
             "colorbar": {
              "outlinewidth": 0,
              "ticks": ""
             }
            },
            "type": "scattermapbox"
           }
          ],
          "scatterpolar": [
           {
            "marker": {
             "colorbar": {
              "outlinewidth": 0,
              "ticks": ""
             }
            },
            "type": "scatterpolar"
           }
          ],
          "scatterpolargl": [
           {
            "marker": {
             "colorbar": {
              "outlinewidth": 0,
              "ticks": ""
             }
            },
            "type": "scatterpolargl"
           }
          ],
          "scatterternary": [
           {
            "marker": {
             "colorbar": {
              "outlinewidth": 0,
              "ticks": ""
             }
            },
            "type": "scatterternary"
           }
          ],
          "surface": [
           {
            "colorbar": {
             "outlinewidth": 0,
             "ticks": ""
            },
            "colorscale": [
             [
              0,
              "#0d0887"
             ],
             [
              0.1111111111111111,
              "#46039f"
             ],
             [
              0.2222222222222222,
              "#7201a8"
             ],
             [
              0.3333333333333333,
              "#9c179e"
             ],
             [
              0.4444444444444444,
              "#bd3786"
             ],
             [
              0.5555555555555556,
              "#d8576b"
             ],
             [
              0.6666666666666666,
              "#ed7953"
             ],
             [
              0.7777777777777778,
              "#fb9f3a"
             ],
             [
              0.8888888888888888,
              "#fdca26"
             ],
             [
              1,
              "#f0f921"
             ]
            ],
            "type": "surface"
           }
          ],
          "table": [
           {
            "cells": {
             "fill": {
              "color": "#EBF0F8"
             },
             "line": {
              "color": "white"
             }
            },
            "header": {
             "fill": {
              "color": "#C8D4E3"
             },
             "line": {
              "color": "white"
             }
            },
            "type": "table"
           }
          ]
         },
         "layout": {
          "annotationdefaults": {
           "arrowcolor": "#2a3f5f",
           "arrowhead": 0,
           "arrowwidth": 1
          },
          "autotypenumbers": "strict",
          "coloraxis": {
           "colorbar": {
            "outlinewidth": 0,
            "ticks": ""
           }
          },
          "colorscale": {
           "diverging": [
            [
             0,
             "#8e0152"
            ],
            [
             0.1,
             "#c51b7d"
            ],
            [
             0.2,
             "#de77ae"
            ],
            [
             0.3,
             "#f1b6da"
            ],
            [
             0.4,
             "#fde0ef"
            ],
            [
             0.5,
             "#f7f7f7"
            ],
            [
             0.6,
             "#e6f5d0"
            ],
            [
             0.7,
             "#b8e186"
            ],
            [
             0.8,
             "#7fbc41"
            ],
            [
             0.9,
             "#4d9221"
            ],
            [
             1,
             "#276419"
            ]
           ],
           "sequential": [
            [
             0,
             "#0d0887"
            ],
            [
             0.1111111111111111,
             "#46039f"
            ],
            [
             0.2222222222222222,
             "#7201a8"
            ],
            [
             0.3333333333333333,
             "#9c179e"
            ],
            [
             0.4444444444444444,
             "#bd3786"
            ],
            [
             0.5555555555555556,
             "#d8576b"
            ],
            [
             0.6666666666666666,
             "#ed7953"
            ],
            [
             0.7777777777777778,
             "#fb9f3a"
            ],
            [
             0.8888888888888888,
             "#fdca26"
            ],
            [
             1,
             "#f0f921"
            ]
           ],
           "sequentialminus": [
            [
             0,
             "#0d0887"
            ],
            [
             0.1111111111111111,
             "#46039f"
            ],
            [
             0.2222222222222222,
             "#7201a8"
            ],
            [
             0.3333333333333333,
             "#9c179e"
            ],
            [
             0.4444444444444444,
             "#bd3786"
            ],
            [
             0.5555555555555556,
             "#d8576b"
            ],
            [
             0.6666666666666666,
             "#ed7953"
            ],
            [
             0.7777777777777778,
             "#fb9f3a"
            ],
            [
             0.8888888888888888,
             "#fdca26"
            ],
            [
             1,
             "#f0f921"
            ]
           ]
          },
          "colorway": [
           "#636efa",
           "#EF553B",
           "#00cc96",
           "#ab63fa",
           "#FFA15A",
           "#19d3f3",
           "#FF6692",
           "#B6E880",
           "#FF97FF",
           "#FECB52"
          ],
          "font": {
           "color": "#2a3f5f"
          },
          "geo": {
           "bgcolor": "white",
           "lakecolor": "white",
           "landcolor": "#E5ECF6",
           "showlakes": true,
           "showland": true,
           "subunitcolor": "white"
          },
          "hoverlabel": {
           "align": "left"
          },
          "hovermode": "closest",
          "mapbox": {
           "style": "light"
          },
          "paper_bgcolor": "white",
          "plot_bgcolor": "#E5ECF6",
          "polar": {
           "angularaxis": {
            "gridcolor": "white",
            "linecolor": "white",
            "ticks": ""
           },
           "bgcolor": "#E5ECF6",
           "radialaxis": {
            "gridcolor": "white",
            "linecolor": "white",
            "ticks": ""
           }
          },
          "scene": {
           "xaxis": {
            "backgroundcolor": "#E5ECF6",
            "gridcolor": "white",
            "gridwidth": 2,
            "linecolor": "white",
            "showbackground": true,
            "ticks": "",
            "zerolinecolor": "white"
           },
           "yaxis": {
            "backgroundcolor": "#E5ECF6",
            "gridcolor": "white",
            "gridwidth": 2,
            "linecolor": "white",
            "showbackground": true,
            "ticks": "",
            "zerolinecolor": "white"
           },
           "zaxis": {
            "backgroundcolor": "#E5ECF6",
            "gridcolor": "white",
            "gridwidth": 2,
            "linecolor": "white",
            "showbackground": true,
            "ticks": "",
            "zerolinecolor": "white"
           }
          },
          "shapedefaults": {
           "line": {
            "color": "#2a3f5f"
           }
          },
          "ternary": {
           "aaxis": {
            "gridcolor": "white",
            "linecolor": "white",
            "ticks": ""
           },
           "baxis": {
            "gridcolor": "white",
            "linecolor": "white",
            "ticks": ""
           },
           "bgcolor": "#E5ECF6",
           "caxis": {
            "gridcolor": "white",
            "linecolor": "white",
            "ticks": ""
           }
          },
          "title": {
           "x": 0.05
          },
          "xaxis": {
           "automargin": true,
           "gridcolor": "white",
           "linecolor": "white",
           "ticks": "",
           "title": {
            "standoff": 15
           },
           "zerolinecolor": "white",
           "zerolinewidth": 2
          },
          "yaxis": {
           "automargin": true,
           "gridcolor": "white",
           "linecolor": "white",
           "ticks": "",
           "title": {
            "standoff": 15
           },
           "zerolinecolor": "white",
           "zerolinewidth": 2
          }
         }
        },
        "xaxis": {
         "anchor": "y",
         "categoryorder": "total descending",
         "domain": [
          0,
          1
         ],
         "title": {
          "text": "Constructor"
         }
        },
        "yaxis": {
         "anchor": "x",
         "domain": [
          0,
          1
         ],
         "title": {
          "text": "Issue Count"
         }
        }
       }
      }
     },
     "metadata": {},
     "output_type": "display_data"
    },
    {
     "name": "stderr",
     "output_type": "stream",
     "text": [
      "/var/folders/w0/zjn_yl050qn4kdvrggtg30sh0000gn/T/ipykernel_30221/2980562515.py:22: UserWarning:\n",
      "\n",
      "Could not infer format, so each element will be parsed individually, falling back to `dateutil`. To ensure parsing is consistent and as-expected, please specify a format.\n",
      "\n"
     ]
    },
    {
     "data": {
      "application/vnd.plotly.v1+json": {
       "config": {
        "plotlyServerURL": "https://plot.ly"
       },
       "data": [
        {
         "customdata": [
          [
           "aitken",
           2020
          ],
          [
           "albon",
           2019
          ],
          [
           "albon",
           2020
          ],
          [
           "albon",
           2022
          ],
          [
           "albon",
           2023
          ],
          [
           "albon",
           2024
          ],
          [
           "alonso",
           2017
          ],
          [
           "alonso",
           2018
          ],
          [
           "alonso",
           2021
          ],
          [
           "alonso",
           2022
          ],
          [
           "alonso",
           2023
          ],
          [
           "alonso",
           2024
          ],
          [
           "bearman",
           2024
          ],
          [
           "bottas",
           2017
          ],
          [
           "bottas",
           2018
          ],
          [
           "bottas",
           2019
          ],
          [
           "bottas",
           2020
          ],
          [
           "bottas",
           2021
          ],
          [
           "bottas",
           2022
          ],
          [
           "bottas",
           2023
          ],
          [
           "bottas",
           2024
          ],
          [
           "button",
           2017
          ],
          [
           "colapinto",
           2024
          ],
          [
           "de_vries",
           2022
          ],
          [
           "de_vries",
           2023
          ],
          [
           "ericsson",
           2017
          ],
          [
           "ericsson",
           2018
          ],
          [
           "gasly",
           2019
          ],
          [
           "gasly",
           2020
          ],
          [
           "gasly",
           2021
          ],
          [
           "gasly",
           2022
          ],
          [
           "gasly",
           2023
          ],
          [
           "gasly",
           2024
          ],
          [
           "giovinazzi",
           2017
          ],
          [
           "giovinazzi",
           2019
          ],
          [
           "giovinazzi",
           2020
          ],
          [
           "giovinazzi",
           2021
          ],
          [
           "grosjean",
           2017
          ],
          [
           "grosjean",
           2018
          ],
          [
           "grosjean",
           2019
          ],
          [
           "grosjean",
           2020
          ],
          [
           "hamilton",
           2017
          ],
          [
           "hamilton",
           2018
          ],
          [
           "hamilton",
           2019
          ],
          [
           "hamilton",
           2020
          ],
          [
           "hamilton",
           2021
          ],
          [
           "hamilton",
           2022
          ],
          [
           "hamilton",
           2023
          ],
          [
           "hamilton",
           2024
          ],
          [
           "hulkenberg",
           2017
          ],
          [
           "hulkenberg",
           2018
          ],
          [
           "hulkenberg",
           2019
          ],
          [
           "hulkenberg",
           2022
          ],
          [
           "hulkenberg",
           2023
          ],
          [
           "hulkenberg",
           2024
          ],
          [
           "jolyon_palmer",
           2017
          ],
          [
           "kevin_magnussen",
           2017
          ],
          [
           "kevin_magnussen",
           2018
          ],
          [
           "kevin_magnussen",
           2019
          ],
          [
           "kevin_magnussen",
           2020
          ],
          [
           "kevin_magnussen",
           2022
          ],
          [
           "kevin_magnussen",
           2023
          ],
          [
           "kevin_magnussen",
           2024
          ],
          [
           "kubica",
           2019
          ],
          [
           "kubica",
           2021
          ],
          [
           "kvyat",
           2020
          ],
          [
           "latifi",
           2020
          ],
          [
           "latifi",
           2021
          ],
          [
           "latifi",
           2022
          ],
          [
           "lawson",
           2023
          ],
          [
           "leclerc",
           2018
          ],
          [
           "leclerc",
           2019
          ],
          [
           "leclerc",
           2020
          ],
          [
           "leclerc",
           2021
          ],
          [
           "leclerc",
           2022
          ],
          [
           "leclerc",
           2023
          ],
          [
           "leclerc",
           2024
          ],
          [
           "massa",
           2017
          ],
          [
           "max_verstappen",
           2017
          ],
          [
           "max_verstappen",
           2018
          ],
          [
           "max_verstappen",
           2019
          ],
          [
           "max_verstappen",
           2020
          ],
          [
           "max_verstappen",
           2021
          ],
          [
           "max_verstappen",
           2022
          ],
          [
           "max_verstappen",
           2023
          ],
          [
           "max_verstappen",
           2024
          ],
          [
           "mazepin",
           2021
          ],
          [
           "mick_schumacher",
           2021
          ],
          [
           "mick_schumacher",
           2022
          ],
          [
           "norris",
           2019
          ],
          [
           "norris",
           2020
          ],
          [
           "norris",
           2021
          ],
          [
           "norris",
           2022
          ],
          [
           "norris",
           2023
          ],
          [
           "norris",
           2024
          ],
          [
           "ocon",
           2020
          ],
          [
           "ocon",
           2021
          ],
          [
           "ocon",
           2022
          ],
          [
           "ocon",
           2023
          ],
          [
           "ocon",
           2024
          ],
          [
           "perez",
           2021
          ],
          [
           "perez",
           2022
          ],
          [
           "perez",
           2023
          ],
          [
           "perez",
           2024
          ],
          [
           "piastri",
           2023
          ],
          [
           "piastri",
           2024
          ],
          [
           "pietro_fittipaldi",
           2020
          ],
          [
           "raikkonen",
           2017
          ],
          [
           "raikkonen",
           2018
          ],
          [
           "raikkonen",
           2019
          ],
          [
           "raikkonen",
           2020
          ],
          [
           "raikkonen",
           2021
          ],
          [
           "resta",
           2017
          ],
          [
           "ricciardo",
           2017
          ],
          [
           "ricciardo",
           2018
          ],
          [
           "ricciardo",
           2019
          ],
          [
           "ricciardo",
           2020
          ],
          [
           "ricciardo",
           2021
          ],
          [
           "ricciardo",
           2022
          ],
          [
           "ricciardo",
           2023
          ],
          [
           "ricciardo",
           2024
          ],
          [
           "russell",
           2019
          ],
          [
           "russell",
           2020
          ],
          [
           "russell",
           2021
          ],
          [
           "russell",
           2022
          ],
          [
           "russell",
           2023
          ],
          [
           "russell",
           2024
          ],
          [
           "sainz",
           2017
          ],
          [
           "sainz",
           2018
          ],
          [
           "sainz",
           2019
          ],
          [
           "sainz",
           2020
          ],
          [
           "sainz",
           2021
          ],
          [
           "sainz",
           2022
          ],
          [
           "sainz",
           2023
          ],
          [
           "sainz",
           2024
          ],
          [
           "sargeant",
           2023
          ],
          [
           "sargeant",
           2024
          ],
          [
           "sirotkin",
           2018
          ],
          [
           "stroll",
           2017
          ],
          [
           "stroll",
           2018
          ],
          [
           "stroll",
           2021
          ],
          [
           "stroll",
           2022
          ],
          [
           "stroll",
           2023
          ],
          [
           "stroll",
           2024
          ],
          [
           "tsunoda",
           2021
          ],
          [
           "tsunoda",
           2022
          ],
          [
           "tsunoda",
           2023
          ],
          [
           "tsunoda",
           2024
          ],
          [
           "vandoorne",
           2017
          ],
          [
           "vandoorne",
           2018
          ],
          [
           "vettel",
           2017
          ],
          [
           "vettel",
           2018
          ],
          [
           "vettel",
           2019
          ],
          [
           "vettel",
           2020
          ],
          [
           "vettel",
           2021
          ],
          [
           "vettel",
           2022
          ],
          [
           "wehrlein",
           2017
          ],
          [
           "zhou",
           2022
          ],
          [
           "zhou",
           2023
          ],
          [
           "zhou",
           2024
          ]
         ],
         "hovertemplate": "<b>Driver ID:</b> %{customdata[0]}<br><b>Season:</b> %{customdata[1]}<br><b>Age at Start:</b> %{x:.1f}<br><b>Avg Point:</b> %{y:.1f}<br>",
         "legendgroup": "",
         "marker": {
          "color": "#636efa",
          "symbol": "circle"
         },
         "mode": "markers",
         "name": "",
         "orientation": "v",
         "showlegend": false,
         "type": "scatter",
         "x": [
          25.221917808219178,
          23.457534246575342,
          24.301369863013697,
          26.008219178082193,
          26.96712328767123,
          27.96164383561644,
          35.68219178082192,
          36.679452054794524,
          39.69041095890411,
          40.66849315068493,
          41.62739726027397,
          42.62191780821918,
          18.84931506849315,
          27.594520547945205,
          28.59178082191781,
          29.56986301369863,
          30.873972602739727,
          31.602739726027398,
          32.58082191780822,
          33.53972602739726,
          34.534246575342465,
          37.38082191780822,
          21.28219178082192,
          27.613698630136987,
          28.09315068493151,
          26.58082191780822,
          27.578082191780823,
          23.12054794520548,
          24.424657534246574,
          25.153424657534245,
          26.13150684931507,
          27.09041095890411,
          28.084931506849315,
          23.295890410958904,
          25.27123287671233,
          26.575342465753426,
          27.304109589041097,
          30.96164383561644,
          31.958904109589042,
          32.93698630136986,
          34.24109589041096,
          32.23561643835617,
          33.23287671232877,
          34.21095890410959,
          35.515068493150686,
          36.24383561643835,
          37.221917808219175,
          38.18082191780822,
          39.175342465753424,
          29.621917808219177,
          30.61917808219178,
          31.5972602739726,
          34.608219178082194,
          35.56712328767123,
          36.56164383561644,
          26.197260273972603,
          24.487671232876714,
          25.484931506849314,
          26.46301369863014,
          27.767123287671232,
          29.473972602739725,
          30.432876712328767,
          31.427397260273974,
          34.295890410958904,
          36.76986301369863,
          26.21095890410959,
          25.035616438356165,
          25.764383561643836,
          26.742465753424657,
          21.553424657534247,
          20.45205479452055,
          21.43013698630137,
          22.734246575342464,
          23.46301369863014,
          24.44109589041096,
          25.4,
          26.394520547945206,
          35.942465753424656,
          19.4986301369863,
          20.495890410958904,
          21.473972602739725,
          22.778082191780822,
          23.506849315068493,
          24.484931506849314,
          25.443835616438356,
          26.438356164383563,
          22.087671232876712,
          22.03287671232877,
          23.01095890410959,
          19.353424657534248,
          20.65753424657534,
          21.386301369863013,
          22.364383561643837,
          23.323287671232876,
          24.317808219178083,
          23.813698630136987,
          24.542465753424658,
          25.52054794520548,
          26.47945205479452,
          27.473972602739725,
          31.18904109589041,
          32.16712328767123,
          33.12602739726027,
          34.12054794520548,
          21.926027397260274,
          22.92054794520548,
          24.465753424657535,
          37.465753424657535,
          38.463013698630135,
          39.441095890410956,
          40.74520547945205,
          41.47397260273973,
          31.30958904109589,
          27.753424657534246,
          28.75068493150685,
          29.72876712328767,
          31.03287671232877,
          31.76164383561644,
          32.73972602739726,
          34.082191780821915,
          34.69315068493151,
          21.095890410958905,
          22.4,
          23.12876712328767,
          24.106849315068494,
          25.065753424657533,
          26.06027397260274,
          23.156164383561645,
          23.578082191780823,
          24.556164383561644,
          25.86027397260274,
          26.589041095890412,
          27.567123287671233,
          28.526027397260275,
          29.52054794520548,
          22.18904109589041,
          23.183561643835617,
          22.59178082191781,
          18.41917808219178,
          19.416438356164385,
          22.427397260273974,
          23.405479452054795,
          24.364383561643837,
          25.35890410958904,
          20.893150684931506,
          21.87123287671233,
          22.83013698630137,
          23.824657534246576,
          25.016438356164382,
          26.013698630136986,
          29.75068493150685,
          30.747945205479454,
          31.726027397260275,
          33.03013698630137,
          33.75890410958904,
          34.794520547945204,
          22.50958904109589,
          22.82191780821918,
          23.78082191780822,
          24.775342465753425
         ],
         "xaxis": "x",
         "y": [
          0,
          8.444444444444445,
          6.176470588235294,
          0.19047619047619047,
          1.1363636363636365,
          0.6666666666666666,
          0.8947368421052632,
          2.380952380952381,
          3.6818181818181817,
          3.6818181818181817,
          9,
          3.4444444444444446,
          3.5,
          15.25,
          11.761904761904763,
          15.523809523809524,
          13.117647058823529,
          9.954545454545455,
          2.1363636363636362,
          0.45454545454545453,
          0,
          0,
          1.3333333333333333,
          2,
          0,
          0,
          0.42857142857142855,
          5.25,
          4.411764705882353,
          5,
          1.0454545454545454,
          2.4545454545454546,
          0.4444444444444444,
          0,
          0.6666666666666666,
          0.23529411764705882,
          0.13636363636363635,
          1.4,
          1.7619047619047619,
          0.38095238095238093,
          0.13333333333333333,
          18.15,
          19.428571428571427,
          19.666666666666668,
          21.6875,
          17.522727272727273,
          10.590909090909092,
          9.863636363636363,
          9.11111111111111,
          2.15,
          3.2857142857142856,
          1.7619047619047619,
          0,
          0.2727272727272727,
          1.2222222222222223,
          0.5,
          0.95,
          2.6666666666666665,
          0.9523809523809523,
          0.058823529411764705,
          0.9545454545454546,
          0.13636363636363635,
          0.35294117647058826,
          0.047619047619047616,
          0,
          1.8823529411764706,
          0,
          0.3181818181818182,
          0.09090909090909091,
          0.4,
          1.8571428571428572,
          12.571428571428571,
          5.764705882352941,
          7.2272727272727275,
          13.227272727272727,
          8.409090909090908,
          12.833333333333334,
          2.263157894736842,
          8.4,
          11.857142857142858,
          13.238095238095237,
          12.588235294117647,
          17.65909090909091,
          19.681818181818183,
          24.09090909090909,
          17.055555555555557,
          0,
          0,
          0.5454545454545454,
          2.3333333333333335,
          5.705882352941177,
          7.2727272727272725,
          5.2727272727272725,
          8.363636363636363,
          15,
          3.6470588235294117,
          3.3636363636363638,
          4.045454545454546,
          2.5454545454545454,
          0.2777777777777778,
          8.636363636363637,
          13.227272727272727,
          11.818181818181818,
          7.277777777777778,
          3.727272727272727,
          12.5,
          0,
          10.25,
          11.952380952380953,
          2.0476190476190474,
          0.23529411764705882,
          0.5,
          0,
          10,
          8.095238095238095,
          2.5714285714285716,
          7,
          5.181818181818182,
          1.5454545454545454,
          0.8571428571428571,
          0.3888888888888889,
          0,
          0.17647058823529413,
          0.7272727272727273,
          11.909090909090908,
          7.136363636363637,
          8.277777777777779,
          1.5,
          2.5238095238095237,
          4.571428571428571,
          6.176470588235294,
          7.431818181818182,
          10.363636363636363,
          8.090909090909092,
          10.470588235294118,
          0.045454545454545456,
          0,
          0.047619047619047616,
          2,
          0.2857142857142857,
          1.5454545454545454,
          0.8181818181818182,
          3.090909090909091,
          1.3333333333333333,
          1.4545454545454546,
          0.5454545454545454,
          0.6363636363636364,
          1.1666666666666667,
          0.65,
          0.5714285714285714,
          15.85,
          15.238095238095237,
          11.428571428571429,
          1.9411764705882353,
          1.9545454545454546,
          1.85,
          0.2777777777777778,
          0.2727272727272727,
          0.2727272727272727,
          0
         ],
         "yaxis": "y"
        }
       ],
       "layout": {
        "legend": {
         "tracegroupgap": 0
        },
        "margin": {
         "b": 50,
         "l": 50,
         "r": 50,
         "t": 80
        },
        "paper_bgcolor": "lightgray",
        "showlegend": false,
        "template": {
         "data": {
          "bar": [
           {
            "error_x": {
             "color": "#2a3f5f"
            },
            "error_y": {
             "color": "#2a3f5f"
            },
            "marker": {
             "line": {
              "color": "#E5ECF6",
              "width": 0.5
             },
             "pattern": {
              "fillmode": "overlay",
              "size": 10,
              "solidity": 0.2
             }
            },
            "type": "bar"
           }
          ],
          "barpolar": [
           {
            "marker": {
             "line": {
              "color": "#E5ECF6",
              "width": 0.5
             },
             "pattern": {
              "fillmode": "overlay",
              "size": 10,
              "solidity": 0.2
             }
            },
            "type": "barpolar"
           }
          ],
          "carpet": [
           {
            "aaxis": {
             "endlinecolor": "#2a3f5f",
             "gridcolor": "white",
             "linecolor": "white",
             "minorgridcolor": "white",
             "startlinecolor": "#2a3f5f"
            },
            "baxis": {
             "endlinecolor": "#2a3f5f",
             "gridcolor": "white",
             "linecolor": "white",
             "minorgridcolor": "white",
             "startlinecolor": "#2a3f5f"
            },
            "type": "carpet"
           }
          ],
          "choropleth": [
           {
            "colorbar": {
             "outlinewidth": 0,
             "ticks": ""
            },
            "type": "choropleth"
           }
          ],
          "contour": [
           {
            "colorbar": {
             "outlinewidth": 0,
             "ticks": ""
            },
            "colorscale": [
             [
              0,
              "#0d0887"
             ],
             [
              0.1111111111111111,
              "#46039f"
             ],
             [
              0.2222222222222222,
              "#7201a8"
             ],
             [
              0.3333333333333333,
              "#9c179e"
             ],
             [
              0.4444444444444444,
              "#bd3786"
             ],
             [
              0.5555555555555556,
              "#d8576b"
             ],
             [
              0.6666666666666666,
              "#ed7953"
             ],
             [
              0.7777777777777778,
              "#fb9f3a"
             ],
             [
              0.8888888888888888,
              "#fdca26"
             ],
             [
              1,
              "#f0f921"
             ]
            ],
            "type": "contour"
           }
          ],
          "contourcarpet": [
           {
            "colorbar": {
             "outlinewidth": 0,
             "ticks": ""
            },
            "type": "contourcarpet"
           }
          ],
          "heatmap": [
           {
            "colorbar": {
             "outlinewidth": 0,
             "ticks": ""
            },
            "colorscale": [
             [
              0,
              "#0d0887"
             ],
             [
              0.1111111111111111,
              "#46039f"
             ],
             [
              0.2222222222222222,
              "#7201a8"
             ],
             [
              0.3333333333333333,
              "#9c179e"
             ],
             [
              0.4444444444444444,
              "#bd3786"
             ],
             [
              0.5555555555555556,
              "#d8576b"
             ],
             [
              0.6666666666666666,
              "#ed7953"
             ],
             [
              0.7777777777777778,
              "#fb9f3a"
             ],
             [
              0.8888888888888888,
              "#fdca26"
             ],
             [
              1,
              "#f0f921"
             ]
            ],
            "type": "heatmap"
           }
          ],
          "heatmapgl": [
           {
            "colorbar": {
             "outlinewidth": 0,
             "ticks": ""
            },
            "colorscale": [
             [
              0,
              "#0d0887"
             ],
             [
              0.1111111111111111,
              "#46039f"
             ],
             [
              0.2222222222222222,
              "#7201a8"
             ],
             [
              0.3333333333333333,
              "#9c179e"
             ],
             [
              0.4444444444444444,
              "#bd3786"
             ],
             [
              0.5555555555555556,
              "#d8576b"
             ],
             [
              0.6666666666666666,
              "#ed7953"
             ],
             [
              0.7777777777777778,
              "#fb9f3a"
             ],
             [
              0.8888888888888888,
              "#fdca26"
             ],
             [
              1,
              "#f0f921"
             ]
            ],
            "type": "heatmapgl"
           }
          ],
          "histogram": [
           {
            "marker": {
             "pattern": {
              "fillmode": "overlay",
              "size": 10,
              "solidity": 0.2
             }
            },
            "type": "histogram"
           }
          ],
          "histogram2d": [
           {
            "colorbar": {
             "outlinewidth": 0,
             "ticks": ""
            },
            "colorscale": [
             [
              0,
              "#0d0887"
             ],
             [
              0.1111111111111111,
              "#46039f"
             ],
             [
              0.2222222222222222,
              "#7201a8"
             ],
             [
              0.3333333333333333,
              "#9c179e"
             ],
             [
              0.4444444444444444,
              "#bd3786"
             ],
             [
              0.5555555555555556,
              "#d8576b"
             ],
             [
              0.6666666666666666,
              "#ed7953"
             ],
             [
              0.7777777777777778,
              "#fb9f3a"
             ],
             [
              0.8888888888888888,
              "#fdca26"
             ],
             [
              1,
              "#f0f921"
             ]
            ],
            "type": "histogram2d"
           }
          ],
          "histogram2dcontour": [
           {
            "colorbar": {
             "outlinewidth": 0,
             "ticks": ""
            },
            "colorscale": [
             [
              0,
              "#0d0887"
             ],
             [
              0.1111111111111111,
              "#46039f"
             ],
             [
              0.2222222222222222,
              "#7201a8"
             ],
             [
              0.3333333333333333,
              "#9c179e"
             ],
             [
              0.4444444444444444,
              "#bd3786"
             ],
             [
              0.5555555555555556,
              "#d8576b"
             ],
             [
              0.6666666666666666,
              "#ed7953"
             ],
             [
              0.7777777777777778,
              "#fb9f3a"
             ],
             [
              0.8888888888888888,
              "#fdca26"
             ],
             [
              1,
              "#f0f921"
             ]
            ],
            "type": "histogram2dcontour"
           }
          ],
          "mesh3d": [
           {
            "colorbar": {
             "outlinewidth": 0,
             "ticks": ""
            },
            "type": "mesh3d"
           }
          ],
          "parcoords": [
           {
            "line": {
             "colorbar": {
              "outlinewidth": 0,
              "ticks": ""
             }
            },
            "type": "parcoords"
           }
          ],
          "pie": [
           {
            "automargin": true,
            "type": "pie"
           }
          ],
          "scatter": [
           {
            "fillpattern": {
             "fillmode": "overlay",
             "size": 10,
             "solidity": 0.2
            },
            "type": "scatter"
           }
          ],
          "scatter3d": [
           {
            "line": {
             "colorbar": {
              "outlinewidth": 0,
              "ticks": ""
             }
            },
            "marker": {
             "colorbar": {
              "outlinewidth": 0,
              "ticks": ""
             }
            },
            "type": "scatter3d"
           }
          ],
          "scattercarpet": [
           {
            "marker": {
             "colorbar": {
              "outlinewidth": 0,
              "ticks": ""
             }
            },
            "type": "scattercarpet"
           }
          ],
          "scattergeo": [
           {
            "marker": {
             "colorbar": {
              "outlinewidth": 0,
              "ticks": ""
             }
            },
            "type": "scattergeo"
           }
          ],
          "scattergl": [
           {
            "marker": {
             "colorbar": {
              "outlinewidth": 0,
              "ticks": ""
             }
            },
            "type": "scattergl"
           }
          ],
          "scattermapbox": [
           {
            "marker": {
             "colorbar": {
              "outlinewidth": 0,
              "ticks": ""
             }
            },
            "type": "scattermapbox"
           }
          ],
          "scatterpolar": [
           {
            "marker": {
             "colorbar": {
              "outlinewidth": 0,
              "ticks": ""
             }
            },
            "type": "scatterpolar"
           }
          ],
          "scatterpolargl": [
           {
            "marker": {
             "colorbar": {
              "outlinewidth": 0,
              "ticks": ""
             }
            },
            "type": "scatterpolargl"
           }
          ],
          "scatterternary": [
           {
            "marker": {
             "colorbar": {
              "outlinewidth": 0,
              "ticks": ""
             }
            },
            "type": "scatterternary"
           }
          ],
          "surface": [
           {
            "colorbar": {
             "outlinewidth": 0,
             "ticks": ""
            },
            "colorscale": [
             [
              0,
              "#0d0887"
             ],
             [
              0.1111111111111111,
              "#46039f"
             ],
             [
              0.2222222222222222,
              "#7201a8"
             ],
             [
              0.3333333333333333,
              "#9c179e"
             ],
             [
              0.4444444444444444,
              "#bd3786"
             ],
             [
              0.5555555555555556,
              "#d8576b"
             ],
             [
              0.6666666666666666,
              "#ed7953"
             ],
             [
              0.7777777777777778,
              "#fb9f3a"
             ],
             [
              0.8888888888888888,
              "#fdca26"
             ],
             [
              1,
              "#f0f921"
             ]
            ],
            "type": "surface"
           }
          ],
          "table": [
           {
            "cells": {
             "fill": {
              "color": "#EBF0F8"
             },
             "line": {
              "color": "white"
             }
            },
            "header": {
             "fill": {
              "color": "#C8D4E3"
             },
             "line": {
              "color": "white"
             }
            },
            "type": "table"
           }
          ]
         },
         "layout": {
          "annotationdefaults": {
           "arrowcolor": "#2a3f5f",
           "arrowhead": 0,
           "arrowwidth": 1
          },
          "autotypenumbers": "strict",
          "coloraxis": {
           "colorbar": {
            "outlinewidth": 0,
            "ticks": ""
           }
          },
          "colorscale": {
           "diverging": [
            [
             0,
             "#8e0152"
            ],
            [
             0.1,
             "#c51b7d"
            ],
            [
             0.2,
             "#de77ae"
            ],
            [
             0.3,
             "#f1b6da"
            ],
            [
             0.4,
             "#fde0ef"
            ],
            [
             0.5,
             "#f7f7f7"
            ],
            [
             0.6,
             "#e6f5d0"
            ],
            [
             0.7,
             "#b8e186"
            ],
            [
             0.8,
             "#7fbc41"
            ],
            [
             0.9,
             "#4d9221"
            ],
            [
             1,
             "#276419"
            ]
           ],
           "sequential": [
            [
             0,
             "#0d0887"
            ],
            [
             0.1111111111111111,
             "#46039f"
            ],
            [
             0.2222222222222222,
             "#7201a8"
            ],
            [
             0.3333333333333333,
             "#9c179e"
            ],
            [
             0.4444444444444444,
             "#bd3786"
            ],
            [
             0.5555555555555556,
             "#d8576b"
            ],
            [
             0.6666666666666666,
             "#ed7953"
            ],
            [
             0.7777777777777778,
             "#fb9f3a"
            ],
            [
             0.8888888888888888,
             "#fdca26"
            ],
            [
             1,
             "#f0f921"
            ]
           ],
           "sequentialminus": [
            [
             0,
             "#0d0887"
            ],
            [
             0.1111111111111111,
             "#46039f"
            ],
            [
             0.2222222222222222,
             "#7201a8"
            ],
            [
             0.3333333333333333,
             "#9c179e"
            ],
            [
             0.4444444444444444,
             "#bd3786"
            ],
            [
             0.5555555555555556,
             "#d8576b"
            ],
            [
             0.6666666666666666,
             "#ed7953"
            ],
            [
             0.7777777777777778,
             "#fb9f3a"
            ],
            [
             0.8888888888888888,
             "#fdca26"
            ],
            [
             1,
             "#f0f921"
            ]
           ]
          },
          "colorway": [
           "#636efa",
           "#EF553B",
           "#00cc96",
           "#ab63fa",
           "#FFA15A",
           "#19d3f3",
           "#FF6692",
           "#B6E880",
           "#FF97FF",
           "#FECB52"
          ],
          "font": {
           "color": "#2a3f5f"
          },
          "geo": {
           "bgcolor": "white",
           "lakecolor": "white",
           "landcolor": "#E5ECF6",
           "showlakes": true,
           "showland": true,
           "subunitcolor": "white"
          },
          "hoverlabel": {
           "align": "left"
          },
          "hovermode": "closest",
          "mapbox": {
           "style": "light"
          },
          "paper_bgcolor": "white",
          "plot_bgcolor": "#E5ECF6",
          "polar": {
           "angularaxis": {
            "gridcolor": "white",
            "linecolor": "white",
            "ticks": ""
           },
           "bgcolor": "#E5ECF6",
           "radialaxis": {
            "gridcolor": "white",
            "linecolor": "white",
            "ticks": ""
           }
          },
          "scene": {
           "xaxis": {
            "backgroundcolor": "#E5ECF6",
            "gridcolor": "white",
            "gridwidth": 2,
            "linecolor": "white",
            "showbackground": true,
            "ticks": "",
            "zerolinecolor": "white"
           },
           "yaxis": {
            "backgroundcolor": "#E5ECF6",
            "gridcolor": "white",
            "gridwidth": 2,
            "linecolor": "white",
            "showbackground": true,
            "ticks": "",
            "zerolinecolor": "white"
           },
           "zaxis": {
            "backgroundcolor": "#E5ECF6",
            "gridcolor": "white",
            "gridwidth": 2,
            "linecolor": "white",
            "showbackground": true,
            "ticks": "",
            "zerolinecolor": "white"
           }
          },
          "shapedefaults": {
           "line": {
            "color": "#2a3f5f"
           }
          },
          "ternary": {
           "aaxis": {
            "gridcolor": "white",
            "linecolor": "white",
            "ticks": ""
           },
           "baxis": {
            "gridcolor": "white",
            "linecolor": "white",
            "ticks": ""
           },
           "bgcolor": "#E5ECF6",
           "caxis": {
            "gridcolor": "white",
            "linecolor": "white",
            "ticks": ""
           }
          },
          "title": {
           "x": 0.05
          },
          "xaxis": {
           "automargin": true,
           "gridcolor": "white",
           "linecolor": "white",
           "ticks": "",
           "title": {
            "standoff": 15
           },
           "zerolinecolor": "white",
           "zerolinewidth": 2
          },
          "yaxis": {
           "automargin": true,
           "gridcolor": "white",
           "linecolor": "white",
           "ticks": "",
           "title": {
            "standoff": 15
           },
           "zerolinecolor": "white",
           "zerolinewidth": 2
          }
         }
        },
        "xaxis": {
         "anchor": "y",
         "domain": [
          0,
          1
         ],
         "title": {
          "text": "Age at Start of Season"
         }
        },
        "yaxis": {
         "anchor": "x",
         "domain": [
          0,
          1
         ],
         "title": {
          "text": "Average Points"
         }
        }
       }
      }
     },
     "metadata": {},
     "output_type": "display_data"
    },
    {
     "name": "stderr",
     "output_type": "stream",
     "text": [
      "/var/folders/w0/zjn_yl050qn4kdvrggtg30sh0000gn/T/ipykernel_30221/2980562515.py:22: UserWarning:\n",
      "\n",
      "Could not infer format, so each element will be parsed individually, falling back to `dateutil`. To ensure parsing is consistent and as-expected, please specify a format.\n",
      "\n"
     ]
    },
    {
     "data": {
      "application/vnd.plotly.v1+json": {
       "config": {
        "plotlyServerURL": "https://plot.ly"
       },
       "data": [
        {
         "customdata": [
          [
           "aitken",
           2020
          ],
          [
           "albon",
           2019
          ],
          [
           "albon",
           2020
          ],
          [
           "albon",
           2022
          ],
          [
           "albon",
           2023
          ],
          [
           "albon",
           2024
          ],
          [
           "alonso",
           2017
          ],
          [
           "alonso",
           2018
          ],
          [
           "alonso",
           2021
          ],
          [
           "alonso",
           2022
          ],
          [
           "alonso",
           2023
          ],
          [
           "alonso",
           2024
          ],
          [
           "bearman",
           2024
          ],
          [
           "bottas",
           2017
          ],
          [
           "bottas",
           2018
          ],
          [
           "bottas",
           2019
          ],
          [
           "bottas",
           2020
          ],
          [
           "bottas",
           2021
          ],
          [
           "bottas",
           2022
          ],
          [
           "bottas",
           2023
          ],
          [
           "bottas",
           2024
          ],
          [
           "button",
           2017
          ],
          [
           "colapinto",
           2024
          ],
          [
           "de_vries",
           2022
          ],
          [
           "de_vries",
           2023
          ],
          [
           "ericsson",
           2017
          ],
          [
           "ericsson",
           2018
          ],
          [
           "gasly",
           2019
          ],
          [
           "gasly",
           2020
          ],
          [
           "gasly",
           2021
          ],
          [
           "gasly",
           2022
          ],
          [
           "gasly",
           2023
          ],
          [
           "gasly",
           2024
          ],
          [
           "giovinazzi",
           2017
          ],
          [
           "giovinazzi",
           2019
          ],
          [
           "giovinazzi",
           2020
          ],
          [
           "giovinazzi",
           2021
          ],
          [
           "grosjean",
           2017
          ],
          [
           "grosjean",
           2018
          ],
          [
           "grosjean",
           2019
          ],
          [
           "grosjean",
           2020
          ],
          [
           "hamilton",
           2017
          ],
          [
           "hamilton",
           2018
          ],
          [
           "hamilton",
           2019
          ],
          [
           "hamilton",
           2020
          ],
          [
           "hamilton",
           2021
          ],
          [
           "hamilton",
           2022
          ],
          [
           "hamilton",
           2023
          ],
          [
           "hamilton",
           2024
          ],
          [
           "hulkenberg",
           2017
          ],
          [
           "hulkenberg",
           2018
          ],
          [
           "hulkenberg",
           2019
          ],
          [
           "hulkenberg",
           2022
          ],
          [
           "hulkenberg",
           2023
          ],
          [
           "hulkenberg",
           2024
          ],
          [
           "jolyon_palmer",
           2017
          ],
          [
           "kevin_magnussen",
           2017
          ],
          [
           "kevin_magnussen",
           2018
          ],
          [
           "kevin_magnussen",
           2019
          ],
          [
           "kevin_magnussen",
           2020
          ],
          [
           "kevin_magnussen",
           2022
          ],
          [
           "kevin_magnussen",
           2023
          ],
          [
           "kevin_magnussen",
           2024
          ],
          [
           "kubica",
           2019
          ],
          [
           "kubica",
           2021
          ],
          [
           "kvyat",
           2020
          ],
          [
           "latifi",
           2020
          ],
          [
           "latifi",
           2021
          ],
          [
           "latifi",
           2022
          ],
          [
           "lawson",
           2023
          ],
          [
           "leclerc",
           2018
          ],
          [
           "leclerc",
           2019
          ],
          [
           "leclerc",
           2020
          ],
          [
           "leclerc",
           2021
          ],
          [
           "leclerc",
           2022
          ],
          [
           "leclerc",
           2023
          ],
          [
           "leclerc",
           2024
          ],
          [
           "massa",
           2017
          ],
          [
           "max_verstappen",
           2017
          ],
          [
           "max_verstappen",
           2018
          ],
          [
           "max_verstappen",
           2019
          ],
          [
           "max_verstappen",
           2020
          ],
          [
           "max_verstappen",
           2021
          ],
          [
           "max_verstappen",
           2022
          ],
          [
           "max_verstappen",
           2023
          ],
          [
           "max_verstappen",
           2024
          ],
          [
           "mazepin",
           2021
          ],
          [
           "mick_schumacher",
           2021
          ],
          [
           "mick_schumacher",
           2022
          ],
          [
           "norris",
           2019
          ],
          [
           "norris",
           2020
          ],
          [
           "norris",
           2021
          ],
          [
           "norris",
           2022
          ],
          [
           "norris",
           2023
          ],
          [
           "norris",
           2024
          ],
          [
           "ocon",
           2020
          ],
          [
           "ocon",
           2021
          ],
          [
           "ocon",
           2022
          ],
          [
           "ocon",
           2023
          ],
          [
           "ocon",
           2024
          ],
          [
           "perez",
           2021
          ],
          [
           "perez",
           2022
          ],
          [
           "perez",
           2023
          ],
          [
           "perez",
           2024
          ],
          [
           "piastri",
           2023
          ],
          [
           "piastri",
           2024
          ],
          [
           "pietro_fittipaldi",
           2020
          ],
          [
           "raikkonen",
           2017
          ],
          [
           "raikkonen",
           2018
          ],
          [
           "raikkonen",
           2019
          ],
          [
           "raikkonen",
           2020
          ],
          [
           "raikkonen",
           2021
          ],
          [
           "resta",
           2017
          ],
          [
           "ricciardo",
           2017
          ],
          [
           "ricciardo",
           2018
          ],
          [
           "ricciardo",
           2019
          ],
          [
           "ricciardo",
           2020
          ],
          [
           "ricciardo",
           2021
          ],
          [
           "ricciardo",
           2022
          ],
          [
           "ricciardo",
           2023
          ],
          [
           "ricciardo",
           2024
          ],
          [
           "russell",
           2019
          ],
          [
           "russell",
           2020
          ],
          [
           "russell",
           2021
          ],
          [
           "russell",
           2022
          ],
          [
           "russell",
           2023
          ],
          [
           "russell",
           2024
          ],
          [
           "sainz",
           2017
          ],
          [
           "sainz",
           2018
          ],
          [
           "sainz",
           2019
          ],
          [
           "sainz",
           2020
          ],
          [
           "sainz",
           2021
          ],
          [
           "sainz",
           2022
          ],
          [
           "sainz",
           2023
          ],
          [
           "sainz",
           2024
          ],
          [
           "sargeant",
           2023
          ],
          [
           "sargeant",
           2024
          ],
          [
           "sirotkin",
           2018
          ],
          [
           "stroll",
           2017
          ],
          [
           "stroll",
           2018
          ],
          [
           "stroll",
           2021
          ],
          [
           "stroll",
           2022
          ],
          [
           "stroll",
           2023
          ],
          [
           "stroll",
           2024
          ],
          [
           "tsunoda",
           2021
          ],
          [
           "tsunoda",
           2022
          ],
          [
           "tsunoda",
           2023
          ],
          [
           "tsunoda",
           2024
          ],
          [
           "vandoorne",
           2017
          ],
          [
           "vandoorne",
           2018
          ],
          [
           "vettel",
           2017
          ],
          [
           "vettel",
           2018
          ],
          [
           "vettel",
           2019
          ],
          [
           "vettel",
           2020
          ],
          [
           "vettel",
           2021
          ],
          [
           "vettel",
           2022
          ],
          [
           "wehrlein",
           2017
          ],
          [
           "zhou",
           2022
          ],
          [
           "zhou",
           2023
          ],
          [
           "zhou",
           2024
          ]
         ],
         "hovertemplate": "<b>Driver ID:</b> %{customdata[0]}<br><b>Season:</b> %{customdata[1]}<br><b>Age at Start:</b> %{x:.1f}<br><b>Avg Position:</b> %{y:.1f}<br>",
         "legendgroup": "",
         "marker": {
          "color": "#636efa",
          "symbol": "circle"
         },
         "mode": "markers",
         "name": "",
         "orientation": "v",
         "showlegend": false,
         "type": "scatter",
         "x": [
          25.221917808219178,
          23.457534246575342,
          24.301369863013697,
          26.008219178082193,
          26.96712328767123,
          27.96164383561644,
          35.68219178082192,
          36.679452054794524,
          39.69041095890411,
          40.66849315068493,
          41.62739726027397,
          42.62191780821918,
          18.84931506849315,
          27.594520547945205,
          28.59178082191781,
          29.56986301369863,
          30.873972602739727,
          31.602739726027398,
          32.58082191780822,
          33.53972602739726,
          34.534246575342465,
          37.38082191780822,
          21.28219178082192,
          27.613698630136987,
          28.09315068493151,
          26.58082191780822,
          27.578082191780823,
          23.12054794520548,
          24.424657534246574,
          25.153424657534245,
          26.13150684931507,
          27.09041095890411,
          28.084931506849315,
          23.295890410958904,
          25.27123287671233,
          26.575342465753426,
          27.304109589041097,
          30.96164383561644,
          31.958904109589042,
          32.93698630136986,
          34.24109589041096,
          32.23561643835617,
          33.23287671232877,
          34.21095890410959,
          35.515068493150686,
          36.24383561643835,
          37.221917808219175,
          38.18082191780822,
          39.175342465753424,
          29.621917808219177,
          30.61917808219178,
          31.5972602739726,
          34.608219178082194,
          35.56712328767123,
          36.56164383561644,
          26.197260273972603,
          24.487671232876714,
          25.484931506849314,
          26.46301369863014,
          27.767123287671232,
          29.473972602739725,
          30.432876712328767,
          31.427397260273974,
          34.295890410958904,
          36.76986301369863,
          26.21095890410959,
          25.035616438356165,
          25.764383561643836,
          26.742465753424657,
          21.553424657534247,
          20.45205479452055,
          21.43013698630137,
          22.734246575342464,
          23.46301369863014,
          24.44109589041096,
          25.4,
          26.394520547945206,
          35.942465753424656,
          19.4986301369863,
          20.495890410958904,
          21.473972602739725,
          22.778082191780822,
          23.506849315068493,
          24.484931506849314,
          25.443835616438356,
          26.438356164383563,
          22.087671232876712,
          22.03287671232877,
          23.01095890410959,
          19.353424657534248,
          20.65753424657534,
          21.386301369863013,
          22.364383561643837,
          23.323287671232876,
          24.317808219178083,
          23.813698630136987,
          24.542465753424658,
          25.52054794520548,
          26.47945205479452,
          27.473972602739725,
          31.18904109589041,
          32.16712328767123,
          33.12602739726027,
          34.12054794520548,
          21.926027397260274,
          22.92054794520548,
          24.465753424657535,
          37.465753424657535,
          38.463013698630135,
          39.441095890410956,
          40.74520547945205,
          41.47397260273973,
          31.30958904109589,
          27.753424657534246,
          28.75068493150685,
          29.72876712328767,
          31.03287671232877,
          31.76164383561644,
          32.73972602739726,
          34.082191780821915,
          34.69315068493151,
          21.095890410958905,
          22.4,
          23.12876712328767,
          24.106849315068494,
          25.065753424657533,
          26.06027397260274,
          23.156164383561645,
          23.578082191780823,
          24.556164383561644,
          25.86027397260274,
          26.589041095890412,
          27.567123287671233,
          28.526027397260275,
          29.52054794520548,
          22.18904109589041,
          23.183561643835617,
          22.59178082191781,
          18.41917808219178,
          19.416438356164385,
          22.427397260273974,
          23.405479452054795,
          24.364383561643837,
          25.35890410958904,
          20.893150684931506,
          21.87123287671233,
          22.83013698630137,
          23.824657534246576,
          25.016438356164382,
          26.013698630136986,
          29.75068493150685,
          30.747945205479454,
          31.726027397260275,
          33.03013698630137,
          33.75890410958904,
          34.794520547945204,
          22.50958904109589,
          22.82191780821918,
          23.78082191780822,
          24.775342465753425
         ],
         "xaxis": "x",
         "y": [
          16,
          6.222222222222222,
          8.294117647058824,
          13.904761904761905,
          12.409090909090908,
          13.944444444444445,
          13.789473684210526,
          12.666666666666666,
          9.909090909090908,
          10.863636363636363,
          6.636363636363637,
          9.555555555555555,
          8.5,
          3.65,
          5.095238095238095,
          4.095238095238095,
          5.176470588235294,
          7.409090909090909,
          12.090909090909092,
          13.954545454545455,
          16.055555555555557,
          18,
          10.333333333333334,
          9,
          15.9,
          15.35,
          13.19047619047619,
          8.5,
          10.352941176470589,
          9.363636363636363,
          12.454545454545455,
          10.681818181818182,
          14,
          15.5,
          13.857142857142858,
          14.647058823529411,
          13.090909090909092,
          12.25,
          12.571428571428571,
          15.047619047619047,
          15.333333333333334,
          2.7,
          2.619047619047619,
          2.380952380952381,
          1.875,
          3.409090909090909,
          6.045454545454546,
          6.181818181818182,
          6.388888888888889,
          12.4,
          11.857142857142858,
          11.80952380952381,
          14.5,
          14.545454545454545,
          11.666666666666666,
          14.3125,
          12.85,
          11.380952380952381,
          13.761904761904763,
          15.941176470588236,
          14.136363636363637,
          15.590909090909092,
          14.058823529411764,
          17,
          14.5,
          11.058823529411764,
          15.764705882352942,
          15.545454545454545,
          16.227272727272727,
          12.2,
          12.380952380952381,
          5.571428571428571,
          9.882352941176471,
          7.7272727272727275,
          5.5,
          8.227272727272727,
          5.055555555555555,
          10.210526315789474,
          9.3,
          6.095238095238095,
          5,
          7.117647058823529,
          4.136363636363637,
          3.5,
          1.2727272727272727,
          3.611111111111111,
          17.863636363636363,
          16.90909090909091,
          14.409090909090908,
          11.333333333333334,
          8.294117647058824,
          7,
          8.772727272727273,
          8,
          4.111111111111111,
          10.411764705882353,
          10.590909090909092,
          8.863636363636363,
          11.863636363636363,
          13.61111111111111,
          7.545454545454546,
          5.409090909090909,
          5.863636363636363,
          8.277777777777779,
          10.909090909090908,
          4.555555555555555,
          18,
          6.8,
          6,
          11.619047619047619,
          13.058823529411764,
          13.2,
          18,
          8,
          9.19047619047619,
          12.142857142857142,
          7.470588235294118,
          8.590909090909092,
          12.5,
          12.714285714285714,
          13.38888888888889,
          15.80952380952381,
          15.294117647058824,
          13.909090909090908,
          5,
          8.090909090909092,
          7.611111111111111,
          13.25,
          10.285714285714286,
          10.047619047619047,
          8.941176470588236,
          6.5,
          7.863636363636363,
          7.5,
          5.9411764705882355,
          15.818181818181818,
          17.142857142857142,
          15.523809523809524,
          12.4,
          14.285714285714286,
          11.954545454545455,
          12.045454545454545,
          11.181818181818182,
          12.722222222222221,
          13.181818181818182,
          14.590909090909092,
          13.181818181818182,
          13.38888888888889,
          13.7,
          12.857142857142858,
          4.15,
          3.857142857142857,
          6.428571428571429,
          11.529411764705882,
          12.045454545454545,
          11.45,
          14.777777777777779,
          14.318181818181818,
          14.045454545454545,
          16.055555555555557
         ],
         "yaxis": "y"
        }
       ],
       "layout": {
        "legend": {
         "tracegroupgap": 0
        },
        "margin": {
         "b": 50,
         "l": 50,
         "r": 50,
         "t": 80
        },
        "paper_bgcolor": "lightgray",
        "showlegend": false,
        "template": {
         "data": {
          "bar": [
           {
            "error_x": {
             "color": "#2a3f5f"
            },
            "error_y": {
             "color": "#2a3f5f"
            },
            "marker": {
             "line": {
              "color": "#E5ECF6",
              "width": 0.5
             },
             "pattern": {
              "fillmode": "overlay",
              "size": 10,
              "solidity": 0.2
             }
            },
            "type": "bar"
           }
          ],
          "barpolar": [
           {
            "marker": {
             "line": {
              "color": "#E5ECF6",
              "width": 0.5
             },
             "pattern": {
              "fillmode": "overlay",
              "size": 10,
              "solidity": 0.2
             }
            },
            "type": "barpolar"
           }
          ],
          "carpet": [
           {
            "aaxis": {
             "endlinecolor": "#2a3f5f",
             "gridcolor": "white",
             "linecolor": "white",
             "minorgridcolor": "white",
             "startlinecolor": "#2a3f5f"
            },
            "baxis": {
             "endlinecolor": "#2a3f5f",
             "gridcolor": "white",
             "linecolor": "white",
             "minorgridcolor": "white",
             "startlinecolor": "#2a3f5f"
            },
            "type": "carpet"
           }
          ],
          "choropleth": [
           {
            "colorbar": {
             "outlinewidth": 0,
             "ticks": ""
            },
            "type": "choropleth"
           }
          ],
          "contour": [
           {
            "colorbar": {
             "outlinewidth": 0,
             "ticks": ""
            },
            "colorscale": [
             [
              0,
              "#0d0887"
             ],
             [
              0.1111111111111111,
              "#46039f"
             ],
             [
              0.2222222222222222,
              "#7201a8"
             ],
             [
              0.3333333333333333,
              "#9c179e"
             ],
             [
              0.4444444444444444,
              "#bd3786"
             ],
             [
              0.5555555555555556,
              "#d8576b"
             ],
             [
              0.6666666666666666,
              "#ed7953"
             ],
             [
              0.7777777777777778,
              "#fb9f3a"
             ],
             [
              0.8888888888888888,
              "#fdca26"
             ],
             [
              1,
              "#f0f921"
             ]
            ],
            "type": "contour"
           }
          ],
          "contourcarpet": [
           {
            "colorbar": {
             "outlinewidth": 0,
             "ticks": ""
            },
            "type": "contourcarpet"
           }
          ],
          "heatmap": [
           {
            "colorbar": {
             "outlinewidth": 0,
             "ticks": ""
            },
            "colorscale": [
             [
              0,
              "#0d0887"
             ],
             [
              0.1111111111111111,
              "#46039f"
             ],
             [
              0.2222222222222222,
              "#7201a8"
             ],
             [
              0.3333333333333333,
              "#9c179e"
             ],
             [
              0.4444444444444444,
              "#bd3786"
             ],
             [
              0.5555555555555556,
              "#d8576b"
             ],
             [
              0.6666666666666666,
              "#ed7953"
             ],
             [
              0.7777777777777778,
              "#fb9f3a"
             ],
             [
              0.8888888888888888,
              "#fdca26"
             ],
             [
              1,
              "#f0f921"
             ]
            ],
            "type": "heatmap"
           }
          ],
          "heatmapgl": [
           {
            "colorbar": {
             "outlinewidth": 0,
             "ticks": ""
            },
            "colorscale": [
             [
              0,
              "#0d0887"
             ],
             [
              0.1111111111111111,
              "#46039f"
             ],
             [
              0.2222222222222222,
              "#7201a8"
             ],
             [
              0.3333333333333333,
              "#9c179e"
             ],
             [
              0.4444444444444444,
              "#bd3786"
             ],
             [
              0.5555555555555556,
              "#d8576b"
             ],
             [
              0.6666666666666666,
              "#ed7953"
             ],
             [
              0.7777777777777778,
              "#fb9f3a"
             ],
             [
              0.8888888888888888,
              "#fdca26"
             ],
             [
              1,
              "#f0f921"
             ]
            ],
            "type": "heatmapgl"
           }
          ],
          "histogram": [
           {
            "marker": {
             "pattern": {
              "fillmode": "overlay",
              "size": 10,
              "solidity": 0.2
             }
            },
            "type": "histogram"
           }
          ],
          "histogram2d": [
           {
            "colorbar": {
             "outlinewidth": 0,
             "ticks": ""
            },
            "colorscale": [
             [
              0,
              "#0d0887"
             ],
             [
              0.1111111111111111,
              "#46039f"
             ],
             [
              0.2222222222222222,
              "#7201a8"
             ],
             [
              0.3333333333333333,
              "#9c179e"
             ],
             [
              0.4444444444444444,
              "#bd3786"
             ],
             [
              0.5555555555555556,
              "#d8576b"
             ],
             [
              0.6666666666666666,
              "#ed7953"
             ],
             [
              0.7777777777777778,
              "#fb9f3a"
             ],
             [
              0.8888888888888888,
              "#fdca26"
             ],
             [
              1,
              "#f0f921"
             ]
            ],
            "type": "histogram2d"
           }
          ],
          "histogram2dcontour": [
           {
            "colorbar": {
             "outlinewidth": 0,
             "ticks": ""
            },
            "colorscale": [
             [
              0,
              "#0d0887"
             ],
             [
              0.1111111111111111,
              "#46039f"
             ],
             [
              0.2222222222222222,
              "#7201a8"
             ],
             [
              0.3333333333333333,
              "#9c179e"
             ],
             [
              0.4444444444444444,
              "#bd3786"
             ],
             [
              0.5555555555555556,
              "#d8576b"
             ],
             [
              0.6666666666666666,
              "#ed7953"
             ],
             [
              0.7777777777777778,
              "#fb9f3a"
             ],
             [
              0.8888888888888888,
              "#fdca26"
             ],
             [
              1,
              "#f0f921"
             ]
            ],
            "type": "histogram2dcontour"
           }
          ],
          "mesh3d": [
           {
            "colorbar": {
             "outlinewidth": 0,
             "ticks": ""
            },
            "type": "mesh3d"
           }
          ],
          "parcoords": [
           {
            "line": {
             "colorbar": {
              "outlinewidth": 0,
              "ticks": ""
             }
            },
            "type": "parcoords"
           }
          ],
          "pie": [
           {
            "automargin": true,
            "type": "pie"
           }
          ],
          "scatter": [
           {
            "fillpattern": {
             "fillmode": "overlay",
             "size": 10,
             "solidity": 0.2
            },
            "type": "scatter"
           }
          ],
          "scatter3d": [
           {
            "line": {
             "colorbar": {
              "outlinewidth": 0,
              "ticks": ""
             }
            },
            "marker": {
             "colorbar": {
              "outlinewidth": 0,
              "ticks": ""
             }
            },
            "type": "scatter3d"
           }
          ],
          "scattercarpet": [
           {
            "marker": {
             "colorbar": {
              "outlinewidth": 0,
              "ticks": ""
             }
            },
            "type": "scattercarpet"
           }
          ],
          "scattergeo": [
           {
            "marker": {
             "colorbar": {
              "outlinewidth": 0,
              "ticks": ""
             }
            },
            "type": "scattergeo"
           }
          ],
          "scattergl": [
           {
            "marker": {
             "colorbar": {
              "outlinewidth": 0,
              "ticks": ""
             }
            },
            "type": "scattergl"
           }
          ],
          "scattermapbox": [
           {
            "marker": {
             "colorbar": {
              "outlinewidth": 0,
              "ticks": ""
             }
            },
            "type": "scattermapbox"
           }
          ],
          "scatterpolar": [
           {
            "marker": {
             "colorbar": {
              "outlinewidth": 0,
              "ticks": ""
             }
            },
            "type": "scatterpolar"
           }
          ],
          "scatterpolargl": [
           {
            "marker": {
             "colorbar": {
              "outlinewidth": 0,
              "ticks": ""
             }
            },
            "type": "scatterpolargl"
           }
          ],
          "scatterternary": [
           {
            "marker": {
             "colorbar": {
              "outlinewidth": 0,
              "ticks": ""
             }
            },
            "type": "scatterternary"
           }
          ],
          "surface": [
           {
            "colorbar": {
             "outlinewidth": 0,
             "ticks": ""
            },
            "colorscale": [
             [
              0,
              "#0d0887"
             ],
             [
              0.1111111111111111,
              "#46039f"
             ],
             [
              0.2222222222222222,
              "#7201a8"
             ],
             [
              0.3333333333333333,
              "#9c179e"
             ],
             [
              0.4444444444444444,
              "#bd3786"
             ],
             [
              0.5555555555555556,
              "#d8576b"
             ],
             [
              0.6666666666666666,
              "#ed7953"
             ],
             [
              0.7777777777777778,
              "#fb9f3a"
             ],
             [
              0.8888888888888888,
              "#fdca26"
             ],
             [
              1,
              "#f0f921"
             ]
            ],
            "type": "surface"
           }
          ],
          "table": [
           {
            "cells": {
             "fill": {
              "color": "#EBF0F8"
             },
             "line": {
              "color": "white"
             }
            },
            "header": {
             "fill": {
              "color": "#C8D4E3"
             },
             "line": {
              "color": "white"
             }
            },
            "type": "table"
           }
          ]
         },
         "layout": {
          "annotationdefaults": {
           "arrowcolor": "#2a3f5f",
           "arrowhead": 0,
           "arrowwidth": 1
          },
          "autotypenumbers": "strict",
          "coloraxis": {
           "colorbar": {
            "outlinewidth": 0,
            "ticks": ""
           }
          },
          "colorscale": {
           "diverging": [
            [
             0,
             "#8e0152"
            ],
            [
             0.1,
             "#c51b7d"
            ],
            [
             0.2,
             "#de77ae"
            ],
            [
             0.3,
             "#f1b6da"
            ],
            [
             0.4,
             "#fde0ef"
            ],
            [
             0.5,
             "#f7f7f7"
            ],
            [
             0.6,
             "#e6f5d0"
            ],
            [
             0.7,
             "#b8e186"
            ],
            [
             0.8,
             "#7fbc41"
            ],
            [
             0.9,
             "#4d9221"
            ],
            [
             1,
             "#276419"
            ]
           ],
           "sequential": [
            [
             0,
             "#0d0887"
            ],
            [
             0.1111111111111111,
             "#46039f"
            ],
            [
             0.2222222222222222,
             "#7201a8"
            ],
            [
             0.3333333333333333,
             "#9c179e"
            ],
            [
             0.4444444444444444,
             "#bd3786"
            ],
            [
             0.5555555555555556,
             "#d8576b"
            ],
            [
             0.6666666666666666,
             "#ed7953"
            ],
            [
             0.7777777777777778,
             "#fb9f3a"
            ],
            [
             0.8888888888888888,
             "#fdca26"
            ],
            [
             1,
             "#f0f921"
            ]
           ],
           "sequentialminus": [
            [
             0,
             "#0d0887"
            ],
            [
             0.1111111111111111,
             "#46039f"
            ],
            [
             0.2222222222222222,
             "#7201a8"
            ],
            [
             0.3333333333333333,
             "#9c179e"
            ],
            [
             0.4444444444444444,
             "#bd3786"
            ],
            [
             0.5555555555555556,
             "#d8576b"
            ],
            [
             0.6666666666666666,
             "#ed7953"
            ],
            [
             0.7777777777777778,
             "#fb9f3a"
            ],
            [
             0.8888888888888888,
             "#fdca26"
            ],
            [
             1,
             "#f0f921"
            ]
           ]
          },
          "colorway": [
           "#636efa",
           "#EF553B",
           "#00cc96",
           "#ab63fa",
           "#FFA15A",
           "#19d3f3",
           "#FF6692",
           "#B6E880",
           "#FF97FF",
           "#FECB52"
          ],
          "font": {
           "color": "#2a3f5f"
          },
          "geo": {
           "bgcolor": "white",
           "lakecolor": "white",
           "landcolor": "#E5ECF6",
           "showlakes": true,
           "showland": true,
           "subunitcolor": "white"
          },
          "hoverlabel": {
           "align": "left"
          },
          "hovermode": "closest",
          "mapbox": {
           "style": "light"
          },
          "paper_bgcolor": "white",
          "plot_bgcolor": "#E5ECF6",
          "polar": {
           "angularaxis": {
            "gridcolor": "white",
            "linecolor": "white",
            "ticks": ""
           },
           "bgcolor": "#E5ECF6",
           "radialaxis": {
            "gridcolor": "white",
            "linecolor": "white",
            "ticks": ""
           }
          },
          "scene": {
           "xaxis": {
            "backgroundcolor": "#E5ECF6",
            "gridcolor": "white",
            "gridwidth": 2,
            "linecolor": "white",
            "showbackground": true,
            "ticks": "",
            "zerolinecolor": "white"
           },
           "yaxis": {
            "backgroundcolor": "#E5ECF6",
            "gridcolor": "white",
            "gridwidth": 2,
            "linecolor": "white",
            "showbackground": true,
            "ticks": "",
            "zerolinecolor": "white"
           },
           "zaxis": {
            "backgroundcolor": "#E5ECF6",
            "gridcolor": "white",
            "gridwidth": 2,
            "linecolor": "white",
            "showbackground": true,
            "ticks": "",
            "zerolinecolor": "white"
           }
          },
          "shapedefaults": {
           "line": {
            "color": "#2a3f5f"
           }
          },
          "ternary": {
           "aaxis": {
            "gridcolor": "white",
            "linecolor": "white",
            "ticks": ""
           },
           "baxis": {
            "gridcolor": "white",
            "linecolor": "white",
            "ticks": ""
           },
           "bgcolor": "#E5ECF6",
           "caxis": {
            "gridcolor": "white",
            "linecolor": "white",
            "ticks": ""
           }
          },
          "title": {
           "x": 0.05
          },
          "xaxis": {
           "automargin": true,
           "gridcolor": "white",
           "linecolor": "white",
           "ticks": "",
           "title": {
            "standoff": 15
           },
           "zerolinecolor": "white",
           "zerolinewidth": 2
          },
          "yaxis": {
           "automargin": true,
           "gridcolor": "white",
           "linecolor": "white",
           "ticks": "",
           "title": {
            "standoff": 15
           },
           "zerolinecolor": "white",
           "zerolinewidth": 2
          }
         }
        },
        "xaxis": {
         "anchor": "y",
         "domain": [
          0,
          1
         ],
         "title": {
          "text": "Age at Start of Season"
         }
        },
        "yaxis": {
         "anchor": "x",
         "autorange": "reversed",
         "domain": [
          0,
          1
         ],
         "tickvals": [
          1,
          5,
          10,
          15,
          20
         ],
         "title": {
          "text": "Average Position"
         }
        }
       }
      }
     },
     "metadata": {},
     "output_type": "display_data"
    },
    {
     "name": "stderr",
     "output_type": "stream",
     "text": [
      "/var/folders/w0/zjn_yl050qn4kdvrggtg30sh0000gn/T/ipykernel_30221/2980562515.py:22: UserWarning:\n",
      "\n",
      "Could not infer format, so each element will be parsed individually, falling back to `dateutil`. To ensure parsing is consistent and as-expected, please specify a format.\n",
      "\n"
     ]
    },
    {
     "data": {
      "application/vnd.plotly.v1+json": {
       "config": {
        "plotlyServerURL": "https://plot.ly"
       },
       "data": [
        {
         "customdata": [
          [
           "aitken",
           2020
          ],
          [
           "albon",
           2019
          ],
          [
           "albon",
           2020
          ],
          [
           "albon",
           2022
          ],
          [
           "albon",
           2023
          ],
          [
           "albon",
           2024
          ],
          [
           "alonso",
           2017
          ],
          [
           "alonso",
           2018
          ],
          [
           "alonso",
           2021
          ],
          [
           "alonso",
           2022
          ],
          [
           "alonso",
           2023
          ],
          [
           "alonso",
           2024
          ],
          [
           "bearman",
           2024
          ],
          [
           "bottas",
           2017
          ],
          [
           "bottas",
           2018
          ],
          [
           "bottas",
           2019
          ],
          [
           "bottas",
           2020
          ],
          [
           "bottas",
           2021
          ],
          [
           "bottas",
           2022
          ],
          [
           "bottas",
           2023
          ],
          [
           "bottas",
           2024
          ],
          [
           "button",
           2017
          ],
          [
           "colapinto",
           2024
          ],
          [
           "de_vries",
           2022
          ],
          [
           "de_vries",
           2023
          ],
          [
           "ericsson",
           2017
          ],
          [
           "ericsson",
           2018
          ],
          [
           "gasly",
           2019
          ],
          [
           "gasly",
           2020
          ],
          [
           "gasly",
           2021
          ],
          [
           "gasly",
           2022
          ],
          [
           "gasly",
           2023
          ],
          [
           "gasly",
           2024
          ],
          [
           "giovinazzi",
           2017
          ],
          [
           "giovinazzi",
           2019
          ],
          [
           "giovinazzi",
           2020
          ],
          [
           "giovinazzi",
           2021
          ],
          [
           "grosjean",
           2017
          ],
          [
           "grosjean",
           2018
          ],
          [
           "grosjean",
           2019
          ],
          [
           "grosjean",
           2020
          ],
          [
           "hamilton",
           2017
          ],
          [
           "hamilton",
           2018
          ],
          [
           "hamilton",
           2019
          ],
          [
           "hamilton",
           2020
          ],
          [
           "hamilton",
           2021
          ],
          [
           "hamilton",
           2022
          ],
          [
           "hamilton",
           2023
          ],
          [
           "hamilton",
           2024
          ],
          [
           "hulkenberg",
           2017
          ],
          [
           "hulkenberg",
           2018
          ],
          [
           "hulkenberg",
           2019
          ],
          [
           "hulkenberg",
           2022
          ],
          [
           "hulkenberg",
           2023
          ],
          [
           "hulkenberg",
           2024
          ],
          [
           "jolyon_palmer",
           2017
          ],
          [
           "kevin_magnussen",
           2017
          ],
          [
           "kevin_magnussen",
           2018
          ],
          [
           "kevin_magnussen",
           2019
          ],
          [
           "kevin_magnussen",
           2020
          ],
          [
           "kevin_magnussen",
           2022
          ],
          [
           "kevin_magnussen",
           2023
          ],
          [
           "kevin_magnussen",
           2024
          ],
          [
           "kubica",
           2019
          ],
          [
           "kubica",
           2021
          ],
          [
           "kvyat",
           2020
          ],
          [
           "latifi",
           2020
          ],
          [
           "latifi",
           2021
          ],
          [
           "latifi",
           2022
          ],
          [
           "lawson",
           2023
          ],
          [
           "leclerc",
           2018
          ],
          [
           "leclerc",
           2019
          ],
          [
           "leclerc",
           2020
          ],
          [
           "leclerc",
           2021
          ],
          [
           "leclerc",
           2022
          ],
          [
           "leclerc",
           2023
          ],
          [
           "leclerc",
           2024
          ],
          [
           "massa",
           2017
          ],
          [
           "max_verstappen",
           2017
          ],
          [
           "max_verstappen",
           2018
          ],
          [
           "max_verstappen",
           2019
          ],
          [
           "max_verstappen",
           2020
          ],
          [
           "max_verstappen",
           2021
          ],
          [
           "max_verstappen",
           2022
          ],
          [
           "max_verstappen",
           2023
          ],
          [
           "max_verstappen",
           2024
          ],
          [
           "mazepin",
           2021
          ],
          [
           "mick_schumacher",
           2021
          ],
          [
           "mick_schumacher",
           2022
          ],
          [
           "norris",
           2019
          ],
          [
           "norris",
           2020
          ],
          [
           "norris",
           2021
          ],
          [
           "norris",
           2022
          ],
          [
           "norris",
           2023
          ],
          [
           "norris",
           2024
          ],
          [
           "ocon",
           2020
          ],
          [
           "ocon",
           2021
          ],
          [
           "ocon",
           2022
          ],
          [
           "ocon",
           2023
          ],
          [
           "ocon",
           2024
          ],
          [
           "perez",
           2021
          ],
          [
           "perez",
           2022
          ],
          [
           "perez",
           2023
          ],
          [
           "perez",
           2024
          ],
          [
           "piastri",
           2023
          ],
          [
           "piastri",
           2024
          ],
          [
           "pietro_fittipaldi",
           2020
          ],
          [
           "raikkonen",
           2017
          ],
          [
           "raikkonen",
           2018
          ],
          [
           "raikkonen",
           2019
          ],
          [
           "raikkonen",
           2020
          ],
          [
           "raikkonen",
           2021
          ],
          [
           "resta",
           2017
          ],
          [
           "ricciardo",
           2017
          ],
          [
           "ricciardo",
           2018
          ],
          [
           "ricciardo",
           2019
          ],
          [
           "ricciardo",
           2020
          ],
          [
           "ricciardo",
           2021
          ],
          [
           "ricciardo",
           2022
          ],
          [
           "ricciardo",
           2023
          ],
          [
           "ricciardo",
           2024
          ],
          [
           "russell",
           2019
          ],
          [
           "russell",
           2020
          ],
          [
           "russell",
           2021
          ],
          [
           "russell",
           2022
          ],
          [
           "russell",
           2023
          ],
          [
           "russell",
           2024
          ],
          [
           "sainz",
           2017
          ],
          [
           "sainz",
           2018
          ],
          [
           "sainz",
           2019
          ],
          [
           "sainz",
           2020
          ],
          [
           "sainz",
           2021
          ],
          [
           "sainz",
           2022
          ],
          [
           "sainz",
           2023
          ],
          [
           "sainz",
           2024
          ],
          [
           "sargeant",
           2023
          ],
          [
           "sargeant",
           2024
          ],
          [
           "sirotkin",
           2018
          ],
          [
           "stroll",
           2017
          ],
          [
           "stroll",
           2018
          ],
          [
           "stroll",
           2021
          ],
          [
           "stroll",
           2022
          ],
          [
           "stroll",
           2023
          ],
          [
           "stroll",
           2024
          ],
          [
           "tsunoda",
           2021
          ],
          [
           "tsunoda",
           2022
          ],
          [
           "tsunoda",
           2023
          ],
          [
           "tsunoda",
           2024
          ],
          [
           "vandoorne",
           2017
          ],
          [
           "vandoorne",
           2018
          ],
          [
           "vettel",
           2017
          ],
          [
           "vettel",
           2018
          ],
          [
           "vettel",
           2019
          ],
          [
           "vettel",
           2020
          ],
          [
           "vettel",
           2021
          ],
          [
           "vettel",
           2022
          ],
          [
           "wehrlein",
           2017
          ],
          [
           "zhou",
           2022
          ],
          [
           "zhou",
           2023
          ],
          [
           "zhou",
           2024
          ]
         ],
         "hovertemplate": "<b>Driver ID:</b> %{customdata[0]}<br><b>Season:</b> %{customdata[1]}<br><b>Age at Start:</b> %{x:.1f}<br><b>Avg Max Speed:</b> %{y:.1f}<br>",
         "legendgroup": "",
         "marker": {
          "color": "#636efa",
          "symbol": "circle"
         },
         "mode": "markers",
         "name": "",
         "orientation": "v",
         "showlegend": false,
         "type": "scatter",
         "x": [
          25.221917808219178,
          23.457534246575342,
          24.301369863013697,
          26.008219178082193,
          26.96712328767123,
          27.96164383561644,
          35.68219178082192,
          36.679452054794524,
          39.69041095890411,
          40.66849315068493,
          41.62739726027397,
          42.62191780821918,
          18.84931506849315,
          27.594520547945205,
          28.59178082191781,
          29.56986301369863,
          30.873972602739727,
          31.602739726027398,
          32.58082191780822,
          33.53972602739726,
          34.534246575342465,
          37.38082191780822,
          21.28219178082192,
          27.613698630136987,
          28.09315068493151,
          26.58082191780822,
          27.578082191780823,
          23.12054794520548,
          24.424657534246574,
          25.153424657534245,
          26.13150684931507,
          27.09041095890411,
          28.084931506849315,
          23.295890410958904,
          25.27123287671233,
          26.575342465753426,
          27.304109589041097,
          30.96164383561644,
          31.958904109589042,
          32.93698630136986,
          34.24109589041096,
          32.23561643835617,
          33.23287671232877,
          34.21095890410959,
          35.515068493150686,
          36.24383561643835,
          37.221917808219175,
          38.18082191780822,
          39.175342465753424,
          29.621917808219177,
          30.61917808219178,
          31.5972602739726,
          34.608219178082194,
          35.56712328767123,
          36.56164383561644,
          26.197260273972603,
          24.487671232876714,
          25.484931506849314,
          26.46301369863014,
          27.767123287671232,
          29.473972602739725,
          30.432876712328767,
          31.427397260273974,
          34.295890410958904,
          36.76986301369863,
          26.21095890410959,
          25.035616438356165,
          25.764383561643836,
          26.742465753424657,
          21.553424657534247,
          20.45205479452055,
          21.43013698630137,
          22.734246575342464,
          23.46301369863014,
          24.44109589041096,
          25.4,
          26.394520547945206,
          35.942465753424656,
          19.4986301369863,
          20.495890410958904,
          21.473972602739725,
          22.778082191780822,
          23.506849315068493,
          24.484931506849314,
          25.443835616438356,
          26.438356164383563,
          22.087671232876712,
          22.03287671232877,
          23.01095890410959,
          19.353424657534248,
          20.65753424657534,
          21.386301369863013,
          22.364383561643837,
          23.323287671232876,
          24.317808219178083,
          23.813698630136987,
          24.542465753424658,
          25.52054794520548,
          26.47945205479452,
          27.473972602739725,
          31.18904109589041,
          32.16712328767123,
          33.12602739726027,
          34.12054794520548,
          21.926027397260274,
          22.92054794520548,
          24.465753424657535,
          37.465753424657535,
          38.463013698630135,
          39.441095890410956,
          40.74520547945205,
          41.47397260273973,
          31.30958904109589,
          27.753424657534246,
          28.75068493150685,
          29.72876712328767,
          31.03287671232877,
          31.76164383561644,
          32.73972602739726,
          34.082191780821915,
          34.69315068493151,
          21.095890410958905,
          22.4,
          23.12876712328767,
          24.106849315068494,
          25.065753424657533,
          26.06027397260274,
          23.156164383561645,
          23.578082191780823,
          24.556164383561644,
          25.86027397260274,
          26.589041095890412,
          27.567123287671233,
          28.526027397260275,
          29.52054794520548,
          22.18904109589041,
          23.183561643835617,
          22.59178082191781,
          18.41917808219178,
          19.416438356164385,
          22.427397260273974,
          23.405479452054795,
          24.364383561643837,
          25.35890410958904,
          20.893150684931506,
          21.87123287671233,
          22.83013698630137,
          23.824657534246576,
          25.016438356164382,
          26.013698630136986,
          29.75068493150685,
          30.747945205479454,
          31.726027397260275,
          33.03013698630137,
          33.75890410958904,
          34.794520547945204,
          22.50958904109589,
          22.82191780821918,
          23.78082191780822,
          24.775342465753425
         ],
         "xaxis": "x",
         "y": [
          222.24,
          212.4857777777778,
          219.3759411764706,
          201.86647368421052,
          210.3552857142857,
          214.513875,
          204.10752941176472,
          206.10070000000002,
          211.90385714285713,
          204.53618181818183,
          212.3120909090909,
          217.07376470588235,
          221.49099999999999,
          208.79364999999999,
          210.9354285714286,
          212.64204761904762,
          221.23611764705882,
          214.02609999999999,
          204.53647619047618,
          208.00577272727276,
          214.15011764705883,
          156.194,
          211.12566666666666,
          240.75,
          210.7516,
          202.85485,
          205.4345238095238,
          208.47091666666665,
          216.610875,
          211.27714999999998,
          205.17245454545454,
          212.61838095238096,
          212.2268666666667,
          214.378,
          207.35504761904764,
          210.2765294117647,
          210.2094761904762,
          204.42673684210527,
          205.31536842105265,
          205.81885000000003,
          218.45642857142857,
          209.44854999999998,
          211.20319047619046,
          212.48285714285717,
          222.07975,
          215.31619047619049,
          207.56600000000003,
          212.886,
          217.10405882352939,
          204.6124,
          206.44205555555556,
          206.4547619047619,
          217.8665,
          210.38227272727272,
          214.96935294117645,
          203.95435714285713,
          204.3972631578947,
          207.77505000000002,
          207.67204761904765,
          209.49699999999999,
          203.75671428571428,
          210.1725238095238,
          215.7350625,
          204.18857142857144,
          223.079,
          216.86217647058825,
          210.959,
          208.71585,
          203.0215,
          212.8266,
          206.44684210526316,
          210.3845238095238,
          213.3390625,
          216.2084210526316,
          209.52518181818184,
          211.73157894736843,
          215.85447058823527,
          206.08738888888888,
          209.01576470588236,
          210.85084999999998,
          209.60500000000002,
          219.34286666666668,
          214.30945000000003,
          209.67009090909093,
          214.76668181818184,
          218.1620588235294,
          208.28833333333333,
          209.65569999999997,
          204.07814285714284,
          206.4367142857143,
          219.05747058823528,
          213.70659999999998,
          207.0540909090909,
          210.3295909090909,
          218.75276470588236,
          211.61211764705882,
          209.1509,
          205.27313636363635,
          211.10095238095238,
          214.5245294117647,
          214.97075,
          208.703,
          214.20571428571427,
          217.09794117647058,
          210.2989523809524,
          217.79511764705882,
          208.74,
          211.0484705882353,
          209.28490476190478,
          207.83914285714286,
          217.44882352941178,
          210.12916666666666,
          189.466,
          207.86994736842107,
          210.3581,
          206.21733333333336,
          218.7050588235294,
          211.07990476190474,
          205.1924285714286,
          208.10714285714286,
          214.56312499999999,
          205.84152380952378,
          216.6751176470588,
          208.61519047619046,
          207.77461904761904,
          211.87572727272726,
          217.4685294117647,
          198.02525,
          207.28176190476194,
          206.81225,
          212.5890666666667,
          212.24190476190475,
          208.09977777777777,
          211.04695238095238,
          215.566,
          209.38777272727273,
          212.6466153846154,
          205.68885,
          205.5705789473684,
          206.56675,
          211.44520000000003,
          205.64422727272725,
          212.3442380952381,
          215.0494705882353,
          210.24742105263158,
          203.45971428571426,
          210.483,
          213.77811764705882,
          204.01544444444446,
          206.62390476190475,
          208.4107894736842,
          211.25957142857143,
          210.99676190476188,
          216.6995,
          211.09733333333332,
          203.7276,
          200.61241176470588,
          203.6290476190476,
          210.23218181818183,
          213.937
         ],
         "yaxis": "y"
        }
       ],
       "layout": {
        "legend": {
         "tracegroupgap": 0
        },
        "margin": {
         "b": 50,
         "l": 50,
         "r": 50,
         "t": 80
        },
        "paper_bgcolor": "lightgray",
        "showlegend": false,
        "template": {
         "data": {
          "bar": [
           {
            "error_x": {
             "color": "#2a3f5f"
            },
            "error_y": {
             "color": "#2a3f5f"
            },
            "marker": {
             "line": {
              "color": "#E5ECF6",
              "width": 0.5
             },
             "pattern": {
              "fillmode": "overlay",
              "size": 10,
              "solidity": 0.2
             }
            },
            "type": "bar"
           }
          ],
          "barpolar": [
           {
            "marker": {
             "line": {
              "color": "#E5ECF6",
              "width": 0.5
             },
             "pattern": {
              "fillmode": "overlay",
              "size": 10,
              "solidity": 0.2
             }
            },
            "type": "barpolar"
           }
          ],
          "carpet": [
           {
            "aaxis": {
             "endlinecolor": "#2a3f5f",
             "gridcolor": "white",
             "linecolor": "white",
             "minorgridcolor": "white",
             "startlinecolor": "#2a3f5f"
            },
            "baxis": {
             "endlinecolor": "#2a3f5f",
             "gridcolor": "white",
             "linecolor": "white",
             "minorgridcolor": "white",
             "startlinecolor": "#2a3f5f"
            },
            "type": "carpet"
           }
          ],
          "choropleth": [
           {
            "colorbar": {
             "outlinewidth": 0,
             "ticks": ""
            },
            "type": "choropleth"
           }
          ],
          "contour": [
           {
            "colorbar": {
             "outlinewidth": 0,
             "ticks": ""
            },
            "colorscale": [
             [
              0,
              "#0d0887"
             ],
             [
              0.1111111111111111,
              "#46039f"
             ],
             [
              0.2222222222222222,
              "#7201a8"
             ],
             [
              0.3333333333333333,
              "#9c179e"
             ],
             [
              0.4444444444444444,
              "#bd3786"
             ],
             [
              0.5555555555555556,
              "#d8576b"
             ],
             [
              0.6666666666666666,
              "#ed7953"
             ],
             [
              0.7777777777777778,
              "#fb9f3a"
             ],
             [
              0.8888888888888888,
              "#fdca26"
             ],
             [
              1,
              "#f0f921"
             ]
            ],
            "type": "contour"
           }
          ],
          "contourcarpet": [
           {
            "colorbar": {
             "outlinewidth": 0,
             "ticks": ""
            },
            "type": "contourcarpet"
           }
          ],
          "heatmap": [
           {
            "colorbar": {
             "outlinewidth": 0,
             "ticks": ""
            },
            "colorscale": [
             [
              0,
              "#0d0887"
             ],
             [
              0.1111111111111111,
              "#46039f"
             ],
             [
              0.2222222222222222,
              "#7201a8"
             ],
             [
              0.3333333333333333,
              "#9c179e"
             ],
             [
              0.4444444444444444,
              "#bd3786"
             ],
             [
              0.5555555555555556,
              "#d8576b"
             ],
             [
              0.6666666666666666,
              "#ed7953"
             ],
             [
              0.7777777777777778,
              "#fb9f3a"
             ],
             [
              0.8888888888888888,
              "#fdca26"
             ],
             [
              1,
              "#f0f921"
             ]
            ],
            "type": "heatmap"
           }
          ],
          "heatmapgl": [
           {
            "colorbar": {
             "outlinewidth": 0,
             "ticks": ""
            },
            "colorscale": [
             [
              0,
              "#0d0887"
             ],
             [
              0.1111111111111111,
              "#46039f"
             ],
             [
              0.2222222222222222,
              "#7201a8"
             ],
             [
              0.3333333333333333,
              "#9c179e"
             ],
             [
              0.4444444444444444,
              "#bd3786"
             ],
             [
              0.5555555555555556,
              "#d8576b"
             ],
             [
              0.6666666666666666,
              "#ed7953"
             ],
             [
              0.7777777777777778,
              "#fb9f3a"
             ],
             [
              0.8888888888888888,
              "#fdca26"
             ],
             [
              1,
              "#f0f921"
             ]
            ],
            "type": "heatmapgl"
           }
          ],
          "histogram": [
           {
            "marker": {
             "pattern": {
              "fillmode": "overlay",
              "size": 10,
              "solidity": 0.2
             }
            },
            "type": "histogram"
           }
          ],
          "histogram2d": [
           {
            "colorbar": {
             "outlinewidth": 0,
             "ticks": ""
            },
            "colorscale": [
             [
              0,
              "#0d0887"
             ],
             [
              0.1111111111111111,
              "#46039f"
             ],
             [
              0.2222222222222222,
              "#7201a8"
             ],
             [
              0.3333333333333333,
              "#9c179e"
             ],
             [
              0.4444444444444444,
              "#bd3786"
             ],
             [
              0.5555555555555556,
              "#d8576b"
             ],
             [
              0.6666666666666666,
              "#ed7953"
             ],
             [
              0.7777777777777778,
              "#fb9f3a"
             ],
             [
              0.8888888888888888,
              "#fdca26"
             ],
             [
              1,
              "#f0f921"
             ]
            ],
            "type": "histogram2d"
           }
          ],
          "histogram2dcontour": [
           {
            "colorbar": {
             "outlinewidth": 0,
             "ticks": ""
            },
            "colorscale": [
             [
              0,
              "#0d0887"
             ],
             [
              0.1111111111111111,
              "#46039f"
             ],
             [
              0.2222222222222222,
              "#7201a8"
             ],
             [
              0.3333333333333333,
              "#9c179e"
             ],
             [
              0.4444444444444444,
              "#bd3786"
             ],
             [
              0.5555555555555556,
              "#d8576b"
             ],
             [
              0.6666666666666666,
              "#ed7953"
             ],
             [
              0.7777777777777778,
              "#fb9f3a"
             ],
             [
              0.8888888888888888,
              "#fdca26"
             ],
             [
              1,
              "#f0f921"
             ]
            ],
            "type": "histogram2dcontour"
           }
          ],
          "mesh3d": [
           {
            "colorbar": {
             "outlinewidth": 0,
             "ticks": ""
            },
            "type": "mesh3d"
           }
          ],
          "parcoords": [
           {
            "line": {
             "colorbar": {
              "outlinewidth": 0,
              "ticks": ""
             }
            },
            "type": "parcoords"
           }
          ],
          "pie": [
           {
            "automargin": true,
            "type": "pie"
           }
          ],
          "scatter": [
           {
            "fillpattern": {
             "fillmode": "overlay",
             "size": 10,
             "solidity": 0.2
            },
            "type": "scatter"
           }
          ],
          "scatter3d": [
           {
            "line": {
             "colorbar": {
              "outlinewidth": 0,
              "ticks": ""
             }
            },
            "marker": {
             "colorbar": {
              "outlinewidth": 0,
              "ticks": ""
             }
            },
            "type": "scatter3d"
           }
          ],
          "scattercarpet": [
           {
            "marker": {
             "colorbar": {
              "outlinewidth": 0,
              "ticks": ""
             }
            },
            "type": "scattercarpet"
           }
          ],
          "scattergeo": [
           {
            "marker": {
             "colorbar": {
              "outlinewidth": 0,
              "ticks": ""
             }
            },
            "type": "scattergeo"
           }
          ],
          "scattergl": [
           {
            "marker": {
             "colorbar": {
              "outlinewidth": 0,
              "ticks": ""
             }
            },
            "type": "scattergl"
           }
          ],
          "scattermapbox": [
           {
            "marker": {
             "colorbar": {
              "outlinewidth": 0,
              "ticks": ""
             }
            },
            "type": "scattermapbox"
           }
          ],
          "scatterpolar": [
           {
            "marker": {
             "colorbar": {
              "outlinewidth": 0,
              "ticks": ""
             }
            },
            "type": "scatterpolar"
           }
          ],
          "scatterpolargl": [
           {
            "marker": {
             "colorbar": {
              "outlinewidth": 0,
              "ticks": ""
             }
            },
            "type": "scatterpolargl"
           }
          ],
          "scatterternary": [
           {
            "marker": {
             "colorbar": {
              "outlinewidth": 0,
              "ticks": ""
             }
            },
            "type": "scatterternary"
           }
          ],
          "surface": [
           {
            "colorbar": {
             "outlinewidth": 0,
             "ticks": ""
            },
            "colorscale": [
             [
              0,
              "#0d0887"
             ],
             [
              0.1111111111111111,
              "#46039f"
             ],
             [
              0.2222222222222222,
              "#7201a8"
             ],
             [
              0.3333333333333333,
              "#9c179e"
             ],
             [
              0.4444444444444444,
              "#bd3786"
             ],
             [
              0.5555555555555556,
              "#d8576b"
             ],
             [
              0.6666666666666666,
              "#ed7953"
             ],
             [
              0.7777777777777778,
              "#fb9f3a"
             ],
             [
              0.8888888888888888,
              "#fdca26"
             ],
             [
              1,
              "#f0f921"
             ]
            ],
            "type": "surface"
           }
          ],
          "table": [
           {
            "cells": {
             "fill": {
              "color": "#EBF0F8"
             },
             "line": {
              "color": "white"
             }
            },
            "header": {
             "fill": {
              "color": "#C8D4E3"
             },
             "line": {
              "color": "white"
             }
            },
            "type": "table"
           }
          ]
         },
         "layout": {
          "annotationdefaults": {
           "arrowcolor": "#2a3f5f",
           "arrowhead": 0,
           "arrowwidth": 1
          },
          "autotypenumbers": "strict",
          "coloraxis": {
           "colorbar": {
            "outlinewidth": 0,
            "ticks": ""
           }
          },
          "colorscale": {
           "diverging": [
            [
             0,
             "#8e0152"
            ],
            [
             0.1,
             "#c51b7d"
            ],
            [
             0.2,
             "#de77ae"
            ],
            [
             0.3,
             "#f1b6da"
            ],
            [
             0.4,
             "#fde0ef"
            ],
            [
             0.5,
             "#f7f7f7"
            ],
            [
             0.6,
             "#e6f5d0"
            ],
            [
             0.7,
             "#b8e186"
            ],
            [
             0.8,
             "#7fbc41"
            ],
            [
             0.9,
             "#4d9221"
            ],
            [
             1,
             "#276419"
            ]
           ],
           "sequential": [
            [
             0,
             "#0d0887"
            ],
            [
             0.1111111111111111,
             "#46039f"
            ],
            [
             0.2222222222222222,
             "#7201a8"
            ],
            [
             0.3333333333333333,
             "#9c179e"
            ],
            [
             0.4444444444444444,
             "#bd3786"
            ],
            [
             0.5555555555555556,
             "#d8576b"
            ],
            [
             0.6666666666666666,
             "#ed7953"
            ],
            [
             0.7777777777777778,
             "#fb9f3a"
            ],
            [
             0.8888888888888888,
             "#fdca26"
            ],
            [
             1,
             "#f0f921"
            ]
           ],
           "sequentialminus": [
            [
             0,
             "#0d0887"
            ],
            [
             0.1111111111111111,
             "#46039f"
            ],
            [
             0.2222222222222222,
             "#7201a8"
            ],
            [
             0.3333333333333333,
             "#9c179e"
            ],
            [
             0.4444444444444444,
             "#bd3786"
            ],
            [
             0.5555555555555556,
             "#d8576b"
            ],
            [
             0.6666666666666666,
             "#ed7953"
            ],
            [
             0.7777777777777778,
             "#fb9f3a"
            ],
            [
             0.8888888888888888,
             "#fdca26"
            ],
            [
             1,
             "#f0f921"
            ]
           ]
          },
          "colorway": [
           "#636efa",
           "#EF553B",
           "#00cc96",
           "#ab63fa",
           "#FFA15A",
           "#19d3f3",
           "#FF6692",
           "#B6E880",
           "#FF97FF",
           "#FECB52"
          ],
          "font": {
           "color": "#2a3f5f"
          },
          "geo": {
           "bgcolor": "white",
           "lakecolor": "white",
           "landcolor": "#E5ECF6",
           "showlakes": true,
           "showland": true,
           "subunitcolor": "white"
          },
          "hoverlabel": {
           "align": "left"
          },
          "hovermode": "closest",
          "mapbox": {
           "style": "light"
          },
          "paper_bgcolor": "white",
          "plot_bgcolor": "#E5ECF6",
          "polar": {
           "angularaxis": {
            "gridcolor": "white",
            "linecolor": "white",
            "ticks": ""
           },
           "bgcolor": "#E5ECF6",
           "radialaxis": {
            "gridcolor": "white",
            "linecolor": "white",
            "ticks": ""
           }
          },
          "scene": {
           "xaxis": {
            "backgroundcolor": "#E5ECF6",
            "gridcolor": "white",
            "gridwidth": 2,
            "linecolor": "white",
            "showbackground": true,
            "ticks": "",
            "zerolinecolor": "white"
           },
           "yaxis": {
            "backgroundcolor": "#E5ECF6",
            "gridcolor": "white",
            "gridwidth": 2,
            "linecolor": "white",
            "showbackground": true,
            "ticks": "",
            "zerolinecolor": "white"
           },
           "zaxis": {
            "backgroundcolor": "#E5ECF6",
            "gridcolor": "white",
            "gridwidth": 2,
            "linecolor": "white",
            "showbackground": true,
            "ticks": "",
            "zerolinecolor": "white"
           }
          },
          "shapedefaults": {
           "line": {
            "color": "#2a3f5f"
           }
          },
          "ternary": {
           "aaxis": {
            "gridcolor": "white",
            "linecolor": "white",
            "ticks": ""
           },
           "baxis": {
            "gridcolor": "white",
            "linecolor": "white",
            "ticks": ""
           },
           "bgcolor": "#E5ECF6",
           "caxis": {
            "gridcolor": "white",
            "linecolor": "white",
            "ticks": ""
           }
          },
          "title": {
           "x": 0.05
          },
          "xaxis": {
           "automargin": true,
           "gridcolor": "white",
           "linecolor": "white",
           "ticks": "",
           "title": {
            "standoff": 15
           },
           "zerolinecolor": "white",
           "zerolinewidth": 2
          },
          "yaxis": {
           "automargin": true,
           "gridcolor": "white",
           "linecolor": "white",
           "ticks": "",
           "title": {
            "standoff": 15
           },
           "zerolinecolor": "white",
           "zerolinewidth": 2
          }
         }
        },
        "xaxis": {
         "anchor": "y",
         "domain": [
          0,
          1
         ],
         "title": {
          "text": "Age at Start of Season"
         }
        },
        "yaxis": {
         "anchor": "x",
         "domain": [
          0,
          1
         ],
         "title": {
          "text": "Average Max Speed (km/h)"
         }
        }
       }
      }
     },
     "metadata": {},
     "output_type": "display_data"
    },
    {
     "name": "stderr",
     "output_type": "stream",
     "text": [
      "/var/folders/w0/zjn_yl050qn4kdvrggtg30sh0000gn/T/ipykernel_30221/2980562515.py:219: SettingWithCopyWarning:\n",
      "\n",
      "\n",
      "A value is trying to be set on a copy of a slice from a DataFrame.\n",
      "Try using .loc[row_indexer,col_indexer] = value instead\n",
      "\n",
      "See the caveats in the documentation: https://pandas.pydata.org/pandas-docs/stable/user_guide/indexing.html#returning-a-view-versus-a-copy\n",
      "\n"
     ]
    },
    {
     "data": {
      "application/vnd.plotly.v1+json": {
       "config": {
        "plotlyServerURL": "https://plot.ly"
       },
       "data": [
        {
         "alignmentgroup": "True",
         "hovertemplate": "position=1st<br>Driver=%{x}<br>Podium Count=%{y}<extra></extra>",
         "legendgroup": "1st",
         "marker": {
          "color": "#FFD700",
          "pattern": {
           "shape": ""
          }
         },
         "name": "1st",
         "offsetgroup": "1st",
         "orientation": "v",
         "showlegend": true,
         "textposition": "auto",
         "type": "bar",
         "x": [
          "bottas",
          "hamilton",
          "leclerc",
          "max_verstappen",
          "perez",
          "vettel"
         ],
         "xaxis": "x",
         "y": [
          10,
          52,
          7,
          60,
          5,
          11
         ],
         "yaxis": "y"
        },
        {
         "alignmentgroup": "True",
         "hovertemplate": "position=2nd<br>Driver=%{x}<br>Podium Count=%{y}<extra></extra>",
         "legendgroup": "2nd",
         "marker": {
          "color": "#C0C0C0",
          "pattern": {
           "shape": ""
          }
         },
         "name": "2nd",
         "offsetgroup": "2nd",
         "orientation": "v",
         "showlegend": true,
         "textposition": "auto",
         "type": "bar",
         "x": [
          "bottas",
          "hamilton",
          "leclerc",
          "max_verstappen",
          "perez",
          "vettel"
         ],
         "xaxis": "x",
         "y": [
          27,
          28,
          14,
          28,
          14,
          16
         ],
         "yaxis": "y"
        },
        {
         "alignmentgroup": "True",
         "hovertemplate": "position=3rd<br>Driver=%{x}<br>Podium Count=%{y}<extra></extra>",
         "legendgroup": "3rd",
         "marker": {
          "color": "#CD7F32",
          "pattern": {
           "shape": ""
          }
         },
         "name": "3rd",
         "offsetgroup": "3rd",
         "orientation": "v",
         "showlegend": true,
         "textposition": "auto",
         "type": "bar",
         "x": [
          "bottas",
          "hamilton",
          "leclerc",
          "max_verstappen",
          "perez",
          "vettel"
         ],
         "xaxis": "x",
         "y": [
          21,
          17,
          18,
          14,
          10,
          9
         ],
         "yaxis": "y"
        }
       ],
       "layout": {
        "barmode": "stack",
        "legend": {
         "title": {
          "text": "position"
         },
         "tracegroupgap": 0
        },
        "paper_bgcolor": "lightgray",
        "plot_bgcolor": "white",
        "template": {
         "data": {
          "bar": [
           {
            "error_x": {
             "color": "#2a3f5f"
            },
            "error_y": {
             "color": "#2a3f5f"
            },
            "marker": {
             "line": {
              "color": "#E5ECF6",
              "width": 0.5
             },
             "pattern": {
              "fillmode": "overlay",
              "size": 10,
              "solidity": 0.2
             }
            },
            "type": "bar"
           }
          ],
          "barpolar": [
           {
            "marker": {
             "line": {
              "color": "#E5ECF6",
              "width": 0.5
             },
             "pattern": {
              "fillmode": "overlay",
              "size": 10,
              "solidity": 0.2
             }
            },
            "type": "barpolar"
           }
          ],
          "carpet": [
           {
            "aaxis": {
             "endlinecolor": "#2a3f5f",
             "gridcolor": "white",
             "linecolor": "white",
             "minorgridcolor": "white",
             "startlinecolor": "#2a3f5f"
            },
            "baxis": {
             "endlinecolor": "#2a3f5f",
             "gridcolor": "white",
             "linecolor": "white",
             "minorgridcolor": "white",
             "startlinecolor": "#2a3f5f"
            },
            "type": "carpet"
           }
          ],
          "choropleth": [
           {
            "colorbar": {
             "outlinewidth": 0,
             "ticks": ""
            },
            "type": "choropleth"
           }
          ],
          "contour": [
           {
            "colorbar": {
             "outlinewidth": 0,
             "ticks": ""
            },
            "colorscale": [
             [
              0,
              "#0d0887"
             ],
             [
              0.1111111111111111,
              "#46039f"
             ],
             [
              0.2222222222222222,
              "#7201a8"
             ],
             [
              0.3333333333333333,
              "#9c179e"
             ],
             [
              0.4444444444444444,
              "#bd3786"
             ],
             [
              0.5555555555555556,
              "#d8576b"
             ],
             [
              0.6666666666666666,
              "#ed7953"
             ],
             [
              0.7777777777777778,
              "#fb9f3a"
             ],
             [
              0.8888888888888888,
              "#fdca26"
             ],
             [
              1,
              "#f0f921"
             ]
            ],
            "type": "contour"
           }
          ],
          "contourcarpet": [
           {
            "colorbar": {
             "outlinewidth": 0,
             "ticks": ""
            },
            "type": "contourcarpet"
           }
          ],
          "heatmap": [
           {
            "colorbar": {
             "outlinewidth": 0,
             "ticks": ""
            },
            "colorscale": [
             [
              0,
              "#0d0887"
             ],
             [
              0.1111111111111111,
              "#46039f"
             ],
             [
              0.2222222222222222,
              "#7201a8"
             ],
             [
              0.3333333333333333,
              "#9c179e"
             ],
             [
              0.4444444444444444,
              "#bd3786"
             ],
             [
              0.5555555555555556,
              "#d8576b"
             ],
             [
              0.6666666666666666,
              "#ed7953"
             ],
             [
              0.7777777777777778,
              "#fb9f3a"
             ],
             [
              0.8888888888888888,
              "#fdca26"
             ],
             [
              1,
              "#f0f921"
             ]
            ],
            "type": "heatmap"
           }
          ],
          "heatmapgl": [
           {
            "colorbar": {
             "outlinewidth": 0,
             "ticks": ""
            },
            "colorscale": [
             [
              0,
              "#0d0887"
             ],
             [
              0.1111111111111111,
              "#46039f"
             ],
             [
              0.2222222222222222,
              "#7201a8"
             ],
             [
              0.3333333333333333,
              "#9c179e"
             ],
             [
              0.4444444444444444,
              "#bd3786"
             ],
             [
              0.5555555555555556,
              "#d8576b"
             ],
             [
              0.6666666666666666,
              "#ed7953"
             ],
             [
              0.7777777777777778,
              "#fb9f3a"
             ],
             [
              0.8888888888888888,
              "#fdca26"
             ],
             [
              1,
              "#f0f921"
             ]
            ],
            "type": "heatmapgl"
           }
          ],
          "histogram": [
           {
            "marker": {
             "pattern": {
              "fillmode": "overlay",
              "size": 10,
              "solidity": 0.2
             }
            },
            "type": "histogram"
           }
          ],
          "histogram2d": [
           {
            "colorbar": {
             "outlinewidth": 0,
             "ticks": ""
            },
            "colorscale": [
             [
              0,
              "#0d0887"
             ],
             [
              0.1111111111111111,
              "#46039f"
             ],
             [
              0.2222222222222222,
              "#7201a8"
             ],
             [
              0.3333333333333333,
              "#9c179e"
             ],
             [
              0.4444444444444444,
              "#bd3786"
             ],
             [
              0.5555555555555556,
              "#d8576b"
             ],
             [
              0.6666666666666666,
              "#ed7953"
             ],
             [
              0.7777777777777778,
              "#fb9f3a"
             ],
             [
              0.8888888888888888,
              "#fdca26"
             ],
             [
              1,
              "#f0f921"
             ]
            ],
            "type": "histogram2d"
           }
          ],
          "histogram2dcontour": [
           {
            "colorbar": {
             "outlinewidth": 0,
             "ticks": ""
            },
            "colorscale": [
             [
              0,
              "#0d0887"
             ],
             [
              0.1111111111111111,
              "#46039f"
             ],
             [
              0.2222222222222222,
              "#7201a8"
             ],
             [
              0.3333333333333333,
              "#9c179e"
             ],
             [
              0.4444444444444444,
              "#bd3786"
             ],
             [
              0.5555555555555556,
              "#d8576b"
             ],
             [
              0.6666666666666666,
              "#ed7953"
             ],
             [
              0.7777777777777778,
              "#fb9f3a"
             ],
             [
              0.8888888888888888,
              "#fdca26"
             ],
             [
              1,
              "#f0f921"
             ]
            ],
            "type": "histogram2dcontour"
           }
          ],
          "mesh3d": [
           {
            "colorbar": {
             "outlinewidth": 0,
             "ticks": ""
            },
            "type": "mesh3d"
           }
          ],
          "parcoords": [
           {
            "line": {
             "colorbar": {
              "outlinewidth": 0,
              "ticks": ""
             }
            },
            "type": "parcoords"
           }
          ],
          "pie": [
           {
            "automargin": true,
            "type": "pie"
           }
          ],
          "scatter": [
           {
            "fillpattern": {
             "fillmode": "overlay",
             "size": 10,
             "solidity": 0.2
            },
            "type": "scatter"
           }
          ],
          "scatter3d": [
           {
            "line": {
             "colorbar": {
              "outlinewidth": 0,
              "ticks": ""
             }
            },
            "marker": {
             "colorbar": {
              "outlinewidth": 0,
              "ticks": ""
             }
            },
            "type": "scatter3d"
           }
          ],
          "scattercarpet": [
           {
            "marker": {
             "colorbar": {
              "outlinewidth": 0,
              "ticks": ""
             }
            },
            "type": "scattercarpet"
           }
          ],
          "scattergeo": [
           {
            "marker": {
             "colorbar": {
              "outlinewidth": 0,
              "ticks": ""
             }
            },
            "type": "scattergeo"
           }
          ],
          "scattergl": [
           {
            "marker": {
             "colorbar": {
              "outlinewidth": 0,
              "ticks": ""
             }
            },
            "type": "scattergl"
           }
          ],
          "scattermapbox": [
           {
            "marker": {
             "colorbar": {
              "outlinewidth": 0,
              "ticks": ""
             }
            },
            "type": "scattermapbox"
           }
          ],
          "scatterpolar": [
           {
            "marker": {
             "colorbar": {
              "outlinewidth": 0,
              "ticks": ""
             }
            },
            "type": "scatterpolar"
           }
          ],
          "scatterpolargl": [
           {
            "marker": {
             "colorbar": {
              "outlinewidth": 0,
              "ticks": ""
             }
            },
            "type": "scatterpolargl"
           }
          ],
          "scatterternary": [
           {
            "marker": {
             "colorbar": {
              "outlinewidth": 0,
              "ticks": ""
             }
            },
            "type": "scatterternary"
           }
          ],
          "surface": [
           {
            "colorbar": {
             "outlinewidth": 0,
             "ticks": ""
            },
            "colorscale": [
             [
              0,
              "#0d0887"
             ],
             [
              0.1111111111111111,
              "#46039f"
             ],
             [
              0.2222222222222222,
              "#7201a8"
             ],
             [
              0.3333333333333333,
              "#9c179e"
             ],
             [
              0.4444444444444444,
              "#bd3786"
             ],
             [
              0.5555555555555556,
              "#d8576b"
             ],
             [
              0.6666666666666666,
              "#ed7953"
             ],
             [
              0.7777777777777778,
              "#fb9f3a"
             ],
             [
              0.8888888888888888,
              "#fdca26"
             ],
             [
              1,
              "#f0f921"
             ]
            ],
            "type": "surface"
           }
          ],
          "table": [
           {
            "cells": {
             "fill": {
              "color": "#EBF0F8"
             },
             "line": {
              "color": "white"
             }
            },
            "header": {
             "fill": {
              "color": "#C8D4E3"
             },
             "line": {
              "color": "white"
             }
            },
            "type": "table"
           }
          ]
         },
         "layout": {
          "annotationdefaults": {
           "arrowcolor": "#2a3f5f",
           "arrowhead": 0,
           "arrowwidth": 1
          },
          "autotypenumbers": "strict",
          "coloraxis": {
           "colorbar": {
            "outlinewidth": 0,
            "ticks": ""
           }
          },
          "colorscale": {
           "diverging": [
            [
             0,
             "#8e0152"
            ],
            [
             0.1,
             "#c51b7d"
            ],
            [
             0.2,
             "#de77ae"
            ],
            [
             0.3,
             "#f1b6da"
            ],
            [
             0.4,
             "#fde0ef"
            ],
            [
             0.5,
             "#f7f7f7"
            ],
            [
             0.6,
             "#e6f5d0"
            ],
            [
             0.7,
             "#b8e186"
            ],
            [
             0.8,
             "#7fbc41"
            ],
            [
             0.9,
             "#4d9221"
            ],
            [
             1,
             "#276419"
            ]
           ],
           "sequential": [
            [
             0,
             "#0d0887"
            ],
            [
             0.1111111111111111,
             "#46039f"
            ],
            [
             0.2222222222222222,
             "#7201a8"
            ],
            [
             0.3333333333333333,
             "#9c179e"
            ],
            [
             0.4444444444444444,
             "#bd3786"
            ],
            [
             0.5555555555555556,
             "#d8576b"
            ],
            [
             0.6666666666666666,
             "#ed7953"
            ],
            [
             0.7777777777777778,
             "#fb9f3a"
            ],
            [
             0.8888888888888888,
             "#fdca26"
            ],
            [
             1,
             "#f0f921"
            ]
           ],
           "sequentialminus": [
            [
             0,
             "#0d0887"
            ],
            [
             0.1111111111111111,
             "#46039f"
            ],
            [
             0.2222222222222222,
             "#7201a8"
            ],
            [
             0.3333333333333333,
             "#9c179e"
            ],
            [
             0.4444444444444444,
             "#bd3786"
            ],
            [
             0.5555555555555556,
             "#d8576b"
            ],
            [
             0.6666666666666666,
             "#ed7953"
            ],
            [
             0.7777777777777778,
             "#fb9f3a"
            ],
            [
             0.8888888888888888,
             "#fdca26"
            ],
            [
             1,
             "#f0f921"
            ]
           ]
          },
          "colorway": [
           "#636efa",
           "#EF553B",
           "#00cc96",
           "#ab63fa",
           "#FFA15A",
           "#19d3f3",
           "#FF6692",
           "#B6E880",
           "#FF97FF",
           "#FECB52"
          ],
          "font": {
           "color": "#2a3f5f"
          },
          "geo": {
           "bgcolor": "white",
           "lakecolor": "white",
           "landcolor": "#E5ECF6",
           "showlakes": true,
           "showland": true,
           "subunitcolor": "white"
          },
          "hoverlabel": {
           "align": "left"
          },
          "hovermode": "closest",
          "mapbox": {
           "style": "light"
          },
          "paper_bgcolor": "white",
          "plot_bgcolor": "#E5ECF6",
          "polar": {
           "angularaxis": {
            "gridcolor": "white",
            "linecolor": "white",
            "ticks": ""
           },
           "bgcolor": "#E5ECF6",
           "radialaxis": {
            "gridcolor": "white",
            "linecolor": "white",
            "ticks": ""
           }
          },
          "scene": {
           "xaxis": {
            "backgroundcolor": "#E5ECF6",
            "gridcolor": "white",
            "gridwidth": 2,
            "linecolor": "white",
            "showbackground": true,
            "ticks": "",
            "zerolinecolor": "white"
           },
           "yaxis": {
            "backgroundcolor": "#E5ECF6",
            "gridcolor": "white",
            "gridwidth": 2,
            "linecolor": "white",
            "showbackground": true,
            "ticks": "",
            "zerolinecolor": "white"
           },
           "zaxis": {
            "backgroundcolor": "#E5ECF6",
            "gridcolor": "white",
            "gridwidth": 2,
            "linecolor": "white",
            "showbackground": true,
            "ticks": "",
            "zerolinecolor": "white"
           }
          },
          "shapedefaults": {
           "line": {
            "color": "#2a3f5f"
           }
          },
          "ternary": {
           "aaxis": {
            "gridcolor": "white",
            "linecolor": "white",
            "ticks": ""
           },
           "baxis": {
            "gridcolor": "white",
            "linecolor": "white",
            "ticks": ""
           },
           "bgcolor": "#E5ECF6",
           "caxis": {
            "gridcolor": "white",
            "linecolor": "white",
            "ticks": ""
           }
          },
          "title": {
           "x": 0.05
          },
          "xaxis": {
           "automargin": true,
           "gridcolor": "white",
           "linecolor": "white",
           "ticks": "",
           "title": {
            "standoff": 15
           },
           "zerolinecolor": "white",
           "zerolinewidth": 2
          },
          "yaxis": {
           "automargin": true,
           "gridcolor": "white",
           "linecolor": "white",
           "ticks": "",
           "title": {
            "standoff": 15
           },
           "zerolinecolor": "white",
           "zerolinewidth": 2
          }
         }
        },
        "title": {
         "text": "Top 6 Drivers Podium Count (2017 - 2024)"
        },
        "xaxis": {
         "anchor": "y",
         "categoryorder": "total ascending",
         "domain": [
          0,
          1
         ],
         "title": {
          "text": "Driver"
         }
        },
        "yaxis": {
         "anchor": "x",
         "domain": [
          0,
          1
         ],
         "title": {
          "text": "Podium Count"
         }
        }
       }
      }
     },
     "metadata": {},
     "output_type": "display_data"
    },
    {
     "name": "stderr",
     "output_type": "stream",
     "text": [
      "/var/folders/w0/zjn_yl050qn4kdvrggtg30sh0000gn/T/ipykernel_30221/2980562515.py:254: SettingWithCopyWarning:\n",
      "\n",
      "\n",
      "A value is trying to be set on a copy of a slice from a DataFrame.\n",
      "Try using .loc[row_indexer,col_indexer] = value instead\n",
      "\n",
      "See the caveats in the documentation: https://pandas.pydata.org/pandas-docs/stable/user_guide/indexing.html#returning-a-view-versus-a-copy\n",
      "\n"
     ]
    },
    {
     "data": {
      "application/vnd.plotly.v1+json": {
       "config": {
        "plotlyServerURL": "https://plot.ly"
       },
       "data": [
        {
         "alignmentgroup": "True",
         "hovertemplate": "position=1st<br>Constructor=%{x}<br>Podium Count=%{y}<extra></extra>",
         "legendgroup": "1st",
         "marker": {
          "color": "#FFD700",
          "pattern": {
           "shape": ""
          }
         },
         "name": "1st",
         "offsetgroup": "1st",
         "orientation": "v",
         "showlegend": true,
         "textposition": "auto",
         "type": "bar",
         "x": [
          "alpine",
          "ferrari",
          "mclaren",
          "mercedes",
          "red_bull"
         ],
         "xaxis": "x",
         "y": [
          1,
          22,
          6,
          64,
          68
         ],
         "yaxis": "y"
        },
        {
         "alignmentgroup": "True",
         "hovertemplate": "position=2nd<br>Constructor=%{x}<br>Podium Count=%{y}<extra></extra>",
         "legendgroup": "2nd",
         "marker": {
          "color": "#C0C0C0",
          "pattern": {
           "shape": ""
          }
         },
         "name": "2nd",
         "offsetgroup": "2nd",
         "orientation": "v",
         "showlegend": true,
         "textposition": "auto",
         "type": "bar",
         "x": [
          "aston_martin",
          "ferrari",
          "mclaren",
          "mercedes",
          "red_bull"
         ],
         "xaxis": "x",
         "y": [
          4,
          38,
          18,
          56,
          43
         ],
         "yaxis": "y"
        },
        {
         "alignmentgroup": "True",
         "hovertemplate": "position=3rd<br>Constructor=%{x}<br>Podium Count=%{y}<extra></extra>",
         "legendgroup": "3rd",
         "marker": {
          "color": "#CD7F32",
          "pattern": {
           "shape": ""
          }
         },
         "name": "3rd",
         "offsetgroup": "3rd",
         "orientation": "v",
         "showlegend": true,
         "textposition": "auto",
         "type": "bar",
         "x": [
          "alpine",
          "aston_martin",
          "ferrari",
          "mclaren",
          "mercedes",
          "red_bull"
         ],
         "xaxis": "x",
         "y": [
          3,
          5,
          54,
          12,
          48,
          33
         ],
         "yaxis": "y"
        }
       ],
       "layout": {
        "barmode": "stack",
        "legend": {
         "title": {
          "text": "position"
         },
         "tracegroupgap": 0
        },
        "paper_bgcolor": "lightgray",
        "plot_bgcolor": "white",
        "template": {
         "data": {
          "bar": [
           {
            "error_x": {
             "color": "#2a3f5f"
            },
            "error_y": {
             "color": "#2a3f5f"
            },
            "marker": {
             "line": {
              "color": "#E5ECF6",
              "width": 0.5
             },
             "pattern": {
              "fillmode": "overlay",
              "size": 10,
              "solidity": 0.2
             }
            },
            "type": "bar"
           }
          ],
          "barpolar": [
           {
            "marker": {
             "line": {
              "color": "#E5ECF6",
              "width": 0.5
             },
             "pattern": {
              "fillmode": "overlay",
              "size": 10,
              "solidity": 0.2
             }
            },
            "type": "barpolar"
           }
          ],
          "carpet": [
           {
            "aaxis": {
             "endlinecolor": "#2a3f5f",
             "gridcolor": "white",
             "linecolor": "white",
             "minorgridcolor": "white",
             "startlinecolor": "#2a3f5f"
            },
            "baxis": {
             "endlinecolor": "#2a3f5f",
             "gridcolor": "white",
             "linecolor": "white",
             "minorgridcolor": "white",
             "startlinecolor": "#2a3f5f"
            },
            "type": "carpet"
           }
          ],
          "choropleth": [
           {
            "colorbar": {
             "outlinewidth": 0,
             "ticks": ""
            },
            "type": "choropleth"
           }
          ],
          "contour": [
           {
            "colorbar": {
             "outlinewidth": 0,
             "ticks": ""
            },
            "colorscale": [
             [
              0,
              "#0d0887"
             ],
             [
              0.1111111111111111,
              "#46039f"
             ],
             [
              0.2222222222222222,
              "#7201a8"
             ],
             [
              0.3333333333333333,
              "#9c179e"
             ],
             [
              0.4444444444444444,
              "#bd3786"
             ],
             [
              0.5555555555555556,
              "#d8576b"
             ],
             [
              0.6666666666666666,
              "#ed7953"
             ],
             [
              0.7777777777777778,
              "#fb9f3a"
             ],
             [
              0.8888888888888888,
              "#fdca26"
             ],
             [
              1,
              "#f0f921"
             ]
            ],
            "type": "contour"
           }
          ],
          "contourcarpet": [
           {
            "colorbar": {
             "outlinewidth": 0,
             "ticks": ""
            },
            "type": "contourcarpet"
           }
          ],
          "heatmap": [
           {
            "colorbar": {
             "outlinewidth": 0,
             "ticks": ""
            },
            "colorscale": [
             [
              0,
              "#0d0887"
             ],
             [
              0.1111111111111111,
              "#46039f"
             ],
             [
              0.2222222222222222,
              "#7201a8"
             ],
             [
              0.3333333333333333,
              "#9c179e"
             ],
             [
              0.4444444444444444,
              "#bd3786"
             ],
             [
              0.5555555555555556,
              "#d8576b"
             ],
             [
              0.6666666666666666,
              "#ed7953"
             ],
             [
              0.7777777777777778,
              "#fb9f3a"
             ],
             [
              0.8888888888888888,
              "#fdca26"
             ],
             [
              1,
              "#f0f921"
             ]
            ],
            "type": "heatmap"
           }
          ],
          "heatmapgl": [
           {
            "colorbar": {
             "outlinewidth": 0,
             "ticks": ""
            },
            "colorscale": [
             [
              0,
              "#0d0887"
             ],
             [
              0.1111111111111111,
              "#46039f"
             ],
             [
              0.2222222222222222,
              "#7201a8"
             ],
             [
              0.3333333333333333,
              "#9c179e"
             ],
             [
              0.4444444444444444,
              "#bd3786"
             ],
             [
              0.5555555555555556,
              "#d8576b"
             ],
             [
              0.6666666666666666,
              "#ed7953"
             ],
             [
              0.7777777777777778,
              "#fb9f3a"
             ],
             [
              0.8888888888888888,
              "#fdca26"
             ],
             [
              1,
              "#f0f921"
             ]
            ],
            "type": "heatmapgl"
           }
          ],
          "histogram": [
           {
            "marker": {
             "pattern": {
              "fillmode": "overlay",
              "size": 10,
              "solidity": 0.2
             }
            },
            "type": "histogram"
           }
          ],
          "histogram2d": [
           {
            "colorbar": {
             "outlinewidth": 0,
             "ticks": ""
            },
            "colorscale": [
             [
              0,
              "#0d0887"
             ],
             [
              0.1111111111111111,
              "#46039f"
             ],
             [
              0.2222222222222222,
              "#7201a8"
             ],
             [
              0.3333333333333333,
              "#9c179e"
             ],
             [
              0.4444444444444444,
              "#bd3786"
             ],
             [
              0.5555555555555556,
              "#d8576b"
             ],
             [
              0.6666666666666666,
              "#ed7953"
             ],
             [
              0.7777777777777778,
              "#fb9f3a"
             ],
             [
              0.8888888888888888,
              "#fdca26"
             ],
             [
              1,
              "#f0f921"
             ]
            ],
            "type": "histogram2d"
           }
          ],
          "histogram2dcontour": [
           {
            "colorbar": {
             "outlinewidth": 0,
             "ticks": ""
            },
            "colorscale": [
             [
              0,
              "#0d0887"
             ],
             [
              0.1111111111111111,
              "#46039f"
             ],
             [
              0.2222222222222222,
              "#7201a8"
             ],
             [
              0.3333333333333333,
              "#9c179e"
             ],
             [
              0.4444444444444444,
              "#bd3786"
             ],
             [
              0.5555555555555556,
              "#d8576b"
             ],
             [
              0.6666666666666666,
              "#ed7953"
             ],
             [
              0.7777777777777778,
              "#fb9f3a"
             ],
             [
              0.8888888888888888,
              "#fdca26"
             ],
             [
              1,
              "#f0f921"
             ]
            ],
            "type": "histogram2dcontour"
           }
          ],
          "mesh3d": [
           {
            "colorbar": {
             "outlinewidth": 0,
             "ticks": ""
            },
            "type": "mesh3d"
           }
          ],
          "parcoords": [
           {
            "line": {
             "colorbar": {
              "outlinewidth": 0,
              "ticks": ""
             }
            },
            "type": "parcoords"
           }
          ],
          "pie": [
           {
            "automargin": true,
            "type": "pie"
           }
          ],
          "scatter": [
           {
            "fillpattern": {
             "fillmode": "overlay",
             "size": 10,
             "solidity": 0.2
            },
            "type": "scatter"
           }
          ],
          "scatter3d": [
           {
            "line": {
             "colorbar": {
              "outlinewidth": 0,
              "ticks": ""
             }
            },
            "marker": {
             "colorbar": {
              "outlinewidth": 0,
              "ticks": ""
             }
            },
            "type": "scatter3d"
           }
          ],
          "scattercarpet": [
           {
            "marker": {
             "colorbar": {
              "outlinewidth": 0,
              "ticks": ""
             }
            },
            "type": "scattercarpet"
           }
          ],
          "scattergeo": [
           {
            "marker": {
             "colorbar": {
              "outlinewidth": 0,
              "ticks": ""
             }
            },
            "type": "scattergeo"
           }
          ],
          "scattergl": [
           {
            "marker": {
             "colorbar": {
              "outlinewidth": 0,
              "ticks": ""
             }
            },
            "type": "scattergl"
           }
          ],
          "scattermapbox": [
           {
            "marker": {
             "colorbar": {
              "outlinewidth": 0,
              "ticks": ""
             }
            },
            "type": "scattermapbox"
           }
          ],
          "scatterpolar": [
           {
            "marker": {
             "colorbar": {
              "outlinewidth": 0,
              "ticks": ""
             }
            },
            "type": "scatterpolar"
           }
          ],
          "scatterpolargl": [
           {
            "marker": {
             "colorbar": {
              "outlinewidth": 0,
              "ticks": ""
             }
            },
            "type": "scatterpolargl"
           }
          ],
          "scatterternary": [
           {
            "marker": {
             "colorbar": {
              "outlinewidth": 0,
              "ticks": ""
             }
            },
            "type": "scatterternary"
           }
          ],
          "surface": [
           {
            "colorbar": {
             "outlinewidth": 0,
             "ticks": ""
            },
            "colorscale": [
             [
              0,
              "#0d0887"
             ],
             [
              0.1111111111111111,
              "#46039f"
             ],
             [
              0.2222222222222222,
              "#7201a8"
             ],
             [
              0.3333333333333333,
              "#9c179e"
             ],
             [
              0.4444444444444444,
              "#bd3786"
             ],
             [
              0.5555555555555556,
              "#d8576b"
             ],
             [
              0.6666666666666666,
              "#ed7953"
             ],
             [
              0.7777777777777778,
              "#fb9f3a"
             ],
             [
              0.8888888888888888,
              "#fdca26"
             ],
             [
              1,
              "#f0f921"
             ]
            ],
            "type": "surface"
           }
          ],
          "table": [
           {
            "cells": {
             "fill": {
              "color": "#EBF0F8"
             },
             "line": {
              "color": "white"
             }
            },
            "header": {
             "fill": {
              "color": "#C8D4E3"
             },
             "line": {
              "color": "white"
             }
            },
            "type": "table"
           }
          ]
         },
         "layout": {
          "annotationdefaults": {
           "arrowcolor": "#2a3f5f",
           "arrowhead": 0,
           "arrowwidth": 1
          },
          "autotypenumbers": "strict",
          "coloraxis": {
           "colorbar": {
            "outlinewidth": 0,
            "ticks": ""
           }
          },
          "colorscale": {
           "diverging": [
            [
             0,
             "#8e0152"
            ],
            [
             0.1,
             "#c51b7d"
            ],
            [
             0.2,
             "#de77ae"
            ],
            [
             0.3,
             "#f1b6da"
            ],
            [
             0.4,
             "#fde0ef"
            ],
            [
             0.5,
             "#f7f7f7"
            ],
            [
             0.6,
             "#e6f5d0"
            ],
            [
             0.7,
             "#b8e186"
            ],
            [
             0.8,
             "#7fbc41"
            ],
            [
             0.9,
             "#4d9221"
            ],
            [
             1,
             "#276419"
            ]
           ],
           "sequential": [
            [
             0,
             "#0d0887"
            ],
            [
             0.1111111111111111,
             "#46039f"
            ],
            [
             0.2222222222222222,
             "#7201a8"
            ],
            [
             0.3333333333333333,
             "#9c179e"
            ],
            [
             0.4444444444444444,
             "#bd3786"
            ],
            [
             0.5555555555555556,
             "#d8576b"
            ],
            [
             0.6666666666666666,
             "#ed7953"
            ],
            [
             0.7777777777777778,
             "#fb9f3a"
            ],
            [
             0.8888888888888888,
             "#fdca26"
            ],
            [
             1,
             "#f0f921"
            ]
           ],
           "sequentialminus": [
            [
             0,
             "#0d0887"
            ],
            [
             0.1111111111111111,
             "#46039f"
            ],
            [
             0.2222222222222222,
             "#7201a8"
            ],
            [
             0.3333333333333333,
             "#9c179e"
            ],
            [
             0.4444444444444444,
             "#bd3786"
            ],
            [
             0.5555555555555556,
             "#d8576b"
            ],
            [
             0.6666666666666666,
             "#ed7953"
            ],
            [
             0.7777777777777778,
             "#fb9f3a"
            ],
            [
             0.8888888888888888,
             "#fdca26"
            ],
            [
             1,
             "#f0f921"
            ]
           ]
          },
          "colorway": [
           "#636efa",
           "#EF553B",
           "#00cc96",
           "#ab63fa",
           "#FFA15A",
           "#19d3f3",
           "#FF6692",
           "#B6E880",
           "#FF97FF",
           "#FECB52"
          ],
          "font": {
           "color": "#2a3f5f"
          },
          "geo": {
           "bgcolor": "white",
           "lakecolor": "white",
           "landcolor": "#E5ECF6",
           "showlakes": true,
           "showland": true,
           "subunitcolor": "white"
          },
          "hoverlabel": {
           "align": "left"
          },
          "hovermode": "closest",
          "mapbox": {
           "style": "light"
          },
          "paper_bgcolor": "white",
          "plot_bgcolor": "#E5ECF6",
          "polar": {
           "angularaxis": {
            "gridcolor": "white",
            "linecolor": "white",
            "ticks": ""
           },
           "bgcolor": "#E5ECF6",
           "radialaxis": {
            "gridcolor": "white",
            "linecolor": "white",
            "ticks": ""
           }
          },
          "scene": {
           "xaxis": {
            "backgroundcolor": "#E5ECF6",
            "gridcolor": "white",
            "gridwidth": 2,
            "linecolor": "white",
            "showbackground": true,
            "ticks": "",
            "zerolinecolor": "white"
           },
           "yaxis": {
            "backgroundcolor": "#E5ECF6",
            "gridcolor": "white",
            "gridwidth": 2,
            "linecolor": "white",
            "showbackground": true,
            "ticks": "",
            "zerolinecolor": "white"
           },
           "zaxis": {
            "backgroundcolor": "#E5ECF6",
            "gridcolor": "white",
            "gridwidth": 2,
            "linecolor": "white",
            "showbackground": true,
            "ticks": "",
            "zerolinecolor": "white"
           }
          },
          "shapedefaults": {
           "line": {
            "color": "#2a3f5f"
           }
          },
          "ternary": {
           "aaxis": {
            "gridcolor": "white",
            "linecolor": "white",
            "ticks": ""
           },
           "baxis": {
            "gridcolor": "white",
            "linecolor": "white",
            "ticks": ""
           },
           "bgcolor": "#E5ECF6",
           "caxis": {
            "gridcolor": "white",
            "linecolor": "white",
            "ticks": ""
           }
          },
          "title": {
           "x": 0.05
          },
          "xaxis": {
           "automargin": true,
           "gridcolor": "white",
           "linecolor": "white",
           "ticks": "",
           "title": {
            "standoff": 15
           },
           "zerolinecolor": "white",
           "zerolinewidth": 2
          },
          "yaxis": {
           "automargin": true,
           "gridcolor": "white",
           "linecolor": "white",
           "ticks": "",
           "title": {
            "standoff": 15
           },
           "zerolinecolor": "white",
           "zerolinewidth": 2
          }
         }
        },
        "title": {
         "text": "Top 6 Constructors Podium Count (2017 - 2024)"
        },
        "xaxis": {
         "anchor": "y",
         "categoryorder": "total ascending",
         "domain": [
          0,
          1
         ],
         "title": {
          "text": "Constructor"
         }
        },
        "yaxis": {
         "anchor": "x",
         "domain": [
          0,
          1
         ],
         "title": {
          "text": "Podium Count"
         }
        }
       }
      }
     },
     "metadata": {},
     "output_type": "display_data"
    }
   ],
   "source": [
    "def load_race_results_data():\n",
    "    \"\"\"Loads the race results data from CSV.\"\"\"\n",
    "    df = pd.read_csv('race_results.csv')\n",
    "    df['constructorId'] = df['constructorId'].replace({'alphatauri': 'rb'})\n",
    "    discontinued_teams = ['toro_rosso', 'force_india', 'racing_point']\n",
    "    df = df[~df['constructorId'].isin(discontinued_teams)]\n",
    "    return df\n",
    "\n",
    "def load_driver_info():\n",
    "    \"\"\"Loads the driver information from CSV.\"\"\"\n",
    "    df_driver_info = pd.read_csv('driver_info.csv')\n",
    "    df_driver_info['dateOfBirth'] = pd.to_datetime(df_driver_info['dateOfBirth'])\n",
    "    return df_driver_info\n",
    "\n",
    "def get_merged_race_driver_data():\n",
    "    \"\"\"Merges race results with driver info and calculates driver age at each race.\"\"\"\n",
    "    df_race_results = load_race_results_data()\n",
    "    df_driver_info = load_driver_info()\n",
    "    \n",
    "    df_merged = pd.merge(df_race_results, df_driver_info[['driverId', 'dateOfBirth']], on='driverId')\n",
    "    \n",
    "    df_merged['date'] = pd.to_datetime(df_merged['date'])\n",
    "    \n",
    "    df_merged['age_at_race'] = (df_merged['date'] - df_merged['dateOfBirth']).dt.days / 365\n",
    "    \n",
    "    return df_merged\n",
    "\n",
    "def plot_grid_vs_position(season_range):\n",
    "    \"\"\"Creates a scatter plot showing the relationship between grid start and final position for a range of seasons.\"\"\"\n",
    "    \n",
    "    df_race_results = load_race_results_data()\n",
    "\n",
    "    df_filtered = df_race_results[(df_race_results['season'] >= season_range[0]) & (df_race_results['season'] <= season_range[1])]\n",
    "\n",
    "    brand_colors = {\n",
    "        'mercedes': '#565F64',\n",
    "        'ferrari': '#ff0000',\n",
    "        'williams': '#00A0DE',\n",
    "        'renault': '#FFFF00',\n",
    "        'haas': '#E6002B',\n",
    "        'mclaren': '#FF8000',\n",
    "        'sauber': '#90EE90',\n",
    "        'alfa': '#000000',\n",
    "        'alphatauri': '#00008B',\n",
    "        'alpine': '#C71585',\n",
    "        'aston_martin': '#006400',\n",
    "        'red_bull': '#FDD900',\n",
    "        'rb': '#20394C'\n",
    "    }\n",
    "\n",
    "    fig = px.scatter(\n",
    "        df_filtered,\n",
    "        x='grid',\n",
    "        y='position',\n",
    "        color='constructorId',\n",
    "        hover_data=['driverId', 'raceName', 'points'],\n",
    "        labels={'grid': 'Grid Start', 'position': 'Final Position'},\n",
    "        color_discrete_map=brand_colors\n",
    "    )\n",
    "\n",
    "    fig.update_layout(\n",
    "        plot_bgcolor='white',\n",
    "        paper_bgcolor='lightgray',\n",
    "        xaxis=dict(title='Grid Start', range=[1, 20]),\n",
    "        yaxis=dict(title='Final Position', autorange='reversed', range=[1, 20]),\n",
    "        hoverlabel=dict(bgcolor=\"white\", font_size=12, font_family=\"Arial\")\n",
    "    )\n",
    "\n",
    "    return fig\n",
    "\n",
    "def plot_mechanical_issues(selected_season_range):\n",
    "    df_mechanical_issues = pd.read_csv('finishing_status_mechanica_issues_2017_2024.csv')\n",
    "    total_occurrences = df_mechanical_issues['count'].sum()\n",
    "    df_mechanical_issues['percentage'] = (df_mechanical_issues['count'] / total_occurrences) * 100\n",
    "    threshold = 2.0\n",
    "    df_mechanical_issues['status_grouped'] = df_mechanical_issues.apply(\n",
    "        lambda row: row['status'] if row['percentage'] >= threshold else 'Other', axis=1\n",
    "    )\n",
    "    df_mechanical_issues_grouped = df_mechanical_issues.groupby('status_grouped').agg(\n",
    "        {'count': 'sum', 'percentage': 'sum'}\n",
    "        ).reset_index()\n",
    "    df_top_mechanical_issues = df_mechanical_issues_grouped[(df_mechanical_issues_grouped['percentage'] >= 5.0) & \n",
    "                                                        (df_mechanical_issues_grouped['status_grouped'] != 'Other')]\n",
    "    \n",
    "    fig_pie = px.pie(df_mechanical_issues_grouped, \n",
    "             values='percentage', \n",
    "             names='status_grouped', \n",
    "             hole=0.5,\n",
    "             hover_data=['count'],\n",
    "             labels={'percentage':'Percentage'}\n",
    "            )\n",
    "\n",
    "    fig_pie.update_traces(textinfo='percent+label', textfont_size=12,\n",
    "                      hovertemplate='<b>%{label}</b><br>Occurrences: %{customdata[0]}<br>Percentage: %{value:.2f}%')\n",
    "    fig_pie.update_layout(showlegend=True, paper_bgcolor='lightgray')\n",
    "    \n",
    "    df_race_results = load_race_results_data()\n",
    "    df_filtered = df_race_results[(df_race_results['season'] >= selected_season_range[0]) & \n",
    "                              (df_race_results['season'] <= selected_season_range[1])]\n",
    "    top_issues = df_top_mechanical_issues['status_grouped'].tolist()\n",
    "    df_filtered = df_filtered[df_filtered['status'].isin(top_issues)]\n",
    "    df_grouped = df_filtered.groupby(['season', 'constructorId', 'status']).size().reset_index(name='count')\n",
    "    df_pivot = df_grouped.pivot_table(index=['constructorId', 'season'], columns='status', values='count', fill_value=0).reset_index()\n",
    "    df = pd.melt(df_pivot, id_vars=['constructorId', 'season'], var_name='issue', value_name='count')\n",
    "    \n",
    "    fig_stacked_bar = px.bar(df, \n",
    "                 x='constructorId', \n",
    "                 y='count', \n",
    "                 color='issue',\n",
    "                 labels={'constructorId': 'Constructor', 'count': 'Issue Count'},\n",
    "                 barmode='stack',\n",
    "                 hover_data=['season'])\n",
    "    \n",
    "    fig_stacked_bar.update_layout(xaxis={'categoryorder': 'total descending'}, \n",
    "                      plot_bgcolor='white',\n",
    "                      paper_bgcolor='lightgray')\n",
    "    \n",
    "    return fig_pie, fig_stacked_bar\n",
    "\n",
    "def plot_avg_points_vs_age():\n",
    "    \"\"\"Plot average points per season against age.\"\"\"\n",
    "    df_driver_info = load_driver_info()\n",
    "    df_merged = get_merged_race_driver_data()\n",
    "    df_season_avg_points = df_merged.groupby(['driverId', 'season']).agg(\n",
    "        avg_points=('points', 'mean'),\n",
    "        first_race_date=('date', 'min'),\n",
    "    ).reset_index()\n",
    "\n",
    "    df_season_avg_points = pd.merge(df_season_avg_points, df_driver_info[['driverId', 'dateOfBirth']], on='driverId')\n",
    "    df_season_avg_points['age_at_start_of_season'] = (pd.to_datetime(df_season_avg_points['first_race_date']) - \n",
    "                                                      pd.to_datetime(df_season_avg_points['dateOfBirth'])).dt.days / 365\n",
    "\n",
    "    fig = px.scatter(df_season_avg_points, \n",
    "                     x='age_at_start_of_season', \n",
    "                     y='avg_points', \n",
    "                     labels={'age_at_start_of_season': 'Age at Start of Season', 'avg_points': 'Average Points'},\n",
    "                     hover_data=['driverId', 'season'])\n",
    "    fig.update_layout(margin=dict(l=50, r=50, t=80, b=50), showlegend=False, paper_bgcolor='lightgray')\n",
    "    fig.update_traces(hovertemplate=(\n",
    "        '<b>Driver ID:</b> %{customdata[0]}<br>' +\n",
    "        '<b>Season:</b> %{customdata[1]}<br>' +\n",
    "        '<b>Age at Start:</b> %{x:.1f}<br>' +\n",
    "        '<b>Avg Point:</b> %{y:.1f}<br>'\n",
    "    ))\n",
    "    return fig\n",
    "\n",
    "def plot_avg_position_vs_age():\n",
    "    \"\"\"Plot average position per season against age.\"\"\"\n",
    "    df_driver_info = load_driver_info()\n",
    "    df_merged = get_merged_race_driver_data()\n",
    "    df_season_avg_position = df_merged.groupby(['driverId', 'season']).agg(\n",
    "        avg_position=('position', 'mean'),\n",
    "        first_race_date=('date', 'min'),\n",
    "    ).reset_index()\n",
    "\n",
    "    df_season_avg_position = pd.merge(df_season_avg_position, df_driver_info[['driverId', 'dateOfBirth']], on='driverId')\n",
    "    df_season_avg_position['age_at_start_of_season'] = (pd.to_datetime(df_season_avg_position['first_race_date']) - \n",
    "                                                        pd.to_datetime(df_season_avg_position['dateOfBirth'])).dt.days / 365\n",
    "\n",
    "    fig = px.scatter(df_season_avg_position, \n",
    "                     x='age_at_start_of_season', \n",
    "                     y='avg_position', \n",
    "                     labels={'age_at_start_of_season': 'Age at Start of Season', 'avg_position': 'Average Position'},\n",
    "                     hover_data=['driverId', 'season'])\n",
    "    fig.update_yaxes(autorange='reversed', tickvals=[1, 5, 10, 15, 20])\n",
    "    fig.update_layout(margin=dict(l=50, r=50, t=80, b=50), showlegend=False, paper_bgcolor='lightgray')\n",
    "    fig.update_traces(hovertemplate=(\n",
    "        '<b>Driver ID:</b> %{customdata[0]}<br>' +\n",
    "        '<b>Season:</b> %{customdata[1]}<br>' +\n",
    "        '<b>Age at Start:</b> %{x:.1f}<br>' +\n",
    "        '<b>Avg Position:</b> %{y:.1f}<br>'\n",
    "    ))\n",
    "    return fig\n",
    "\n",
    "def plot_avg_max_speed_vs_age():\n",
    "    \"\"\"Plot average max speed per season against age.\"\"\"\n",
    "    df_driver_info = load_driver_info()\n",
    "    df_merged = get_merged_race_driver_data()\n",
    "    df_season_avg_speed = df_merged.groupby(['driverId', 'season']).agg(\n",
    "        avg_max_speed=('Max Avg Speed', 'mean'),\n",
    "        first_race_date=('date', 'min'),\n",
    "    ).reset_index()\n",
    "\n",
    "    df_season_avg_speed = pd.merge(df_season_avg_speed, df_driver_info[['driverId', 'dateOfBirth']], on='driverId')\n",
    "    df_season_avg_speed['age_at_start_of_season'] = (pd.to_datetime(df_season_avg_speed['first_race_date']) - \n",
    "                                                     pd.to_datetime(df_season_avg_speed['dateOfBirth'])).dt.days / 365\n",
    "\n",
    "    fig = px.scatter(df_season_avg_speed, \n",
    "                     x='age_at_start_of_season',\n",
    "                     y='avg_max_speed',\n",
    "                     labels={'age_at_start_of_season': 'Age at Start of Season', 'avg_max_speed': 'Average Max Speed (km/h)'},\n",
    "                     hover_data=['driverId', 'season'])\n",
    "    \n",
    "    fig.update_layout(margin=dict(l=50, r=50, t=80, b=50), showlegend=False, paper_bgcolor='lightgray')\n",
    "    fig.update_traces(hovertemplate=(\n",
    "        '<b>Driver ID:</b> %{customdata[0]}<br>' +\n",
    "        '<b>Season:</b> %{customdata[1]}<br>' +\n",
    "        '<b>Age at Start:</b> %{x:.1f}<br>' +\n",
    "        '<b>Avg Max Speed:</b> %{y:.1f}<br>'\n",
    "    ))\n",
    "    return fig\n",
    "\n",
    "def plot_top_drivers_podiums(top_n=6, season_range=(2017, 2024)):\n",
    "    \"\"\"Plots a stacked bar chart showing podium counts for the top drivers over a specified season range.\"\"\"\n",
    "    df_race_results = load_race_results_data()\n",
    "    \n",
    "    df_filtered = df_race_results[(df_race_results['season'] >= season_range[0]) & \n",
    "                                  (df_race_results['season'] <= season_range[1])]\n",
    "    \n",
    "    df_podiums = df_filtered[df_filtered['position'].isin([1, 2, 3])]\n",
    "\n",
    "    df_podium_counts = df_podiums.groupby(['driverId', 'position']).size().reset_index(name='count')\n",
    "\n",
    "    df_total_podiums = df_podium_counts.groupby('driverId')['count'].sum().reset_index(name='total_podiums')\n",
    "    top_drivers = df_total_podiums.nlargest(top_n, 'total_podiums')['driverId'].tolist()\n",
    "\n",
    "    df_top_podiums = df_podium_counts[df_podium_counts['driverId'].isin(top_drivers)]\n",
    "    \n",
    "    df_top_podiums['position'] = df_top_podiums['position'].map({1: '1st', 2: '2nd', 3: '3rd'})\n",
    "    \n",
    "    fig = px.bar(df_top_podiums, \n",
    "                 x='driverId', \n",
    "                 y='count', \n",
    "                 color='position',\n",
    "                 title=f'Top {top_n} Drivers Podium Count ({season_range[0]} - {season_range[1]})',\n",
    "                 labels={'driverId': 'Driver', 'count': 'Podium Count'},\n",
    "                 category_orders={'position': ['1st', '2nd', '3rd']},\n",
    "                 color_discrete_map={'1st': '#FFD700', '2nd': '#C0C0C0', '3rd': '#CD7F32'},\n",
    "                 barmode='stack')\n",
    "\n",
    "    fig.update_xaxes(categoryorder='total ascending')\n",
    "\n",
    "    fig.update_layout(xaxis_title='Driver', yaxis_title='Podium Count', \n",
    "                      plot_bgcolor='white', paper_bgcolor='lightgray')\n",
    "\n",
    "    return fig\n",
    "\n",
    "def plot_top_constructors_podiums(top_n=6, season_range=(2017, 2024)):\n",
    "    \"\"\"Plots a stacked bar chart showing podium counts for the top constructors over a specified season range.\"\"\"\n",
    "    df_race_results = load_race_results_data()\n",
    "    \n",
    "    df_filtered = df_race_results[(df_race_results['season'] >= season_range[0]) & \n",
    "                                  (df_race_results['season'] <= season_range[1])]\n",
    "    \n",
    "    df_podiums = df_filtered[df_filtered['position'].isin([1, 2, 3])]\n",
    "\n",
    "    df_podium_counts = df_podiums.groupby(['constructorId', 'position']).size().reset_index(name='count')\n",
    "\n",
    "    df_total_podiums = df_podium_counts.groupby('constructorId')['count'].sum().reset_index(name='total_podiums')\n",
    "    top_constructors = df_total_podiums.nlargest(top_n, 'total_podiums')['constructorId'].tolist()\n",
    "\n",
    "    df_top_podiums = df_podium_counts[df_podium_counts['constructorId'].isin(top_constructors)]\n",
    "    \n",
    "    df_top_podiums['position'] = df_top_podiums['position'].map({1: '1st', 2: '2nd', 3: '3rd'})\n",
    "    \n",
    "    fig = px.bar(df_top_podiums, \n",
    "                 x='constructorId', \n",
    "                 y='count', \n",
    "                 color='position',\n",
    "                 title=f'Top {top_n} Constructors Podium Count ({season_range[0]} - {season_range[1]})',\n",
    "                 labels={'constructorId': 'Constructor', 'count': 'Podium Count'},\n",
    "                 category_orders={'position': ['1st', '2nd', '3rd']},\n",
    "                 color_discrete_map={'1st': '#FFD700', '2nd': '#C0C0C0', '3rd': '#CD7F32'},\n",
    "                 barmode='stack')\n",
    "\n",
    "    fig.update_xaxes(categoryorder='total ascending')\n",
    "\n",
    "    fig.update_layout(xaxis_title='Constructor', yaxis_title='Podium Count', \n",
    "                      plot_bgcolor='white', paper_bgcolor='lightgray')\n",
    "\n",
    "    return fig\n",
    "\n",
    "plot_grid_vs_position((2023, 2023)).show()\n",
    "fig1, fig2 = plot_mechanical_issues([2020, 2024])\n",
    "fig1.show()\n",
    "fig2.show()\n",
    "plot_avg_points_vs_age().show()\n",
    "plot_avg_position_vs_age().show()\n",
    "plot_avg_max_speed_vs_age().show()\n",
    "plot_top_drivers_podiums().show()\n",
    "plot_top_constructors_podiums().show()"
   ]
  },
  {
   "cell_type": "code",
   "execution_count": 7,
   "metadata": {},
   "outputs": [
    {
     "data": {
      "application/vnd.plotly.v1+json": {
       "config": {
        "plotlyServerURL": "https://plot.ly"
       },
       "data": [
        {
         "alignmentgroup": "True",
         "hovertemplate": "Driver=albon<br>Comparison=%{x}<br>Times Finished Ahead=%{y}<extra></extra>",
         "legendgroup": "albon",
         "marker": {
          "color": "#636efa",
          "pattern": {
           "shape": ""
          }
         },
         "name": "albon",
         "offsetgroup": "albon",
         "orientation": "v",
         "showlegend": true,
         "textposition": "auto",
         "type": "bar",
         "x": [
          "Race Position Wins",
          "Grid Position Wins"
         ],
         "xaxis": "x",
         "y": [
          12,
          13
         ],
         "yaxis": "y"
        },
        {
         "alignmentgroup": "True",
         "hovertemplate": "Driver=sargeant<br>Comparison=%{x}<br>Times Finished Ahead=%{y}<extra></extra>",
         "legendgroup": "sargeant",
         "marker": {
          "color": "#EF553B",
          "pattern": {
           "shape": ""
          }
         },
         "name": "sargeant",
         "offsetgroup": "sargeant",
         "orientation": "v",
         "showlegend": true,
         "textposition": "auto",
         "type": "bar",
         "x": [
          "Race Position Wins",
          "Grid Position Wins"
         ],
         "xaxis": "x",
         "y": [
          2,
          1
         ],
         "yaxis": "y"
        }
       ],
       "layout": {
        "barmode": "group",
        "legend": {
         "title": {
          "text": "Driver"
         },
         "tracegroupgap": 0
        },
        "template": {
         "data": {
          "bar": [
           {
            "error_x": {
             "color": "#2a3f5f"
            },
            "error_y": {
             "color": "#2a3f5f"
            },
            "marker": {
             "line": {
              "color": "#E5ECF6",
              "width": 0.5
             },
             "pattern": {
              "fillmode": "overlay",
              "size": 10,
              "solidity": 0.2
             }
            },
            "type": "bar"
           }
          ],
          "barpolar": [
           {
            "marker": {
             "line": {
              "color": "#E5ECF6",
              "width": 0.5
             },
             "pattern": {
              "fillmode": "overlay",
              "size": 10,
              "solidity": 0.2
             }
            },
            "type": "barpolar"
           }
          ],
          "carpet": [
           {
            "aaxis": {
             "endlinecolor": "#2a3f5f",
             "gridcolor": "white",
             "linecolor": "white",
             "minorgridcolor": "white",
             "startlinecolor": "#2a3f5f"
            },
            "baxis": {
             "endlinecolor": "#2a3f5f",
             "gridcolor": "white",
             "linecolor": "white",
             "minorgridcolor": "white",
             "startlinecolor": "#2a3f5f"
            },
            "type": "carpet"
           }
          ],
          "choropleth": [
           {
            "colorbar": {
             "outlinewidth": 0,
             "ticks": ""
            },
            "type": "choropleth"
           }
          ],
          "contour": [
           {
            "colorbar": {
             "outlinewidth": 0,
             "ticks": ""
            },
            "colorscale": [
             [
              0,
              "#0d0887"
             ],
             [
              0.1111111111111111,
              "#46039f"
             ],
             [
              0.2222222222222222,
              "#7201a8"
             ],
             [
              0.3333333333333333,
              "#9c179e"
             ],
             [
              0.4444444444444444,
              "#bd3786"
             ],
             [
              0.5555555555555556,
              "#d8576b"
             ],
             [
              0.6666666666666666,
              "#ed7953"
             ],
             [
              0.7777777777777778,
              "#fb9f3a"
             ],
             [
              0.8888888888888888,
              "#fdca26"
             ],
             [
              1,
              "#f0f921"
             ]
            ],
            "type": "contour"
           }
          ],
          "contourcarpet": [
           {
            "colorbar": {
             "outlinewidth": 0,
             "ticks": ""
            },
            "type": "contourcarpet"
           }
          ],
          "heatmap": [
           {
            "colorbar": {
             "outlinewidth": 0,
             "ticks": ""
            },
            "colorscale": [
             [
              0,
              "#0d0887"
             ],
             [
              0.1111111111111111,
              "#46039f"
             ],
             [
              0.2222222222222222,
              "#7201a8"
             ],
             [
              0.3333333333333333,
              "#9c179e"
             ],
             [
              0.4444444444444444,
              "#bd3786"
             ],
             [
              0.5555555555555556,
              "#d8576b"
             ],
             [
              0.6666666666666666,
              "#ed7953"
             ],
             [
              0.7777777777777778,
              "#fb9f3a"
             ],
             [
              0.8888888888888888,
              "#fdca26"
             ],
             [
              1,
              "#f0f921"
             ]
            ],
            "type": "heatmap"
           }
          ],
          "heatmapgl": [
           {
            "colorbar": {
             "outlinewidth": 0,
             "ticks": ""
            },
            "colorscale": [
             [
              0,
              "#0d0887"
             ],
             [
              0.1111111111111111,
              "#46039f"
             ],
             [
              0.2222222222222222,
              "#7201a8"
             ],
             [
              0.3333333333333333,
              "#9c179e"
             ],
             [
              0.4444444444444444,
              "#bd3786"
             ],
             [
              0.5555555555555556,
              "#d8576b"
             ],
             [
              0.6666666666666666,
              "#ed7953"
             ],
             [
              0.7777777777777778,
              "#fb9f3a"
             ],
             [
              0.8888888888888888,
              "#fdca26"
             ],
             [
              1,
              "#f0f921"
             ]
            ],
            "type": "heatmapgl"
           }
          ],
          "histogram": [
           {
            "marker": {
             "pattern": {
              "fillmode": "overlay",
              "size": 10,
              "solidity": 0.2
             }
            },
            "type": "histogram"
           }
          ],
          "histogram2d": [
           {
            "colorbar": {
             "outlinewidth": 0,
             "ticks": ""
            },
            "colorscale": [
             [
              0,
              "#0d0887"
             ],
             [
              0.1111111111111111,
              "#46039f"
             ],
             [
              0.2222222222222222,
              "#7201a8"
             ],
             [
              0.3333333333333333,
              "#9c179e"
             ],
             [
              0.4444444444444444,
              "#bd3786"
             ],
             [
              0.5555555555555556,
              "#d8576b"
             ],
             [
              0.6666666666666666,
              "#ed7953"
             ],
             [
              0.7777777777777778,
              "#fb9f3a"
             ],
             [
              0.8888888888888888,
              "#fdca26"
             ],
             [
              1,
              "#f0f921"
             ]
            ],
            "type": "histogram2d"
           }
          ],
          "histogram2dcontour": [
           {
            "colorbar": {
             "outlinewidth": 0,
             "ticks": ""
            },
            "colorscale": [
             [
              0,
              "#0d0887"
             ],
             [
              0.1111111111111111,
              "#46039f"
             ],
             [
              0.2222222222222222,
              "#7201a8"
             ],
             [
              0.3333333333333333,
              "#9c179e"
             ],
             [
              0.4444444444444444,
              "#bd3786"
             ],
             [
              0.5555555555555556,
              "#d8576b"
             ],
             [
              0.6666666666666666,
              "#ed7953"
             ],
             [
              0.7777777777777778,
              "#fb9f3a"
             ],
             [
              0.8888888888888888,
              "#fdca26"
             ],
             [
              1,
              "#f0f921"
             ]
            ],
            "type": "histogram2dcontour"
           }
          ],
          "mesh3d": [
           {
            "colorbar": {
             "outlinewidth": 0,
             "ticks": ""
            },
            "type": "mesh3d"
           }
          ],
          "parcoords": [
           {
            "line": {
             "colorbar": {
              "outlinewidth": 0,
              "ticks": ""
             }
            },
            "type": "parcoords"
           }
          ],
          "pie": [
           {
            "automargin": true,
            "type": "pie"
           }
          ],
          "scatter": [
           {
            "fillpattern": {
             "fillmode": "overlay",
             "size": 10,
             "solidity": 0.2
            },
            "type": "scatter"
           }
          ],
          "scatter3d": [
           {
            "line": {
             "colorbar": {
              "outlinewidth": 0,
              "ticks": ""
             }
            },
            "marker": {
             "colorbar": {
              "outlinewidth": 0,
              "ticks": ""
             }
            },
            "type": "scatter3d"
           }
          ],
          "scattercarpet": [
           {
            "marker": {
             "colorbar": {
              "outlinewidth": 0,
              "ticks": ""
             }
            },
            "type": "scattercarpet"
           }
          ],
          "scattergeo": [
           {
            "marker": {
             "colorbar": {
              "outlinewidth": 0,
              "ticks": ""
             }
            },
            "type": "scattergeo"
           }
          ],
          "scattergl": [
           {
            "marker": {
             "colorbar": {
              "outlinewidth": 0,
              "ticks": ""
             }
            },
            "type": "scattergl"
           }
          ],
          "scattermapbox": [
           {
            "marker": {
             "colorbar": {
              "outlinewidth": 0,
              "ticks": ""
             }
            },
            "type": "scattermapbox"
           }
          ],
          "scatterpolar": [
           {
            "marker": {
             "colorbar": {
              "outlinewidth": 0,
              "ticks": ""
             }
            },
            "type": "scatterpolar"
           }
          ],
          "scatterpolargl": [
           {
            "marker": {
             "colorbar": {
              "outlinewidth": 0,
              "ticks": ""
             }
            },
            "type": "scatterpolargl"
           }
          ],
          "scatterternary": [
           {
            "marker": {
             "colorbar": {
              "outlinewidth": 0,
              "ticks": ""
             }
            },
            "type": "scatterternary"
           }
          ],
          "surface": [
           {
            "colorbar": {
             "outlinewidth": 0,
             "ticks": ""
            },
            "colorscale": [
             [
              0,
              "#0d0887"
             ],
             [
              0.1111111111111111,
              "#46039f"
             ],
             [
              0.2222222222222222,
              "#7201a8"
             ],
             [
              0.3333333333333333,
              "#9c179e"
             ],
             [
              0.4444444444444444,
              "#bd3786"
             ],
             [
              0.5555555555555556,
              "#d8576b"
             ],
             [
              0.6666666666666666,
              "#ed7953"
             ],
             [
              0.7777777777777778,
              "#fb9f3a"
             ],
             [
              0.8888888888888888,
              "#fdca26"
             ],
             [
              1,
              "#f0f921"
             ]
            ],
            "type": "surface"
           }
          ],
          "table": [
           {
            "cells": {
             "fill": {
              "color": "#EBF0F8"
             },
             "line": {
              "color": "white"
             }
            },
            "header": {
             "fill": {
              "color": "#C8D4E3"
             },
             "line": {
              "color": "white"
             }
            },
            "type": "table"
           }
          ]
         },
         "layout": {
          "annotationdefaults": {
           "arrowcolor": "#2a3f5f",
           "arrowhead": 0,
           "arrowwidth": 1
          },
          "autotypenumbers": "strict",
          "coloraxis": {
           "colorbar": {
            "outlinewidth": 0,
            "ticks": ""
           }
          },
          "colorscale": {
           "diverging": [
            [
             0,
             "#8e0152"
            ],
            [
             0.1,
             "#c51b7d"
            ],
            [
             0.2,
             "#de77ae"
            ],
            [
             0.3,
             "#f1b6da"
            ],
            [
             0.4,
             "#fde0ef"
            ],
            [
             0.5,
             "#f7f7f7"
            ],
            [
             0.6,
             "#e6f5d0"
            ],
            [
             0.7,
             "#b8e186"
            ],
            [
             0.8,
             "#7fbc41"
            ],
            [
             0.9,
             "#4d9221"
            ],
            [
             1,
             "#276419"
            ]
           ],
           "sequential": [
            [
             0,
             "#0d0887"
            ],
            [
             0.1111111111111111,
             "#46039f"
            ],
            [
             0.2222222222222222,
             "#7201a8"
            ],
            [
             0.3333333333333333,
             "#9c179e"
            ],
            [
             0.4444444444444444,
             "#bd3786"
            ],
            [
             0.5555555555555556,
             "#d8576b"
            ],
            [
             0.6666666666666666,
             "#ed7953"
            ],
            [
             0.7777777777777778,
             "#fb9f3a"
            ],
            [
             0.8888888888888888,
             "#fdca26"
            ],
            [
             1,
             "#f0f921"
            ]
           ],
           "sequentialminus": [
            [
             0,
             "#0d0887"
            ],
            [
             0.1111111111111111,
             "#46039f"
            ],
            [
             0.2222222222222222,
             "#7201a8"
            ],
            [
             0.3333333333333333,
             "#9c179e"
            ],
            [
             0.4444444444444444,
             "#bd3786"
            ],
            [
             0.5555555555555556,
             "#d8576b"
            ],
            [
             0.6666666666666666,
             "#ed7953"
            ],
            [
             0.7777777777777778,
             "#fb9f3a"
            ],
            [
             0.8888888888888888,
             "#fdca26"
            ],
            [
             1,
             "#f0f921"
            ]
           ]
          },
          "colorway": [
           "#636efa",
           "#EF553B",
           "#00cc96",
           "#ab63fa",
           "#FFA15A",
           "#19d3f3",
           "#FF6692",
           "#B6E880",
           "#FF97FF",
           "#FECB52"
          ],
          "font": {
           "color": "#2a3f5f"
          },
          "geo": {
           "bgcolor": "white",
           "lakecolor": "white",
           "landcolor": "#E5ECF6",
           "showlakes": true,
           "showland": true,
           "subunitcolor": "white"
          },
          "hoverlabel": {
           "align": "left"
          },
          "hovermode": "closest",
          "mapbox": {
           "style": "light"
          },
          "paper_bgcolor": "white",
          "plot_bgcolor": "#E5ECF6",
          "polar": {
           "angularaxis": {
            "gridcolor": "white",
            "linecolor": "white",
            "ticks": ""
           },
           "bgcolor": "#E5ECF6",
           "radialaxis": {
            "gridcolor": "white",
            "linecolor": "white",
            "ticks": ""
           }
          },
          "scene": {
           "xaxis": {
            "backgroundcolor": "#E5ECF6",
            "gridcolor": "white",
            "gridwidth": 2,
            "linecolor": "white",
            "showbackground": true,
            "ticks": "",
            "zerolinecolor": "white"
           },
           "yaxis": {
            "backgroundcolor": "#E5ECF6",
            "gridcolor": "white",
            "gridwidth": 2,
            "linecolor": "white",
            "showbackground": true,
            "ticks": "",
            "zerolinecolor": "white"
           },
           "zaxis": {
            "backgroundcolor": "#E5ECF6",
            "gridcolor": "white",
            "gridwidth": 2,
            "linecolor": "white",
            "showbackground": true,
            "ticks": "",
            "zerolinecolor": "white"
           }
          },
          "shapedefaults": {
           "line": {
            "color": "#2a3f5f"
           }
          },
          "ternary": {
           "aaxis": {
            "gridcolor": "white",
            "linecolor": "white",
            "ticks": ""
           },
           "baxis": {
            "gridcolor": "white",
            "linecolor": "white",
            "ticks": ""
           },
           "bgcolor": "#E5ECF6",
           "caxis": {
            "gridcolor": "white",
            "linecolor": "white",
            "ticks": ""
           }
          },
          "title": {
           "x": 0.05
          },
          "xaxis": {
           "automargin": true,
           "gridcolor": "white",
           "linecolor": "white",
           "ticks": "",
           "title": {
            "standoff": 15
           },
           "zerolinecolor": "white",
           "zerolinewidth": 2
          },
          "yaxis": {
           "automargin": true,
           "gridcolor": "white",
           "linecolor": "white",
           "ticks": "",
           "title": {
            "standoff": 15
           },
           "zerolinecolor": "white",
           "zerolinewidth": 2
          }
         }
        },
        "title": {
         "text": "Head-to-Head Comparison: albon vs sargeant (2024)"
        },
        "xaxis": {
         "anchor": "y",
         "domain": [
          0,
          1
         ],
         "title": {
          "text": "Comparison"
         }
        },
        "yaxis": {
         "anchor": "x",
         "domain": [
          0,
          1
         ],
         "title": {
          "text": "Times Finished Ahead"
         }
        }
       }
      }
     },
     "metadata": {},
     "output_type": "display_data"
    }
   ],
   "source": [
    "def plot_head_to_head_performance(df_race_results, year, constructor_id):\n",
    "    \"\"\"Plots head-to-head comparison of two drivers from the same constructor for a given year.\"\"\"\n",
    "    \n",
    "    # Step 1: Filter data by year and constructor\n",
    "    df_filtered = df_race_results[(df_race_results['season'] == year) & \n",
    "                                  (df_race_results['constructorId'] == constructor_id)]\n",
    "    \n",
    "    # Step 2: Identify the two drivers\n",
    "    unique_drivers = df_filtered['driverId'].unique()\n",
    "    if len(unique_drivers) < 2:\n",
    "        return None, f\"Less than 2 drivers found for {constructor_id} in {year}\"\n",
    "    \n",
    "    driver1, driver2 = unique_drivers[:2]  # Assuming only two drivers\n",
    "    \n",
    "    # Step 3: Initialize counts for race and grid comparisons\n",
    "    driver1_race_wins = driver2_race_wins = 0\n",
    "    driver1_grid_wins = driver2_grid_wins = 0\n",
    "    \n",
    "    # Step 4: Loop through each race to compare positions\n",
    "    for _, race in df_filtered.groupby('round'):\n",
    "        race_data = race[['driverId', 'position', 'grid']]\n",
    "        race_driver1 = race_data[race_data['driverId'] == driver1]\n",
    "        race_driver2 = race_data[race_data['driverId'] == driver2]\n",
    "        \n",
    "        if not race_driver1.empty and not race_driver2.empty:\n",
    "            # Compare race positions\n",
    "            if race_driver1['position'].values[0] < race_driver2['position'].values[0]:\n",
    "                driver1_race_wins += 1\n",
    "            else:\n",
    "                driver2_race_wins += 1\n",
    "            \n",
    "            # Compare grid positions\n",
    "            if race_driver1['grid'].values[0] < race_driver2['grid'].values[0]:\n",
    "                driver1_grid_wins += 1\n",
    "            else:\n",
    "                driver2_grid_wins += 1\n",
    "    \n",
    "    # Step 5: Prepare data for bar chart\n",
    "    comparison_data = {\n",
    "        'Metric': ['Race Position Wins', 'Race Position Wins', 'Grid Position Wins', 'Grid Position Wins'],\n",
    "        'Driver': [driver1, driver2, driver1, driver2],\n",
    "        'Count': [driver1_race_wins, driver2_race_wins, driver1_grid_wins, driver2_grid_wins]\n",
    "    }\n",
    "    df_comparison = pd.DataFrame(comparison_data)\n",
    "    \n",
    "    # Step 6: Plot the bar chart\n",
    "    fig = px.bar(df_comparison, x='Metric', y='Count', color='Driver',\n",
    "                 title=f'Head-to-Head Comparison: {driver1} vs {driver2} ({year})',\n",
    "                 labels={'Count': 'Times Finished Ahead', 'Metric': 'Comparison'},\n",
    "                 barmode='group')\n",
    "    \n",
    "    return fig, None\n",
    "\n",
    "# Usage example\n",
    "df_race_results = load_race_results_data()\n",
    "fig, error = plot_head_to_head_performance(df_race_results, year=2024, constructor_id='williams')\n",
    "\n",
    "if fig:\n",
    "    fig.show()\n",
    "else:\n",
    "    print(error)"
   ]
  },
  {
   "cell_type": "markdown",
   "metadata": {},
   "source": [
    "### Lap times"
   ]
  },
  {
   "cell_type": "code",
   "execution_count": 207,
   "metadata": {},
   "outputs": [],
   "source": [
    "def load_lap_times_data():\n",
    "    \"\"\"Loads the lap times data from concatenated CSV files.\"\"\"\n",
    "    file_paths = [f'lap_times_{year}.csv' for year in range(2017, 2025)]\n",
    "    dataframes = [pd.read_csv(file) for file in file_paths]\n",
    "    lap_times_df = pd.concat(dataframes, ignore_index=True)\n",
    "    return lap_times_df\n",
    "\n",
    "def convert_time_to_seconds(time_str):\n",
    "    \"\"\"Converts lap time from string format 'M:SS.mmm' to seconds.\"\"\"\n",
    "    minutes, seconds = time_str.split(':')\n",
    "    total_seconds = int(minutes) * 60 + float(seconds)\n",
    "    return total_seconds"
   ]
  },
  {
   "cell_type": "code",
   "execution_count": 401,
   "metadata": {},
   "outputs": [
    {
     "data": {
      "application/vnd.plotly.v1+json": {
       "config": {
        "plotlyServerURL": "https://plot.ly"
       },
       "data": [
        {
         "alignmentgroup": "True",
         "hovertemplate": "Driver=%{x}<br>Lap Time (seconds)=%{y}<extra></extra>",
         "legendgroup": "",
         "marker": {
          "color": "#636efa"
         },
         "name": "",
         "notched": false,
         "offsetgroup": "",
         "orientation": "v",
         "showlegend": false,
         "type": "box",
         "x": [
          "max_verstappen",
          "sainz",
          "sainz",
          "max_verstappen",
          "norris",
          "leclerc",
          "piastri",
          "russell",
          "perez",
          "stroll",
          "tsunoda",
          "hamilton",
          "alonso",
          "bottas",
          "kevin_magnussen",
          "albon",
          "ocon",
          "hulkenberg",
          "gasly",
          "ricciardo",
          "zhou",
          "sainz",
          "max_verstappen",
          "norris",
          "leclerc",
          "piastri",
          "russell",
          "perez",
          "stroll",
          "tsunoda",
          "hamilton",
          "alonso",
          "bottas",
          "kevin_magnussen",
          "albon",
          "ocon",
          "hulkenberg",
          "gasly",
          "ricciardo",
          "zhou",
          "sainz",
          "norris",
          "leclerc",
          "piastri",
          "russell",
          "perez",
          "stroll",
          "tsunoda",
          "hamilton",
          "alonso",
          "bottas",
          "kevin_magnussen",
          "albon",
          "ocon",
          "hulkenberg",
          "gasly",
          "ricciardo",
          "zhou",
          "sainz",
          "norris",
          "leclerc",
          "piastri",
          "russell",
          "perez",
          "stroll",
          "tsunoda",
          "hamilton",
          "alonso",
          "bottas",
          "kevin_magnussen",
          "albon",
          "ocon",
          "hulkenberg",
          "gasly",
          "zhou",
          "sainz",
          "norris",
          "leclerc",
          "piastri",
          "russell",
          "perez",
          "stroll",
          "tsunoda",
          "hamilton",
          "alonso",
          "bottas",
          "kevin_magnussen",
          "ocon",
          "hulkenberg",
          "gasly",
          "sainz",
          "norris",
          "leclerc",
          "piastri",
          "russell",
          "perez",
          "stroll",
          "tsunoda",
          "alonso",
          "bottas",
          "ocon",
          "hulkenberg",
          "gasly",
          "albon",
          "ricciardo",
          "sainz",
          "norris",
          "leclerc",
          "piastri",
          "perez",
          "tsunoda",
          "alonso",
          "ocon",
          "hulkenberg",
          "gasly",
          "hamilton",
          "albon",
          "ricciardo",
          "zhou",
          "sainz",
          "norris",
          "perez",
          "alonso",
          "hulkenberg",
          "gasly",
          "russell",
          "stroll",
          "hamilton",
          "albon",
          "kevin_magnussen",
          "ricciardo",
          "zhou",
          "sainz",
          "norris",
          "perez",
          "alonso",
          "hulkenberg",
          "gasly",
          "leclerc",
          "piastri",
          "russell",
          "stroll",
          "hamilton",
          "albon",
          "kevin_magnussen",
          "ricciardo",
          "zhou",
          "bottas",
          "sainz",
          "norris",
          "perez",
          "alonso",
          "leclerc",
          "hulkenberg",
          "piastri",
          "gasly",
          "russell",
          "stroll",
          "hamilton",
          "tsunoda",
          "albon",
          "ocon",
          "kevin_magnussen",
          "ricciardo",
          "zhou",
          "bottas",
          "sainz",
          "norris",
          "perez",
          "alonso",
          "leclerc",
          "piastri",
          "hulkenberg",
          "gasly",
          "russell",
          "stroll",
          "hamilton",
          "tsunoda",
          "albon",
          "ocon",
          "kevin_magnussen",
          "ricciardo",
          "zhou",
          "bottas",
          "sainz",
          "norris",
          "perez",
          "alonso",
          "leclerc",
          "piastri",
          "hulkenberg",
          "gasly",
          "russell",
          "stroll",
          "hamilton",
          "tsunoda",
          "albon",
          "ocon",
          "kevin_magnussen",
          "ricciardo",
          "zhou",
          "bottas",
          "sainz",
          "alonso",
          "leclerc",
          "piastri",
          "hulkenberg",
          "gasly",
          "russell",
          "stroll",
          "hamilton",
          "tsunoda",
          "albon",
          "ocon",
          "kevin_magnussen",
          "ricciardo",
          "zhou",
          "bottas",
          "sainz",
          "alonso",
          "leclerc",
          "piastri",
          "norris",
          "hulkenberg",
          "gasly",
          "russell",
          "stroll",
          "perez",
          "hamilton",
          "tsunoda",
          "albon",
          "ocon",
          "kevin_magnussen",
          "ricciardo",
          "zhou",
          "bottas",
          "alonso",
          "leclerc",
          "piastri",
          "norris",
          "hulkenberg",
          "russell",
          "gasly",
          "stroll",
          "perez",
          "tsunoda",
          "albon",
          "kevin_magnussen",
          "ricciardo",
          "zhou",
          "bottas",
          "leclerc",
          "piastri",
          "norris",
          "russell",
          "perez",
          "stroll",
          "tsunoda",
          "albon",
          "kevin_magnussen",
          "hulkenberg",
          "ricciardo",
          "zhou",
          "bottas",
          "ocon",
          "sainz",
          "leclerc",
          "piastri",
          "norris",
          "alonso",
          "russell",
          "perez",
          "stroll",
          "tsunoda",
          "albon",
          "kevin_magnussen",
          "hulkenberg",
          "ricciardo",
          "zhou",
          "gasly",
          "bottas",
          "ocon",
          "sainz",
          "leclerc",
          "piastri",
          "norris",
          "alonso",
          "russell",
          "perez",
          "stroll",
          "tsunoda",
          "albon",
          "kevin_magnussen",
          "hulkenberg",
          "ricciardo",
          "zhou",
          "gasly",
          "bottas",
          "ocon",
          "sainz",
          "leclerc",
          "piastri",
          "norris",
          "alonso",
          "perez",
          "russell",
          "stroll",
          "tsunoda",
          "albon",
          "kevin_magnussen",
          "hulkenberg",
          "ricciardo",
          "zhou",
          "gasly",
          "bottas",
          "ocon",
          "sainz",
          "leclerc",
          "piastri",
          "norris",
          "alonso",
          "perez",
          "russell",
          "stroll",
          "tsunoda",
          "albon",
          "kevin_magnussen",
          "hulkenberg",
          "ricciardo",
          "zhou",
          "gasly",
          "bottas",
          "ocon",
          "sainz",
          "leclerc",
          "piastri",
          "norris",
          "alonso",
          "perez",
          "russell",
          "stroll",
          "tsunoda",
          "albon",
          "hulkenberg",
          "kevin_magnussen",
          "ricciardo",
          "zhou",
          "gasly",
          "bottas",
          "ocon",
          "sainz",
          "leclerc",
          "piastri",
          "norris",
          "alonso",
          "perez",
          "russell",
          "stroll",
          "tsunoda",
          "albon",
          "hulkenberg",
          "kevin_magnussen",
          "ricciardo",
          "zhou",
          "gasly",
          "bottas",
          "ocon",
          "sainz",
          "leclerc",
          "piastri",
          "norris",
          "alonso",
          "perez",
          "russell",
          "stroll",
          "tsunoda",
          "albon",
          "hulkenberg",
          "kevin_magnussen",
          "ricciardo",
          "zhou",
          "gasly",
          "bottas",
          "ocon",
          "leclerc",
          "piastri",
          "norris",
          "alonso",
          "perez",
          "russell",
          "stroll",
          "tsunoda",
          "albon",
          "hulkenberg",
          "kevin_magnussen",
          "ricciardo",
          "zhou",
          "gasly",
          "bottas",
          "ocon",
          "sainz",
          "leclerc",
          "piastri",
          "norris",
          "perez",
          "alonso",
          "russell",
          "stroll",
          "tsunoda",
          "hulkenberg",
          "kevin_magnussen",
          "ricciardo",
          "zhou",
          "gasly",
          "bottas",
          "ocon",
          "sainz",
          "leclerc",
          "piastri",
          "norris",
          "perez",
          "alonso",
          "russell",
          "stroll",
          "tsunoda",
          "hulkenberg",
          "kevin_magnussen",
          "ricciardo",
          "zhou",
          "gasly",
          "bottas",
          "ocon",
          "sainz",
          "leclerc",
          "norris",
          "piastri",
          "perez",
          "alonso",
          "russell",
          "stroll",
          "tsunoda",
          "hulkenberg",
          "kevin_magnussen",
          "zhou",
          "gasly",
          "albon",
          "bottas",
          "ocon",
          "sainz",
          "leclerc",
          "norris",
          "piastri",
          "perez",
          "alonso",
          "russell",
          "stroll",
          "tsunoda",
          "hulkenberg",
          "kevin_magnussen",
          "zhou",
          "gasly",
          "albon",
          "bottas",
          "ocon",
          "sainz",
          "leclerc",
          "norris",
          "piastri",
          "perez",
          "alonso",
          "russell",
          "stroll",
          "tsunoda",
          "hulkenberg",
          "kevin_magnussen",
          "zhou",
          "gasly",
          "albon",
          "bottas",
          "ocon",
          "ricciardo",
          "sainz",
          "leclerc",
          "norris",
          "piastri",
          "perez",
          "alonso",
          "russell",
          "stroll",
          "tsunoda",
          "hulkenberg",
          "kevin_magnussen",
          "zhou",
          "gasly",
          "albon",
          "bottas",
          "ocon",
          "ricciardo",
          "sainz",
          "leclerc",
          "norris",
          "piastri",
          "perez",
          "alonso",
          "russell",
          "stroll",
          "tsunoda",
          "hulkenberg",
          "zhou",
          "gasly",
          "albon",
          "bottas",
          "ocon",
          "ricciardo",
          "sainz",
          "norris",
          "piastri",
          "perez",
          "alonso",
          "russell",
          "stroll",
          "tsunoda",
          "hulkenberg",
          "zhou",
          "gasly",
          "albon",
          "kevin_magnussen",
          "bottas",
          "ocon",
          "ricciardo",
          "sainz",
          "norris",
          "piastri",
          "leclerc",
          "alonso",
          "russell",
          "stroll",
          "tsunoda",
          "gasly",
          "albon",
          "kevin_magnussen",
          "bottas",
          "ocon",
          "ricciardo",
          "sainz",
          "norris",
          "piastri",
          "leclerc",
          "alonso",
          "russell",
          "stroll",
          "perez",
          "gasly",
          "hulkenberg",
          "albon",
          "kevin_magnussen",
          "ocon",
          "ricciardo",
          "zhou",
          "sainz",
          "norris",
          "piastri",
          "alonso",
          "russell",
          "perez",
          "gasly",
          "tsunoda",
          "hulkenberg",
          "albon",
          "kevin_magnussen",
          "ocon",
          "ricciardo",
          "bottas",
          "zhou",
          "sainz",
          "norris",
          "piastri",
          "alonso",
          "russell",
          "perez",
          "stroll",
          "gasly",
          "tsunoda",
          "hulkenberg",
          "albon",
          "kevin_magnussen",
          "ricciardo",
          "ocon",
          "bottas",
          "zhou",
          "sainz",
          "norris",
          "alonso",
          "russell",
          "perez",
          "stroll",
          "gasly",
          "tsunoda",
          "hulkenberg",
          "albon",
          "kevin_magnussen",
          "ricciardo",
          "ocon",
          "bottas",
          "zhou",
          "sainz",
          "alonso",
          "piastri",
          "russell",
          "stroll",
          "tsunoda",
          "gasly",
          "hulkenberg",
          "albon",
          "kevin_magnussen",
          "ricciardo",
          "ocon",
          "bottas",
          "zhou",
          "norris",
          "piastri",
          "russell",
          "stroll",
          "tsunoda",
          "hulkenberg",
          "albon",
          "kevin_magnussen",
          "ricciardo",
          "ocon",
          "bottas",
          "zhou",
          "sainz",
          "russell",
          "perez",
          "alonso",
          "stroll",
          "tsunoda",
          "hulkenberg",
          "albon",
          "kevin_magnussen",
          "ricciardo",
          "gasly",
          "bottas",
          "zhou",
          "russell",
          "alonso",
          "stroll",
          "tsunoda",
          "hulkenberg",
          "albon",
          "kevin_magnussen",
          "ricciardo",
          "gasly",
          "bottas",
          "zhou",
          "ocon",
          "russell",
          "alonso",
          "stroll",
          "tsunoda",
          "hulkenberg",
          "albon",
          "ricciardo",
          "gasly",
          "bottas",
          "zhou",
          "ocon",
          "alonso",
          "stroll",
          "tsunoda",
          "hulkenberg",
          "kevin_magnussen",
          "albon",
          "ricciardo",
          "gasly",
          "bottas",
          "zhou",
          "ocon",
          "alonso",
          "russell",
          "stroll",
          "tsunoda",
          "hulkenberg",
          "kevin_magnussen",
          "albon",
          "ricciardo",
          "gasly",
          "bottas",
          "zhou",
          "ocon",
          "alonso",
          "tsunoda",
          "hulkenberg",
          "kevin_magnussen",
          "albon",
          "ricciardo",
          "gasly",
          "bottas",
          "zhou",
          "ocon",
          "alonso",
          "stroll",
          "tsunoda",
          "hulkenberg",
          "kevin_magnussen",
          "albon",
          "ricciardo",
          "gasly",
          "bottas",
          "zhou",
          "ocon",
          "alonso",
          "tsunoda",
          "hulkenberg",
          "kevin_magnussen",
          "albon",
          "ricciardo",
          "gasly",
          "bottas",
          "zhou",
          "ocon",
          "tsunoda",
          "hulkenberg",
          "kevin_magnussen",
          "albon",
          "ricciardo",
          "gasly",
          "bottas",
          "zhou",
          "ocon",
          "stroll",
          "tsunoda",
          "hulkenberg",
          "kevin_magnussen",
          "albon",
          "ricciardo",
          "bottas",
          "zhou",
          "ocon",
          "perez",
          "stroll",
          "tsunoda",
          "hulkenberg",
          "kevin_magnussen",
          "albon",
          "ricciardo",
          "gasly",
          "bottas",
          "zhou",
          "ocon",
          "perez",
          "tsunoda",
          "hulkenberg",
          "kevin_magnussen",
          "albon",
          "ricciardo",
          "gasly",
          "bottas",
          "zhou",
          "ocon",
          "perez",
          "russell",
          "stroll",
          "tsunoda",
          "hulkenberg",
          "kevin_magnussen",
          "albon",
          "ricciardo",
          "gasly",
          "bottas",
          "zhou",
          "ocon",
          "perez",
          "stroll",
          "tsunoda",
          "hulkenberg",
          "kevin_magnussen",
          "albon",
          "ricciardo",
          "gasly",
          "bottas",
          "zhou",
          "ocon",
          "sainz",
          "perez",
          "stroll",
          "tsunoda",
          "hulkenberg",
          "kevin_magnussen",
          "albon",
          "ricciardo",
          "gasly",
          "bottas",
          "zhou",
          "piastri"
         ],
         "x0": " ",
         "xaxis": "x",
         "y": [
          87.458,
          88.375,
          82.6,
          84.099,
          83.18299999999999,
          83.014,
          83.232,
          83.34700000000001,
          83.381,
          83.551,
          83.807,
          84.055,
          84.28399999999999,
          84.344,
          84.248,
          84.536,
          84.68,
          84.707,
          84.649,
          84.826,
          84.379,
          83.006,
          83.115,
          82.656,
          82.776,
          82.669,
          83.037,
          83.16499999999999,
          83.196,
          83.203,
          83.07,
          82.97800000000001,
          83.27199999999999,
          83.565,
          83.606,
          83.577,
          83.576,
          83.851,
          83.84,
          83.912,
          82.43299999999999,
          82.60900000000001,
          82.519,
          82.581,
          83.571,
          83.398,
          83.45400000000001,
          83.434,
          83.436,
          83.742,
          83.705,
          83.529,
          83.438,
          83.574,
          83.731,
          83.7,
          84.095,
          83.94800000000001,
          82.629,
          82.685,
          82.632,
          82.594,
          83.172,
          83.364,
          83.337,
          83.31,
          83.556,
          83.294,
          83.56,
          83.961,
          83.916,
          83.78399999999999,
          84.465,
          84.526,
          84.161,
          82.572,
          82.632,
          82.673,
          82.582,
          83.119,
          83.024,
          83.027,
          83.445,
          83.16499999999999,
          83.196,
          83.122,
          83.95400000000001,
          83.84100000000001,
          83.747,
          83.912,
          82.434,
          82.744,
          82.684,
          82.877,
          82.764,
          82.804,
          83.019,
          82.864,
          82.795,
          83.738,
          83.19800000000001,
          83.868,
          83.445,
          88.447,
          84.03999999999999,
          82.303,
          82.63,
          82.983,
          83.05199999999999,
          83.048,
          83.381,
          82.769,
          82.98,
          83.838,
          83.879,
          88.164,
          83.72,
          83.608,
          84.402,
          82.025,
          82.727,
          82.97,
          83.345,
          83.856,
          83.82900000000001,
          88.331,
          87.945,
          82.555,
          83.645,
          83.662,
          83.491,
          83.624,
          81.715,
          82.695,
          82.68,
          82.608,
          83.777,
          83.856,
          87.861,
          87.799,
          82.737,
          82.883,
          84.295,
          83.852,
          83.67099999999999,
          83.245,
          83.66,
          83.161,
          81.938,
          82.936,
          82.92099999999999,
          82.939,
          82.64699999999999,
          85.07,
          82.72800000000001,
          85.39699999999999,
          82.71600000000001,
          82.718,
          82.444,
          82.898,
          83.254,
          83.339,
          83.322,
          83.083,
          83.447,
          83.44,
          82.175,
          82.814,
          83.70400000000001,
          82.904,
          81.84100000000001,
          82.94800000000001,
          84.824,
          84.625,
          83.02199999999999,
          83.063,
          83.041,
          82.799,
          82.767,
          82.882,
          83.11,
          83.05799999999999,
          83.17699999999999,
          82.976,
          82.205,
          83.15299999999999,
          83.664,
          83.187,
          82.22200000000001,
          82.426,
          83.953,
          84.049,
          83.438,
          83.322,
          83.246,
          83.032,
          83.18299999999999,
          82.956,
          83.063,
          82.904,
          83.471,
          83.15899999999999,
          82.487,
          83.455,
          81.952,
          81.968,
          83.965,
          84.104,
          83.39,
          83.106,
          82.712,
          82.82300000000001,
          82.97800000000001,
          83.119,
          82.905,
          82.877,
          83.30199999999999,
          83.395,
          82.62,
          83.138,
          81.735,
          81.961,
          88.205,
          84.281,
          84.1,
          84.086,
          83.45,
          87.90899999999999,
          84.14099999999999,
          83.336,
          83.027,
          83.09100000000001,
          83.668,
          82.83,
          83.32900000000001,
          83.32900000000001,
          83.239,
          82.247,
          82.015,
          81.936,
          84.025,
          83.366,
          85.367,
          84.65,
          84.122,
          83.252,
          82.963,
          83.561,
          83.143,
          83.339,
          84.119,
          88.896,
          88.994,
          87.418,
          87.166,
          84.269,
          86.001,
          84.892,
          84.344,
          83.125,
          87.95400000000001,
          85.117,
          84.958,
          82.60900000000001,
          82.587,
          81.811,
          81.881,
          81.871,
          82.356,
          82.928,
          82.4,
          81.84,
          83.105,
          82.994,
          83.02199999999999,
          82.848,
          82.247,
          83.024,
          83.537,
          83.922,
          82.59700000000001,
          82.88,
          81.602,
          81.885,
          82.08500000000001,
          81.642,
          82.831,
          82.434,
          81.711,
          82.922,
          83.048,
          82.607,
          82.809,
          82.406,
          83.127,
          83.069,
          83.662,
          82.694,
          82.814,
          81.931,
          82.05799999999999,
          81.923,
          81.907,
          82.70400000000001,
          82.051,
          83.429,
          82.628,
          82.968,
          83.066,
          82.86,
          82.479,
          83.187,
          83.473,
          83.241,
          82.439,
          82.663,
          81.471,
          81.72200000000001,
          82.013,
          81.749,
          82.47800000000001,
          81.869,
          82.838,
          82.905,
          82.673,
          83.301,
          83.315,
          82.439,
          83.105,
          83.431,
          83.045,
          82.72200000000001,
          82.803,
          81.531,
          81.932,
          81.81700000000001,
          81.745,
          82.441,
          81.849,
          83.012,
          82.861,
          82.953,
          83.19800000000001,
          82.152,
          84.285,
          83.012,
          83.264,
          82.929,
          82.34,
          82.713,
          81.458,
          81.852,
          81.83,
          81.562,
          82.287,
          81.527,
          82.94200000000001,
          82.852,
          83.026,
          83.513,
          82.52799999999999,
          83.33,
          83.292,
          83.196,
          83.001,
          82.91,
          82.759,
          81.243,
          81.951,
          81.59700000000001,
          81.713,
          82.708,
          81.495,
          82.703,
          82.941,
          83.001,
          83.67099999999999,
          82.974,
          83.502,
          83.547,
          83.031,
          82.93299999999999,
          82.551,
          82.797,
          82.042,
          82.243,
          81.611,
          82.988,
          82.246,
          82.885,
          83.294,
          83.30199999999999,
          83.525,
          83.693,
          83.485,
          83.357,
          83.062,
          83.015,
          83.06700000000001,
          82.892,
          81.457,
          81.822,
          82.287,
          81.976,
          81.557,
          83.257,
          83.138,
          83.19200000000001,
          83.248,
          83.385,
          83.525,
          83.885,
          83.09700000000001,
          82.904,
          82.934,
          82.901,
          81.44,
          81.969,
          82.20400000000001,
          81.837,
          82.152,
          82.259,
          83.096,
          83.059,
          83.075,
          83.338,
          83.467,
          83.863,
          83.023,
          82.674,
          82.94800000000001,
          83.108,
          81.489,
          82.43299999999999,
          81.864,
          83.479,
          82.126,
          81.98,
          82.663,
          83.135,
          83.498,
          83.167,
          83.456,
          82.602,
          82.708,
          82.792,
          82.83500000000001,
          83.117,
          81.623,
          82.28399999999999,
          81.982,
          82.52,
          82.18,
          82.175,
          82.663,
          83.124,
          83.382,
          83.299,
          83.407,
          82.989,
          82.99,
          82.898,
          82.998,
          83.03999999999999,
          81.282,
          81.996,
          81.848,
          82.133,
          82.35900000000001,
          82.355,
          82.515,
          83.521,
          83.367,
          83.139,
          83.21600000000001,
          82.826,
          82.727,
          82.949,
          83.01,
          82.92099999999999,
          82.938,
          81.205,
          81.84100000000001,
          81.574,
          81.989,
          82.441,
          82.491,
          82.71000000000001,
          83.157,
          83.39,
          82.892,
          83.396,
          83.17,
          83.245,
          82.901,
          82.89699999999999,
          82.90899999999999,
          82.738,
          81.495,
          82.02199999999999,
          81.69200000000001,
          82.1,
          82.566,
          82.649,
          82.461,
          83.26599999999999,
          83.226,
          82.91,
          83.246,
          83.215,
          83.188,
          82.851,
          82.996,
          82.443,
          81.717,
          81.769,
          82.238,
          82.962,
          82.918,
          82.35300000000001,
          83.114,
          83.32300000000001,
          83.143,
          83.068,
          83.036,
          83.061,
          88.539,
          86.453,
          85.483,
          82.709,
          81.721,
          81.51,
          82.059,
          87.951,
          85.73,
          82.59100000000001,
          83.398,
          83.289,
          83.225,
          83.135,
          82.34,
          83.446,
          83.239,
          83.49,
          82.018,
          81.446,
          82.047,
          81.94200000000001,
          82.714,
          82.537,
          83.207,
          87.672,
          82.84,
          87.3,
          84.486,
          82.10900000000001,
          84.94,
          85.131,
          88.57,
          81.971,
          81.662,
          81.89,
          82.862,
          82.408,
          81.218,
          83.326,
          89.144,
          81.63,
          82.918,
          82.261,
          82.834,
          82.438,
          88.154,
          82.598,
          81.412,
          81.518,
          85.203,
          82.566,
          82.175,
          81.245,
          87.84700000000001,
          85.10900000000001,
          81.924,
          82.025,
          82.154,
          82.08500000000001,
          82.38,
          83.627,
          81.755,
          82.43,
          81.554,
          81.901,
          82.77199999999999,
          82.167,
          81.44800000000001,
          82.042,
          83.01599999999999,
          82.247,
          81.896,
          82.011,
          81.845,
          82.172,
          82.706,
          81.646,
          82.008,
          81.443,
          82.714,
          86.93,
          82.473,
          82.1,
          83.218,
          85.02,
          82.82300000000001,
          81.74,
          81.771,
          81.387,
          82.989,
          81.533,
          81.908,
          86.576,
          81.424,
          82.319,
          82.244,
          81.764,
          82.01599999999999,
          83.574,
          83.189,
          81.608,
          83.162,
          82.008,
          83.999,
          87.215,
          82.257,
          81.35,
          87.34700000000001,
          81.82900000000001,
          81.78399999999999,
          82.173,
          81.73,
          81.914,
          81.888,
          88.17099999999999,
          85.18,
          82.195,
          82.111,
          81.724,
          81.72200000000001,
          81.928,
          81.90899999999999,
          82.292,
          82.053,
          81.648,
          84.419,
          82.889,
          83.827,
          88.206,
          82.09700000000001,
          81.394,
          81.992,
          81.824,
          81.73,
          82.499,
          81.313,
          81.447,
          83.241,
          82.14699999999999,
          81.59700000000001,
          81.45400000000001,
          81.60300000000001,
          81.696,
          81.532,
          81.637,
          81.907,
          81.33,
          82.07900000000001,
          81.711,
          81.60900000000001,
          81.354,
          81.344,
          86.434,
          81.431,
          81.134,
          81.145,
          81.463,
          81.618,
          81.239,
          81.22,
          81.554,
          81.663,
          83.041,
          81.18299999999999,
          81.254,
          81.629,
          81.538,
          81.845,
          81.3,
          81.275,
          81.583,
          81.776,
          81.464,
          81.34700000000001,
          81.10900000000001,
          81.174,
          81.602,
          81.67,
          81.92699999999999,
          81.492,
          81.211,
          81.422,
          83.135,
          81.549,
          81.122,
          81.303,
          81.72800000000001,
          81.386,
          81.918,
          81.606,
          81.34,
          81.457,
          81.327,
          81.678,
          81.285,
          82.102,
          81.666,
          82.219,
          81.782,
          81.22200000000001,
          83.898,
          81.831,
          81.633,
          81.121,
          81.568,
          81.73,
          81.42,
          82.319,
          81.769,
          81.649,
          81.83,
          81.951,
          81.15,
          81.213,
          81.64699999999999,
          81.781,
          81.631,
          82.184,
          81.884,
          81.161,
          82.056,
          82.06,
          82.155,
          81.544,
          81.553,
          81.758,
          81.663,
          82.399,
          84.232,
          81.324,
          81.82,
          82.184,
          82.207,
          81.63,
          81.194,
          81.13,
          81.71600000000001,
          82.021,
          85.255,
          84.131,
          82.568,
          83.03399999999999,
          82.029,
          82.06700000000001,
          82.229,
          81.616,
          81.27199999999999,
          81.67699999999999,
          82.697,
          84.951,
          82.312,
          83.611,
          81.42699999999999,
          82.01,
          81.798,
          82.304,
          81.098,
          81.849,
          81.233,
          81.812,
          82.274,
          83.19800000000001,
          84.19,
          83.839,
          86.911,
          88.05,
          88.05799999999999,
          85.255
         ],
         "y0": " ",
         "yaxis": "y"
        }
       ],
       "layout": {
        "boxmode": "group",
        "hoverlabel": {
         "bgcolor": "white",
         "font": {
          "family": "Arial",
          "size": 12
         }
        },
        "legend": {
         "tracegroupgap": 0
        },
        "paper_bgcolor": "lightgray",
        "plot_bgcolor": "white",
        "template": {
         "data": {
          "bar": [
           {
            "error_x": {
             "color": "#2a3f5f"
            },
            "error_y": {
             "color": "#2a3f5f"
            },
            "marker": {
             "line": {
              "color": "#E5ECF6",
              "width": 0.5
             },
             "pattern": {
              "fillmode": "overlay",
              "size": 10,
              "solidity": 0.2
             }
            },
            "type": "bar"
           }
          ],
          "barpolar": [
           {
            "marker": {
             "line": {
              "color": "#E5ECF6",
              "width": 0.5
             },
             "pattern": {
              "fillmode": "overlay",
              "size": 10,
              "solidity": 0.2
             }
            },
            "type": "barpolar"
           }
          ],
          "carpet": [
           {
            "aaxis": {
             "endlinecolor": "#2a3f5f",
             "gridcolor": "white",
             "linecolor": "white",
             "minorgridcolor": "white",
             "startlinecolor": "#2a3f5f"
            },
            "baxis": {
             "endlinecolor": "#2a3f5f",
             "gridcolor": "white",
             "linecolor": "white",
             "minorgridcolor": "white",
             "startlinecolor": "#2a3f5f"
            },
            "type": "carpet"
           }
          ],
          "choropleth": [
           {
            "colorbar": {
             "outlinewidth": 0,
             "ticks": ""
            },
            "type": "choropleth"
           }
          ],
          "contour": [
           {
            "colorbar": {
             "outlinewidth": 0,
             "ticks": ""
            },
            "colorscale": [
             [
              0,
              "#0d0887"
             ],
             [
              0.1111111111111111,
              "#46039f"
             ],
             [
              0.2222222222222222,
              "#7201a8"
             ],
             [
              0.3333333333333333,
              "#9c179e"
             ],
             [
              0.4444444444444444,
              "#bd3786"
             ],
             [
              0.5555555555555556,
              "#d8576b"
             ],
             [
              0.6666666666666666,
              "#ed7953"
             ],
             [
              0.7777777777777778,
              "#fb9f3a"
             ],
             [
              0.8888888888888888,
              "#fdca26"
             ],
             [
              1,
              "#f0f921"
             ]
            ],
            "type": "contour"
           }
          ],
          "contourcarpet": [
           {
            "colorbar": {
             "outlinewidth": 0,
             "ticks": ""
            },
            "type": "contourcarpet"
           }
          ],
          "heatmap": [
           {
            "colorbar": {
             "outlinewidth": 0,
             "ticks": ""
            },
            "colorscale": [
             [
              0,
              "#0d0887"
             ],
             [
              0.1111111111111111,
              "#46039f"
             ],
             [
              0.2222222222222222,
              "#7201a8"
             ],
             [
              0.3333333333333333,
              "#9c179e"
             ],
             [
              0.4444444444444444,
              "#bd3786"
             ],
             [
              0.5555555555555556,
              "#d8576b"
             ],
             [
              0.6666666666666666,
              "#ed7953"
             ],
             [
              0.7777777777777778,
              "#fb9f3a"
             ],
             [
              0.8888888888888888,
              "#fdca26"
             ],
             [
              1,
              "#f0f921"
             ]
            ],
            "type": "heatmap"
           }
          ],
          "heatmapgl": [
           {
            "colorbar": {
             "outlinewidth": 0,
             "ticks": ""
            },
            "colorscale": [
             [
              0,
              "#0d0887"
             ],
             [
              0.1111111111111111,
              "#46039f"
             ],
             [
              0.2222222222222222,
              "#7201a8"
             ],
             [
              0.3333333333333333,
              "#9c179e"
             ],
             [
              0.4444444444444444,
              "#bd3786"
             ],
             [
              0.5555555555555556,
              "#d8576b"
             ],
             [
              0.6666666666666666,
              "#ed7953"
             ],
             [
              0.7777777777777778,
              "#fb9f3a"
             ],
             [
              0.8888888888888888,
              "#fdca26"
             ],
             [
              1,
              "#f0f921"
             ]
            ],
            "type": "heatmapgl"
           }
          ],
          "histogram": [
           {
            "marker": {
             "pattern": {
              "fillmode": "overlay",
              "size": 10,
              "solidity": 0.2
             }
            },
            "type": "histogram"
           }
          ],
          "histogram2d": [
           {
            "colorbar": {
             "outlinewidth": 0,
             "ticks": ""
            },
            "colorscale": [
             [
              0,
              "#0d0887"
             ],
             [
              0.1111111111111111,
              "#46039f"
             ],
             [
              0.2222222222222222,
              "#7201a8"
             ],
             [
              0.3333333333333333,
              "#9c179e"
             ],
             [
              0.4444444444444444,
              "#bd3786"
             ],
             [
              0.5555555555555556,
              "#d8576b"
             ],
             [
              0.6666666666666666,
              "#ed7953"
             ],
             [
              0.7777777777777778,
              "#fb9f3a"
             ],
             [
              0.8888888888888888,
              "#fdca26"
             ],
             [
              1,
              "#f0f921"
             ]
            ],
            "type": "histogram2d"
           }
          ],
          "histogram2dcontour": [
           {
            "colorbar": {
             "outlinewidth": 0,
             "ticks": ""
            },
            "colorscale": [
             [
              0,
              "#0d0887"
             ],
             [
              0.1111111111111111,
              "#46039f"
             ],
             [
              0.2222222222222222,
              "#7201a8"
             ],
             [
              0.3333333333333333,
              "#9c179e"
             ],
             [
              0.4444444444444444,
              "#bd3786"
             ],
             [
              0.5555555555555556,
              "#d8576b"
             ],
             [
              0.6666666666666666,
              "#ed7953"
             ],
             [
              0.7777777777777778,
              "#fb9f3a"
             ],
             [
              0.8888888888888888,
              "#fdca26"
             ],
             [
              1,
              "#f0f921"
             ]
            ],
            "type": "histogram2dcontour"
           }
          ],
          "mesh3d": [
           {
            "colorbar": {
             "outlinewidth": 0,
             "ticks": ""
            },
            "type": "mesh3d"
           }
          ],
          "parcoords": [
           {
            "line": {
             "colorbar": {
              "outlinewidth": 0,
              "ticks": ""
             }
            },
            "type": "parcoords"
           }
          ],
          "pie": [
           {
            "automargin": true,
            "type": "pie"
           }
          ],
          "scatter": [
           {
            "fillpattern": {
             "fillmode": "overlay",
             "size": 10,
             "solidity": 0.2
            },
            "type": "scatter"
           }
          ],
          "scatter3d": [
           {
            "line": {
             "colorbar": {
              "outlinewidth": 0,
              "ticks": ""
             }
            },
            "marker": {
             "colorbar": {
              "outlinewidth": 0,
              "ticks": ""
             }
            },
            "type": "scatter3d"
           }
          ],
          "scattercarpet": [
           {
            "marker": {
             "colorbar": {
              "outlinewidth": 0,
              "ticks": ""
             }
            },
            "type": "scattercarpet"
           }
          ],
          "scattergeo": [
           {
            "marker": {
             "colorbar": {
              "outlinewidth": 0,
              "ticks": ""
             }
            },
            "type": "scattergeo"
           }
          ],
          "scattergl": [
           {
            "marker": {
             "colorbar": {
              "outlinewidth": 0,
              "ticks": ""
             }
            },
            "type": "scattergl"
           }
          ],
          "scattermapbox": [
           {
            "marker": {
             "colorbar": {
              "outlinewidth": 0,
              "ticks": ""
             }
            },
            "type": "scattermapbox"
           }
          ],
          "scatterpolar": [
           {
            "marker": {
             "colorbar": {
              "outlinewidth": 0,
              "ticks": ""
             }
            },
            "type": "scatterpolar"
           }
          ],
          "scatterpolargl": [
           {
            "marker": {
             "colorbar": {
              "outlinewidth": 0,
              "ticks": ""
             }
            },
            "type": "scatterpolargl"
           }
          ],
          "scatterternary": [
           {
            "marker": {
             "colorbar": {
              "outlinewidth": 0,
              "ticks": ""
             }
            },
            "type": "scatterternary"
           }
          ],
          "surface": [
           {
            "colorbar": {
             "outlinewidth": 0,
             "ticks": ""
            },
            "colorscale": [
             [
              0,
              "#0d0887"
             ],
             [
              0.1111111111111111,
              "#46039f"
             ],
             [
              0.2222222222222222,
              "#7201a8"
             ],
             [
              0.3333333333333333,
              "#9c179e"
             ],
             [
              0.4444444444444444,
              "#bd3786"
             ],
             [
              0.5555555555555556,
              "#d8576b"
             ],
             [
              0.6666666666666666,
              "#ed7953"
             ],
             [
              0.7777777777777778,
              "#fb9f3a"
             ],
             [
              0.8888888888888888,
              "#fdca26"
             ],
             [
              1,
              "#f0f921"
             ]
            ],
            "type": "surface"
           }
          ],
          "table": [
           {
            "cells": {
             "fill": {
              "color": "#EBF0F8"
             },
             "line": {
              "color": "white"
             }
            },
            "header": {
             "fill": {
              "color": "#C8D4E3"
             },
             "line": {
              "color": "white"
             }
            },
            "type": "table"
           }
          ]
         },
         "layout": {
          "annotationdefaults": {
           "arrowcolor": "#2a3f5f",
           "arrowhead": 0,
           "arrowwidth": 1
          },
          "autotypenumbers": "strict",
          "coloraxis": {
           "colorbar": {
            "outlinewidth": 0,
            "ticks": ""
           }
          },
          "colorscale": {
           "diverging": [
            [
             0,
             "#8e0152"
            ],
            [
             0.1,
             "#c51b7d"
            ],
            [
             0.2,
             "#de77ae"
            ],
            [
             0.3,
             "#f1b6da"
            ],
            [
             0.4,
             "#fde0ef"
            ],
            [
             0.5,
             "#f7f7f7"
            ],
            [
             0.6,
             "#e6f5d0"
            ],
            [
             0.7,
             "#b8e186"
            ],
            [
             0.8,
             "#7fbc41"
            ],
            [
             0.9,
             "#4d9221"
            ],
            [
             1,
             "#276419"
            ]
           ],
           "sequential": [
            [
             0,
             "#0d0887"
            ],
            [
             0.1111111111111111,
             "#46039f"
            ],
            [
             0.2222222222222222,
             "#7201a8"
            ],
            [
             0.3333333333333333,
             "#9c179e"
            ],
            [
             0.4444444444444444,
             "#bd3786"
            ],
            [
             0.5555555555555556,
             "#d8576b"
            ],
            [
             0.6666666666666666,
             "#ed7953"
            ],
            [
             0.7777777777777778,
             "#fb9f3a"
            ],
            [
             0.8888888888888888,
             "#fdca26"
            ],
            [
             1,
             "#f0f921"
            ]
           ],
           "sequentialminus": [
            [
             0,
             "#0d0887"
            ],
            [
             0.1111111111111111,
             "#46039f"
            ],
            [
             0.2222222222222222,
             "#7201a8"
            ],
            [
             0.3333333333333333,
             "#9c179e"
            ],
            [
             0.4444444444444444,
             "#bd3786"
            ],
            [
             0.5555555555555556,
             "#d8576b"
            ],
            [
             0.6666666666666666,
             "#ed7953"
            ],
            [
             0.7777777777777778,
             "#fb9f3a"
            ],
            [
             0.8888888888888888,
             "#fdca26"
            ],
            [
             1,
             "#f0f921"
            ]
           ]
          },
          "colorway": [
           "#636efa",
           "#EF553B",
           "#00cc96",
           "#ab63fa",
           "#FFA15A",
           "#19d3f3",
           "#FF6692",
           "#B6E880",
           "#FF97FF",
           "#FECB52"
          ],
          "font": {
           "color": "#2a3f5f"
          },
          "geo": {
           "bgcolor": "white",
           "lakecolor": "white",
           "landcolor": "#E5ECF6",
           "showlakes": true,
           "showland": true,
           "subunitcolor": "white"
          },
          "hoverlabel": {
           "align": "left"
          },
          "hovermode": "closest",
          "mapbox": {
           "style": "light"
          },
          "paper_bgcolor": "white",
          "plot_bgcolor": "#E5ECF6",
          "polar": {
           "angularaxis": {
            "gridcolor": "white",
            "linecolor": "white",
            "ticks": ""
           },
           "bgcolor": "#E5ECF6",
           "radialaxis": {
            "gridcolor": "white",
            "linecolor": "white",
            "ticks": ""
           }
          },
          "scene": {
           "xaxis": {
            "backgroundcolor": "#E5ECF6",
            "gridcolor": "white",
            "gridwidth": 2,
            "linecolor": "white",
            "showbackground": true,
            "ticks": "",
            "zerolinecolor": "white"
           },
           "yaxis": {
            "backgroundcolor": "#E5ECF6",
            "gridcolor": "white",
            "gridwidth": 2,
            "linecolor": "white",
            "showbackground": true,
            "ticks": "",
            "zerolinecolor": "white"
           },
           "zaxis": {
            "backgroundcolor": "#E5ECF6",
            "gridcolor": "white",
            "gridwidth": 2,
            "linecolor": "white",
            "showbackground": true,
            "ticks": "",
            "zerolinecolor": "white"
           }
          },
          "shapedefaults": {
           "line": {
            "color": "#2a3f5f"
           }
          },
          "ternary": {
           "aaxis": {
            "gridcolor": "white",
            "linecolor": "white",
            "ticks": ""
           },
           "baxis": {
            "gridcolor": "white",
            "linecolor": "white",
            "ticks": ""
           },
           "bgcolor": "#E5ECF6",
           "caxis": {
            "gridcolor": "white",
            "linecolor": "white",
            "ticks": ""
           }
          },
          "title": {
           "x": 0.05
          },
          "xaxis": {
           "automargin": true,
           "gridcolor": "white",
           "linecolor": "white",
           "ticks": "",
           "title": {
            "standoff": 15
           },
           "zerolinecolor": "white",
           "zerolinewidth": 2
          },
          "yaxis": {
           "automargin": true,
           "gridcolor": "white",
           "linecolor": "white",
           "ticks": "",
           "title": {
            "standoff": 15
           },
           "zerolinecolor": "white",
           "zerolinewidth": 2
          }
         }
        },
        "title": {
         "font": {
          "size": 20
         },
         "text": "Filtered Lap Times per Driver - Australian Grand Prix, Season 2024, Round 3",
         "x": 0.5
        },
        "xaxis": {
         "anchor": "y",
         "domain": [
          0,
          1
         ],
         "title": {
          "text": "Driver"
         }
        },
        "yaxis": {
         "anchor": "x",
         "domain": [
          0,
          1
         ],
         "title": {
          "text": "Lap Time (seconds)"
         }
        }
       }
      }
     },
     "metadata": {},
     "output_type": "display_data"
    }
   ],
   "source": [
    "def plot_driver_lap_times(year, round_num, lower_percentile=5, upper_percentile=95):\n",
    "    \"\"\"Plots a box plot of lap times for all drivers in a given race, filtering out extreme outliers.\"\"\"\n",
    "    \n",
    "    # Load the lap times and race schedule data\n",
    "    lap_times_df = load_lap_times_data()\n",
    "    race_schedule_df = pd.read_csv('race_schedule.csv')  # Assuming race_schedule.csv is available\n",
    "    \n",
    "    # Filter the race schedule to get the race name\n",
    "    race_name = race_schedule_df[(race_schedule_df['season'] == year) & \n",
    "                                 (race_schedule_df['round'] == round_num)]['raceName'].values[0]\n",
    "    \n",
    "    # Filter lap times for the specific year and round\n",
    "    lap_times_df = lap_times_df[(lap_times_df['season'] == year) & (lap_times_df['round'] == round_num)]\n",
    "    \n",
    "    # Convert the time column to seconds\n",
    "    lap_times_df['lap_time_seconds'] = lap_times_df['time'].apply(convert_time_to_seconds)\n",
    "    \n",
    "    # Calculate lap time limits based on percentiles\n",
    "    lower_limit = lap_times_df['lap_time_seconds'].quantile(lower_percentile / 100)\n",
    "    upper_limit = lap_times_df['lap_time_seconds'].quantile(upper_percentile / 100)\n",
    "    \n",
    "    # Filter lap times to exclude outliers\n",
    "    lap_times_filtered = lap_times_df[\n",
    "        (lap_times_df['lap_time_seconds'] >= lower_limit) &\n",
    "        (lap_times_df['lap_time_seconds'] <= upper_limit)\n",
    "    ]\n",
    "    \n",
    "    # Create the box plot\n",
    "    fig = px.box(\n",
    "        lap_times_filtered,\n",
    "        x='driverId',\n",
    "        y='lap_time_seconds',\n",
    "        title=f'Filtered Lap Times per Driver - {race_name}, Season {year}, Round {round_num}',\n",
    "        labels={'lap_time_seconds': 'Lap Time (seconds)', 'driverId': 'Driver'}\n",
    "    )\n",
    "    \n",
    "    # Update layout for better readability\n",
    "    fig.update_layout(\n",
    "        xaxis_title='Driver',\n",
    "        yaxis_title='Lap Time (seconds)',\n",
    "        title_x=0.5,\n",
    "        title_font=dict(size=20),\n",
    "        plot_bgcolor='white',\n",
    "        paper_bgcolor='lightgray',\n",
    "        hoverlabel=dict(bgcolor=\"white\", font_size=12, font_family=\"Arial\")\n",
    "    )\n",
    "    \n",
    "    return fig\n",
    "\n",
    "plot_driver_lap_times(2024, 3, 10, 90)"
   ]
  },
  {
   "cell_type": "code",
   "execution_count": 161,
   "metadata": {},
   "outputs": [],
   "source": [
    "def impute_lap_times_lap_count_based(driver_id, season, round_num, df_lap_times, df_race_results, race_schedule):\n",
    "    \"\"\"Imputes missing lap times based on lap count, ensuring the same Grand Prix is used for previous seasons.\"\"\"\n",
    "    \n",
    "    # Load driver lap times for the given race\n",
    "    driver_lap_times = df_lap_times[(df_lap_times['driverId'] == driver_id) &\n",
    "                                    (df_lap_times['season'] == season) &\n",
    "                                    (df_lap_times['round'] == round_num)]\n",
    "    \n",
    "    # Get the maximum number of laps in this race round\n",
    "    max_laps_in_race = df_lap_times[(df_lap_times['season'] == season) & \n",
    "                                    (df_lap_times['round'] == round_num)]['lap'].max()\n",
    "    \n",
    "    # Get the maximum number of laps for this driver\n",
    "    max_laps_for_driver = driver_lap_times['lap'].max()\n",
    "    \n",
    "    # Filter the race schedule by season, round, and raceName\n",
    "    race_schedule = race_schedule[['season', 'round', 'raceName']]\n",
    "    \n",
    "    # Load the race name for the current season and round\n",
    "    current_race_name = race_schedule[(race_schedule['season'] == season) &\n",
    "                                      (race_schedule['round'] == round_num)]['raceName'].values[0]\n",
    "    \n",
    "    # Proceed with imputation if the driver did not complete all laps\n",
    "    if max_laps_for_driver < max_laps_in_race:\n",
    "        # Get lap times from previous seasons for this same Grand Prix\n",
    "        previous_lap_times = df_lap_times.merge(race_schedule, on=['season', 'round'])\n",
    "        previous_lap_times = previous_lap_times[(previous_lap_times['driverId'] == driver_id) &\n",
    "                                                (previous_lap_times['raceName'] == current_race_name) &\n",
    "                                                (previous_lap_times['season'] < season)]\n",
    "        \n",
    "        # Convert the time column to seconds\n",
    "        previous_lap_times['lap_time_seconds'] = previous_lap_times['time'].apply(convert_time_to_seconds)\n",
    "        \n",
    "        if not previous_lap_times.empty:\n",
    "            median_lap_time = previous_lap_times['lap_time_seconds'].median()\n",
    "            \n",
    "            # Identify missing laps in the current race\n",
    "            current_laps = driver_lap_times['lap'].unique()\n",
    "            missing_laps = set(range(1, max_laps_in_race + 1)) - set(current_laps)\n",
    "            \n",
    "            # Impute missing laps with the median lap time\n",
    "            for lap in missing_laps:\n",
    "                new_lap = {\n",
    "                    'season': season,\n",
    "                    'round': round_num,\n",
    "                    'lap': lap,\n",
    "                    'position': None,\n",
    "                    'driverId': driver_id,\n",
    "                    'time': median_lap_time\n",
    "                }\n",
    "                df_lap_times = df_lap_times.append(new_lap, ignore_index=True)\n",
    "    \n",
    "    return df_lap_times"
   ]
  },
  {
   "cell_type": "code",
   "execution_count": 239,
   "metadata": {},
   "outputs": [
    {
     "data": {
      "application/vnd.plotly.v1+json": {
       "config": {
        "plotlyServerURL": "https://plot.ly"
       },
       "data": [
        {
         "hovertemplate": "Lap Number=%{x}<br>Lap Time (seconds)=%{y}<extra></extra>",
         "legendgroup": "",
         "marker": {
          "color": "#636efa",
          "symbol": "circle"
         },
         "mode": "markers",
         "name": "",
         "orientation": "v",
         "showlegend": false,
         "type": "scatter",
         "x": [
          0,
          1,
          2,
          3,
          4,
          5,
          6,
          7,
          8,
          9,
          10,
          11,
          12,
          13,
          14,
          15,
          16,
          17,
          18,
          19,
          20,
          21,
          22,
          23,
          24,
          25,
          26,
          27,
          28,
          29,
          30,
          31,
          32,
          33,
          34,
          35,
          36,
          37,
          38,
          39,
          40,
          41,
          42,
          43,
          44,
          45,
          46,
          47,
          48,
          49,
          50,
          51,
          52,
          53,
          54,
          55,
          56,
          57,
          58,
          59,
          60,
          61,
          62,
          63,
          64,
          65,
          66,
          67,
          68,
          69,
          70,
          71,
          72,
          73,
          74,
          75,
          76,
          77,
          78,
          79,
          80,
          81,
          82,
          83,
          84,
          85,
          86,
          87,
          88,
          89,
          90,
          91,
          92,
          93,
          94,
          95,
          96,
          97,
          98,
          99,
          100,
          101,
          102,
          103,
          104,
          105,
          106,
          107,
          108,
          109,
          110,
          111,
          112,
          113,
          114,
          115,
          116,
          117,
          118,
          119,
          120,
          121,
          122,
          123,
          124,
          125,
          126,
          127,
          128,
          129,
          130,
          131,
          132,
          133,
          134,
          135,
          136,
          137,
          138,
          139,
          140,
          141,
          142,
          143,
          144,
          145,
          146,
          147,
          148,
          149,
          150,
          151,
          152,
          153,
          154,
          155,
          156,
          157,
          158,
          159,
          160
         ],
         "xaxis": "x",
         "y": [
          106.17699999999999,
          99.25,
          99.26599999999999,
          95.852,
          96.551,
          95.825,
          95.818,
          95.907,
          102.354,
          147.675,
          142.383,
          164.326,
          204.891,
          199.187,
          125.491,
          97.049,
          95.575,
          95.12,
          94.76599999999999,
          94.699,
          115.61699999999999,
          109.205,
          94.708,
          94.727,
          110.281,
          95.382,
          123.542,
          124.984,
          126.64,
          118.181,
          94.041,
          93.569,
          110.932,
          93.96600000000001,
          95.178,
          93.36500000000001,
          93.65,
          93.381,
          93.32900000000001,
          93.223,
          93.075,
          93.70400000000001,
          93.35900000000001,
          93.483,
          93.018,
          92.844,
          93.565,
          103.828,
          98.731,
          97.586,
          97.575,
          97.87,
          97.422,
          97.27799999999999,
          97.282,
          97.799,
          98.223,
          99.149,
          98.36500000000001,
          101.85900000000001,
          116.297,
          97.836,
          126.144,
          126.975,
          150.078,
          154.042,
          139.202,
          98.809,
          97.787,
          96.685,
          96.241,
          96.287,
          96.38499999999999,
          96.195,
          96.209,
          96.024,
          95.839,
          95.449,
          95.431,
          95.663,
          95.161,
          95.15299999999999,
          95.315,
          95.48599999999999,
          124.891,
          126.48,
          109.721,
          94.68,
          94.81,
          95.32,
          95.205,
          95.191,
          94.446,
          94.48400000000001,
          122.768,
          98.205,
          99.093,
          96.324,
          95.239,
          95.56,
          95.471,
          95.551,
          95.14,
          95.616,
          96.118,
          95.443,
          95.512,
          96.52199999999999,
          98.543,
          114.305,
          96.262,
          96.485,
          102.429,
          96.094,
          95.78999999999999,
          95.735,
          95.56,
          98.80898276054582,
          96.47485503105867,
          98.1911762199857,
          99.29866275406266,
          97.66449264188456,
          97.30547282239921,
          97.61739987780355,
          97.02473659898212,
          96.91845389435103,
          97.01799543237873,
          96.68632702126541,
          96.57198497954063,
          97.0639214695434,
          97.09996408624086,
          97.32701276431362,
          97.47171099067289,
          97.30786679275901,
          97.22183174964361,
          97.1969418034688,
          97.12247579740419,
          97.11209948097938,
          97.11886192551728,
          97.07719259385523,
          97.0728442558673,
          97.11374374872685,
          97.1380768733402,
          97.17699308315468,
          97.19980216260323,
          97.18551243961723,
          97.16955571439247,
          97.15707383864861,
          97.14463563146042,
          97.14234803099106,
          97.14275396123416,
          97.13901297500783,
          97.13885100251854,
          97.14272017090512,
          97.14725446514365,
          97.15368229957411,
          97.1577848278495,
          97.1570605032975,
          97.15455167590939,
          97.15165413426364,
          97.14922942708485
         ],
         "yaxis": "y"
        }
       ],
       "layout": {
        "legend": {
         "tracegroupgap": 0
        },
        "template": {
         "data": {
          "bar": [
           {
            "error_x": {
             "color": "#2a3f5f"
            },
            "error_y": {
             "color": "#2a3f5f"
            },
            "marker": {
             "line": {
              "color": "#E5ECF6",
              "width": 0.5
             },
             "pattern": {
              "fillmode": "overlay",
              "size": 10,
              "solidity": 0.2
             }
            },
            "type": "bar"
           }
          ],
          "barpolar": [
           {
            "marker": {
             "line": {
              "color": "#E5ECF6",
              "width": 0.5
             },
             "pattern": {
              "fillmode": "overlay",
              "size": 10,
              "solidity": 0.2
             }
            },
            "type": "barpolar"
           }
          ],
          "carpet": [
           {
            "aaxis": {
             "endlinecolor": "#2a3f5f",
             "gridcolor": "white",
             "linecolor": "white",
             "minorgridcolor": "white",
             "startlinecolor": "#2a3f5f"
            },
            "baxis": {
             "endlinecolor": "#2a3f5f",
             "gridcolor": "white",
             "linecolor": "white",
             "minorgridcolor": "white",
             "startlinecolor": "#2a3f5f"
            },
            "type": "carpet"
           }
          ],
          "choropleth": [
           {
            "colorbar": {
             "outlinewidth": 0,
             "ticks": ""
            },
            "type": "choropleth"
           }
          ],
          "contour": [
           {
            "colorbar": {
             "outlinewidth": 0,
             "ticks": ""
            },
            "colorscale": [
             [
              0,
              "#0d0887"
             ],
             [
              0.1111111111111111,
              "#46039f"
             ],
             [
              0.2222222222222222,
              "#7201a8"
             ],
             [
              0.3333333333333333,
              "#9c179e"
             ],
             [
              0.4444444444444444,
              "#bd3786"
             ],
             [
              0.5555555555555556,
              "#d8576b"
             ],
             [
              0.6666666666666666,
              "#ed7953"
             ],
             [
              0.7777777777777778,
              "#fb9f3a"
             ],
             [
              0.8888888888888888,
              "#fdca26"
             ],
             [
              1,
              "#f0f921"
             ]
            ],
            "type": "contour"
           }
          ],
          "contourcarpet": [
           {
            "colorbar": {
             "outlinewidth": 0,
             "ticks": ""
            },
            "type": "contourcarpet"
           }
          ],
          "heatmap": [
           {
            "colorbar": {
             "outlinewidth": 0,
             "ticks": ""
            },
            "colorscale": [
             [
              0,
              "#0d0887"
             ],
             [
              0.1111111111111111,
              "#46039f"
             ],
             [
              0.2222222222222222,
              "#7201a8"
             ],
             [
              0.3333333333333333,
              "#9c179e"
             ],
             [
              0.4444444444444444,
              "#bd3786"
             ],
             [
              0.5555555555555556,
              "#d8576b"
             ],
             [
              0.6666666666666666,
              "#ed7953"
             ],
             [
              0.7777777777777778,
              "#fb9f3a"
             ],
             [
              0.8888888888888888,
              "#fdca26"
             ],
             [
              1,
              "#f0f921"
             ]
            ],
            "type": "heatmap"
           }
          ],
          "heatmapgl": [
           {
            "colorbar": {
             "outlinewidth": 0,
             "ticks": ""
            },
            "colorscale": [
             [
              0,
              "#0d0887"
             ],
             [
              0.1111111111111111,
              "#46039f"
             ],
             [
              0.2222222222222222,
              "#7201a8"
             ],
             [
              0.3333333333333333,
              "#9c179e"
             ],
             [
              0.4444444444444444,
              "#bd3786"
             ],
             [
              0.5555555555555556,
              "#d8576b"
             ],
             [
              0.6666666666666666,
              "#ed7953"
             ],
             [
              0.7777777777777778,
              "#fb9f3a"
             ],
             [
              0.8888888888888888,
              "#fdca26"
             ],
             [
              1,
              "#f0f921"
             ]
            ],
            "type": "heatmapgl"
           }
          ],
          "histogram": [
           {
            "marker": {
             "pattern": {
              "fillmode": "overlay",
              "size": 10,
              "solidity": 0.2
             }
            },
            "type": "histogram"
           }
          ],
          "histogram2d": [
           {
            "colorbar": {
             "outlinewidth": 0,
             "ticks": ""
            },
            "colorscale": [
             [
              0,
              "#0d0887"
             ],
             [
              0.1111111111111111,
              "#46039f"
             ],
             [
              0.2222222222222222,
              "#7201a8"
             ],
             [
              0.3333333333333333,
              "#9c179e"
             ],
             [
              0.4444444444444444,
              "#bd3786"
             ],
             [
              0.5555555555555556,
              "#d8576b"
             ],
             [
              0.6666666666666666,
              "#ed7953"
             ],
             [
              0.7777777777777778,
              "#fb9f3a"
             ],
             [
              0.8888888888888888,
              "#fdca26"
             ],
             [
              1,
              "#f0f921"
             ]
            ],
            "type": "histogram2d"
           }
          ],
          "histogram2dcontour": [
           {
            "colorbar": {
             "outlinewidth": 0,
             "ticks": ""
            },
            "colorscale": [
             [
              0,
              "#0d0887"
             ],
             [
              0.1111111111111111,
              "#46039f"
             ],
             [
              0.2222222222222222,
              "#7201a8"
             ],
             [
              0.3333333333333333,
              "#9c179e"
             ],
             [
              0.4444444444444444,
              "#bd3786"
             ],
             [
              0.5555555555555556,
              "#d8576b"
             ],
             [
              0.6666666666666666,
              "#ed7953"
             ],
             [
              0.7777777777777778,
              "#fb9f3a"
             ],
             [
              0.8888888888888888,
              "#fdca26"
             ],
             [
              1,
              "#f0f921"
             ]
            ],
            "type": "histogram2dcontour"
           }
          ],
          "mesh3d": [
           {
            "colorbar": {
             "outlinewidth": 0,
             "ticks": ""
            },
            "type": "mesh3d"
           }
          ],
          "parcoords": [
           {
            "line": {
             "colorbar": {
              "outlinewidth": 0,
              "ticks": ""
             }
            },
            "type": "parcoords"
           }
          ],
          "pie": [
           {
            "automargin": true,
            "type": "pie"
           }
          ],
          "scatter": [
           {
            "fillpattern": {
             "fillmode": "overlay",
             "size": 10,
             "solidity": 0.2
            },
            "type": "scatter"
           }
          ],
          "scatter3d": [
           {
            "line": {
             "colorbar": {
              "outlinewidth": 0,
              "ticks": ""
             }
            },
            "marker": {
             "colorbar": {
              "outlinewidth": 0,
              "ticks": ""
             }
            },
            "type": "scatter3d"
           }
          ],
          "scattercarpet": [
           {
            "marker": {
             "colorbar": {
              "outlinewidth": 0,
              "ticks": ""
             }
            },
            "type": "scattercarpet"
           }
          ],
          "scattergeo": [
           {
            "marker": {
             "colorbar": {
              "outlinewidth": 0,
              "ticks": ""
             }
            },
            "type": "scattergeo"
           }
          ],
          "scattergl": [
           {
            "marker": {
             "colorbar": {
              "outlinewidth": 0,
              "ticks": ""
             }
            },
            "type": "scattergl"
           }
          ],
          "scattermapbox": [
           {
            "marker": {
             "colorbar": {
              "outlinewidth": 0,
              "ticks": ""
             }
            },
            "type": "scattermapbox"
           }
          ],
          "scatterpolar": [
           {
            "marker": {
             "colorbar": {
              "outlinewidth": 0,
              "ticks": ""
             }
            },
            "type": "scatterpolar"
           }
          ],
          "scatterpolargl": [
           {
            "marker": {
             "colorbar": {
              "outlinewidth": 0,
              "ticks": ""
             }
            },
            "type": "scatterpolargl"
           }
          ],
          "scatterternary": [
           {
            "marker": {
             "colorbar": {
              "outlinewidth": 0,
              "ticks": ""
             }
            },
            "type": "scatterternary"
           }
          ],
          "surface": [
           {
            "colorbar": {
             "outlinewidth": 0,
             "ticks": ""
            },
            "colorscale": [
             [
              0,
              "#0d0887"
             ],
             [
              0.1111111111111111,
              "#46039f"
             ],
             [
              0.2222222222222222,
              "#7201a8"
             ],
             [
              0.3333333333333333,
              "#9c179e"
             ],
             [
              0.4444444444444444,
              "#bd3786"
             ],
             [
              0.5555555555555556,
              "#d8576b"
             ],
             [
              0.6666666666666666,
              "#ed7953"
             ],
             [
              0.7777777777777778,
              "#fb9f3a"
             ],
             [
              0.8888888888888888,
              "#fdca26"
             ],
             [
              1,
              "#f0f921"
             ]
            ],
            "type": "surface"
           }
          ],
          "table": [
           {
            "cells": {
             "fill": {
              "color": "#EBF0F8"
             },
             "line": {
              "color": "white"
             }
            },
            "header": {
             "fill": {
              "color": "#C8D4E3"
             },
             "line": {
              "color": "white"
             }
            },
            "type": "table"
           }
          ]
         },
         "layout": {
          "annotationdefaults": {
           "arrowcolor": "#2a3f5f",
           "arrowhead": 0,
           "arrowwidth": 1
          },
          "autotypenumbers": "strict",
          "coloraxis": {
           "colorbar": {
            "outlinewidth": 0,
            "ticks": ""
           }
          },
          "colorscale": {
           "diverging": [
            [
             0,
             "#8e0152"
            ],
            [
             0.1,
             "#c51b7d"
            ],
            [
             0.2,
             "#de77ae"
            ],
            [
             0.3,
             "#f1b6da"
            ],
            [
             0.4,
             "#fde0ef"
            ],
            [
             0.5,
             "#f7f7f7"
            ],
            [
             0.6,
             "#e6f5d0"
            ],
            [
             0.7,
             "#b8e186"
            ],
            [
             0.8,
             "#7fbc41"
            ],
            [
             0.9,
             "#4d9221"
            ],
            [
             1,
             "#276419"
            ]
           ],
           "sequential": [
            [
             0,
             "#0d0887"
            ],
            [
             0.1111111111111111,
             "#46039f"
            ],
            [
             0.2222222222222222,
             "#7201a8"
            ],
            [
             0.3333333333333333,
             "#9c179e"
            ],
            [
             0.4444444444444444,
             "#bd3786"
            ],
            [
             0.5555555555555556,
             "#d8576b"
            ],
            [
             0.6666666666666666,
             "#ed7953"
            ],
            [
             0.7777777777777778,
             "#fb9f3a"
            ],
            [
             0.8888888888888888,
             "#fdca26"
            ],
            [
             1,
             "#f0f921"
            ]
           ],
           "sequentialminus": [
            [
             0,
             "#0d0887"
            ],
            [
             0.1111111111111111,
             "#46039f"
            ],
            [
             0.2222222222222222,
             "#7201a8"
            ],
            [
             0.3333333333333333,
             "#9c179e"
            ],
            [
             0.4444444444444444,
             "#bd3786"
            ],
            [
             0.5555555555555556,
             "#d8576b"
            ],
            [
             0.6666666666666666,
             "#ed7953"
            ],
            [
             0.7777777777777778,
             "#fb9f3a"
            ],
            [
             0.8888888888888888,
             "#fdca26"
            ],
            [
             1,
             "#f0f921"
            ]
           ]
          },
          "colorway": [
           "#636efa",
           "#EF553B",
           "#00cc96",
           "#ab63fa",
           "#FFA15A",
           "#19d3f3",
           "#FF6692",
           "#B6E880",
           "#FF97FF",
           "#FECB52"
          ],
          "font": {
           "color": "#2a3f5f"
          },
          "geo": {
           "bgcolor": "white",
           "lakecolor": "white",
           "landcolor": "#E5ECF6",
           "showlakes": true,
           "showland": true,
           "subunitcolor": "white"
          },
          "hoverlabel": {
           "align": "left"
          },
          "hovermode": "closest",
          "mapbox": {
           "style": "light"
          },
          "paper_bgcolor": "white",
          "plot_bgcolor": "#E5ECF6",
          "polar": {
           "angularaxis": {
            "gridcolor": "white",
            "linecolor": "white",
            "ticks": ""
           },
           "bgcolor": "#E5ECF6",
           "radialaxis": {
            "gridcolor": "white",
            "linecolor": "white",
            "ticks": ""
           }
          },
          "scene": {
           "xaxis": {
            "backgroundcolor": "#E5ECF6",
            "gridcolor": "white",
            "gridwidth": 2,
            "linecolor": "white",
            "showbackground": true,
            "ticks": "",
            "zerolinecolor": "white"
           },
           "yaxis": {
            "backgroundcolor": "#E5ECF6",
            "gridcolor": "white",
            "gridwidth": 2,
            "linecolor": "white",
            "showbackground": true,
            "ticks": "",
            "zerolinecolor": "white"
           },
           "zaxis": {
            "backgroundcolor": "#E5ECF6",
            "gridcolor": "white",
            "gridwidth": 2,
            "linecolor": "white",
            "showbackground": true,
            "ticks": "",
            "zerolinecolor": "white"
           }
          },
          "shapedefaults": {
           "line": {
            "color": "#2a3f5f"
           }
          },
          "ternary": {
           "aaxis": {
            "gridcolor": "white",
            "linecolor": "white",
            "ticks": ""
           },
           "baxis": {
            "gridcolor": "white",
            "linecolor": "white",
            "ticks": ""
           },
           "bgcolor": "#E5ECF6",
           "caxis": {
            "gridcolor": "white",
            "linecolor": "white",
            "ticks": ""
           }
          },
          "title": {
           "x": 0.05
          },
          "xaxis": {
           "automargin": true,
           "gridcolor": "white",
           "linecolor": "white",
           "ticks": "",
           "title": {
            "standoff": 15
           },
           "zerolinecolor": "white",
           "zerolinewidth": 2
          },
          "yaxis": {
           "automargin": true,
           "gridcolor": "white",
           "linecolor": "white",
           "ticks": "",
           "title": {
            "standoff": 15
           },
           "zerolinecolor": "white",
           "zerolinewidth": 2
          }
         }
        },
        "title": {
         "text": "Lap Times Scatter Plot"
        },
        "xaxis": {
         "anchor": "y",
         "domain": [
          0,
          1
         ],
         "title": {
          "text": "Lap Number"
         }
        },
        "yaxis": {
         "anchor": "x",
         "domain": [
          0,
          1
         ],
         "title": {
          "text": "Lap Time (seconds)"
         }
        }
       }
      }
     },
     "metadata": {},
     "output_type": "display_data"
    }
   ],
   "source": [
    "from statsmodels.tsa.arima.model import ARIMA\n",
    "\n",
    "def impute_lap_times_arima(driver_id, season, round_num, df_lap_times, df_race_results, race_schedule):\n",
    "    \"\"\"Imputes missing lap times based on a time series ARIMA model, with outlier filtering.\"\"\"\n",
    "    \n",
    "    # Get available lap times for the given race and driver\n",
    "    driver_lap_times = df_lap_times[(df_lap_times['driverId'] == driver_id) &\n",
    "                                    (df_lap_times['season'] == season) &\n",
    "                                    (df_lap_times['round'] == round_num)]\n",
    "    \n",
    "    max_laps_in_race = df_lap_times[(df_lap_times['season'] == season) &\n",
    "                                    (df_lap_times['round'] == round_num)]['lap'].max()\n",
    "    max_laps_for_driver = driver_lap_times['lap'].max()\n",
    "    \n",
    "    # Ensure the same Grand Prix in previous seasons\n",
    "    current_race_name = race_schedule[(race_schedule['season'] == season) &\n",
    "                                      (race_schedule['round'] == round_num)]['raceName'].values[0]\n",
    "    previous_lap_times = df_lap_times.merge(race_schedule[['season', 'round', 'raceName']], on=['season', 'round'])\n",
    "    previous_lap_times = previous_lap_times[(previous_lap_times['driverId'] == driver_id) &\n",
    "                                            (previous_lap_times['raceName'] == current_race_name) &\n",
    "                                            (previous_lap_times['season'] <= season)]\n",
    "    \n",
    "    # Convert time column to seconds\n",
    "    previous_lap_times['lap_time_seconds'] = previous_lap_times['time'].apply(convert_time_to_seconds)\n",
    "    \n",
    "    # Filter out extreme lap times based on lower and upper percentiles\n",
    "    lower_percentile = 1\n",
    "    upper_percentile = 99\n",
    "    lower_limit = previous_lap_times['lap_time_seconds'].quantile(lower_percentile / 100)\n",
    "    upper_limit = previous_lap_times['lap_time_seconds'].quantile(upper_percentile / 100)\n",
    "    \n",
    "    previous_lap_times_filtered = previous_lap_times[\n",
    "        (previous_lap_times['lap_time_seconds'] >= lower_limit) &\n",
    "        (previous_lap_times['lap_time_seconds'] <= upper_limit)\n",
    "    ]\n",
    "    \n",
    "    if max_laps_for_driver < max_laps_in_race and not previous_lap_times_filtered.empty:\n",
    "        available_lap_times = previous_lap_times['lap_time_seconds'].reset_index(drop=True)\n",
    "\n",
    "        # Train the ARIMA model (p, d, q) need tuning based on data\n",
    "        model = ARIMA(available_lap_times, order=(10, 1, 0))\n",
    "        model_fit = model.fit()\n",
    "\n",
    "        # Forecast the number of laps we are missing\n",
    "        n_forecasts = max_laps_in_race - max_laps_for_driver\n",
    "        forecasted_laps = model_fit.forecast(steps=n_forecasts)\n",
    "\n",
    "        # Impute the missing lap times\n",
    "        missing_laps = sorted(set(range(1, max_laps_in_race + 1)) - set(driver_lap_times['lap'].unique()))\n",
    "        imputed_laps = pd.DataFrame([{\n",
    "                'season': season,\n",
    "                'round': round_num,\n",
    "                'lap': lap,\n",
    "                'position': None,\n",
    "                'driverId': driver_id,\n",
    "                'lap_time_seconds': forecast\n",
    "            } for lap, forecast in zip(missing_laps, forecasted_laps)])\n",
    "\n",
    "        # Concatenate imputed laps with driver lap times\n",
    "        combined_driver_lap_times = pd.concat([driver_lap_times, imputed_laps], ignore_index=True)\n",
    "        # Concatenate the historical lap times with current and imputed lap times\n",
    "        final_combined_lap_times = pd.concat([previous_lap_times, combined_driver_lap_times], ignore_index=True)\n",
    "\n",
    "        return final_combined_lap_times\n",
    "\n",
    "    # If no imputation is needed or no historical data is available, return driver_lap_times and previous_lap_times combined\n",
    "    return pd.concat([previous_lap_times, driver_lap_times], ignore_index=True)\n",
    "\n",
    "driver_id = 'stroll'\n",
    "season = 2024\n",
    "round_num = 2\n",
    "df_lap_times = load_lap_times_data()\n",
    "df_race_results = load_race_results_data()\n",
    "race_schedule = load_race_schedule_data()\n",
    "df = impute_lap_times_arima(driver_id, season, round_num, df_lap_times, df_race_results, race_schedule)\n",
    "\n",
    "lower_percentile=1\n",
    "upper_percentile=99\n",
    "\n",
    "lower_limit = df['lap_time_seconds'].quantile(lower_percentile / 100)\n",
    "upper_limit = df['lap_time_seconds'].quantile(upper_percentile / 100)\n",
    "\n",
    "df = df[\n",
    "        (df['lap_time_seconds'] >= lower_limit) &\n",
    "        (df['lap_time_seconds'] <= upper_limit)\n",
    "    ]\n",
    "\n",
    "x_values = pd.Series(range(len(df)))\n",
    "\n",
    "fig = px.scatter(df, x=x_values, y='lap_time_seconds',\n",
    "                 title='Lap Times Scatter Plot', labels={'x': 'Lap Number', 'lap_time_seconds': 'Lap Time (seconds)'})\n",
    "fig.show()"
   ]
  },
  {
   "cell_type": "code",
   "execution_count": 231,
   "metadata": {},
   "outputs": [],
   "source": [
    "from statsmodels.tsa.holtwinters import ExponentialSmoothing\n",
    "\n",
    "def impute_lap_times_exponential_smoothing(driver_id, season, round_num, df_lap_times, race_schedule):\n",
    "    \"\"\"Imputes missing lap times based on an Exponential Smoothing model, with outlier filtering.\"\"\"\n",
    "    \n",
    "    # Get available lap times for the given race and driver\n",
    "    driver_lap_times = df_lap_times[(df_lap_times['driverId'] == driver_id) &\n",
    "                                    (df_lap_times['season'] == season) &\n",
    "                                    (df_lap_times['round'] == round_num)]\n",
    "    \n",
    "    max_laps_in_race = df_lap_times[(df_lap_times['season'] == season) &\n",
    "                                    (df_lap_times['round'] == round_num)]['lap'].max()\n",
    "    max_laps_for_driver = driver_lap_times['lap'].max()\n",
    "    \n",
    "    # Ensure the same Grand Prix in previous seasons\n",
    "    current_race_name = race_schedule[(race_schedule['season'] == season) &\n",
    "                                      (race_schedule['round'] == round_num)]['raceName'].values[0]\n",
    "    previous_lap_times = df_lap_times.merge(race_schedule[['season', 'round', 'raceName']], on=['season', 'round'])\n",
    "    previous_lap_times = previous_lap_times[(previous_lap_times['driverId'] == driver_id) &\n",
    "                                            (previous_lap_times['raceName'] == current_race_name) &\n",
    "                                            (previous_lap_times['season'] <= season)]\n",
    "    \n",
    "    # Convert time column to seconds\n",
    "    previous_lap_times['lap_time_seconds'] = previous_lap_times['time'].apply(convert_time_to_seconds)\n",
    "    \n",
    "    # Filter out extreme lap times based on lower and upper percentiles\n",
    "    lower_percentile = 1\n",
    "    upper_percentile = 99\n",
    "    lower_limit = previous_lap_times['lap_time_seconds'].quantile(lower_percentile / 100)\n",
    "    upper_limit = previous_lap_times['lap_time_seconds'].quantile(upper_percentile / 100)\n",
    "    \n",
    "    previous_lap_times_filtered = previous_lap_times[\n",
    "        (previous_lap_times['lap_time_seconds'] >= lower_limit) &\n",
    "        (previous_lap_times['lap_time_seconds'] <= upper_limit)\n",
    "    ]\n",
    "    \n",
    "    if max_laps_for_driver < max_laps_in_race and not previous_lap_times_filtered.empty:\n",
    "        available_lap_times = previous_lap_times_filtered['lap_time_seconds'].reset_index(drop=True)\n",
    "\n",
    "        # Train the Exponential Smoothing model (additive trend for more stable lap times)\n",
    "        model = ExponentialSmoothing(available_lap_times, trend='add', seasonal=None)\n",
    "        model_fit = model.fit()\n",
    "\n",
    "        # Forecast the number of laps we are missing\n",
    "        n_forecasts = max_laps_in_race - max_laps_for_driver\n",
    "        forecasted_laps = model_fit.forecast(steps=n_forecasts)\n",
    "\n",
    "        # Impute the missing lap times\n",
    "        missing_laps = sorted(set(range(1, max_laps_in_race + 1)) - set(driver_lap_times['lap'].unique()))\n",
    "        imputed_laps = pd.DataFrame([{\n",
    "                'season': season,\n",
    "                'round': round_num,\n",
    "                'lap': lap,\n",
    "                'position': None,\n",
    "                'driverId': driver_id,\n",
    "                'lap_time_seconds': forecast\n",
    "            } for lap, forecast in zip(missing_laps, forecasted_laps)])\n",
    "\n",
    "        # Concatenate imputed laps with driver lap times\n",
    "        combined_driver_lap_times = pd.concat([driver_lap_times, imputed_laps], ignore_index=True)\n",
    "        # Concatenate the historical lap times with current and imputed lap times\n",
    "        final_combined_lap_times = pd.concat([previous_lap_times, combined_driver_lap_times], ignore_index=True)\n",
    "\n",
    "        return final_combined_lap_times\n",
    "\n",
    "    # If no imputation is needed or no historical data is available, return driver_lap_times and previous_lap_times combined\n",
    "    return pd.concat([previous_lap_times, driver_lap_times], ignore_index=True)\n"
   ]
  },
  {
   "cell_type": "code",
   "execution_count": 391,
   "metadata": {},
   "outputs": [],
   "source": [
    "def impute_lap_times_mean_median(driver_id, season, round_num, df_lap_times, race_schedule, method='mean'):\n",
    "    \"\"\"Imputes missing lap times using mean or median imputation for a specific driver, season, and round.\"\"\"\n",
    "    \n",
    "    # Ensure the round number corresponds to the correct race name\n",
    "    race_name = race_schedule[(race_schedule['season'] == season) &\n",
    "                              (race_schedule['round'] == round_num)]['raceName'].values[0]\n",
    "    \n",
    "    # Collect historical lap times for the driver in the same race across all seasons\n",
    "    historical_lap_times = df_lap_times.merge(race_schedule[['season', 'round', 'raceName']], on=['season', 'round'])\n",
    "    historical_data = historical_lap_times[(historical_lap_times['driverId'] == driver_id) &\n",
    "                                           (historical_lap_times['raceName'] == race_name) &\n",
    "                                           (historical_lap_times['season'] < season)].copy()  # Make a copy here\n",
    "    \n",
    "    # Convert time to seconds\n",
    "    historical_data.loc[:, 'lap_time_seconds'] = historical_data['time'].apply(convert_time_to_seconds)\n",
    "    \n",
    "    # Filter out extreme lap times based on lower and upper percentiles\n",
    "    lower_limit = historical_data['lap_time_seconds'].quantile(0.01)\n",
    "    upper_limit = historical_data['lap_time_seconds'].quantile(0.99)\n",
    "    \n",
    "    filtered_data = historical_data[(historical_data['lap_time_seconds'] >= lower_limit) &\n",
    "                                    (historical_data['lap_time_seconds'] <= upper_limit)]\n",
    "    \n",
    "    # Determine the imputation value based on the selected method\n",
    "    if method == 'mean':\n",
    "        impute_value = filtered_data['lap_time_seconds'].mean()\n",
    "    elif method == 'median':\n",
    "        impute_value = filtered_data['lap_time_seconds'].median()\n",
    "    else:\n",
    "        raise ValueError(\"Invalid method specified. Use 'mean' or 'median'.\")\n",
    "    \n",
    "    # Get available lap times for the given race and driver\n",
    "    driver_lap_times = df_lap_times[(df_lap_times['driverId'] == driver_id) &\n",
    "                                    (df_lap_times['season'] == season) &\n",
    "                                    (df_lap_times['round'] == round_num)]\n",
    "    driver_lap_times = driver_lap_times.copy()\n",
    "    driver_lap_times.loc[:, 'lap_time_seconds'] = driver_lap_times['time'].apply(convert_time_to_seconds)\n",
    "    \n",
    "    max_laps_in_race = df_lap_times[(df_lap_times['season'] == season) &\n",
    "                                    (df_lap_times['round'] == round_num)]['lap'].max()\n",
    "    current_laps = driver_lap_times['lap'].unique()\n",
    "    missing_laps = sorted(set(range(1, max_laps_in_race + 1)) - set(current_laps))\n",
    "    \n",
    "    # Impute the missing laps with the chosen imputation value\n",
    "    imputed_laps = pd.DataFrame([{\n",
    "        'season': season,\n",
    "        'round': round_num,\n",
    "        'lap': lap,\n",
    "        'position': None,  # Position unknown for imputed laps\n",
    "        'driverId': driver_id,\n",
    "        'lap_time_seconds': impute_value\n",
    "    } for lap in missing_laps])\n",
    "    \n",
    "    # Combine the imputed laps with the existing lap times\n",
    "    combined_driver_lap_times = pd.concat([driver_lap_times, imputed_laps], ignore_index=True)\n",
    "    \n",
    "    return combined_driver_lap_times\n"
   ]
  },
  {
   "cell_type": "code",
   "execution_count": 400,
   "metadata": {},
   "outputs": [],
   "source": [
    "driver_id = 'sainz'\n",
    "season = 2024\n",
    "round_num = 9\n",
    "df = impute_lap_times_mean_median(driver_id, season, round_num, df_lap_times, race_schedule, method='median')\n"
   ]
  },
  {
   "cell_type": "markdown",
   "metadata": {},
   "source": [
    "### Pit stop"
   ]
  },
  {
   "cell_type": "code",
   "execution_count": 415,
   "metadata": {},
   "outputs": [
    {
     "data": {
      "application/vnd.plotly.v1+json": {
       "config": {
        "plotlyServerURL": "https://plot.ly"
       },
       "data": [
        {
         "alignmentgroup": "True",
         "hovertemplate": "Circuit=%{x}<br>Avg. Duration (s)=%{marker.color:.2f}<extra></extra>",
         "legendgroup": "",
         "marker": {
          "color": [
           19.1521875,
           24.98948,
           23.2393,
           23.7407,
           27.1043,
           21.764608695652175,
           24.46078125,
           23.805506024096385,
           23.12846511627907,
           27.671594594594595,
           23.651243243243243,
           24.534222222222223,
           22.57511111111111,
           22.167166666666663,
           23.568483870967743,
           29.32162962962963,
           31.898958333333336,
           23.9163,
           21.705333333333332,
           29.601583333333334,
           28.757714285714286,
           22.006945945945944
          ],
          "coloraxis": "coloraxis",
          "pattern": {
           "shape": ""
          }
         },
         "name": "",
         "offsetgroup": "",
         "orientation": "v",
         "showlegend": false,
         "textposition": "auto",
         "type": "bar",
         "x": [
          "Albert Park Grand Prix Circuit",
          "Autodromo Nazionale di Monza",
          "Autódromo Hermanos Rodríguez",
          "Autódromo José Carlos Pace",
          "Bahrain International Circuit",
          "Baku City Circuit",
          "Circuit Gilles Villeneuve",
          "Circuit Park Zandvoort",
          "Circuit de Barcelona-Catalunya",
          "Circuit de Monaco",
          "Circuit de Spa-Francorchamps",
          "Circuit of the Americas",
          "Hungaroring",
          "Jeddah Corniche Circuit",
          "Las Vegas Strip Street Circuit",
          "Losail International Circuit",
          "Marina Bay Street Circuit",
          "Miami International Autodrome",
          "Red Bull Ring",
          "Silverstone Circuit",
          "Suzuka Circuit",
          "Yas Marina Circuit"
         ],
         "xaxis": "x",
         "y": [
          19.1521875,
          24.98948,
          23.2393,
          23.7407,
          27.1043,
          21.764608695652175,
          24.46078125,
          23.805506024096385,
          23.12846511627907,
          27.671594594594595,
          23.651243243243243,
          24.534222222222223,
          22.57511111111111,
          22.167166666666663,
          23.568483870967743,
          29.32162962962963,
          31.898958333333336,
          23.9163,
          21.705333333333332,
          29.601583333333334,
          28.757714285714286,
          22.006945945945944
         ],
         "yaxis": "y"
        }
       ],
       "layout": {
        "barmode": "relative",
        "coloraxis": {
         "colorbar": {
          "title": {
           "text": "Avg. Duration (s)"
          }
         },
         "colorscale": [
          [
           0,
           "#440154"
          ],
          [
           0.1111111111111111,
           "#482878"
          ],
          [
           0.2222222222222222,
           "#3e4989"
          ],
          [
           0.3333333333333333,
           "#31688e"
          ],
          [
           0.4444444444444444,
           "#26828e"
          ],
          [
           0.5555555555555556,
           "#1f9e89"
          ],
          [
           0.6666666666666666,
           "#35b779"
          ],
          [
           0.7777777777777778,
           "#6ece58"
          ],
          [
           0.8888888888888888,
           "#b5de2b"
          ],
          [
           1,
           "#fde725"
          ]
         ]
        },
        "hoverlabel": {
         "bgcolor": "white",
         "font": {
          "family": "Arial",
          "size": 12
         }
        },
        "legend": {
         "tracegroupgap": 0
        },
        "paper_bgcolor": "lightgray",
        "plot_bgcolor": "white",
        "template": {
         "data": {
          "bar": [
           {
            "error_x": {
             "color": "#2a3f5f"
            },
            "error_y": {
             "color": "#2a3f5f"
            },
            "marker": {
             "line": {
              "color": "#E5ECF6",
              "width": 0.5
             },
             "pattern": {
              "fillmode": "overlay",
              "size": 10,
              "solidity": 0.2
             }
            },
            "type": "bar"
           }
          ],
          "barpolar": [
           {
            "marker": {
             "line": {
              "color": "#E5ECF6",
              "width": 0.5
             },
             "pattern": {
              "fillmode": "overlay",
              "size": 10,
              "solidity": 0.2
             }
            },
            "type": "barpolar"
           }
          ],
          "carpet": [
           {
            "aaxis": {
             "endlinecolor": "#2a3f5f",
             "gridcolor": "white",
             "linecolor": "white",
             "minorgridcolor": "white",
             "startlinecolor": "#2a3f5f"
            },
            "baxis": {
             "endlinecolor": "#2a3f5f",
             "gridcolor": "white",
             "linecolor": "white",
             "minorgridcolor": "white",
             "startlinecolor": "#2a3f5f"
            },
            "type": "carpet"
           }
          ],
          "choropleth": [
           {
            "colorbar": {
             "outlinewidth": 0,
             "ticks": ""
            },
            "type": "choropleth"
           }
          ],
          "contour": [
           {
            "colorbar": {
             "outlinewidth": 0,
             "ticks": ""
            },
            "colorscale": [
             [
              0,
              "#0d0887"
             ],
             [
              0.1111111111111111,
              "#46039f"
             ],
             [
              0.2222222222222222,
              "#7201a8"
             ],
             [
              0.3333333333333333,
              "#9c179e"
             ],
             [
              0.4444444444444444,
              "#bd3786"
             ],
             [
              0.5555555555555556,
              "#d8576b"
             ],
             [
              0.6666666666666666,
              "#ed7953"
             ],
             [
              0.7777777777777778,
              "#fb9f3a"
             ],
             [
              0.8888888888888888,
              "#fdca26"
             ],
             [
              1,
              "#f0f921"
             ]
            ],
            "type": "contour"
           }
          ],
          "contourcarpet": [
           {
            "colorbar": {
             "outlinewidth": 0,
             "ticks": ""
            },
            "type": "contourcarpet"
           }
          ],
          "heatmap": [
           {
            "colorbar": {
             "outlinewidth": 0,
             "ticks": ""
            },
            "colorscale": [
             [
              0,
              "#0d0887"
             ],
             [
              0.1111111111111111,
              "#46039f"
             ],
             [
              0.2222222222222222,
              "#7201a8"
             ],
             [
              0.3333333333333333,
              "#9c179e"
             ],
             [
              0.4444444444444444,
              "#bd3786"
             ],
             [
              0.5555555555555556,
              "#d8576b"
             ],
             [
              0.6666666666666666,
              "#ed7953"
             ],
             [
              0.7777777777777778,
              "#fb9f3a"
             ],
             [
              0.8888888888888888,
              "#fdca26"
             ],
             [
              1,
              "#f0f921"
             ]
            ],
            "type": "heatmap"
           }
          ],
          "heatmapgl": [
           {
            "colorbar": {
             "outlinewidth": 0,
             "ticks": ""
            },
            "colorscale": [
             [
              0,
              "#0d0887"
             ],
             [
              0.1111111111111111,
              "#46039f"
             ],
             [
              0.2222222222222222,
              "#7201a8"
             ],
             [
              0.3333333333333333,
              "#9c179e"
             ],
             [
              0.4444444444444444,
              "#bd3786"
             ],
             [
              0.5555555555555556,
              "#d8576b"
             ],
             [
              0.6666666666666666,
              "#ed7953"
             ],
             [
              0.7777777777777778,
              "#fb9f3a"
             ],
             [
              0.8888888888888888,
              "#fdca26"
             ],
             [
              1,
              "#f0f921"
             ]
            ],
            "type": "heatmapgl"
           }
          ],
          "histogram": [
           {
            "marker": {
             "pattern": {
              "fillmode": "overlay",
              "size": 10,
              "solidity": 0.2
             }
            },
            "type": "histogram"
           }
          ],
          "histogram2d": [
           {
            "colorbar": {
             "outlinewidth": 0,
             "ticks": ""
            },
            "colorscale": [
             [
              0,
              "#0d0887"
             ],
             [
              0.1111111111111111,
              "#46039f"
             ],
             [
              0.2222222222222222,
              "#7201a8"
             ],
             [
              0.3333333333333333,
              "#9c179e"
             ],
             [
              0.4444444444444444,
              "#bd3786"
             ],
             [
              0.5555555555555556,
              "#d8576b"
             ],
             [
              0.6666666666666666,
              "#ed7953"
             ],
             [
              0.7777777777777778,
              "#fb9f3a"
             ],
             [
              0.8888888888888888,
              "#fdca26"
             ],
             [
              1,
              "#f0f921"
             ]
            ],
            "type": "histogram2d"
           }
          ],
          "histogram2dcontour": [
           {
            "colorbar": {
             "outlinewidth": 0,
             "ticks": ""
            },
            "colorscale": [
             [
              0,
              "#0d0887"
             ],
             [
              0.1111111111111111,
              "#46039f"
             ],
             [
              0.2222222222222222,
              "#7201a8"
             ],
             [
              0.3333333333333333,
              "#9c179e"
             ],
             [
              0.4444444444444444,
              "#bd3786"
             ],
             [
              0.5555555555555556,
              "#d8576b"
             ],
             [
              0.6666666666666666,
              "#ed7953"
             ],
             [
              0.7777777777777778,
              "#fb9f3a"
             ],
             [
              0.8888888888888888,
              "#fdca26"
             ],
             [
              1,
              "#f0f921"
             ]
            ],
            "type": "histogram2dcontour"
           }
          ],
          "mesh3d": [
           {
            "colorbar": {
             "outlinewidth": 0,
             "ticks": ""
            },
            "type": "mesh3d"
           }
          ],
          "parcoords": [
           {
            "line": {
             "colorbar": {
              "outlinewidth": 0,
              "ticks": ""
             }
            },
            "type": "parcoords"
           }
          ],
          "pie": [
           {
            "automargin": true,
            "type": "pie"
           }
          ],
          "scatter": [
           {
            "fillpattern": {
             "fillmode": "overlay",
             "size": 10,
             "solidity": 0.2
            },
            "type": "scatter"
           }
          ],
          "scatter3d": [
           {
            "line": {
             "colorbar": {
              "outlinewidth": 0,
              "ticks": ""
             }
            },
            "marker": {
             "colorbar": {
              "outlinewidth": 0,
              "ticks": ""
             }
            },
            "type": "scatter3d"
           }
          ],
          "scattercarpet": [
           {
            "marker": {
             "colorbar": {
              "outlinewidth": 0,
              "ticks": ""
             }
            },
            "type": "scattercarpet"
           }
          ],
          "scattergeo": [
           {
            "marker": {
             "colorbar": {
              "outlinewidth": 0,
              "ticks": ""
             }
            },
            "type": "scattergeo"
           }
          ],
          "scattergl": [
           {
            "marker": {
             "colorbar": {
              "outlinewidth": 0,
              "ticks": ""
             }
            },
            "type": "scattergl"
           }
          ],
          "scattermapbox": [
           {
            "marker": {
             "colorbar": {
              "outlinewidth": 0,
              "ticks": ""
             }
            },
            "type": "scattermapbox"
           }
          ],
          "scatterpolar": [
           {
            "marker": {
             "colorbar": {
              "outlinewidth": 0,
              "ticks": ""
             }
            },
            "type": "scatterpolar"
           }
          ],
          "scatterpolargl": [
           {
            "marker": {
             "colorbar": {
              "outlinewidth": 0,
              "ticks": ""
             }
            },
            "type": "scatterpolargl"
           }
          ],
          "scatterternary": [
           {
            "marker": {
             "colorbar": {
              "outlinewidth": 0,
              "ticks": ""
             }
            },
            "type": "scatterternary"
           }
          ],
          "surface": [
           {
            "colorbar": {
             "outlinewidth": 0,
             "ticks": ""
            },
            "colorscale": [
             [
              0,
              "#0d0887"
             ],
             [
              0.1111111111111111,
              "#46039f"
             ],
             [
              0.2222222222222222,
              "#7201a8"
             ],
             [
              0.3333333333333333,
              "#9c179e"
             ],
             [
              0.4444444444444444,
              "#bd3786"
             ],
             [
              0.5555555555555556,
              "#d8576b"
             ],
             [
              0.6666666666666666,
              "#ed7953"
             ],
             [
              0.7777777777777778,
              "#fb9f3a"
             ],
             [
              0.8888888888888888,
              "#fdca26"
             ],
             [
              1,
              "#f0f921"
             ]
            ],
            "type": "surface"
           }
          ],
          "table": [
           {
            "cells": {
             "fill": {
              "color": "#EBF0F8"
             },
             "line": {
              "color": "white"
             }
            },
            "header": {
             "fill": {
              "color": "#C8D4E3"
             },
             "line": {
              "color": "white"
             }
            },
            "type": "table"
           }
          ]
         },
         "layout": {
          "annotationdefaults": {
           "arrowcolor": "#2a3f5f",
           "arrowhead": 0,
           "arrowwidth": 1
          },
          "autotypenumbers": "strict",
          "coloraxis": {
           "colorbar": {
            "outlinewidth": 0,
            "ticks": ""
           }
          },
          "colorscale": {
           "diverging": [
            [
             0,
             "#8e0152"
            ],
            [
             0.1,
             "#c51b7d"
            ],
            [
             0.2,
             "#de77ae"
            ],
            [
             0.3,
             "#f1b6da"
            ],
            [
             0.4,
             "#fde0ef"
            ],
            [
             0.5,
             "#f7f7f7"
            ],
            [
             0.6,
             "#e6f5d0"
            ],
            [
             0.7,
             "#b8e186"
            ],
            [
             0.8,
             "#7fbc41"
            ],
            [
             0.9,
             "#4d9221"
            ],
            [
             1,
             "#276419"
            ]
           ],
           "sequential": [
            [
             0,
             "#0d0887"
            ],
            [
             0.1111111111111111,
             "#46039f"
            ],
            [
             0.2222222222222222,
             "#7201a8"
            ],
            [
             0.3333333333333333,
             "#9c179e"
            ],
            [
             0.4444444444444444,
             "#bd3786"
            ],
            [
             0.5555555555555556,
             "#d8576b"
            ],
            [
             0.6666666666666666,
             "#ed7953"
            ],
            [
             0.7777777777777778,
             "#fb9f3a"
            ],
            [
             0.8888888888888888,
             "#fdca26"
            ],
            [
             1,
             "#f0f921"
            ]
           ],
           "sequentialminus": [
            [
             0,
             "#0d0887"
            ],
            [
             0.1111111111111111,
             "#46039f"
            ],
            [
             0.2222222222222222,
             "#7201a8"
            ],
            [
             0.3333333333333333,
             "#9c179e"
            ],
            [
             0.4444444444444444,
             "#bd3786"
            ],
            [
             0.5555555555555556,
             "#d8576b"
            ],
            [
             0.6666666666666666,
             "#ed7953"
            ],
            [
             0.7777777777777778,
             "#fb9f3a"
            ],
            [
             0.8888888888888888,
             "#fdca26"
            ],
            [
             1,
             "#f0f921"
            ]
           ]
          },
          "colorway": [
           "#636efa",
           "#EF553B",
           "#00cc96",
           "#ab63fa",
           "#FFA15A",
           "#19d3f3",
           "#FF6692",
           "#B6E880",
           "#FF97FF",
           "#FECB52"
          ],
          "font": {
           "color": "#2a3f5f"
          },
          "geo": {
           "bgcolor": "white",
           "lakecolor": "white",
           "landcolor": "#E5ECF6",
           "showlakes": true,
           "showland": true,
           "subunitcolor": "white"
          },
          "hoverlabel": {
           "align": "left"
          },
          "hovermode": "closest",
          "mapbox": {
           "style": "light"
          },
          "paper_bgcolor": "white",
          "plot_bgcolor": "#E5ECF6",
          "polar": {
           "angularaxis": {
            "gridcolor": "white",
            "linecolor": "white",
            "ticks": ""
           },
           "bgcolor": "#E5ECF6",
           "radialaxis": {
            "gridcolor": "white",
            "linecolor": "white",
            "ticks": ""
           }
          },
          "scene": {
           "xaxis": {
            "backgroundcolor": "#E5ECF6",
            "gridcolor": "white",
            "gridwidth": 2,
            "linecolor": "white",
            "showbackground": true,
            "ticks": "",
            "zerolinecolor": "white"
           },
           "yaxis": {
            "backgroundcolor": "#E5ECF6",
            "gridcolor": "white",
            "gridwidth": 2,
            "linecolor": "white",
            "showbackground": true,
            "ticks": "",
            "zerolinecolor": "white"
           },
           "zaxis": {
            "backgroundcolor": "#E5ECF6",
            "gridcolor": "white",
            "gridwidth": 2,
            "linecolor": "white",
            "showbackground": true,
            "ticks": "",
            "zerolinecolor": "white"
           }
          },
          "shapedefaults": {
           "line": {
            "color": "#2a3f5f"
           }
          },
          "ternary": {
           "aaxis": {
            "gridcolor": "white",
            "linecolor": "white",
            "ticks": ""
           },
           "baxis": {
            "gridcolor": "white",
            "linecolor": "white",
            "ticks": ""
           },
           "bgcolor": "#E5ECF6",
           "caxis": {
            "gridcolor": "white",
            "linecolor": "white",
            "ticks": ""
           }
          },
          "title": {
           "x": 0.05
          },
          "xaxis": {
           "automargin": true,
           "gridcolor": "white",
           "linecolor": "white",
           "ticks": "",
           "title": {
            "standoff": 15
           },
           "zerolinecolor": "white",
           "zerolinewidth": 2
          },
          "yaxis": {
           "automargin": true,
           "gridcolor": "white",
           "linecolor": "white",
           "ticks": "",
           "title": {
            "standoff": 15
           },
           "zerolinecolor": "white",
           "zerolinewidth": 2
          }
         }
        },
        "title": {
         "text": "Average Pit Stop Duration by Circuit - 2023",
         "x": 0.5
        },
        "xaxis": {
         "anchor": "y",
         "categoryorder": "total ascending",
         "domain": [
          0,
          1
         ],
         "title": {
          "text": "Circuit"
         }
        },
        "yaxis": {
         "anchor": "x",
         "domain": [
          0,
          1
         ],
         "title": {
          "text": "Avg. Duration (s)"
         }
        }
       }
      }
     },
     "metadata": {},
     "output_type": "display_data"
    }
   ],
   "source": [
    "import pandas as pd\n",
    "import plotly.express as px\n",
    "\n",
    "def plot_avg_pit_stop_duration_by_circuit(year):\n",
    "    \"\"\"\n",
    "    Plots the average pit stop duration by circuit for a given year.\n",
    "    \n",
    "    Parameters:\n",
    "        year (int): The year for which to plot average pit stop durations.\n",
    "    \"\"\"\n",
    "    df_pit_results = pd.read_csv('pit_results.csv')\n",
    "    df_race_results = load_race_results_data()\n",
    "    race_schedule = pd.read_csv('race_schedule.csv')\n",
    "    \n",
    "    df_race_results_reduced = df_race_results[['season', 'round', 'driverId', 'constructorId']]\n",
    "    df_pit_results = df_pit_results.merge(df_race_results_reduced, on=['season', 'round', 'driverId'], how='left')\n",
    "    \n",
    "    df_pit_results_with_circuits = df_pit_results.merge(\n",
    "        race_schedule[['season', 'round', 'circuitName']],\n",
    "        on=['season', 'round'],\n",
    "        how='left'\n",
    "    )\n",
    "    \n",
    "    df_pit_results_year = df_pit_results_with_circuits[df_pit_results_with_circuits['season'] == year]\n",
    "    \n",
    "    avg_pit_stop_duration = df_pit_results_year.groupby('circuitName')['duration'].mean().reset_index()\n",
    "    \n",
    "    fig = px.bar(\n",
    "        avg_pit_stop_duration,\n",
    "        x='circuitName',\n",
    "        y='duration',\n",
    "        title=f'Average Pit Stop Duration by Circuit - {year}',\n",
    "        labels={'circuitName': 'Circuit', 'duration': 'Avg. Duration (s)'},\n",
    "        color='duration',\n",
    "        color_continuous_scale=px.colors.sequential.Viridis,\n",
    "        hover_data={'duration': ':.2f'}\n",
    "    )\n",
    "    \n",
    "    fig.update_layout(\n",
    "        xaxis={'categoryorder': 'total ascending'},\n",
    "        title_x=0.5,\n",
    "        plot_bgcolor='white',\n",
    "        paper_bgcolor='lightgray',\n",
    "        hoverlabel=dict(bgcolor=\"white\", font_size=12, font_family=\"Arial\")\n",
    "    )\n",
    "\n",
    "    return fig\n",
    "\n",
    "fig = plot_avg_pit_stop_duration_by_circuit(2023)\n",
    "fig.show()\n"
   ]
  },
  {
   "cell_type": "code",
   "execution_count": 423,
   "metadata": {},
   "outputs": [
    {
     "data": {
      "application/vnd.plotly.v1+json": {
       "config": {
        "plotlyServerURL": "https://plot.ly"
       },
       "data": [
        {
         "alignmentgroup": "True",
         "hovertemplate": "Constructor=%{x}<br>Pit Stop Duration (seconds)=%{y:.2f}<extra></extra>",
         "legendgroup": "williams",
         "marker": {
          "color": "#00A0DE"
         },
         "name": "williams",
         "notched": false,
         "offsetgroup": "williams",
         "orientation": "v",
         "showlegend": true,
         "type": "box",
         "x": [
          "williams",
          "williams",
          "williams",
          "williams",
          "williams",
          "williams",
          "williams",
          "williams",
          "williams",
          "williams",
          "williams",
          "williams",
          "williams",
          "williams",
          "williams",
          "williams",
          "williams",
          "williams",
          "williams",
          "williams",
          "williams",
          "williams",
          "williams",
          "williams",
          "williams",
          "williams",
          "williams",
          "williams",
          "williams",
          "williams",
          "williams",
          "williams",
          "williams",
          "williams",
          "williams",
          "williams",
          "williams",
          "williams",
          "williams",
          "williams",
          "williams",
          "williams",
          "williams",
          "williams",
          "williams",
          "williams",
          "williams",
          "williams",
          "williams",
          "williams",
          "williams",
          "williams",
          "williams",
          "williams",
          "williams",
          "williams",
          "williams",
          "williams",
          "williams",
          "williams",
          "williams",
          "williams",
          "williams",
          "williams",
          "williams",
          "williams",
          "williams",
          "williams",
          "williams",
          "williams",
          "williams",
          "williams",
          "williams",
          "williams",
          "williams",
          "williams",
          "williams",
          "williams",
          "williams",
          "williams",
          "williams",
          "williams",
          "williams",
          "williams"
         ],
         "x0": " ",
         "xaxis": "x",
         "y": [
          25.054,
          25.6,
          24.92,
          25.67,
          24.458,
          25.047,
          21.397,
          21.064,
          18.382,
          19.158,
          null,
          19.018,
          null,
          null,
          21.103,
          21.015,
          48.938,
          22.482,
          24.29,
          24.376,
          27.774,
          26.99,
          25.946,
          23.319,
          22.583,
          23.827,
          23.449,
          25.064,
          16.737,
          17.337,
          21.562,
          23.194,
          27.683,
          21.543,
          28.847,
          29.634,
          22.076,
          24.001,
          21.762,
          22.197,
          25.015,
          23.57,
          23.596,
          23.938,
          23.529,
          23.109,
          19.667,
          21.3,
          null,
          39.234,
          24.779,
          24.538,
          null,
          30.138,
          29.787,
          31.018,
          50.143,
          32.715,
          43.868,
          52.165,
          35.182,
          29.436,
          29.253,
          29.373,
          28.747,
          28.981,
          24.563,
          24.99,
          24.354,
          25.547,
          23.945,
          23.68,
          null,
          null,
          27.472,
          null,
          24.367,
          24.137,
          21.367,
          21.242,
          22.124,
          22.17,
          21.88,
          21.919
         ],
         "y0": " ",
         "yaxis": "y"
        },
        {
         "alignmentgroup": "True",
         "hovertemplate": "Constructor=%{x}<br>Pit Stop Duration (seconds)=%{y:.2f}<extra></extra>",
         "legendgroup": "haas",
         "marker": {
          "color": "#E6002B"
         },
         "name": "haas",
         "notched": false,
         "offsetgroup": "haas",
         "orientation": "v",
         "showlegend": true,
         "type": "box",
         "x": [
          "haas",
          "haas",
          "haas",
          "haas",
          "haas",
          "haas",
          "haas",
          "haas",
          "haas",
          "haas",
          "haas",
          "haas",
          "haas",
          "haas",
          "haas",
          "haas",
          "haas",
          "haas",
          "haas",
          "haas",
          "haas",
          "haas",
          "haas",
          "haas",
          "haas",
          "haas",
          "haas",
          "haas",
          "haas",
          "haas",
          "haas",
          "haas",
          "haas",
          "haas",
          "haas",
          "haas",
          "haas",
          "haas",
          "haas",
          "haas",
          "haas",
          "haas",
          "haas",
          "haas",
          "haas",
          "haas",
          "haas",
          "haas",
          "haas",
          "haas",
          "haas",
          "haas",
          "haas",
          "haas",
          "haas",
          "haas",
          "haas",
          "haas",
          "haas",
          "haas",
          "haas",
          "haas",
          "haas",
          "haas",
          "haas",
          "haas",
          "haas",
          "haas",
          "haas",
          "haas",
          "haas",
          "haas",
          "haas",
          "haas",
          "haas",
          "haas",
          "haas",
          "haas",
          "haas",
          "haas",
          "haas",
          "haas",
          "haas",
          "haas",
          "haas",
          "haas",
          "haas",
          "haas",
          "haas",
          "haas",
          "haas",
          "haas",
          "haas",
          "haas"
         ],
         "x0": " ",
         "xaxis": "x",
         "y": [
          26.075,
          25.439,
          37.769,
          25.344,
          25.125,
          27.08,
          20.87,
          21.567,
          20.789,
          null,
          null,
          null,
          null,
          30.951,
          24.748,
          22.616,
          23.12,
          32.494,
          34.725,
          51.052,
          25.672,
          22.298,
          22.124,
          24.8,
          23.257,
          22.291,
          24.484,
          24.88,
          24.2,
          24.909,
          24.515,
          26.587,
          16.778,
          25.654,
          21.891,
          22.25,
          41.972,
          30.003,
          22.753,
          22.922,
          21.955,
          22.152,
          23.638,
          24.571,
          25.238,
          23.572,
          31.341,
          20.137,
          20.438,
          20.51,
          19.713,
          23.582,
          23.584,
          null,
          null,
          32.884,
          30.628,
          24.66,
          26.095,
          24.765,
          24.328,
          31.475,
          35.497,
          33.078,
          23.52,
          23.816,
          23.66,
          23.858,
          23.338,
          28.743,
          39.879,
          28.948,
          28.274,
          30.331,
          28.591,
          25.067,
          26.573,
          24.745,
          24.308,
          23.144,
          23.642,
          null,
          34.261,
          null,
          24.401,
          23.841,
          22.154,
          21.611,
          21.868,
          25.453,
          22.764,
          21.861,
          22.163,
          22.081
         ],
         "y0": " ",
         "yaxis": "y"
        },
        {
         "alignmentgroup": "True",
         "hovertemplate": "Constructor=%{x}<br>Pit Stop Duration (seconds)=%{y:.2f}<extra></extra>",
         "legendgroup": "alfa",
         "marker": {
          "color": "#000000"
         },
         "name": "alfa",
         "notched": false,
         "offsetgroup": "alfa",
         "orientation": "v",
         "showlegend": true,
         "type": "box",
         "x": [
          "alfa",
          "alfa",
          "alfa",
          "alfa",
          "alfa",
          "alfa",
          "alfa",
          "alfa",
          "alfa",
          "alfa",
          "alfa",
          "alfa",
          "alfa",
          "alfa",
          "alfa",
          "alfa",
          "alfa",
          "alfa",
          "alfa",
          "alfa",
          "alfa",
          "alfa",
          "alfa",
          "alfa",
          "alfa",
          "alfa",
          "alfa",
          "alfa",
          "alfa",
          "alfa",
          "alfa",
          "alfa",
          "alfa",
          "alfa",
          "alfa",
          "alfa",
          "alfa",
          "alfa",
          "alfa",
          "alfa",
          "alfa",
          "alfa",
          "alfa",
          "alfa",
          "alfa",
          "alfa",
          "alfa",
          "alfa",
          "alfa",
          "alfa",
          "alfa",
          "alfa",
          "alfa",
          "alfa",
          "alfa",
          "alfa",
          "alfa",
          "alfa",
          "alfa",
          "alfa",
          "alfa",
          "alfa",
          "alfa",
          "alfa",
          "alfa",
          "alfa",
          "alfa",
          "alfa",
          "alfa",
          "alfa",
          "alfa",
          "alfa",
          "alfa",
          "alfa",
          "alfa",
          "alfa",
          "alfa",
          "alfa",
          "alfa",
          "alfa",
          "alfa",
          "alfa",
          "alfa",
          "alfa",
          "alfa",
          "alfa",
          "alfa",
          "alfa",
          "alfa",
          "alfa",
          "alfa",
          "alfa",
          "alfa",
          "alfa",
          "alfa",
          "alfa",
          "alfa",
          "alfa",
          "alfa",
          "alfa",
          "alfa"
         ],
         "x0": " ",
         "xaxis": "x",
         "y": [
          25.399,
          25.787,
          25.643,
          25.282,
          30.167,
          21.505,
          21.703,
          22.191,
          21.282,
          21.808,
          18.951,
          21.659,
          null,
          null,
          19.825,
          21.881,
          null,
          null,
          null,
          null,
          null,
          20.967,
          22.247,
          22.354,
          21.012,
          23.158,
          22.796,
          26.141,
          30.395,
          25.26,
          23.691,
          23.43,
          22.889,
          24.097,
          24.161,
          27.509,
          24.038,
          17.467,
          17.13,
          24.374,
          31.785,
          21.91,
          21.975,
          29.177,
          29.662,
          28.709,
          34.374,
          22.114,
          29.211,
          22.853,
          23.242,
          23.362,
          24.449,
          23.786,
          24.045,
          23.088,
          20.231,
          20.187,
          20.469,
          20.213,
          19.735,
          21.439,
          null,
          32.518,
          24.396,
          24.658,
          25.959,
          30.032,
          30.637,
          30.487,
          41.041,
          55.802,
          53.512,
          24.091,
          24.116,
          29.977,
          28.984,
          29.387,
          28.854,
          28.946,
          28.815,
          25.636,
          24.783,
          24.717,
          25.02,
          22.817,
          23.638,
          null,
          null,
          20.732,
          21.256,
          null,
          null,
          23.953,
          24.077,
          43.914,
          21.575,
          22.155,
          22.867,
          22.665,
          22.345
         ],
         "y0": " ",
         "yaxis": "y"
        },
        {
         "alignmentgroup": "True",
         "hovertemplate": "Constructor=%{x}<br>Pit Stop Duration (seconds)=%{y:.2f}<extra></extra>",
         "legendgroup": "mclaren",
         "marker": {
          "color": "#FF8000"
         },
         "name": "mclaren",
         "notched": false,
         "offsetgroup": "mclaren",
         "orientation": "v",
         "showlegend": true,
         "type": "box",
         "x": [
          "mclaren",
          "mclaren",
          "mclaren",
          "mclaren",
          "mclaren",
          "mclaren",
          "mclaren",
          "mclaren",
          "mclaren",
          "mclaren",
          "mclaren",
          "mclaren",
          "mclaren",
          "mclaren",
          "mclaren",
          "mclaren",
          "mclaren",
          "mclaren",
          "mclaren",
          "mclaren",
          "mclaren",
          "mclaren",
          "mclaren",
          "mclaren",
          "mclaren",
          "mclaren",
          "mclaren",
          "mclaren",
          "mclaren",
          "mclaren",
          "mclaren",
          "mclaren",
          "mclaren",
          "mclaren",
          "mclaren",
          "mclaren",
          "mclaren",
          "mclaren",
          "mclaren",
          "mclaren",
          "mclaren",
          "mclaren",
          "mclaren",
          "mclaren",
          "mclaren",
          "mclaren",
          "mclaren",
          "mclaren",
          "mclaren",
          "mclaren",
          "mclaren",
          "mclaren",
          "mclaren",
          "mclaren",
          "mclaren",
          "mclaren",
          "mclaren",
          "mclaren",
          "mclaren",
          "mclaren",
          "mclaren",
          "mclaren",
          "mclaren",
          "mclaren",
          "mclaren",
          "mclaren",
          "mclaren",
          "mclaren",
          "mclaren",
          "mclaren",
          "mclaren",
          "mclaren",
          "mclaren",
          "mclaren",
          "mclaren",
          "mclaren",
          "mclaren",
          "mclaren",
          "mclaren",
          "mclaren",
          "mclaren",
          "mclaren",
          "mclaren",
          "mclaren",
          "mclaren",
          "mclaren",
          "mclaren",
          "mclaren",
          "mclaren",
          "mclaren",
          "mclaren",
          "mclaren",
          "mclaren",
          "mclaren"
         ],
         "x0": " ",
         "xaxis": "x",
         "y": [
          32.766,
          33.661,
          33.467,
          33.236,
          30.71,
          31.494,
          31.534,
          29.444,
          21.352,
          null,
          null,
          19.442,
          null,
          null,
          null,
          null,
          20.902,
          20.346,
          24.09,
          22.205,
          24.663,
          25.851,
          33.428,
          37.736,
          22.37,
          22.85,
          22.862,
          22.062,
          24.828,
          25.862,
          23.57,
          23.436,
          18.076,
          17.324,
          21.29,
          22.467,
          29.912,
          22.088,
          22.313,
          28.655,
          28.438,
          21.541,
          21.171,
          22.03,
          21.43,
          25.012,
          23.744,
          20.17,
          20.395,
          18.979,
          18.878,
          19.12,
          19.871,
          22.376,
          null,
          null,
          44.272,
          38.453,
          23.727,
          24.133,
          31.799,
          29.485,
          29.369,
          24.455,
          23.523,
          23.198,
          23.182,
          28.875,
          28.134,
          27.868,
          27.611,
          27.489,
          27.677,
          24.155,
          23.361,
          23.408,
          23.734,
          22.563,
          null,
          null,
          19.386,
          null,
          null,
          38.489,
          23.536,
          23.806,
          23.338,
          23.664,
          23.269,
          20.535,
          21.697,
          24.061,
          21.432,
          21.156
         ],
         "y0": " ",
         "yaxis": "y"
        },
        {
         "alignmentgroup": "True",
         "hovertemplate": "Constructor=%{x}<br>Pit Stop Duration (seconds)=%{y:.2f}<extra></extra>",
         "legendgroup": "alpine",
         "marker": {
          "color": "#C71585"
         },
         "name": "alpine",
         "notched": false,
         "offsetgroup": "alpine",
         "orientation": "v",
         "showlegend": true,
         "type": "box",
         "x": [
          "alpine",
          "alpine",
          "alpine",
          "alpine",
          "alpine",
          "alpine",
          "alpine",
          "alpine",
          "alpine",
          "alpine",
          "alpine",
          "alpine",
          "alpine",
          "alpine",
          "alpine",
          "alpine",
          "alpine",
          "alpine",
          "alpine",
          "alpine",
          "alpine",
          "alpine",
          "alpine",
          "alpine",
          "alpine",
          "alpine",
          "alpine",
          "alpine",
          "alpine",
          "alpine",
          "alpine",
          "alpine",
          "alpine",
          "alpine",
          "alpine",
          "alpine",
          "alpine",
          "alpine",
          "alpine",
          "alpine",
          "alpine",
          "alpine",
          "alpine",
          "alpine",
          "alpine",
          "alpine",
          "alpine",
          "alpine",
          "alpine",
          "alpine",
          "alpine",
          "alpine",
          "alpine",
          "alpine",
          "alpine",
          "alpine",
          "alpine",
          "alpine",
          "alpine",
          "alpine",
          "alpine",
          "alpine",
          "alpine",
          "alpine",
          "alpine",
          "alpine",
          "alpine",
          "alpine",
          "alpine",
          "alpine",
          "alpine",
          "alpine",
          "alpine",
          "alpine",
          "alpine",
          "alpine",
          "alpine",
          "alpine",
          "alpine",
          "alpine",
          "alpine",
          "alpine",
          "alpine",
          "alpine",
          "alpine"
         ],
         "x0": " ",
         "xaxis": "x",
         "y": [
          25.885,
          24.966,
          41.462,
          24.879,
          44.518,
          24.736,
          20.719,
          20.762,
          18.056,
          null,
          null,
          null,
          null,
          20.235,
          21.169,
          20.367,
          22.417,
          21.942,
          25.833,
          23.902,
          24.707,
          29.949,
          22.112,
          23.388,
          24.11,
          23.61,
          27.515,
          24.402,
          24.117,
          23.698,
          16.38,
          18.143,
          21.814,
          22.028,
          30.427,
          27.804,
          28.458,
          23.085,
          25.664,
          23.339,
          28.469,
          22.534,
          19.795,
          19.518,
          19.024,
          25.404,
          20.417,
          22.096,
          null,
          null,
          37.037,
          27.376,
          24.249,
          24.686,
          29.755,
          31.802,
          27.056,
          24.488,
          23.789,
          24.651,
          28.961,
          28.429,
          28.969,
          30.192,
          29.169,
          34.856,
          23.9,
          24.88,
          22.627,
          null,
          null,
          22.209,
          20.523,
          null,
          null,
          24.037,
          25.295,
          24.406,
          23.583,
          23.599,
          22.262,
          21.763,
          22.16,
          23.091,
          23.478
         ],
         "y0": " ",
         "yaxis": "y"
        },
        {
         "alignmentgroup": "True",
         "hovertemplate": "Constructor=%{x}<br>Pit Stop Duration (seconds)=%{y:.2f}<extra></extra>",
         "legendgroup": "rb",
         "marker": {
          "color": "#20394C"
         },
         "name": "rb",
         "notched": false,
         "offsetgroup": "rb",
         "orientation": "v",
         "showlegend": true,
         "type": "box",
         "x": [
          "rb",
          "rb",
          "rb",
          "rb",
          "rb",
          "rb",
          "rb",
          "rb",
          "rb",
          "rb",
          "rb",
          "rb",
          "rb",
          "rb",
          "rb",
          "rb",
          "rb",
          "rb",
          "rb",
          "rb",
          "rb",
          "rb",
          "rb",
          "rb",
          "rb",
          "rb",
          "rb",
          "rb",
          "rb",
          "rb",
          "rb",
          "rb",
          "rb",
          "rb",
          "rb",
          "rb",
          "rb",
          "rb",
          "rb",
          "rb",
          "rb",
          "rb",
          "rb",
          "rb",
          "rb",
          "rb",
          "rb",
          "rb",
          "rb",
          "rb",
          "rb",
          "rb",
          "rb",
          "rb",
          "rb",
          "rb",
          "rb",
          "rb",
          "rb",
          "rb",
          "rb",
          "rb",
          "rb",
          "rb",
          "rb",
          "rb",
          "rb",
          "rb",
          "rb",
          "rb",
          "rb",
          "rb",
          "rb",
          "rb",
          "rb",
          "rb",
          "rb",
          "rb",
          "rb",
          "rb",
          "rb",
          "rb",
          "rb",
          "rb",
          "rb",
          "rb",
          "rb",
          "rb",
          "rb",
          "rb",
          "rb",
          "rb",
          "rb",
          "rb",
          "rb"
         ],
         "x0": " ",
         "xaxis": "x",
         "y": [
          25.267,
          25.018,
          24.372,
          25.234,
          25.818,
          21.414,
          21.116,
          null,
          null,
          18.08,
          18.258,
          null,
          null,
          null,
          null,
          20.497,
          23.487,
          22.39,
          33.706,
          24.539,
          22.522,
          22.176,
          22.009,
          21.976,
          23.646,
          24.96,
          27.523,
          23.786,
          29.691,
          17.033,
          16.246,
          21.333,
          27.286,
          21.074,
          21.392,
          28.353,
          28.242,
          28.603,
          28.413,
          26.17,
          21.958,
          22.203,
          21.181,
          22.843,
          22.61,
          23.29,
          22.737,
          32.321,
          42.641,
          18.904,
          30.836,
          19.6,
          19.192,
          19.307,
          20.602,
          null,
          null,
          34.901,
          31.306,
          24.212,
          24.281,
          32.348,
          22.944,
          23.136,
          23.671,
          23.327,
          29.33,
          27.781,
          28.665,
          27.596,
          28.171,
          27.809,
          24.354,
          23.963,
          24.125,
          26.513,
          23.472,
          30.121,
          22.406,
          null,
          null,
          20.969,
          null,
          null,
          32.77,
          27.114,
          23.955,
          23.453,
          23.508,
          20.619,
          22.242,
          20.894,
          21.692,
          21.486,
          21.74
         ],
         "y0": " ",
         "yaxis": "y"
        },
        {
         "alignmentgroup": "True",
         "hovertemplate": "Constructor=%{x}<br>Pit Stop Duration (seconds)=%{y:.2f}<extra></extra>",
         "legendgroup": "aston_martin",
         "marker": {
          "color": "#006400"
         },
         "name": "aston_martin",
         "notched": false,
         "offsetgroup": "aston_martin",
         "orientation": "v",
         "showlegend": true,
         "type": "box",
         "x": [
          "aston_martin",
          "aston_martin",
          "aston_martin",
          "aston_martin",
          "aston_martin",
          "aston_martin",
          "aston_martin",
          "aston_martin",
          "aston_martin",
          "aston_martin",
          "aston_martin",
          "aston_martin",
          "aston_martin",
          "aston_martin",
          "aston_martin",
          "aston_martin",
          "aston_martin",
          "aston_martin",
          "aston_martin",
          "aston_martin",
          "aston_martin",
          "aston_martin",
          "aston_martin",
          "aston_martin",
          "aston_martin",
          "aston_martin",
          "aston_martin",
          "aston_martin",
          "aston_martin",
          "aston_martin",
          "aston_martin",
          "aston_martin",
          "aston_martin",
          "aston_martin",
          "aston_martin",
          "aston_martin",
          "aston_martin",
          "aston_martin",
          "aston_martin",
          "aston_martin",
          "aston_martin",
          "aston_martin",
          "aston_martin",
          "aston_martin",
          "aston_martin",
          "aston_martin",
          "aston_martin",
          "aston_martin",
          "aston_martin",
          "aston_martin",
          "aston_martin",
          "aston_martin",
          "aston_martin",
          "aston_martin",
          "aston_martin",
          "aston_martin",
          "aston_martin",
          "aston_martin",
          "aston_martin",
          "aston_martin",
          "aston_martin",
          "aston_martin",
          "aston_martin",
          "aston_martin",
          "aston_martin",
          "aston_martin",
          "aston_martin",
          "aston_martin",
          "aston_martin",
          "aston_martin",
          "aston_martin",
          "aston_martin",
          "aston_martin",
          "aston_martin",
          "aston_martin",
          "aston_martin",
          "aston_martin",
          "aston_martin",
          "aston_martin",
          "aston_martin",
          "aston_martin",
          "aston_martin",
          "aston_martin",
          "aston_martin",
          "aston_martin",
          "aston_martin",
          "aston_martin",
          "aston_martin",
          "aston_martin",
          "aston_martin",
          "aston_martin",
          "aston_martin"
         ],
         "x0": " ",
         "xaxis": "x",
         "y": [
          25.8,
          25.449,
          24.639,
          24.869,
          21.15,
          26.879,
          null,
          null,
          null,
          null,
          null,
          null,
          23.148,
          23.161,
          22.631,
          22.651,
          24.656,
          24.414,
          25.916,
          22.355,
          22.558,
          23.371,
          22.896,
          23.711,
          24.031,
          23.839,
          23.928,
          16.6,
          16.646,
          22.371,
          24.332,
          22.05,
          21.993,
          21.837,
          28.561,
          28.679,
          21.91,
          22.916,
          22.403,
          24.152,
          23.085,
          25.397,
          23.798,
          20.647,
          20.036,
          20.208,
          20.109,
          19.653,
          19.923,
          25.147,
          21.532,
          20.655,
          null,
          null,
          33.553,
          25.667,
          24.798,
          30.67,
          52.708,
          24.086,
          23.441,
          24.294,
          28.886,
          28.373,
          28.156,
          28.432,
          29.399,
          28.393,
          25.055,
          24.457,
          23.955,
          24.823,
          22.844,
          22.582,
          null,
          null,
          18.487,
          18.504,
          null,
          null,
          23.558,
          24.204,
          23.83,
          25.294,
          29.304,
          22.222,
          22.57,
          23.214,
          22.462,
          21.866,
          21.841,
          21.667
         ],
         "y0": " ",
         "yaxis": "y"
        },
        {
         "alignmentgroup": "True",
         "hovertemplate": "Constructor=%{x}<br>Pit Stop Duration (seconds)=%{y:.2f}<extra></extra>",
         "legendgroup": "red_bull",
         "marker": {
          "color": "#FDD900"
         },
         "name": "red_bull",
         "notched": false,
         "offsetgroup": "red_bull",
         "orientation": "v",
         "showlegend": true,
         "type": "box",
         "x": [
          "red_bull",
          "red_bull",
          "red_bull",
          "red_bull",
          "red_bull",
          "red_bull",
          "red_bull",
          "red_bull",
          "red_bull",
          "red_bull",
          "red_bull",
          "red_bull",
          "red_bull",
          "red_bull",
          "red_bull",
          "red_bull",
          "red_bull",
          "red_bull",
          "red_bull",
          "red_bull",
          "red_bull",
          "red_bull",
          "red_bull",
          "red_bull",
          "red_bull",
          "red_bull",
          "red_bull",
          "red_bull",
          "red_bull",
          "red_bull",
          "red_bull",
          "red_bull",
          "red_bull",
          "red_bull",
          "red_bull",
          "red_bull",
          "red_bull",
          "red_bull",
          "red_bull",
          "red_bull",
          "red_bull",
          "red_bull",
          "red_bull",
          "red_bull",
          "red_bull",
          "red_bull",
          "red_bull",
          "red_bull",
          "red_bull",
          "red_bull",
          "red_bull",
          "red_bull",
          "red_bull",
          "red_bull",
          "red_bull",
          "red_bull",
          "red_bull",
          "red_bull",
          "red_bull",
          "red_bull",
          "red_bull",
          "red_bull",
          "red_bull",
          "red_bull",
          "red_bull",
          "red_bull",
          "red_bull",
          "red_bull",
          "red_bull",
          "red_bull",
          "red_bull",
          "red_bull",
          "red_bull",
          "red_bull",
          "red_bull",
          "red_bull",
          "red_bull",
          "red_bull",
          "red_bull",
          "red_bull",
          "red_bull",
          "red_bull",
          "red_bull",
          "red_bull",
          "red_bull",
          "red_bull",
          "red_bull",
          "red_bull",
          "red_bull",
          "red_bull",
          "red_bull",
          "red_bull",
          "red_bull",
          "red_bull",
          "red_bull",
          "red_bull",
          "red_bull",
          "red_bull",
          "red_bull",
          "red_bull"
         ],
         "x0": " ",
         "xaxis": "x",
         "y": [
          24.289,
          24.264,
          25.091,
          24.91,
          20.715,
          20.824,
          17.657,
          17.814,
          null,
          null,
          null,
          null,
          null,
          null,
          20.707,
          20.389,
          21.884,
          22.688,
          24.887,
          32.749,
          24.217,
          24.798,
          29.337,
          25.466,
          22.241,
          21.775,
          21.537,
          22.357,
          23.644,
          23.281,
          23.91,
          23.218,
          16.369,
          17.428,
          21.365,
          21.655,
          21.641,
          21.267,
          21.328,
          28.06,
          29.056,
          21.407,
          21.862,
          20.88,
          21.68,
          23.684,
          22.887,
          22.71,
          23.012,
          22.666,
          20.379,
          19.289,
          19.46,
          18.789,
          18.706,
          27.596,
          19.429,
          20.402,
          null,
          null,
          35.592,
          24.228,
          23.819,
          28.977,
          29.698,
          32.45,
          41.499,
          null,
          24.382,
          23.696,
          30.651,
          28.233,
          27.808,
          33.246,
          28.103,
          33.165,
          29.726,
          23.756,
          24.245,
          24.974,
          23.747,
          22.427,
          22.372,
          null,
          18.535,
          20.811,
          null,
          null,
          23.164,
          22.994,
          23.522,
          23.397,
          33.599,
          26.686,
          21.568,
          21.323,
          21.662,
          21.446,
          21.274,
          21.275
         ],
         "y0": " ",
         "yaxis": "y"
        },
        {
         "alignmentgroup": "True",
         "hovertemplate": "Constructor=%{x}<br>Pit Stop Duration (seconds)=%{y:.2f}<extra></extra>",
         "legendgroup": "mercedes",
         "marker": {
          "color": "#565F64"
         },
         "name": "mercedes",
         "notched": false,
         "offsetgroup": "mercedes",
         "orientation": "v",
         "showlegend": true,
         "type": "box",
         "x": [
          "mercedes",
          "mercedes",
          "mercedes",
          "mercedes",
          "mercedes",
          "mercedes",
          "mercedes",
          "mercedes",
          "mercedes",
          "mercedes",
          "mercedes",
          "mercedes",
          "mercedes",
          "mercedes",
          "mercedes",
          "mercedes",
          "mercedes",
          "mercedes",
          "mercedes",
          "mercedes",
          "mercedes",
          "mercedes",
          "mercedes",
          "mercedes",
          "mercedes",
          "mercedes",
          "mercedes",
          "mercedes",
          "mercedes",
          "mercedes",
          "mercedes",
          "mercedes",
          "mercedes",
          "mercedes",
          "mercedes",
          "mercedes",
          "mercedes",
          "mercedes",
          "mercedes",
          "mercedes",
          "mercedes",
          "mercedes",
          "mercedes",
          "mercedes",
          "mercedes",
          "mercedes",
          "mercedes",
          "mercedes",
          "mercedes",
          "mercedes",
          "mercedes",
          "mercedes",
          "mercedes",
          "mercedes",
          "mercedes",
          "mercedes",
          "mercedes",
          "mercedes",
          "mercedes",
          "mercedes",
          "mercedes",
          "mercedes",
          "mercedes",
          "mercedes",
          "mercedes",
          "mercedes",
          "mercedes",
          "mercedes",
          "mercedes",
          "mercedes",
          "mercedes",
          "mercedes",
          "mercedes",
          "mercedes",
          "mercedes",
          "mercedes",
          "mercedes",
          "mercedes",
          "mercedes",
          "mercedes",
          "mercedes",
          "mercedes",
          "mercedes",
          "mercedes",
          "mercedes",
          "mercedes",
          "mercedes",
          "mercedes",
          "mercedes",
          "mercedes"
         ],
         "x0": " ",
         "xaxis": "x",
         "y": [
          24.682,
          27.062,
          24.69,
          24.406,
          20.828,
          21.102,
          19.146,
          null,
          null,
          null,
          null,
          20.324,
          20.459,
          21.389,
          22.335,
          22.15,
          24.594,
          30.98,
          26.685,
          22.575,
          22.275,
          22.054,
          22.731,
          24.339,
          null,
          23.749,
          16.415,
          17.946,
          21.993,
          22.262,
          21.702,
          27.724,
          29.455,
          29.169,
          21.974,
          21.886,
          21.675,
          21.728,
          23.09,
          23.837,
          23.023,
          23.156,
          20.266,
          21.201,
          19.97,
          20.148,
          19.607,
          19.327,
          20.779,
          24.019,
          null,
          null,
          39.845,
          24.215,
          24.255,
          29.976,
          32.631,
          30.039,
          33.581,
          24.841,
          24.034,
          23.631,
          39.686,
          28.542,
          28.314,
          28.191,
          24.916,
          24.357,
          24.648,
          23.969,
          22.21,
          22.311,
          null,
          null,
          18.521,
          20.449,
          null,
          null,
          23.571,
          23.73,
          23.962,
          24.074,
          21.257,
          25.047,
          21.952,
          22.508,
          21.65,
          22.195,
          22.084,
          22.045
         ],
         "y0": " ",
         "yaxis": "y"
        },
        {
         "alignmentgroup": "True",
         "hovertemplate": "Constructor=%{x}<br>Pit Stop Duration (seconds)=%{y:.2f}<extra></extra>",
         "legendgroup": "ferrari",
         "marker": {
          "color": "#ff0000"
         },
         "name": "ferrari",
         "notched": false,
         "offsetgroup": "ferrari",
         "orientation": "v",
         "showlegend": true,
         "type": "box",
         "x": [
          "ferrari",
          "ferrari",
          "ferrari",
          "ferrari",
          "ferrari",
          "ferrari",
          "ferrari",
          "ferrari",
          "ferrari",
          "ferrari",
          "ferrari",
          "ferrari",
          "ferrari",
          "ferrari",
          "ferrari",
          "ferrari",
          "ferrari",
          "ferrari",
          "ferrari",
          "ferrari",
          "ferrari",
          "ferrari",
          "ferrari",
          "ferrari",
          "ferrari",
          "ferrari",
          "ferrari",
          "ferrari",
          "ferrari",
          "ferrari",
          "ferrari",
          "ferrari",
          "ferrari",
          "ferrari",
          "ferrari",
          "ferrari",
          "ferrari",
          "ferrari",
          "ferrari",
          "ferrari",
          "ferrari",
          "ferrari",
          "ferrari",
          "ferrari",
          "ferrari",
          "ferrari",
          "ferrari",
          "ferrari",
          "ferrari",
          "ferrari",
          "ferrari",
          "ferrari",
          "ferrari",
          "ferrari",
          "ferrari",
          "ferrari",
          "ferrari",
          "ferrari",
          "ferrari",
          "ferrari",
          "ferrari",
          "ferrari",
          "ferrari",
          "ferrari",
          "ferrari",
          "ferrari",
          "ferrari",
          "ferrari",
          "ferrari",
          "ferrari",
          "ferrari",
          "ferrari",
          "ferrari",
          "ferrari",
          "ferrari",
          "ferrari"
         ],
         "x0": " ",
         "xaxis": "x",
         "y": [
          24.345,
          24.5,
          24.227,
          24.644,
          20.76,
          20.026,
          18.319,
          null,
          null,
          null,
          21.126,
          21.97,
          22.068,
          22.278,
          24.252,
          24.192,
          25.713,
          29.3,
          22.321,
          21.778,
          22.375,
          23.003,
          24.133,
          24.343,
          16.393,
          16.38,
          23.425,
          26.283,
          28.583,
          21.47,
          28.244,
          28.869,
          28.805,
          21.402,
          28.404,
          21.452,
          22.051,
          23.303,
          23.224,
          23.148,
          32.686,
          20.973,
          19.511,
          27.202,
          19.398,
          19.838,
          null,
          25.183,
          23.931,
          29.499,
          32.888,
          23.197,
          23.075,
          22.926,
          23.374,
          28.228,
          27.873,
          27.513,
          23.668,
          23.963,
          23.673,
          22.067,
          22.248,
          null,
          null,
          23.03,
          null,
          23.557,
          23.704,
          21.261,
          22.559,
          22.63,
          21.919,
          21.229,
          21.246,
          21.564
         ],
         "y0": " ",
         "yaxis": "y"
        }
       ],
       "layout": {
        "boxmode": "overlay",
        "hoverlabel": {
         "bgcolor": "white",
         "font": {
          "family": "Arial",
          "size": 12
         }
        },
        "legend": {
         "title": {
          "text": "Constructor"
         },
         "tracegroupgap": 0
        },
        "paper_bgcolor": "lightgray",
        "plot_bgcolor": "white",
        "template": {
         "data": {
          "bar": [
           {
            "error_x": {
             "color": "#2a3f5f"
            },
            "error_y": {
             "color": "#2a3f5f"
            },
            "marker": {
             "line": {
              "color": "#E5ECF6",
              "width": 0.5
             },
             "pattern": {
              "fillmode": "overlay",
              "size": 10,
              "solidity": 0.2
             }
            },
            "type": "bar"
           }
          ],
          "barpolar": [
           {
            "marker": {
             "line": {
              "color": "#E5ECF6",
              "width": 0.5
             },
             "pattern": {
              "fillmode": "overlay",
              "size": 10,
              "solidity": 0.2
             }
            },
            "type": "barpolar"
           }
          ],
          "carpet": [
           {
            "aaxis": {
             "endlinecolor": "#2a3f5f",
             "gridcolor": "white",
             "linecolor": "white",
             "minorgridcolor": "white",
             "startlinecolor": "#2a3f5f"
            },
            "baxis": {
             "endlinecolor": "#2a3f5f",
             "gridcolor": "white",
             "linecolor": "white",
             "minorgridcolor": "white",
             "startlinecolor": "#2a3f5f"
            },
            "type": "carpet"
           }
          ],
          "choropleth": [
           {
            "colorbar": {
             "outlinewidth": 0,
             "ticks": ""
            },
            "type": "choropleth"
           }
          ],
          "contour": [
           {
            "colorbar": {
             "outlinewidth": 0,
             "ticks": ""
            },
            "colorscale": [
             [
              0,
              "#0d0887"
             ],
             [
              0.1111111111111111,
              "#46039f"
             ],
             [
              0.2222222222222222,
              "#7201a8"
             ],
             [
              0.3333333333333333,
              "#9c179e"
             ],
             [
              0.4444444444444444,
              "#bd3786"
             ],
             [
              0.5555555555555556,
              "#d8576b"
             ],
             [
              0.6666666666666666,
              "#ed7953"
             ],
             [
              0.7777777777777778,
              "#fb9f3a"
             ],
             [
              0.8888888888888888,
              "#fdca26"
             ],
             [
              1,
              "#f0f921"
             ]
            ],
            "type": "contour"
           }
          ],
          "contourcarpet": [
           {
            "colorbar": {
             "outlinewidth": 0,
             "ticks": ""
            },
            "type": "contourcarpet"
           }
          ],
          "heatmap": [
           {
            "colorbar": {
             "outlinewidth": 0,
             "ticks": ""
            },
            "colorscale": [
             [
              0,
              "#0d0887"
             ],
             [
              0.1111111111111111,
              "#46039f"
             ],
             [
              0.2222222222222222,
              "#7201a8"
             ],
             [
              0.3333333333333333,
              "#9c179e"
             ],
             [
              0.4444444444444444,
              "#bd3786"
             ],
             [
              0.5555555555555556,
              "#d8576b"
             ],
             [
              0.6666666666666666,
              "#ed7953"
             ],
             [
              0.7777777777777778,
              "#fb9f3a"
             ],
             [
              0.8888888888888888,
              "#fdca26"
             ],
             [
              1,
              "#f0f921"
             ]
            ],
            "type": "heatmap"
           }
          ],
          "heatmapgl": [
           {
            "colorbar": {
             "outlinewidth": 0,
             "ticks": ""
            },
            "colorscale": [
             [
              0,
              "#0d0887"
             ],
             [
              0.1111111111111111,
              "#46039f"
             ],
             [
              0.2222222222222222,
              "#7201a8"
             ],
             [
              0.3333333333333333,
              "#9c179e"
             ],
             [
              0.4444444444444444,
              "#bd3786"
             ],
             [
              0.5555555555555556,
              "#d8576b"
             ],
             [
              0.6666666666666666,
              "#ed7953"
             ],
             [
              0.7777777777777778,
              "#fb9f3a"
             ],
             [
              0.8888888888888888,
              "#fdca26"
             ],
             [
              1,
              "#f0f921"
             ]
            ],
            "type": "heatmapgl"
           }
          ],
          "histogram": [
           {
            "marker": {
             "pattern": {
              "fillmode": "overlay",
              "size": 10,
              "solidity": 0.2
             }
            },
            "type": "histogram"
           }
          ],
          "histogram2d": [
           {
            "colorbar": {
             "outlinewidth": 0,
             "ticks": ""
            },
            "colorscale": [
             [
              0,
              "#0d0887"
             ],
             [
              0.1111111111111111,
              "#46039f"
             ],
             [
              0.2222222222222222,
              "#7201a8"
             ],
             [
              0.3333333333333333,
              "#9c179e"
             ],
             [
              0.4444444444444444,
              "#bd3786"
             ],
             [
              0.5555555555555556,
              "#d8576b"
             ],
             [
              0.6666666666666666,
              "#ed7953"
             ],
             [
              0.7777777777777778,
              "#fb9f3a"
             ],
             [
              0.8888888888888888,
              "#fdca26"
             ],
             [
              1,
              "#f0f921"
             ]
            ],
            "type": "histogram2d"
           }
          ],
          "histogram2dcontour": [
           {
            "colorbar": {
             "outlinewidth": 0,
             "ticks": ""
            },
            "colorscale": [
             [
              0,
              "#0d0887"
             ],
             [
              0.1111111111111111,
              "#46039f"
             ],
             [
              0.2222222222222222,
              "#7201a8"
             ],
             [
              0.3333333333333333,
              "#9c179e"
             ],
             [
              0.4444444444444444,
              "#bd3786"
             ],
             [
              0.5555555555555556,
              "#d8576b"
             ],
             [
              0.6666666666666666,
              "#ed7953"
             ],
             [
              0.7777777777777778,
              "#fb9f3a"
             ],
             [
              0.8888888888888888,
              "#fdca26"
             ],
             [
              1,
              "#f0f921"
             ]
            ],
            "type": "histogram2dcontour"
           }
          ],
          "mesh3d": [
           {
            "colorbar": {
             "outlinewidth": 0,
             "ticks": ""
            },
            "type": "mesh3d"
           }
          ],
          "parcoords": [
           {
            "line": {
             "colorbar": {
              "outlinewidth": 0,
              "ticks": ""
             }
            },
            "type": "parcoords"
           }
          ],
          "pie": [
           {
            "automargin": true,
            "type": "pie"
           }
          ],
          "scatter": [
           {
            "fillpattern": {
             "fillmode": "overlay",
             "size": 10,
             "solidity": 0.2
            },
            "type": "scatter"
           }
          ],
          "scatter3d": [
           {
            "line": {
             "colorbar": {
              "outlinewidth": 0,
              "ticks": ""
             }
            },
            "marker": {
             "colorbar": {
              "outlinewidth": 0,
              "ticks": ""
             }
            },
            "type": "scatter3d"
           }
          ],
          "scattercarpet": [
           {
            "marker": {
             "colorbar": {
              "outlinewidth": 0,
              "ticks": ""
             }
            },
            "type": "scattercarpet"
           }
          ],
          "scattergeo": [
           {
            "marker": {
             "colorbar": {
              "outlinewidth": 0,
              "ticks": ""
             }
            },
            "type": "scattergeo"
           }
          ],
          "scattergl": [
           {
            "marker": {
             "colorbar": {
              "outlinewidth": 0,
              "ticks": ""
             }
            },
            "type": "scattergl"
           }
          ],
          "scattermapbox": [
           {
            "marker": {
             "colorbar": {
              "outlinewidth": 0,
              "ticks": ""
             }
            },
            "type": "scattermapbox"
           }
          ],
          "scatterpolar": [
           {
            "marker": {
             "colorbar": {
              "outlinewidth": 0,
              "ticks": ""
             }
            },
            "type": "scatterpolar"
           }
          ],
          "scatterpolargl": [
           {
            "marker": {
             "colorbar": {
              "outlinewidth": 0,
              "ticks": ""
             }
            },
            "type": "scatterpolargl"
           }
          ],
          "scatterternary": [
           {
            "marker": {
             "colorbar": {
              "outlinewidth": 0,
              "ticks": ""
             }
            },
            "type": "scatterternary"
           }
          ],
          "surface": [
           {
            "colorbar": {
             "outlinewidth": 0,
             "ticks": ""
            },
            "colorscale": [
             [
              0,
              "#0d0887"
             ],
             [
              0.1111111111111111,
              "#46039f"
             ],
             [
              0.2222222222222222,
              "#7201a8"
             ],
             [
              0.3333333333333333,
              "#9c179e"
             ],
             [
              0.4444444444444444,
              "#bd3786"
             ],
             [
              0.5555555555555556,
              "#d8576b"
             ],
             [
              0.6666666666666666,
              "#ed7953"
             ],
             [
              0.7777777777777778,
              "#fb9f3a"
             ],
             [
              0.8888888888888888,
              "#fdca26"
             ],
             [
              1,
              "#f0f921"
             ]
            ],
            "type": "surface"
           }
          ],
          "table": [
           {
            "cells": {
             "fill": {
              "color": "#EBF0F8"
             },
             "line": {
              "color": "white"
             }
            },
            "header": {
             "fill": {
              "color": "#C8D4E3"
             },
             "line": {
              "color": "white"
             }
            },
            "type": "table"
           }
          ]
         },
         "layout": {
          "annotationdefaults": {
           "arrowcolor": "#2a3f5f",
           "arrowhead": 0,
           "arrowwidth": 1
          },
          "autotypenumbers": "strict",
          "coloraxis": {
           "colorbar": {
            "outlinewidth": 0,
            "ticks": ""
           }
          },
          "colorscale": {
           "diverging": [
            [
             0,
             "#8e0152"
            ],
            [
             0.1,
             "#c51b7d"
            ],
            [
             0.2,
             "#de77ae"
            ],
            [
             0.3,
             "#f1b6da"
            ],
            [
             0.4,
             "#fde0ef"
            ],
            [
             0.5,
             "#f7f7f7"
            ],
            [
             0.6,
             "#e6f5d0"
            ],
            [
             0.7,
             "#b8e186"
            ],
            [
             0.8,
             "#7fbc41"
            ],
            [
             0.9,
             "#4d9221"
            ],
            [
             1,
             "#276419"
            ]
           ],
           "sequential": [
            [
             0,
             "#0d0887"
            ],
            [
             0.1111111111111111,
             "#46039f"
            ],
            [
             0.2222222222222222,
             "#7201a8"
            ],
            [
             0.3333333333333333,
             "#9c179e"
            ],
            [
             0.4444444444444444,
             "#bd3786"
            ],
            [
             0.5555555555555556,
             "#d8576b"
            ],
            [
             0.6666666666666666,
             "#ed7953"
            ],
            [
             0.7777777777777778,
             "#fb9f3a"
            ],
            [
             0.8888888888888888,
             "#fdca26"
            ],
            [
             1,
             "#f0f921"
            ]
           ],
           "sequentialminus": [
            [
             0,
             "#0d0887"
            ],
            [
             0.1111111111111111,
             "#46039f"
            ],
            [
             0.2222222222222222,
             "#7201a8"
            ],
            [
             0.3333333333333333,
             "#9c179e"
            ],
            [
             0.4444444444444444,
             "#bd3786"
            ],
            [
             0.5555555555555556,
             "#d8576b"
            ],
            [
             0.6666666666666666,
             "#ed7953"
            ],
            [
             0.7777777777777778,
             "#fb9f3a"
            ],
            [
             0.8888888888888888,
             "#fdca26"
            ],
            [
             1,
             "#f0f921"
            ]
           ]
          },
          "colorway": [
           "#636efa",
           "#EF553B",
           "#00cc96",
           "#ab63fa",
           "#FFA15A",
           "#19d3f3",
           "#FF6692",
           "#B6E880",
           "#FF97FF",
           "#FECB52"
          ],
          "font": {
           "color": "#2a3f5f"
          },
          "geo": {
           "bgcolor": "white",
           "lakecolor": "white",
           "landcolor": "#E5ECF6",
           "showlakes": true,
           "showland": true,
           "subunitcolor": "white"
          },
          "hoverlabel": {
           "align": "left"
          },
          "hovermode": "closest",
          "mapbox": {
           "style": "light"
          },
          "paper_bgcolor": "white",
          "plot_bgcolor": "#E5ECF6",
          "polar": {
           "angularaxis": {
            "gridcolor": "white",
            "linecolor": "white",
            "ticks": ""
           },
           "bgcolor": "#E5ECF6",
           "radialaxis": {
            "gridcolor": "white",
            "linecolor": "white",
            "ticks": ""
           }
          },
          "scene": {
           "xaxis": {
            "backgroundcolor": "#E5ECF6",
            "gridcolor": "white",
            "gridwidth": 2,
            "linecolor": "white",
            "showbackground": true,
            "ticks": "",
            "zerolinecolor": "white"
           },
           "yaxis": {
            "backgroundcolor": "#E5ECF6",
            "gridcolor": "white",
            "gridwidth": 2,
            "linecolor": "white",
            "showbackground": true,
            "ticks": "",
            "zerolinecolor": "white"
           },
           "zaxis": {
            "backgroundcolor": "#E5ECF6",
            "gridcolor": "white",
            "gridwidth": 2,
            "linecolor": "white",
            "showbackground": true,
            "ticks": "",
            "zerolinecolor": "white"
           }
          },
          "shapedefaults": {
           "line": {
            "color": "#2a3f5f"
           }
          },
          "ternary": {
           "aaxis": {
            "gridcolor": "white",
            "linecolor": "white",
            "ticks": ""
           },
           "baxis": {
            "gridcolor": "white",
            "linecolor": "white",
            "ticks": ""
           },
           "bgcolor": "#E5ECF6",
           "caxis": {
            "gridcolor": "white",
            "linecolor": "white",
            "ticks": ""
           }
          },
          "title": {
           "x": 0.05
          },
          "xaxis": {
           "automargin": true,
           "gridcolor": "white",
           "linecolor": "white",
           "ticks": "",
           "title": {
            "standoff": 15
           },
           "zerolinecolor": "white",
           "zerolinewidth": 2
          },
          "yaxis": {
           "automargin": true,
           "gridcolor": "white",
           "linecolor": "white",
           "ticks": "",
           "title": {
            "standoff": 15
           },
           "zerolinecolor": "white",
           "zerolinewidth": 2
          }
         }
        },
        "title": {
         "text": "Pit Stop Duration by Constructor - 2023",
         "x": 0.5
        },
        "xaxis": {
         "anchor": "y",
         "categoryarray": [
          "williams",
          "haas",
          "alfa",
          "mclaren",
          "alpine",
          "rb",
          "aston_martin",
          "red_bull",
          "mercedes",
          "ferrari"
         ],
         "categoryorder": "array",
         "domain": [
          0,
          1
         ],
         "title": {
          "text": "Constructor"
         }
        },
        "yaxis": {
         "anchor": "x",
         "domain": [
          0,
          1
         ],
         "title": {
          "text": "Pit Stop Duration (seconds)"
         }
        }
       }
      }
     },
     "metadata": {},
     "output_type": "display_data"
    }
   ],
   "source": [
    "import pandas as pd\n",
    "import plotly.express as px\n",
    "\n",
    "def plot_pit_stop_duration_by_constructor(year):\n",
    "\n",
    "    # Load data\n",
    "    df_pit_results = pd.read_csv('pit_results.csv')\n",
    "    df_race_results = load_race_results_data()\n",
    "\n",
    "    # Merge df_pit_results with constructorId from race results\n",
    "    df_race_results_reduced = df_race_results[['season', 'round', 'driverId', 'constructorId']]\n",
    "    df_pit_results = df_pit_results.merge(df_race_results_reduced, on=['season', 'round', 'driverId'], how='left')\n",
    "\n",
    "    # Filter for the given year\n",
    "    df_pit_results_year = df_pit_results[df_pit_results['season'] == year]\n",
    "\n",
    "    # Calculate mean pit stop duration for sorting\n",
    "    constructor_mean_durations = df_pit_results_year.groupby('constructorId')['duration'].mean()\n",
    "    sorted_constructors = constructor_mean_durations.sort_values(ascending=False).index.tolist()\n",
    "\n",
    "    # Define the constructor brand colors\n",
    "    brand_colors = {\n",
    "        'mercedes': '#565F64',\n",
    "        'ferrari': '#ff0000',\n",
    "        'williams': '#00A0DE',\n",
    "        'renault': '#FFFF00',\n",
    "        'haas': '#E6002B',\n",
    "        'mclaren': '#FF8000',\n",
    "        'sauber': '#90EE90',\n",
    "        'alfa': '#000000',\n",
    "        'alphatauri': '#00008B',\n",
    "        'alpine': '#C71585',\n",
    "        'aston_martin': '#006400',\n",
    "        'red_bull': '#FDD900',\n",
    "        'rb': '#20394C'\n",
    "        }\n",
    "    \n",
    "    # Plot the data with sorted constructors\n",
    "    fig = px.box(\n",
    "        df_pit_results_year,\n",
    "        x='constructorId',\n",
    "        y='duration',\n",
    "        title=f'Pit Stop Duration by Constructor - {year}',\n",
    "        labels={'constructorId': 'Constructor', 'duration': 'Pit Stop Duration (seconds)'},\n",
    "        category_orders={'constructorId': sorted_constructors},  # Sort x-axis by mean duration\n",
    "        color='constructorId',\n",
    "        color_discrete_map=brand_colors,\n",
    "        hover_data={'duration': ':.2f'}\n",
    "    )\n",
    "    \n",
    "    # Customize layout\n",
    "    fig.update_layout(\n",
    "        xaxis_title='Constructor',\n",
    "        yaxis_title='Pit Stop Duration (seconds)',\n",
    "        title_x=0.5,\n",
    "        plot_bgcolor='white',\n",
    "        paper_bgcolor='lightgray',\n",
    "        hoverlabel=dict(bgcolor=\"white\", font_size=12, font_family=\"Arial\")\n",
    "    )\n",
    "\n",
    "    return fig\n",
    "\n",
    "fig = plot_pit_stop_duration_by_constructor(2023)\n",
    "fig.show()\n"
   ]
  },
  {
   "cell_type": "code",
   "execution_count": 430,
   "metadata": {},
   "outputs": [
    {
     "data": {
      "application/vnd.plotly.v1+json": {
       "config": {
        "plotlyServerURL": "https://plot.ly"
       },
       "data": [
        {
         "alignmentgroup": "True",
         "bingroup": "x",
         "hovertemplate": "Lap Number=%{x}<br>count=%{y}<extra></extra>",
         "legendgroup": "",
         "marker": {
          "color": "#636efa",
          "pattern": {
           "shape": ""
          }
         },
         "name": "",
         "nbinsx": 25,
         "offsetgroup": "",
         "orientation": "v",
         "showlegend": false,
         "type": "histogram",
         "x": [
          8,
          8,
          8,
          9,
          9,
          9,
          9,
          9,
          11,
          11,
          11,
          12,
          13,
          13,
          14,
          16,
          17,
          17,
          21,
          21,
          21,
          22,
          23,
          23,
          23,
          23,
          23,
          23,
          23,
          23,
          23,
          23,
          24,
          24,
          26,
          27,
          35,
          38,
          40,
          43
         ],
         "xaxis": "x",
         "yaxis": "y"
        }
       ],
       "layout": {
        "barmode": "relative",
        "hoverlabel": {
         "bgcolor": "white",
         "font": {
          "family": "Arial",
          "size": 12
         }
        },
        "legend": {
         "tracegroupgap": 0
        },
        "paper_bgcolor": "lightgray",
        "plot_bgcolor": "white",
        "template": {
         "data": {
          "bar": [
           {
            "error_x": {
             "color": "#2a3f5f"
            },
            "error_y": {
             "color": "#2a3f5f"
            },
            "marker": {
             "line": {
              "color": "#E5ECF6",
              "width": 0.5
             },
             "pattern": {
              "fillmode": "overlay",
              "size": 10,
              "solidity": 0.2
             }
            },
            "type": "bar"
           }
          ],
          "barpolar": [
           {
            "marker": {
             "line": {
              "color": "#E5ECF6",
              "width": 0.5
             },
             "pattern": {
              "fillmode": "overlay",
              "size": 10,
              "solidity": 0.2
             }
            },
            "type": "barpolar"
           }
          ],
          "carpet": [
           {
            "aaxis": {
             "endlinecolor": "#2a3f5f",
             "gridcolor": "white",
             "linecolor": "white",
             "minorgridcolor": "white",
             "startlinecolor": "#2a3f5f"
            },
            "baxis": {
             "endlinecolor": "#2a3f5f",
             "gridcolor": "white",
             "linecolor": "white",
             "minorgridcolor": "white",
             "startlinecolor": "#2a3f5f"
            },
            "type": "carpet"
           }
          ],
          "choropleth": [
           {
            "colorbar": {
             "outlinewidth": 0,
             "ticks": ""
            },
            "type": "choropleth"
           }
          ],
          "contour": [
           {
            "colorbar": {
             "outlinewidth": 0,
             "ticks": ""
            },
            "colorscale": [
             [
              0,
              "#0d0887"
             ],
             [
              0.1111111111111111,
              "#46039f"
             ],
             [
              0.2222222222222222,
              "#7201a8"
             ],
             [
              0.3333333333333333,
              "#9c179e"
             ],
             [
              0.4444444444444444,
              "#bd3786"
             ],
             [
              0.5555555555555556,
              "#d8576b"
             ],
             [
              0.6666666666666666,
              "#ed7953"
             ],
             [
              0.7777777777777778,
              "#fb9f3a"
             ],
             [
              0.8888888888888888,
              "#fdca26"
             ],
             [
              1,
              "#f0f921"
             ]
            ],
            "type": "contour"
           }
          ],
          "contourcarpet": [
           {
            "colorbar": {
             "outlinewidth": 0,
             "ticks": ""
            },
            "type": "contourcarpet"
           }
          ],
          "heatmap": [
           {
            "colorbar": {
             "outlinewidth": 0,
             "ticks": ""
            },
            "colorscale": [
             [
              0,
              "#0d0887"
             ],
             [
              0.1111111111111111,
              "#46039f"
             ],
             [
              0.2222222222222222,
              "#7201a8"
             ],
             [
              0.3333333333333333,
              "#9c179e"
             ],
             [
              0.4444444444444444,
              "#bd3786"
             ],
             [
              0.5555555555555556,
              "#d8576b"
             ],
             [
              0.6666666666666666,
              "#ed7953"
             ],
             [
              0.7777777777777778,
              "#fb9f3a"
             ],
             [
              0.8888888888888888,
              "#fdca26"
             ],
             [
              1,
              "#f0f921"
             ]
            ],
            "type": "heatmap"
           }
          ],
          "heatmapgl": [
           {
            "colorbar": {
             "outlinewidth": 0,
             "ticks": ""
            },
            "colorscale": [
             [
              0,
              "#0d0887"
             ],
             [
              0.1111111111111111,
              "#46039f"
             ],
             [
              0.2222222222222222,
              "#7201a8"
             ],
             [
              0.3333333333333333,
              "#9c179e"
             ],
             [
              0.4444444444444444,
              "#bd3786"
             ],
             [
              0.5555555555555556,
              "#d8576b"
             ],
             [
              0.6666666666666666,
              "#ed7953"
             ],
             [
              0.7777777777777778,
              "#fb9f3a"
             ],
             [
              0.8888888888888888,
              "#fdca26"
             ],
             [
              1,
              "#f0f921"
             ]
            ],
            "type": "heatmapgl"
           }
          ],
          "histogram": [
           {
            "marker": {
             "pattern": {
              "fillmode": "overlay",
              "size": 10,
              "solidity": 0.2
             }
            },
            "type": "histogram"
           }
          ],
          "histogram2d": [
           {
            "colorbar": {
             "outlinewidth": 0,
             "ticks": ""
            },
            "colorscale": [
             [
              0,
              "#0d0887"
             ],
             [
              0.1111111111111111,
              "#46039f"
             ],
             [
              0.2222222222222222,
              "#7201a8"
             ],
             [
              0.3333333333333333,
              "#9c179e"
             ],
             [
              0.4444444444444444,
              "#bd3786"
             ],
             [
              0.5555555555555556,
              "#d8576b"
             ],
             [
              0.6666666666666666,
              "#ed7953"
             ],
             [
              0.7777777777777778,
              "#fb9f3a"
             ],
             [
              0.8888888888888888,
              "#fdca26"
             ],
             [
              1,
              "#f0f921"
             ]
            ],
            "type": "histogram2d"
           }
          ],
          "histogram2dcontour": [
           {
            "colorbar": {
             "outlinewidth": 0,
             "ticks": ""
            },
            "colorscale": [
             [
              0,
              "#0d0887"
             ],
             [
              0.1111111111111111,
              "#46039f"
             ],
             [
              0.2222222222222222,
              "#7201a8"
             ],
             [
              0.3333333333333333,
              "#9c179e"
             ],
             [
              0.4444444444444444,
              "#bd3786"
             ],
             [
              0.5555555555555556,
              "#d8576b"
             ],
             [
              0.6666666666666666,
              "#ed7953"
             ],
             [
              0.7777777777777778,
              "#fb9f3a"
             ],
             [
              0.8888888888888888,
              "#fdca26"
             ],
             [
              1,
              "#f0f921"
             ]
            ],
            "type": "histogram2dcontour"
           }
          ],
          "mesh3d": [
           {
            "colorbar": {
             "outlinewidth": 0,
             "ticks": ""
            },
            "type": "mesh3d"
           }
          ],
          "parcoords": [
           {
            "line": {
             "colorbar": {
              "outlinewidth": 0,
              "ticks": ""
             }
            },
            "type": "parcoords"
           }
          ],
          "pie": [
           {
            "automargin": true,
            "type": "pie"
           }
          ],
          "scatter": [
           {
            "fillpattern": {
             "fillmode": "overlay",
             "size": 10,
             "solidity": 0.2
            },
            "type": "scatter"
           }
          ],
          "scatter3d": [
           {
            "line": {
             "colorbar": {
              "outlinewidth": 0,
              "ticks": ""
             }
            },
            "marker": {
             "colorbar": {
              "outlinewidth": 0,
              "ticks": ""
             }
            },
            "type": "scatter3d"
           }
          ],
          "scattercarpet": [
           {
            "marker": {
             "colorbar": {
              "outlinewidth": 0,
              "ticks": ""
             }
            },
            "type": "scattercarpet"
           }
          ],
          "scattergeo": [
           {
            "marker": {
             "colorbar": {
              "outlinewidth": 0,
              "ticks": ""
             }
            },
            "type": "scattergeo"
           }
          ],
          "scattergl": [
           {
            "marker": {
             "colorbar": {
              "outlinewidth": 0,
              "ticks": ""
             }
            },
            "type": "scattergl"
           }
          ],
          "scattermapbox": [
           {
            "marker": {
             "colorbar": {
              "outlinewidth": 0,
              "ticks": ""
             }
            },
            "type": "scattermapbox"
           }
          ],
          "scatterpolar": [
           {
            "marker": {
             "colorbar": {
              "outlinewidth": 0,
              "ticks": ""
             }
            },
            "type": "scatterpolar"
           }
          ],
          "scatterpolargl": [
           {
            "marker": {
             "colorbar": {
              "outlinewidth": 0,
              "ticks": ""
             }
            },
            "type": "scatterpolargl"
           }
          ],
          "scatterternary": [
           {
            "marker": {
             "colorbar": {
              "outlinewidth": 0,
              "ticks": ""
             }
            },
            "type": "scatterternary"
           }
          ],
          "surface": [
           {
            "colorbar": {
             "outlinewidth": 0,
             "ticks": ""
            },
            "colorscale": [
             [
              0,
              "#0d0887"
             ],
             [
              0.1111111111111111,
              "#46039f"
             ],
             [
              0.2222222222222222,
              "#7201a8"
             ],
             [
              0.3333333333333333,
              "#9c179e"
             ],
             [
              0.4444444444444444,
              "#bd3786"
             ],
             [
              0.5555555555555556,
              "#d8576b"
             ],
             [
              0.6666666666666666,
              "#ed7953"
             ],
             [
              0.7777777777777778,
              "#fb9f3a"
             ],
             [
              0.8888888888888888,
              "#fdca26"
             ],
             [
              1,
              "#f0f921"
             ]
            ],
            "type": "surface"
           }
          ],
          "table": [
           {
            "cells": {
             "fill": {
              "color": "#EBF0F8"
             },
             "line": {
              "color": "white"
             }
            },
            "header": {
             "fill": {
              "color": "#C8D4E3"
             },
             "line": {
              "color": "white"
             }
            },
            "type": "table"
           }
          ]
         },
         "layout": {
          "annotationdefaults": {
           "arrowcolor": "#2a3f5f",
           "arrowhead": 0,
           "arrowwidth": 1
          },
          "autotypenumbers": "strict",
          "coloraxis": {
           "colorbar": {
            "outlinewidth": 0,
            "ticks": ""
           }
          },
          "colorscale": {
           "diverging": [
            [
             0,
             "#8e0152"
            ],
            [
             0.1,
             "#c51b7d"
            ],
            [
             0.2,
             "#de77ae"
            ],
            [
             0.3,
             "#f1b6da"
            ],
            [
             0.4,
             "#fde0ef"
            ],
            [
             0.5,
             "#f7f7f7"
            ],
            [
             0.6,
             "#e6f5d0"
            ],
            [
             0.7,
             "#b8e186"
            ],
            [
             0.8,
             "#7fbc41"
            ],
            [
             0.9,
             "#4d9221"
            ],
            [
             1,
             "#276419"
            ]
           ],
           "sequential": [
            [
             0,
             "#0d0887"
            ],
            [
             0.1111111111111111,
             "#46039f"
            ],
            [
             0.2222222222222222,
             "#7201a8"
            ],
            [
             0.3333333333333333,
             "#9c179e"
            ],
            [
             0.4444444444444444,
             "#bd3786"
            ],
            [
             0.5555555555555556,
             "#d8576b"
            ],
            [
             0.6666666666666666,
             "#ed7953"
            ],
            [
             0.7777777777777778,
             "#fb9f3a"
            ],
            [
             0.8888888888888888,
             "#fdca26"
            ],
            [
             1,
             "#f0f921"
            ]
           ],
           "sequentialminus": [
            [
             0,
             "#0d0887"
            ],
            [
             0.1111111111111111,
             "#46039f"
            ],
            [
             0.2222222222222222,
             "#7201a8"
            ],
            [
             0.3333333333333333,
             "#9c179e"
            ],
            [
             0.4444444444444444,
             "#bd3786"
            ],
            [
             0.5555555555555556,
             "#d8576b"
            ],
            [
             0.6666666666666666,
             "#ed7953"
            ],
            [
             0.7777777777777778,
             "#fb9f3a"
            ],
            [
             0.8888888888888888,
             "#fdca26"
            ],
            [
             1,
             "#f0f921"
            ]
           ]
          },
          "colorway": [
           "#636efa",
           "#EF553B",
           "#00cc96",
           "#ab63fa",
           "#FFA15A",
           "#19d3f3",
           "#FF6692",
           "#B6E880",
           "#FF97FF",
           "#FECB52"
          ],
          "font": {
           "color": "#2a3f5f"
          },
          "geo": {
           "bgcolor": "white",
           "lakecolor": "white",
           "landcolor": "#E5ECF6",
           "showlakes": true,
           "showland": true,
           "subunitcolor": "white"
          },
          "hoverlabel": {
           "align": "left"
          },
          "hovermode": "closest",
          "mapbox": {
           "style": "light"
          },
          "paper_bgcolor": "white",
          "plot_bgcolor": "#E5ECF6",
          "polar": {
           "angularaxis": {
            "gridcolor": "white",
            "linecolor": "white",
            "ticks": ""
           },
           "bgcolor": "#E5ECF6",
           "radialaxis": {
            "gridcolor": "white",
            "linecolor": "white",
            "ticks": ""
           }
          },
          "scene": {
           "xaxis": {
            "backgroundcolor": "#E5ECF6",
            "gridcolor": "white",
            "gridwidth": 2,
            "linecolor": "white",
            "showbackground": true,
            "ticks": "",
            "zerolinecolor": "white"
           },
           "yaxis": {
            "backgroundcolor": "#E5ECF6",
            "gridcolor": "white",
            "gridwidth": 2,
            "linecolor": "white",
            "showbackground": true,
            "ticks": "",
            "zerolinecolor": "white"
           },
           "zaxis": {
            "backgroundcolor": "#E5ECF6",
            "gridcolor": "white",
            "gridwidth": 2,
            "linecolor": "white",
            "showbackground": true,
            "ticks": "",
            "zerolinecolor": "white"
           }
          },
          "shapedefaults": {
           "line": {
            "color": "#2a3f5f"
           }
          },
          "ternary": {
           "aaxis": {
            "gridcolor": "white",
            "linecolor": "white",
            "ticks": ""
           },
           "baxis": {
            "gridcolor": "white",
            "linecolor": "white",
            "ticks": ""
           },
           "bgcolor": "#E5ECF6",
           "caxis": {
            "gridcolor": "white",
            "linecolor": "white",
            "ticks": ""
           }
          },
          "title": {
           "x": 0.05
          },
          "xaxis": {
           "automargin": true,
           "gridcolor": "white",
           "linecolor": "white",
           "ticks": "",
           "title": {
            "standoff": 15
           },
           "zerolinecolor": "white",
           "zerolinewidth": 2
          },
          "yaxis": {
           "automargin": true,
           "gridcolor": "white",
           "linecolor": "white",
           "ticks": "",
           "title": {
            "standoff": 15
           },
           "zerolinecolor": "white",
           "zerolinewidth": 2
          }
         }
        },
        "title": {
         "text": "Pit Stop Distribution by Lap - 2024 Round 5",
         "x": 0.5
        },
        "xaxis": {
         "anchor": "y",
         "domain": [
          0,
          1
         ],
         "title": {
          "text": "Lap Number"
         }
        },
        "yaxis": {
         "anchor": "x",
         "domain": [
          0,
          1
         ],
         "title": {
          "text": "Pit Stop Count"
         }
        }
       }
      }
     },
     "metadata": {},
     "output_type": "display_data"
    }
   ],
   "source": [
    "import pandas as pd\n",
    "import plotly.express as px\n",
    "\n",
    "def plot_pit_stop_count_by_lap(year=None, round_num=None):\n",
    "    \"\"\"Plots a histogram showing the count of pit stops by lap for a given year and round.\"\"\"\n",
    "    # Load data\n",
    "    df_pit_results = pd.read_csv('pit_results.csv')\n",
    "\n",
    "    # Filter by year and round if specified\n",
    "    if year:\n",
    "        df_pit_results = df_pit_results[df_pit_results['season'] == year]\n",
    "    if round_num:\n",
    "        df_pit_results = df_pit_results[df_pit_results['round'] == round_num]\n",
    "\n",
    "    # Plot the histogram\n",
    "    fig = px.histogram(\n",
    "        df_pit_results,\n",
    "        x='lap',\n",
    "        title=f'Pit Stop Distribution by Lap - {year if year else \"All Years\"} {f\"Round {round_num}\" if round_num else \"\"}',\n",
    "        labels={'lap': 'Lap Number', 'count': 'Pit Stop Count'},\n",
    "        nbins=25  # Adjust bin size for readability\n",
    "    )\n",
    "\n",
    "    # Customize layout\n",
    "    fig.update_layout(\n",
    "        xaxis_title='Lap Number',\n",
    "        yaxis_title='Pit Stop Count',\n",
    "        title_x=0.5,\n",
    "        plot_bgcolor='white',\n",
    "        paper_bgcolor='lightgray',\n",
    "        hoverlabel=dict(bgcolor=\"white\", font_size=12, font_family=\"Arial\")\n",
    "    )\n",
    "\n",
    "    return fig\n",
    "fig = plot_pit_stop_count_by_lap(2024, 5)\n",
    "fig.show()"
   ]
  }
 ],
 "metadata": {
  "kernelspec": {
   "display_name": "FDS_Project",
   "language": "python",
   "name": "python3"
  },
  "language_info": {
   "codemirror_mode": {
    "name": "ipython",
    "version": 3
   },
   "file_extension": ".py",
   "mimetype": "text/x-python",
   "name": "python",
   "nbconvert_exporter": "python",
   "pygments_lexer": "ipython3",
   "version": "3.11.5"
  }
 },
 "nbformat": 4,
 "nbformat_minor": 2
}
